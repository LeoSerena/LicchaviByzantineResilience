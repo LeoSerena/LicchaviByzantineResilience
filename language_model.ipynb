{
 "cells": [
  {
   "cell_type": "markdown",
   "id": "minus-radiation",
   "metadata": {},
   "source": [
    "## Imports"
   ]
  },
  {
   "cell_type": "code",
   "execution_count": 26,
   "id": "falling-cuisine",
   "metadata": {},
   "outputs": [],
   "source": [
    "import os\n",
    "import re\n",
    "import sys\n",
    "\n",
    "sys.path.append(\n",
    "    os.path.join('..','src')\n",
    ")\n",
    "\n",
    "from src.models import NextWordPredictorModel\n",
    "from src.data_processing import *"
   ]
  },
  {
   "cell_type": "code",
   "execution_count": 27,
   "id": "ultimate-april",
   "metadata": {},
   "outputs": [],
   "source": [
    "from tqdm import tqdm\n",
    "import matplotlib.pyplot as plt\n",
    "import numpy as np\n",
    "import torch"
   ]
  },
  {
   "cell_type": "code",
   "execution_count": 28,
   "id": "tropical-coast",
   "metadata": {},
   "outputs": [],
   "source": [
    "import nltk\n",
    "\n",
    "from nltk.corpus import webtext\n",
    "# from nltk.tokenize import TweetTokenizer\n",
    "from nltk.tokenize import sent_tokenize"
   ]
  },
  {
   "cell_type": "markdown",
   "id": "upper-startup",
   "metadata": {},
   "source": [
    "## Global Variables"
   ]
  },
  {
   "cell_type": "code",
   "execution_count": 29,
   "id": "brazilian-immigration",
   "metadata": {},
   "outputs": [],
   "source": [
    "DEVICE = \"cuda:0\"\n",
    "assert torch.cuda.is_available()\n",
    "from apex import amp, optimizers\n",
    "\n",
    "PADDING_TOKEN = 'PAD' # voc 0\n",
    "UNKNOWN_TOKEN = 'UKN' # voc 1\n",
    "\n",
    "max_sentence_length = 32\n",
    "MAX_SEQ_LEN = 4\n",
    "\n",
    "BATCH_SIZE = 16\n",
    "EMB_SIZE = 256\n",
    "\n",
    "val_split = 0.2\n",
    "test_split = 0.1\n",
    "\n",
    "# for reproducibility\n",
    "# os.environ['CUDA_LAUNCH_BLOCKING'] = \"1\"\n",
    "torch.manual_seed(0)\n",
    "np.random.seed(23)"
   ]
  },
  {
   "cell_type": "markdown",
   "id": "standard-excuse",
   "metadata": {},
   "source": [
    "## Vocabulary"
   ]
  },
  {
   "cell_type": "code",
   "execution_count": 30,
   "id": "minute-portsmouth",
   "metadata": {},
   "outputs": [],
   "source": [
    "class Vocabulary():\n",
    "    def __init__(\n",
    "        self, \n",
    "        sentences,\n",
    "        padding_token : str = PADDING_TOKEN,\n",
    "        unknown_token : str = UNKNOWN_TOKEN\n",
    "    ):\n",
    "        self.padding_token = padding_token\n",
    "        self.unknown_token = unknown_token\n",
    "        self.build_vocab(sentences)\n",
    "    \n",
    "    def build_vocab(self, sentences):\n",
    "        vocab = {}\n",
    "        for tokens in sentences:\n",
    "            for token in tokens:\n",
    "                if token in vocab.keys():\n",
    "                    vocab[token] += 1\n",
    "                else:\n",
    "                    vocab[token] = 1\n",
    "\n",
    "        self.vocab = {k: v for k, v in sorted(vocab.items(), key=lambda item: -item[1])}\n",
    "\n",
    "        self.word_to_idx = {k : (i+2) for i,(k,_) in enumerate(vocab.items())}\n",
    "        self.word_to_idx[self.padding_token] = 0\n",
    "        self.word_to_idx[self.unknown_token] = 1\n",
    "        self.idx_to_word = {v : k for k, v in self.word_to_idx.items()}\n",
    "        \n",
    "    def get_vocab_size(self):\n",
    "        return len(voc.word_to_idx)\n",
    "    \n",
    "    def pad_and_truncate(self, tokens, max_length):\n",
    "        diff = max_length - len(tokens)\n",
    "        if diff < 0:\n",
    "            return tokens[:max_length]\n",
    "        else:\n",
    "            return tokens + [self.word_to_idx[self.padding_token]] * diff\n",
    "        \n",
    "class LM_dataset(torch.utils.data.Dataset):\n",
    "    def __init__(\n",
    "        self,\n",
    "        vocabulary : Vocabulary,\n",
    "        sentences : list,\n",
    "        max_length : int\n",
    "    ):\n",
    "        self.vocabulary = vocabulary\n",
    "        self.max_length = max_length\n",
    "        self.indices = [\n",
    "            self.vocabulary.pad_and_truncate([self.get_idx(w) for w in sentence], max_length + 1)\n",
    "            for sentence in sentences if len(sentence) > 1\n",
    "        ]\n",
    "        \n",
    "    def get_idx(self, token):\n",
    "        try:\n",
    "            return self.vocabulary.word_to_idx[token]\n",
    "        except KeyError:\n",
    "            return self.vocabulary.word_to_idx[self.vocabulary.unknown_token]\n",
    "        \n",
    "    def __getitem__(self, idx):\n",
    "        indices = self.indices[idx]\n",
    "        return torch.tensor(indices[:self.max_length]).to(DEVICE)\n",
    "        \n",
    "    def __len__(self):\n",
    "        return len(self.indices)"
   ]
  },
  {
   "cell_type": "code",
   "execution_count": 31,
   "id": "worse-athens",
   "metadata": {},
   "outputs": [],
   "source": [
    "txt = webtext.raw('overheard.txt')\n",
    "sentences = prepare_sentences(txt, max_sentence_length)\n",
    "l = len(sentences)"
   ]
  },
  {
   "cell_type": "code",
   "execution_count": 7,
   "id": "healthy-instrument",
   "metadata": {},
   "outputs": [],
   "source": [
    "indices = np.arange(len(sentences))\n",
    "np.random.shuffle(indices)\n",
    "\n",
    "test_indices = indices[:int(test_split * l)]\n",
    "val_indices = indices[int(test_split * l):int(l * (test_split + val_split))]\n",
    "train_indices = indices[int((test_split + val_split) * l):]\n",
    "\n",
    "test_sentences = np.array(sentences, dtype = object)[test_indices]\n",
    "val_sentences = np.array(sentences, dtype = object)[val_indices]\n",
    "train_sentences = np.array(sentences, dtype = object)[train_indices]"
   ]
  },
  {
   "cell_type": "code",
   "execution_count": 8,
   "id": "comparable-argument",
   "metadata": {},
   "outputs": [],
   "source": [
    "voc = Vocabulary(sentences)\n",
    "\n",
    "train_dataset = LM_dataset(\n",
    "    voc,\n",
    "    train_sentences,\n",
    "    MAX_SEQ_LEN + 1\n",
    ")\n",
    "val_dataset = LM_dataset(\n",
    "    voc,\n",
    "    val_sentences,\n",
    "    MAX_SEQ_LEN + 1\n",
    ")\n",
    "test_dataset = LM_dataset(\n",
    "    voc,\n",
    "    test_sentences,\n",
    "    MAX_SEQ_LEN + 1\n",
    ")"
   ]
  },
  {
   "cell_type": "code",
   "execution_count": 9,
   "id": "pleasant-picnic",
   "metadata": {},
   "outputs": [],
   "source": [
    "train_dataloader = torch.utils.data.DataLoader(\n",
    "    train_dataset,\n",
    "    batch_size = BATCH_SIZE,\n",
    "    shuffle = True,\n",
    "    pin_memory = False,\n",
    "    drop_last = True\n",
    ")\n",
    "val_dataloader = torch.utils.data.DataLoader(\n",
    "    val_dataset,\n",
    "    batch_size = BATCH_SIZE,\n",
    "    shuffle = False,\n",
    "    pin_memory = False,\n",
    "    drop_last = True\n",
    ")"
   ]
  },
  {
   "cell_type": "code",
   "execution_count": 10,
   "id": "imposed-prophet",
   "metadata": {},
   "outputs": [],
   "source": [
    "def map_weights(weights, m_ = 0.1, M_ = 1):\n",
    "    weights = 1 / weights\n",
    "    M, m = max(weights), min(weights)\n",
    "    return (np.array(weights) - m) * (M_ - m_) / (M - m) + m_"
   ]
  },
  {
   "cell_type": "code",
   "execution_count": 11,
   "id": "celtic-carnival",
   "metadata": {},
   "outputs": [],
   "source": [
    "weights = map_weights(np.array([1,1] + list(voc.vocab.values())))\n",
    "#weights = None"
   ]
  },
  {
   "cell_type": "code",
   "execution_count": 12,
   "id": "ongoing-syndication",
   "metadata": {},
   "outputs": [
    {
     "data": {
      "text/plain": [
       "[<matplotlib.lines.Line2D at 0x7fe0b47f94f0>]"
      ]
     },
     "execution_count": 12,
     "metadata": {},
     "output_type": "execute_result"
    },
    {
     "data": {
      "image/png": "[encoded data removed]",
      "text/plain": [
       "<Figure size 432x288 with 1 Axes>"
      ]
     },
     "metadata": {
      "needs_background": "light"
     },
     "output_type": "display_data"
    }
   ],
   "source": [
    "plt.plot(np.sort(weights))"
   ]
  },
  {
   "cell_type": "code",
   "execution_count": 13,
   "id": "willing-express",
   "metadata": {},
   "outputs": [
    {
     "name": "stdout",
     "output_type": "stream",
     "text": [
      "Selected optimization level O1:  Insert automatic casts around Pytorch functions and Tensor methods.\n",
      "\n",
      "Defaults for this optimization level are:\n",
      "enabled                : True\n",
      "opt_level              : O1\n",
      "cast_model_type        : None\n",
      "patch_torch_functions  : True\n",
      "keep_batchnorm_fp32    : None\n",
      "master_weights         : None\n",
      "loss_scale             : dynamic\n",
      "Processing user overrides (additional kwargs that are not None)...\n",
      "After processing overrides, optimization options are:\n",
      "enabled                : True\n",
      "opt_level              : O1\n",
      "cast_model_type        : None\n",
      "patch_torch_functions  : True\n",
      "keep_batchnorm_fp32    : None\n",
      "master_weights         : None\n",
      "loss_scale             : dynamic\n",
      "Warning:  multi_tensor_applier fused unscale kernel is unavailable, possibly because apex was installed without --cuda_ext --cpp_ext. Using Python fallback.  Original ImportError was: ModuleNotFoundError(\"No module named 'amp_C'\")\n"
     ]
    }
   ],
   "source": [
    "model = NextWordPredictorModel(\n",
    "    emb_dim  = EMB_SIZE,\n",
    "    vocab_size = voc.get_vocab_size(),\n",
    "    num_lstm_hidden_layers = 3,\n",
    "    hidden_state_size = 200,\n",
    "    dropout = 0.5,\n",
    "    device = DEVICE,\n",
    "    lr = 1e-2,\n",
    "    fp16 = True,\n",
    "    weight = weights\n",
    ").to(DEVICE)\n",
    "\n",
    "if model.fp16:\n",
    "    model, model.optimizer = amp.initialize(\n",
    "        model,\n",
    "        model.optimizer,\n",
    "        opt_level = 'O1' # https://nvidia.github.io/apex/amp.html\n",
    "    )"
   ]
  },
  {
   "cell_type": "code",
   "execution_count": 14,
   "id": "lightweight-monroe",
   "metadata": {},
   "outputs": [
    {
     "name": "stderr",
     "output_type": "stream",
     "text": [
      "100%|██████████| 713/713 [00:00<00:00, 726.16it/s]\n",
      "100%|██████████| 204/204 [00:00<00:00, 708.29it/s]\n",
      "  3%|▎         | 18/713 [00:00<00:03, 174.18it/s]"
     ]
    },
    {
     "name": "stdout",
     "output_type": "stream",
     "text": [
      "Train loss at epoch 0 : 9.194676520948155\n",
      "Eval loss at epoch 0 : 9.194585229836258\n",
      "updating best metric\n"
     ]
    },
    {
     "name": "stderr",
     "output_type": "stream",
     "text": [
      "100%|██████████| 713/713 [00:03<00:00, 232.93it/s]\n",
      "/home/potate/miniconda3/envs/typewriter/lib/python3.8/site-packages/torch/optim/lr_scheduler.py:122: UserWarning: Seems like `optimizer.step()` has been overridden after learning rate scheduler initialization. Please, make sure to call `optimizer.step()` before `lr_scheduler.step()`. See more details at https://pytorch.org/docs/stable/optim.html#how-to-adjust-learning-rate\n",
      "  warnings.warn(\"Seems like `optimizer.step()` has been overridden after learning rate scheduler \"\n",
      "100%|██████████| 204/204 [00:00<00:00, 770.66it/s]\n",
      "  3%|▎         | 24/713 [00:00<00:02, 238.43it/s]"
     ]
    },
    {
     "name": "stdout",
     "output_type": "stream",
     "text": [
      "Train loss at epoch 1 : 9.17973846205488\n",
      "Eval loss at epoch 1 : 9.163500491310568\n",
      "updating best metric\n"
     ]
    },
    {
     "name": "stderr",
     "output_type": "stream",
     "text": [
      "100%|██████████| 713/713 [00:02<00:00, 239.50it/s]\n",
      "100%|██████████| 204/204 [00:00<00:00, 768.37it/s]\n",
      "  3%|▎         | 24/713 [00:00<00:02, 238.13it/s]"
     ]
    },
    {
     "name": "stdout",
     "output_type": "stream",
     "text": [
      "Train loss at epoch 2 : 9.143867334844689\n",
      "Eval loss at epoch 2 : 9.12271276174807\n",
      "updating best metric\n"
     ]
    },
    {
     "name": "stderr",
     "output_type": "stream",
     "text": [
      "100%|██████████| 713/713 [00:02<00:00, 239.69it/s]\n",
      "100%|██████████| 204/204 [00:00<00:00, 778.51it/s]\n",
      "  3%|▎         | 24/713 [00:00<00:02, 235.10it/s]"
     ]
    },
    {
     "name": "stdout",
     "output_type": "stream",
     "text": [
      "Train loss at epoch 3 : 9.09124480457493\n",
      "Eval loss at epoch 3 : 9.051762880063524\n",
      "updating best metric\n"
     ]
    },
    {
     "name": "stderr",
     "output_type": "stream",
     "text": [
      "100%|██████████| 713/713 [00:02<00:00, 239.68it/s]\n",
      "100%|██████████| 204/204 [00:00<00:00, 780.56it/s]\n",
      "  3%|▎         | 24/713 [00:00<00:02, 235.14it/s]"
     ]
    },
    {
     "name": "stdout",
     "output_type": "stream",
     "text": [
      "Train loss at epoch 4 : 8.985078906611674\n",
      "Eval loss at epoch 4 : 8.887869096269794\n",
      "updating best metric\n"
     ]
    },
    {
     "name": "stderr",
     "output_type": "stream",
     "text": [
      "100%|██████████| 713/713 [00:03<00:00, 237.18it/s]\n",
      "100%|██████████| 204/204 [00:00<00:00, 787.22it/s]\n",
      "  3%|▎         | 24/713 [00:00<00:02, 237.48it/s]"
     ]
    },
    {
     "name": "stdout",
     "output_type": "stream",
     "text": [
      "Train loss at epoch 5 : 8.757906379405446\n",
      "Eval loss at epoch 5 : 8.596034206596075\n",
      "updating best metric\n"
     ]
    },
    {
     "name": "stderr",
     "output_type": "stream",
     "text": [
      "100%|██████████| 713/713 [00:02<00:00, 240.42it/s]\n",
      "100%|██████████| 204/204 [00:00<00:00, 778.98it/s]\n",
      "  3%|▎         | 24/713 [00:00<00:02, 233.67it/s]"
     ]
    },
    {
     "name": "stdout",
     "output_type": "stream",
     "text": [
      "Train loss at epoch 6 : 8.533495919734532\n",
      "Eval loss at epoch 6 : 8.410787743680617\n",
      "updating best metric\n"
     ]
    },
    {
     "name": "stderr",
     "output_type": "stream",
     "text": [
      " 55%|█████▍    | 389/713 [00:01<00:01, 233.23it/s]"
     ]
    },
    {
     "name": "stdout",
     "output_type": "stream",
     "text": [
      "Gradient overflow.  Skipping step, loss scaler 0 reducing loss scale to 131072.0\n"
     ]
    },
    {
     "name": "stderr",
     "output_type": "stream",
     "text": [
      "100%|██████████| 713/713 [00:03<00:00, 236.83it/s]\n",
      "100%|██████████| 204/204 [00:00<00:00, 778.17it/s]\n",
      "  3%|▎         | 24/713 [00:00<00:02, 233.50it/s]"
     ]
    },
    {
     "name": "stdout",
     "output_type": "stream",
     "text": [
      "Train loss at epoch 7 : 8.386791100843089\n",
      "Eval loss at epoch 7 : 8.290763471640792\n",
      "updating best metric\n"
     ]
    },
    {
     "name": "stderr",
     "output_type": "stream",
     "text": [
      "100%|██████████| 713/713 [00:02<00:00, 238.20it/s]\n",
      "100%|██████████| 204/204 [00:00<00:00, 780.36it/s]\n",
      "  3%|▎         | 24/713 [00:00<00:02, 238.30it/s]"
     ]
    },
    {
     "name": "stdout",
     "output_type": "stream",
     "text": [
      "Train loss at epoch 8 : 8.291860694136226\n",
      "Eval loss at epoch 8 : 8.217793361813415\n",
      "updating best metric\n"
     ]
    },
    {
     "name": "stderr",
     "output_type": "stream",
     "text": [
      "100%|██████████| 713/713 [00:02<00:00, 239.02it/s]\n",
      "100%|██████████| 204/204 [00:00<00:00, 788.64it/s]\n",
      "  3%|▎         | 24/713 [00:00<00:02, 237.49it/s]"
     ]
    },
    {
     "name": "stdout",
     "output_type": "stream",
     "text": [
      "Train loss at epoch 9 : 8.222998359594573\n",
      "Eval loss at epoch 9 : 8.172938578269061\n",
      "updating best metric\n"
     ]
    },
    {
     "name": "stderr",
     "output_type": "stream",
     "text": [
      " 48%|████▊     | 343/713 [00:01<00:01, 233.18it/s]"
     ]
    },
    {
     "name": "stdout",
     "output_type": "stream",
     "text": [
      "Gradient overflow.  Skipping step, loss scaler 0 reducing loss scale to 131072.0\n"
     ]
    },
    {
     "name": "stderr",
     "output_type": "stream",
     "text": [
      "100%|██████████| 713/713 [00:03<00:00, 237.51it/s]\n",
      "100%|██████████| 204/204 [00:00<00:00, 773.31it/s]\n",
      "  3%|▎         | 24/713 [00:00<00:02, 237.15it/s]"
     ]
    },
    {
     "name": "stdout",
     "output_type": "stream",
     "text": [
      "Train loss at epoch 10 : 8.168354320659878\n",
      "Eval loss at epoch 10 : 8.142509409025603\n",
      "updating best metric\n"
     ]
    },
    {
     "name": "stderr",
     "output_type": "stream",
     "text": [
      "100%|██████████| 713/713 [00:02<00:00, 238.35it/s]\n",
      "100%|██████████| 204/204 [00:00<00:00, 787.65it/s]\n",
      "  4%|▎         | 25/713 [00:00<00:02, 240.88it/s]"
     ]
    },
    {
     "name": "stdout",
     "output_type": "stream",
     "text": [
      "Train loss at epoch 11 : 8.124085025733851\n",
      "Eval loss at epoch 11 : 8.119492865076252\n",
      "updating best metric\n"
     ]
    },
    {
     "name": "stderr",
     "output_type": "stream",
     "text": [
      "100%|██████████| 713/713 [00:02<00:00, 238.93it/s]\n",
      "100%|██████████| 204/204 [00:00<00:00, 776.18it/s]\n",
      "  3%|▎         | 24/713 [00:00<00:02, 232.66it/s]"
     ]
    },
    {
     "name": "stdout",
     "output_type": "stream",
     "text": [
      "Train loss at epoch 12 : 8.099070886074243\n",
      "Eval loss at epoch 12 : 8.101076235958175\n",
      "updating best metric\n"
     ]
    },
    {
     "name": "stderr",
     "output_type": "stream",
     "text": [
      " 31%|███       | 218/713 [00:00<00:02, 235.01it/s]"
     ]
    },
    {
     "name": "stdout",
     "output_type": "stream",
     "text": [
      "Gradient overflow.  Skipping step, loss scaler 0 reducing loss scale to 131072.0\n"
     ]
    },
    {
     "name": "stderr",
     "output_type": "stream",
     "text": [
      "100%|██████████| 713/713 [00:03<00:00, 235.52it/s]\n",
      "100%|██████████| 204/204 [00:00<00:00, 787.73it/s]\n",
      "  3%|▎         | 24/713 [00:00<00:02, 236.58it/s]"
     ]
    },
    {
     "name": "stdout",
     "output_type": "stream",
     "text": [
      "Train loss at epoch 13 : 8.065867962375764\n",
      "Eval loss at epoch 13 : 8.086822694423152\n",
      "updating best metric\n"
     ]
    },
    {
     "name": "stderr",
     "output_type": "stream",
     "text": [
      "100%|██████████| 713/713 [00:02<00:00, 239.57it/s]\n",
      "100%|██████████| 204/204 [00:00<00:00, 774.96it/s]\n",
      "  3%|▎         | 23/713 [00:00<00:03, 225.59it/s]"
     ]
    },
    {
     "name": "stdout",
     "output_type": "stream",
     "text": [
      "Train loss at epoch 14 : 8.040419580558574\n",
      "Eval loss at epoch 14 : 8.07537068572699\n",
      "updating best metric\n"
     ]
    },
    {
     "name": "stderr",
     "output_type": "stream",
     "text": [
      "100%|██████████| 713/713 [00:02<00:00, 239.13it/s]\n",
      "100%|██████████| 204/204 [00:00<00:00, 781.66it/s]\n",
      "  3%|▎         | 24/713 [00:00<00:02, 237.01it/s]"
     ]
    },
    {
     "name": "stdout",
     "output_type": "stream",
     "text": [
      "Train loss at epoch 15 : 8.018525125602519\n",
      "Eval loss at epoch 15 : 8.066781261387993\n",
      "updating best metric\n"
     ]
    },
    {
     "name": "stderr",
     "output_type": "stream",
     "text": [
      " 28%|██▊       | 197/713 [00:00<00:02, 240.36it/s]"
     ]
    },
    {
     "name": "stdout",
     "output_type": "stream",
     "text": [
      "Gradient overflow.  Skipping step, loss scaler 0 reducing loss scale to 131072.0\n"
     ]
    },
    {
     "name": "stderr",
     "output_type": "stream",
     "text": [
      "100%|██████████| 713/713 [00:03<00:00, 234.84it/s]\n",
      "100%|██████████| 204/204 [00:00<00:00, 699.36it/s]\n",
      "  3%|▎         | 23/713 [00:00<00:03, 224.33it/s]"
     ]
    },
    {
     "name": "stdout",
     "output_type": "stream",
     "text": [
      "Train loss at epoch 16 : 7.99876682821865\n",
      "Eval loss at epoch 16 : 8.059265155418247\n",
      "updating best metric\n"
     ]
    },
    {
     "name": "stderr",
     "output_type": "stream",
     "text": [
      "100%|██████████| 713/713 [00:03<00:00, 235.98it/s]\n",
      "100%|██████████| 204/204 [00:00<00:00, 777.87it/s]\n",
      "  3%|▎         | 23/713 [00:00<00:03, 229.05it/s]"
     ]
    },
    {
     "name": "stdout",
     "output_type": "stream",
     "text": [
      "Train loss at epoch 17 : 7.9786152986791326\n",
      "Eval loss at epoch 17 : 8.05412086318521\n",
      "updating best metric\n"
     ]
    },
    {
     "name": "stderr",
     "output_type": "stream",
     "text": [
      "100%|██████████| 713/713 [00:03<00:00, 234.52it/s]\n",
      "100%|██████████| 204/204 [00:00<00:00, 769.48it/s]\n",
      "  3%|▎         | 23/713 [00:00<00:03, 227.27it/s]"
     ]
    },
    {
     "name": "stdout",
     "output_type": "stream",
     "text": [
      "Train loss at epoch 18 : 7.971675462174382\n",
      "Eval loss at epoch 18 : 8.048727533396553\n",
      "updating best metric\n"
     ]
    },
    {
     "name": "stderr",
     "output_type": "stream",
     "text": [
      " 65%|██████▌   | 464/713 [00:01<00:01, 239.98it/s]"
     ]
    },
    {
     "name": "stdout",
     "output_type": "stream",
     "text": [
      "Gradient overflow.  Skipping step, loss scaler 0 reducing loss scale to 131072.0\n"
     ]
    },
    {
     "name": "stderr",
     "output_type": "stream",
     "text": [
      "100%|██████████| 713/713 [00:02<00:00, 238.20it/s]\n",
      "100%|██████████| 204/204 [00:00<00:00, 755.17it/s]\n",
      "  3%|▎         | 24/713 [00:00<00:02, 239.57it/s]"
     ]
    },
    {
     "name": "stdout",
     "output_type": "stream",
     "text": [
      "Train loss at epoch 19 : 7.949404776681523\n",
      "Eval loss at epoch 19 : 8.044923370959712\n",
      "updating best metric\n"
     ]
    },
    {
     "name": "stderr",
     "output_type": "stream",
     "text": [
      "100%|██████████| 713/713 [00:03<00:00, 236.12it/s]\n",
      "100%|██████████| 204/204 [00:00<00:00, 785.81it/s]\n",
      "  3%|▎         | 24/713 [00:00<00:02, 237.02it/s]"
     ]
    },
    {
     "name": "stdout",
     "output_type": "stream",
     "text": [
      "Train loss at epoch 20 : 7.9397863392074175\n",
      "Eval loss at epoch 20 : 8.041771898082658\n",
      "updating best metric\n"
     ]
    },
    {
     "name": "stderr",
     "output_type": "stream",
     "text": [
      "100%|██████████| 713/713 [00:03<00:00, 233.46it/s]\n",
      "100%|██████████| 204/204 [00:00<00:00, 741.53it/s]\n",
      "  3%|▎         | 24/713 [00:00<00:02, 237.14it/s]"
     ]
    },
    {
     "name": "stdout",
     "output_type": "stream",
     "text": [
      "Train loss at epoch 21 : 7.931596945913777\n",
      "Eval loss at epoch 21 : 8.03969287404827\n",
      "updating best metric\n"
     ]
    },
    {
     "name": "stderr",
     "output_type": "stream",
     "text": [
      " 85%|████████▌ | 609/713 [00:02<00:00, 240.98it/s]"
     ]
    },
    {
     "name": "stdout",
     "output_type": "stream",
     "text": [
      "Gradient overflow.  Skipping step, loss scaler 0 reducing loss scale to 131072.0\n"
     ]
    },
    {
     "name": "stderr",
     "output_type": "stream",
     "text": [
      "100%|██████████| 713/713 [00:03<00:00, 236.26it/s]\n",
      "100%|██████████| 204/204 [00:00<00:00, 754.50it/s]\n",
      "  3%|▎         | 24/713 [00:00<00:02, 233.95it/s]"
     ]
    },
    {
     "name": "stdout",
     "output_type": "stream",
     "text": [
      "Train loss at epoch 22 : 7.9242209391707625\n",
      "Eval loss at epoch 22 : 8.03856290321724\n",
      "updating best metric\n"
     ]
    },
    {
     "name": "stderr",
     "output_type": "stream",
     "text": [
      "100%|██████████| 713/713 [00:02<00:00, 238.16it/s]\n",
      "100%|██████████| 204/204 [00:00<00:00, 772.36it/s]\n",
      "  3%|▎         | 24/713 [00:00<00:02, 237.02it/s]"
     ]
    },
    {
     "name": "stdout",
     "output_type": "stream",
     "text": [
      "Train loss at epoch 23 : 7.910148779774113\n",
      "Eval loss at epoch 23 : 8.036508609266843\n",
      "updating best metric\n"
     ]
    },
    {
     "name": "stderr",
     "output_type": "stream",
     "text": [
      "100%|██████████| 713/713 [00:02<00:00, 239.35it/s]\n",
      "100%|██████████| 204/204 [00:00<00:00, 769.91it/s]\n",
      "  3%|▎         | 24/713 [00:00<00:02, 236.08it/s]"
     ]
    },
    {
     "name": "stdout",
     "output_type": "stream",
     "text": [
      "Train loss at epoch 24 : 7.895328708316969\n",
      "Eval loss at epoch 24 : 8.035853582270006\n",
      "updating best metric\n"
     ]
    },
    {
     "name": "stderr",
     "output_type": "stream",
     "text": [
      "100%|██████████| 713/713 [00:02<00:00, 238.70it/s]\n",
      " 34%|███▍      | 69/204 [00:00<00:00, 679.72it/s]"
     ]
    },
    {
     "name": "stdout",
     "output_type": "stream",
     "text": [
      "Gradient overflow.  Skipping step, loss scaler 0 reducing loss scale to 131072.0\n"
     ]
    },
    {
     "name": "stderr",
     "output_type": "stream",
     "text": [
      "100%|██████████| 204/204 [00:00<00:00, 675.05it/s]\n",
      "  3%|▎         | 23/713 [00:00<00:03, 226.51it/s]"
     ]
    },
    {
     "name": "stdout",
     "output_type": "stream",
     "text": [
      "Train loss at epoch 25 : 7.890213433355302\n",
      "Eval loss at epoch 25 : 8.035659437086068\n",
      "updating best metric\n"
     ]
    },
    {
     "name": "stderr",
     "output_type": "stream",
     "text": [
      "100%|██████████| 713/713 [00:03<00:00, 235.77it/s]\n",
      "100%|██████████| 204/204 [00:00<00:00, 771.42it/s]\n",
      "  3%|▎         | 24/713 [00:00<00:02, 237.32it/s]"
     ]
    },
    {
     "name": "stdout",
     "output_type": "stream",
     "text": [
      "Train loss at epoch 26 : 7.892119793537455\n",
      "Eval loss at epoch 26 : 8.034603446137671\n",
      "updating best metric\n"
     ]
    },
    {
     "name": "stderr",
     "output_type": "stream",
     "text": [
      "100%|██████████| 713/713 [00:03<00:00, 233.25it/s]\n",
      "100%|██████████| 204/204 [00:00<00:00, 747.57it/s]\n",
      "  3%|▎         | 22/713 [00:00<00:03, 215.37it/s]"
     ]
    },
    {
     "name": "stdout",
     "output_type": "stream",
     "text": [
      "Train loss at epoch 27 : 7.866863018667213\n",
      "Eval loss at epoch 27 : 8.035064215753593\n"
     ]
    },
    {
     "name": "stderr",
     "output_type": "stream",
     "text": [
      " 91%|█████████ | 650/713 [00:02<00:00, 237.91it/s]"
     ]
    },
    {
     "name": "stdout",
     "output_type": "stream",
     "text": [
      "Gradient overflow.  Skipping step, loss scaler 0 reducing loss scale to 131072.0\n"
     ]
    },
    {
     "name": "stderr",
     "output_type": "stream",
     "text": [
      "100%|██████████| 713/713 [00:03<00:00, 233.45it/s]\n",
      "100%|██████████| 204/204 [00:00<00:00, 780.88it/s]\n",
      "  3%|▎         | 24/713 [00:00<00:02, 235.29it/s]"
     ]
    },
    {
     "name": "stdout",
     "output_type": "stream",
     "text": [
      "Train loss at epoch 28 : 7.8719159650601975\n",
      "Eval loss at epoch 28 : 8.034910230075612\n"
     ]
    },
    {
     "name": "stderr",
     "output_type": "stream",
     "text": [
      "100%|██████████| 713/713 [00:03<00:00, 225.79it/s]\n",
      "100%|██████████| 204/204 [00:00<00:00, 745.57it/s]"
     ]
    },
    {
     "name": "stdout",
     "output_type": "stream",
     "text": [
      "Train loss at epoch 29 : 7.8668927490962\n",
      "Eval loss at epoch 29 : 8.035195612439923\n",
      "early stopping, patience: 3, loading best epoch: 26.\n"
     ]
    },
    {
     "name": "stderr",
     "output_type": "stream",
     "text": [
      "\n"
     ]
    }
   ],
   "source": [
    "metrics = model.fit(\n",
    "    train_dataloader = train_dataloader,\n",
    "    eval_dataloader = val_dataloader,\n",
    "    num_epochs = 100,\n",
    "    early_stopping = True,\n",
    "    early_stopping_patience = 3,\n",
    "    early_stopping_metric = 'val_loss',\n",
    "    early_stopping_metric_best = 'min', # if lower is better (like for loss)\n",
    ")"
   ]
  },
  {
   "cell_type": "code",
   "execution_count": 15,
   "id": "animated-breach",
   "metadata": {},
   "outputs": [
    {
     "data": {
      "text/plain": [
       "{0: {'train_loss': 9.194676520948155,\n",
       "  'val_loss': 9.194585229836258,\n",
       "  'lr': 0.01},\n",
       " 1: {'train_loss': 9.17973846205488,\n",
       "  'val_loss': 9.163500491310568,\n",
       "  'lr': 0.0099},\n",
       " 2: {'train_loss': 9.143867334844689,\n",
       "  'val_loss': 9.12271276174807,\n",
       "  'lr': 0.009801},\n",
       " 3: {'train_loss': 9.09124480457493,\n",
       "  'val_loss': 9.051762880063524,\n",
       "  'lr': 0.00970299},\n",
       " 4: {'train_loss': 8.985078906611674,\n",
       "  'val_loss': 8.887869096269794,\n",
       "  'lr': 0.0096059601},\n",
       " 5: {'train_loss': 8.757906379405446,\n",
       "  'val_loss': 8.596034206596075,\n",
       "  'lr': 0.009509900499},\n",
       " 6: {'train_loss': 8.533495919734532,\n",
       "  'val_loss': 8.410787743680617,\n",
       "  'lr': 0.00941480149401},\n",
       " 7: {'train_loss': 8.386791100843089,\n",
       "  'val_loss': 8.290763471640792,\n",
       "  'lr': 0.0093206534790699},\n",
       " 8: {'train_loss': 8.291860694136226,\n",
       "  'val_loss': 8.217793361813415,\n",
       "  'lr': 0.0092274469442792},\n",
       " 9: {'train_loss': 8.222998359594573,\n",
       "  'val_loss': 8.172938578269061,\n",
       "  'lr': 0.009135172474836408},\n",
       " 10: {'train_loss': 8.168354320659878,\n",
       "  'val_loss': 8.142509409025603,\n",
       "  'lr': 0.009043820750088045},\n",
       " 11: {'train_loss': 8.124085025733851,\n",
       "  'val_loss': 8.119492865076252,\n",
       "  'lr': 0.008953382542587164},\n",
       " 12: {'train_loss': 8.099070886074243,\n",
       "  'val_loss': 8.101076235958175,\n",
       "  'lr': 0.008863848717161293},\n",
       " 13: {'train_loss': 8.065867962375764,\n",
       "  'val_loss': 8.086822694423152,\n",
       "  'lr': 0.00877521022998968},\n",
       " 14: {'train_loss': 8.040419580558574,\n",
       "  'val_loss': 8.07537068572699,\n",
       "  'lr': 0.008687458127689783},\n",
       " 15: {'train_loss': 8.018525125602519,\n",
       "  'val_loss': 8.066781261387993,\n",
       "  'lr': 0.008600583546412886},\n",
       " 16: {'train_loss': 7.99876682821865,\n",
       "  'val_loss': 8.059265155418247,\n",
       "  'lr': 0.008514577710948757},\n",
       " 17: {'train_loss': 7.9786152986791326,\n",
       "  'val_loss': 8.05412086318521,\n",
       "  'lr': 0.00842943193383927},\n",
       " 18: {'train_loss': 7.971675462174382,\n",
       "  'val_loss': 8.048727533396553,\n",
       "  'lr': 0.008345137614500876},\n",
       " 19: {'train_loss': 7.949404776681523,\n",
       "  'val_loss': 8.044923370959712,\n",
       "  'lr': 0.008261686238355867},\n",
       " 20: {'train_loss': 7.9397863392074175,\n",
       "  'val_loss': 8.041771898082658,\n",
       "  'lr': 0.008179069375972308},\n",
       " 21: {'train_loss': 7.931596945913777,\n",
       "  'val_loss': 8.03969287404827,\n",
       "  'lr': 0.008097278682212584},\n",
       " 22: {'train_loss': 7.9242209391707625,\n",
       "  'val_loss': 8.03856290321724,\n",
       "  'lr': 0.00801630589539046},\n",
       " 23: {'train_loss': 7.910148779774113,\n",
       "  'val_loss': 8.036508609266843,\n",
       "  'lr': 0.007936142836436554},\n",
       " 24: {'train_loss': 7.895328708316969,\n",
       "  'val_loss': 8.035853582270006,\n",
       "  'lr': 0.007856781408072189},\n",
       " 25: {'train_loss': 7.890213433355302,\n",
       "  'val_loss': 8.035659437086068,\n",
       "  'lr': 0.007778213593991467},\n",
       " 26: {'train_loss': 7.892119793537455,\n",
       "  'val_loss': 8.034603446137671,\n",
       "  'lr': 0.007700431458051552},\n",
       " 27: {'train_loss': 7.866863018667213,\n",
       "  'val_loss': 8.035064215753593,\n",
       "  'lr': 0.007623427143471037},\n",
       " 28: {'train_loss': 7.8719159650601975,\n",
       "  'val_loss': 8.034910230075612,\n",
       "  'lr': 0.007547192872036326},\n",
       " 29: {'train_loss': 7.8668927490962,\n",
       "  'val_loss': 8.035195612439923,\n",
       "  'lr': 0.007471720943315963}}"
      ]
     },
     "execution_count": 15,
     "metadata": {},
     "output_type": "execute_result"
    }
   ],
   "source": [
    "metrics"
   ]
  },
  {
   "cell_type": "code",
   "execution_count": 21,
   "id": "innocent-expert",
   "metadata": {},
   "outputs": [
    {
     "name": "stdout",
     "output_type": "stream",
     "text": [
      "[2, 117, 72]\n"
     ]
    }
   ],
   "source": [
    "sent = 'so how are'\n",
    "ind = [voc.word_to_idx[w] for w in sent.split(' ')]\n",
    "print(ind)\n",
    "hidden = model.init_hidden(1)\n",
    "inputs = torch.tensor([ind]).to(DEVICE)\n",
    "model.eval()\n",
    "output, hidden = model(inputs, hidden)\n",
    "preds = output.view(-1, model.vocab_size)"
   ]
  },
  {
   "cell_type": "code",
   "execution_count": 22,
   "id": "apart-parts",
   "metadata": {},
   "outputs": [
    {
     "name": "stdout",
     "output_type": "stream",
     "text": [
      "you\n",
      "you\n",
      "you\n"
     ]
    }
   ],
   "source": [
    "for i in preds.topk(1)[1].view(-1):\n",
    "    w = voc.idx_to_word[i.item()]\n",
    "    print(w)"
   ]
  },
  {
   "cell_type": "code",
   "execution_count": 23,
   "id": "earned-dispatch",
   "metadata": {},
   "outputs": [
    {
     "data": {
      "text/plain": [
       "[<matplotlib.lines.Line2D at 0x7fe0b036ceb0>]"
      ]
     },
     "execution_count": 23,
     "metadata": {},
     "output_type": "execute_result"
    },
    {
     "data": {
      "image/png": "[encoded data removed]",
      "text/plain": [
       "<Figure size 432x288 with 1 Axes>"
      ]
     },
     "metadata": {
      "needs_background": "light"
     },
     "output_type": "display_data"
    }
   ],
   "source": [
    "a = output[0][0].detach().to('cpu').numpy()\n",
    "plt.plot(a)"
   ]
  },
  {
   "cell_type": "code",
   "execution_count": 24,
   "id": "adopted-rocket",
   "metadata": {},
   "outputs": [
    {
     "data": {
      "text/plain": [
       "[<matplotlib.lines.Line2D at 0x7fe0b0344670>]"
      ]
     },
     "execution_count": 24,
     "metadata": {},
     "output_type": "execute_result"
    },
    {
     "data": {
      "image/png": "[encoded data removed]",
      "text/plain": [
       "<Figure size 432x288 with 1 Axes>"
      ]
     },
     "metadata": {
      "needs_background": "light"
     },
     "output_type": "display_data"
    }
   ],
   "source": [
    "a = output[0][1].detach().to('cpu').numpy()\n",
    "plt.plot(a)"
   ]
  },
  {
   "cell_type": "code",
   "execution_count": 25,
   "id": "bright-forth",
   "metadata": {},
   "outputs": [
    {
     "data": {
      "text/plain": [
       "[<matplotlib.lines.Line2D at 0x7fe0b0290fd0>]"
      ]
     },
     "execution_count": 25,
     "metadata": {},
     "output_type": "execute_result"
    },
    {
     "data": {
      "image/png": "[encoded data removed]",
      "text/plain": [
       "<Figure size 432x288 with 1 Axes>"
      ]
     },
     "metadata": {
      "needs_background": "light"
     },
     "output_type": "display_data"
    }
   ],
   "source": [
    "a = output[0][2].detach().to('cpu').numpy()\n",
    "plt.plot(a)"
   ]
  },
  {
   "cell_type": "code",
   "execution_count": 1,
   "id": "tutorial-weather",
   "metadata": {},
   "outputs": [],
   "source": [
    "import math\n",
    "from typing import Tuple\n",
    "\n",
    "import torch\n",
    "from torch import nn, Tensor\n",
    "import torch.nn.functional as F\n",
    "from torch.nn import TransformerEncoder, TransformerEncoderLayer, RNN, LSTM\n",
    "from torch.utils.data import dataset"
   ]
  },
  {
   "cell_type": "code",
   "execution_count": 40,
   "id": "joint-milan",
   "metadata": {},
   "outputs": [],
   "source": [
    "class Model(nn.Module):\n",
    "    def __init__(\n",
    "        self, \n",
    "        ntoken: int,\n",
    "        emb_dim: int,\n",
    "        nhead: int,\n",
    "        hidden_state_size: int,\n",
    "        num_hidden_layers: int, \n",
    "        dropout: float = 0.5,\n",
    "        type_of_model : str = 'Transformer'\n",
    "    ):\n",
    "        super().__init__()\n",
    "        self.type_of_model = type_of_model\n",
    "        self.emb_dim = emb_dim\n",
    "        \n",
    "        self.encoder = nn.Embedding(ntoken, emb_dim)\n",
    "        self.pos_encoder = PositionalEncoding(emb_dim, dropout)\n",
    "        if type_of_model == 'Transformer':\n",
    "            encoder_layers = TransformerEncoderLayer(emb_dim, nhead, hidden_state_size, dropout)\n",
    "            self.transform = TransformerEncoder(encoder_layers, num_hidden_layers)\n",
    "        elif type_of_model == 'RNN':\n",
    "            self.transform = RNN(\n",
    "                input_size = emb_dim,\n",
    "                hidden_size = hidden_state_size,\n",
    "                num_layers = num_hidden_layers,\n",
    "                dropout = dropout,\n",
    "                batch_first = True # -> input of the shape (bath size, seq length, emb length)\n",
    "            )\n",
    "        else:\n",
    "            print('model must be one of Transformer, LSTM')\n",
    "        self.decoder = nn.Linear(emb_dim, ntoken)\n",
    "\n",
    "        self.init_weights()\n",
    "\n",
    "    def init_weights(self) -> None:\n",
    "        initrange = 0.1\n",
    "        self.encoder.weight.data.uniform_(-initrange, initrange)\n",
    "        self.decoder.bias.data.zero_()\n",
    "        self.decoder.weight.data.uniform_(-initrange, initrange)\n",
    "            \n",
    "\n",
    "    def forward(self, src: Tensor, hidden: Tensor) -> Tensor:\n",
    "        \"\"\"\n",
    "        Args:\n",
    "            src: Tensor, shape [seq_len, batch_size]\n",
    "            src_mask: Tensor, shape [seq_len, seq_len]\n",
    "\n",
    "        Returns:\n",
    "            output Tensor of shape [seq_len, batch_size, ntoken]\n",
    "        \"\"\"\n",
    "        src = self.encoder(src) * math.sqrt(self.emb_dim)\n",
    "        src = self.pos_encoder(src)\n",
    "        if self.type_of_model == 'Transformer':\n",
    "            output = self.transform(src, hidden)\n",
    "        elif self.type_of_model == 'RNN':\n",
    "            output, hidden = self.transform(src, hidden.detach())\n",
    "        output = self.decoder(output)\n",
    "        return output, hidden\n",
    "\n",
    "def generate_hidden(\n",
    "    sz: int,\n",
    "    type_of_model: str\n",
    ") -> Tensor:\n",
    "    if type_of_model == 'Transformer':\n",
    "        \"\"\"Generates an upper-triangular matrix of -inf, with zeros on diag.\"\"\"\n",
    "        return torch.triu(torch.ones(sz, sz) * float('-inf'), diagonal=1)\n",
    "    elif type_of_model == 'RNN':\n",
    "        return torch.zeros(2, sz, 200)\n",
    "\n",
    "class PositionalEncoding(nn.Module):\n",
    "    def __init__(\n",
    "        self,\n",
    "        emb_dim: int,\n",
    "        dropout: float = 0.1,\n",
    "        max_len: int = 5000\n",
    "    ):\n",
    "        \"\"\"\n",
    "        Class of a nn.Module that add a positional encoding to the embedding\n",
    "        \"\"\"\n",
    "        super().__init__()\n",
    "        self.dropout = nn.Dropout(p=dropout)\n",
    "\n",
    "        position = torch.arange(max_len).unsqueeze(1)\n",
    "        div_term = torch.exp(torch.arange(0, emb_dim, 2) * (-math.log(10000.0) / emb_dim))\n",
    "        pe = torch.zeros(max_len, 1, emb_dim)\n",
    "        pe[:, 0, 0::2] = torch.sin(position * div_term)\n",
    "        pe[:, 0, 1::2] = torch.cos(position * div_term)\n",
    "        self.register_buffer('pe', pe)\n",
    "\n",
    "    def forward(self, x: Tensor) -> Tensor:\n",
    "        \"\"\"\n",
    "        Args:\n",
    "            x: Tensor, shape [seq_len, batch_size, embedding_dim]\n",
    "        \"\"\"\n",
    "        x = x + self.pe[:x.size(0)]\n",
    "        return self.dropout(x)\n"
   ]
  },
  {
   "cell_type": "code",
   "execution_count": 41,
   "id": "spoken-marijuana",
   "metadata": {},
   "outputs": [],
   "source": [
    "from torchtext.datasets import WikiText2\n",
    "from torchtext.data.utils import get_tokenizer\n",
    "from torchtext.vocab import build_vocab_from_iterator\n",
    "\n",
    "train_iter = WikiText2(split='train')\n",
    "tokenizer = get_tokenizer('basic_english')\n",
    "vocab = build_vocab_from_iterator(map(tokenizer, train_iter), specials=['<unk>'])\n",
    "vocab.set_default_index(vocab['<unk>'])\n",
    "\n",
    "def data_process(raw_text_iter: dataset.IterableDataset) -> Tensor:\n",
    "    \"\"\"Converts raw text into a flat Tensor.\"\"\"\n",
    "    data = [torch.tensor(vocab(tokenizer(item)), dtype=torch.long) for item in raw_text_iter]\n",
    "    return torch.cat(tuple(filter(lambda t: t.numel() > 0, data)))\n",
    "\n",
    "# train_iter was \"consumed\" by the process of building the vocab,\n",
    "# so we have to create it again\n",
    "train_iter, val_iter, test_iter = WikiText2()\n",
    "train_data = data_process(train_iter)\n",
    "val_data = data_process(val_iter)\n",
    "test_data = data_process(test_iter)\n",
    "\n",
    "device = torch.device('cuda' if torch.cuda.is_available() else 'cpu')\n",
    "\n",
    "def batchify(data: Tensor, bsz: int) -> Tensor:\n",
    "    \"\"\"Divides the data into bsz separate sequences, removing extra elements\n",
    "    that wouldn't cleanly fit.\n",
    "\n",
    "    Args:\n",
    "        data: Tensor, shape [N]\n",
    "        bsz: int, batch size\n",
    "\n",
    "    Returns:\n",
    "        Tensor of shape [N // bsz, bsz]\n",
    "    \"\"\"\n",
    "    seq_len = data.size(0) // bsz\n",
    "    data = data[:seq_len * bsz]\n",
    "    data = data.view(bsz, seq_len).t().contiguous()\n",
    "    return data.to(device)\n",
    "\n",
    "batch_size = 20\n",
    "eval_batch_size = 10\n",
    "train_data = batchify(train_data, batch_size)  # shape [seq_len, batch_size]\n",
    "val_data = batchify(val_data, eval_batch_size)\n",
    "test_data = batchify(test_data, eval_batch_size)"
   ]
  },
  {
   "cell_type": "code",
   "execution_count": 42,
   "id": "disabled-burden",
   "metadata": {},
   "outputs": [],
   "source": [
    "bptt = 35\n",
    "def get_batch(source: Tensor, i: int) -> Tuple[Tensor, Tensor]:\n",
    "    \"\"\"\n",
    "    Args:\n",
    "        source: Tensor, shape [full_seq_len, batch_size]\n",
    "        i: int\n",
    "\n",
    "    Returns:\n",
    "        tuple (data, target), where data has shape [seq_len, batch_size] and\n",
    "        target has shape [seq_len * batch_size]\n",
    "    \"\"\"\n",
    "    seq_len = min(bptt, len(source) - 1 - i)\n",
    "    data = source[i:i+seq_len]\n",
    "    target = source[i+1:i+1+seq_len].reshape(-1)\n",
    "    return data, target"
   ]
  },
  {
   "cell_type": "code",
   "execution_count": 43,
   "id": "committed-tattoo",
   "metadata": {},
   "outputs": [],
   "source": [
    "ntokens = len(vocab)  # size of vocabulary\n",
    "emsize = 200  # embedding dimension\n",
    "d_hid = 200  # dimension of the feedforward network model in nn.TransformerEncoder\n",
    "nlayers = 2  # number of nn.TransformerEncoderLayer in nn.TransformerEncoder\n",
    "nhead = 2  # number of heads in nn.MultiheadAttention\n",
    "dropout = 0.2  # dropout probability\n",
    "model = Model(\n",
    "    ntokens,\n",
    "    emsize,\n",
    "    nhead,\n",
    "    d_hid,\n",
    "    nlayers,\n",
    "    dropout,\n",
    "    'RNN'\n",
    ").to(device)"
   ]
  },
  {
   "cell_type": "code",
   "execution_count": 44,
   "id": "later-publication",
   "metadata": {},
   "outputs": [],
   "source": [
    "import copy\n",
    "import time\n",
    "\n",
    "criterion = nn.CrossEntropyLoss()\n",
    "lr = 5.0  # learning rate\n",
    "optimizer = torch.optim.SGD(model.parameters(), lr=lr)\n",
    "scheduler = torch.optim.lr_scheduler.StepLR(optimizer, 1.0, gamma=0.95)\n",
    "\n",
    "def train(model: nn.Module) -> None:\n",
    "    model.train()  # turn on train mode\n",
    "    total_loss = 0.\n",
    "    log_interval = 200\n",
    "    start_time = time.time()\n",
    "    hidden = generate_hidden(bptt, model.type_of_model).to(device)\n",
    "\n",
    "    num_batches = len(train_data) // bptt\n",
    "    for batch, i in enumerate(range(0, train_data.size(0) - 1, bptt)):\n",
    "        data, targets = get_batch(train_data, i)\n",
    "        batch_size = data.size(0)\n",
    "        if batch_size != bptt:  # only on last batch\n",
    "            if model.type_of_model == 'Transformer':\n",
    "                hidden = hidden[:batch_size, :batch_size]\n",
    "            elif model.type_of_model == 'RNN':\n",
    "                continue\n",
    "        output, hidden = model(data, hidden)\n",
    "        loss = criterion(output.view(-1, ntokens), targets)\n",
    "\n",
    "        optimizer.zero_grad()\n",
    "        loss.backward()\n",
    "        torch.nn.utils.clip_grad_norm_(model.parameters(), 0.5)\n",
    "        optimizer.step()\n",
    "\n",
    "        total_loss += loss.item()\n",
    "        if batch % log_interval == 0 and batch > 0:\n",
    "            lr = scheduler.get_last_lr()[0]\n",
    "            ms_per_batch = (time.time() - start_time) * 1000 / log_interval\n",
    "            cur_loss = total_loss / log_interval\n",
    "            ppl = math.exp(cur_loss)\n",
    "            print(f'| epoch {epoch:3d} | {batch:5d}/{num_batches:5d} batches | '\n",
    "                  f'lr {lr:02.2f} | ms/batch {ms_per_batch:5.2f} | '\n",
    "                  f'loss {cur_loss:5.2f} | ppl {ppl:8.2f}')\n",
    "            total_loss = 0\n",
    "            start_time = time.time()\n",
    "\n",
    "def evaluate(model: nn.Module, eval_data: Tensor) -> float:\n",
    "    model.eval()  # turn on evaluation mode\n",
    "    total_loss = 0.\n",
    "    hidden = generate_hidden(bptt, model.type_of_model).to(device)\n",
    "    with torch.no_grad():\n",
    "        for i in range(0, eval_data.size(0) - 1, bptt):\n",
    "            data, targets = get_batch(eval_data, i)\n",
    "            batch_size = data.size(0)\n",
    "            if batch_size != bptt:  # only on last batch\n",
    "                if model.type_of_model == 'Transformer':\n",
    "                    hidden = hidden[:batch_size, :batch_size]\n",
    "                elif model.type_of_model == 'RNN':\n",
    "                    hidden = hidden[:, :batch_size, :]\n",
    "            output = model(data, hidden)\n",
    "            output_flat = output.view(-1, ntokens)\n",
    "            total_loss += batch_size * criterion(output_flat, targets).item()\n",
    "    return total_loss / (len(eval_data) - 1)"
   ]
  },
  {
   "cell_type": "code",
   "execution_count": 45,
   "id": "israeli-potter",
   "metadata": {},
   "outputs": [
    {
     "name": "stdout",
     "output_type": "stream",
     "text": [
      "| epoch   1 |   200/ 2928 batches | lr 5.00 | ms/batch  9.48 | loss  8.19 | ppl  3620.70\n",
      "| epoch   1 |   400/ 2928 batches | lr 5.00 | ms/batch  9.24 | loss  6.96 | ppl  1054.33\n",
      "| epoch   1 |   600/ 2928 batches | lr 5.00 | ms/batch  9.16 | loss  6.58 | ppl   717.47\n",
      "| epoch   1 |   800/ 2928 batches | lr 5.00 | ms/batch  9.19 | loss  6.46 | ppl   641.11\n",
      "| epoch   1 |  1000/ 2928 batches | lr 5.00 | ms/batch  9.27 | loss  6.38 | ppl   587.49\n",
      "| epoch   1 |  1200/ 2928 batches | lr 5.00 | ms/batch  9.20 | loss  6.35 | ppl   575.02\n",
      "| epoch   1 |  1400/ 2928 batches | lr 5.00 | ms/batch  9.19 | loss  6.32 | ppl   554.87\n",
      "| epoch   1 |  1600/ 2928 batches | lr 5.00 | ms/batch  9.21 | loss  6.30 | ppl   542.72\n",
      "| epoch   1 |  1800/ 2928 batches | lr 5.00 | ms/batch  9.21 | loss  6.23 | ppl   507.15\n",
      "| epoch   1 |  2000/ 2928 batches | lr 5.00 | ms/batch  9.19 | loss  6.24 | ppl   510.64\n",
      "| epoch   1 |  2200/ 2928 batches | lr 5.00 | ms/batch  9.20 | loss  6.12 | ppl   455.06\n",
      "| epoch   1 |  2400/ 2928 batches | lr 5.00 | ms/batch  9.20 | loss  6.20 | ppl   490.71\n",
      "| epoch   1 |  2600/ 2928 batches | lr 5.00 | ms/batch  9.19 | loss  6.18 | ppl   480.78\n",
      "| epoch   1 |  2800/ 2928 batches | lr 5.00 | ms/batch  9.20 | loss  6.13 | ppl   457.16\n"
     ]
    },
    {
     "ename": "AttributeError",
     "evalue": "'tuple' object has no attribute 'view'",
     "output_type": "error",
     "traceback": [
      "\u001b[0;31m---------------------------------------------------------------------------\u001b[0m",
      "\u001b[0;31mAttributeError\u001b[0m                            Traceback (most recent call last)",
      "\u001b[0;32m<ipython-input-45-eea392489cd8>\u001b[0m in \u001b[0;36m<module>\u001b[0;34m\u001b[0m\n\u001b[1;32m      6\u001b[0m     \u001b[0mepoch_start_time\u001b[0m \u001b[0;34m=\u001b[0m \u001b[0mtime\u001b[0m\u001b[0;34m.\u001b[0m\u001b[0mtime\u001b[0m\u001b[0;34m(\u001b[0m\u001b[0;34m)\u001b[0m\u001b[0;34m\u001b[0m\u001b[0;34m\u001b[0m\u001b[0m\n\u001b[1;32m      7\u001b[0m     \u001b[0mtrain\u001b[0m\u001b[0;34m(\u001b[0m\u001b[0mmodel\u001b[0m\u001b[0;34m)\u001b[0m\u001b[0;34m\u001b[0m\u001b[0;34m\u001b[0m\u001b[0m\n\u001b[0;32m----> 8\u001b[0;31m     \u001b[0mval_loss\u001b[0m \u001b[0;34m=\u001b[0m \u001b[0mevaluate\u001b[0m\u001b[0;34m(\u001b[0m\u001b[0mmodel\u001b[0m\u001b[0;34m,\u001b[0m \u001b[0mval_data\u001b[0m\u001b[0;34m)\u001b[0m\u001b[0;34m\u001b[0m\u001b[0;34m\u001b[0m\u001b[0m\n\u001b[0m\u001b[1;32m      9\u001b[0m     \u001b[0mval_ppl\u001b[0m \u001b[0;34m=\u001b[0m \u001b[0mmath\u001b[0m\u001b[0;34m.\u001b[0m\u001b[0mexp\u001b[0m\u001b[0;34m(\u001b[0m\u001b[0mval_loss\u001b[0m\u001b[0;34m)\u001b[0m\u001b[0;34m\u001b[0m\u001b[0;34m\u001b[0m\u001b[0m\n\u001b[1;32m     10\u001b[0m     \u001b[0melapsed\u001b[0m \u001b[0;34m=\u001b[0m \u001b[0mtime\u001b[0m\u001b[0;34m.\u001b[0m\u001b[0mtime\u001b[0m\u001b[0;34m(\u001b[0m\u001b[0;34m)\u001b[0m \u001b[0;34m-\u001b[0m \u001b[0mepoch_start_time\u001b[0m\u001b[0;34m\u001b[0m\u001b[0;34m\u001b[0m\u001b[0m\n",
      "\u001b[0;32m<ipython-input-44-8b2bee9365f8>\u001b[0m in \u001b[0;36mevaluate\u001b[0;34m(model, eval_data)\u001b[0m\n\u001b[1;32m     57\u001b[0m                     \u001b[0mhidden\u001b[0m \u001b[0;34m=\u001b[0m \u001b[0mhidden\u001b[0m\u001b[0;34m[\u001b[0m\u001b[0;34m:\u001b[0m\u001b[0;34m,\u001b[0m \u001b[0;34m:\u001b[0m\u001b[0mbatch_size\u001b[0m\u001b[0;34m,\u001b[0m \u001b[0;34m:\u001b[0m\u001b[0;34m]\u001b[0m\u001b[0;34m\u001b[0m\u001b[0;34m\u001b[0m\u001b[0m\n\u001b[1;32m     58\u001b[0m             \u001b[0moutput\u001b[0m \u001b[0;34m=\u001b[0m \u001b[0mmodel\u001b[0m\u001b[0;34m(\u001b[0m\u001b[0mdata\u001b[0m\u001b[0;34m,\u001b[0m \u001b[0mhidden\u001b[0m\u001b[0;34m)\u001b[0m\u001b[0;34m\u001b[0m\u001b[0;34m\u001b[0m\u001b[0m\n\u001b[0;32m---> 59\u001b[0;31m             \u001b[0moutput_flat\u001b[0m \u001b[0;34m=\u001b[0m \u001b[0moutput\u001b[0m\u001b[0;34m.\u001b[0m\u001b[0mview\u001b[0m\u001b[0;34m(\u001b[0m\u001b[0;34m-\u001b[0m\u001b[0;36m1\u001b[0m\u001b[0;34m,\u001b[0m \u001b[0mntokens\u001b[0m\u001b[0;34m)\u001b[0m\u001b[0;34m\u001b[0m\u001b[0;34m\u001b[0m\u001b[0m\n\u001b[0m\u001b[1;32m     60\u001b[0m             \u001b[0mtotal_loss\u001b[0m \u001b[0;34m+=\u001b[0m \u001b[0mbatch_size\u001b[0m \u001b[0;34m*\u001b[0m \u001b[0mcriterion\u001b[0m\u001b[0;34m(\u001b[0m\u001b[0moutput_flat\u001b[0m\u001b[0;34m,\u001b[0m \u001b[0mtargets\u001b[0m\u001b[0;34m)\u001b[0m\u001b[0;34m.\u001b[0m\u001b[0mitem\u001b[0m\u001b[0;34m(\u001b[0m\u001b[0;34m)\u001b[0m\u001b[0;34m\u001b[0m\u001b[0;34m\u001b[0m\u001b[0m\n\u001b[1;32m     61\u001b[0m     \u001b[0;32mreturn\u001b[0m \u001b[0mtotal_loss\u001b[0m \u001b[0;34m/\u001b[0m \u001b[0;34m(\u001b[0m\u001b[0mlen\u001b[0m\u001b[0;34m(\u001b[0m\u001b[0meval_data\u001b[0m\u001b[0;34m)\u001b[0m \u001b[0;34m-\u001b[0m \u001b[0;36m1\u001b[0m\u001b[0;34m)\u001b[0m\u001b[0;34m\u001b[0m\u001b[0;34m\u001b[0m\u001b[0m\n",
      "\u001b[0;31mAttributeError\u001b[0m: 'tuple' object has no attribute 'view'"
     ]
    }
   ],
   "source": [
    "best_val_loss = float('inf')\n",
    "epochs = 3\n",
    "best_model = None\n",
    "\n",
    "for epoch in range(1, epochs + 1):\n",
    "    epoch_start_time = time.time()\n",
    "    train(model)\n",
    "    val_loss = evaluate(model, val_data)\n",
    "    val_ppl = math.exp(val_loss)\n",
    "    elapsed = time.time() - epoch_start_time\n",
    "    print('-' * 89)\n",
    "    print(f'| end of epoch {epoch:3d} | time: {elapsed:5.2f}s | '\n",
    "          f'valid loss {val_loss:5.2f} | valid ppl {val_ppl:8.2f}')\n",
    "    print('-' * 89)\n",
    "\n",
    "    if val_loss < best_val_loss:\n",
    "        best_val_loss = val_loss\n",
    "        best_model = copy.deepcopy(model)\n",
    "\n",
    "    scheduler.step()"
   ]
  },
  {
   "cell_type": "code",
   "execution_count": null,
   "id": "polar-serial",
   "metadata": {},
   "outputs": [],
   "source": [
    "test_loss = evaluate(best_model, test_data)\n",
    "test_ppl = math.exp(test_loss)\n",
    "print('=' * 89)\n",
    "print(f'| End of training | test loss {test_loss:5.2f} | '\n",
    "      f'test ppl {test_ppl:8.2f}')\n",
    "print('=' * 89)"
   ]
  },
  {
   "cell_type": "code",
   "execution_count": null,
   "id": "facial-composition",
   "metadata": {},
   "outputs": [],
   "source": []
  }
 ],
 "metadata": {
  "kernelspec": {
   "display_name": "Python 3.8.8 64-bit ('typewriter': conda)",
   "language": "python",
   "name": "python388jvsc74a57bd003343bff8ea9174e4e18dc33629d8cc7123b4a33b966bf5614ca716c9ad2f2e1"
  },
  "language_info": {
   "codemirror_mode": {
    "name": "ipython",
    "version": 3
   },
   "file_extension": ".py",
   "mimetype": "text/x-python",
   "name": "python",
   "nbconvert_exporter": "python",
   "pygments_lexer": "ipython3",
   "version": "3.8.8"
  }
 },
 "nbformat": 4,
 "nbformat_minor": 5
}
