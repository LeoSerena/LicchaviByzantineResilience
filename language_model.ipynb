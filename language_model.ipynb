{
 "cells": [
  {
   "cell_type": "code",
   "execution_count": 199,
   "id": "ultimate-april",
   "metadata": {},
   "outputs": [],
   "source": [
    "import re\n",
    "\n",
    "import matplotlib.pyplot as plt\n",
    "import numpy as np\n",
    "import torch"
   ]
  },
  {
   "cell_type": "code",
   "execution_count": 24,
   "id": "tropical-coast",
   "metadata": {},
   "outputs": [],
   "source": [
    "import nltk\n",
    "\n",
    "from nltk.corpus import webtext\n",
    "# from nltk.tokenize import TweetTokenizer\n",
    "from nltk.tokenize import sent_tokenize"
   ]
  },
  {
   "cell_type": "code",
   "execution_count": 203,
   "id": "brazilian-immigration",
   "metadata": {},
   "outputs": [],
   "source": [
    "DEVICE = \"cuda:0\""
   ]
  },
  {
   "cell_type": "code",
   "execution_count": 172,
   "id": "alike-investigation",
   "metadata": {},
   "outputs": [],
   "source": [
    "def text_cleaning(text):\n",
    "    text = re.sub('-\\n', '', text)\n",
    "    text = re.sub(r\"\"\"[*#@&%£ö'ä$ü¨~^)('+°¢./><$\\[\\]`]\"\"\", '', text)\n",
    "    text = re.sub('[0-9]', '', text)\n",
    "    return re.sub('\\n', ' ', text)"
   ]
  },
  {
   "cell_type": "code",
   "execution_count": 183,
   "id": "human-excess",
   "metadata": {},
   "outputs": [],
   "source": [
    "txt = webtext.raw('overheard.txt')\n",
    "sentences = sent_tokenize(txt)\n",
    "sentences = [re.sub(r\".*: \", '', sent, 1) for sent in sentences]\n",
    "sentences = [text_cleaning(sentence) for sentence in sentences]\n",
    "sentences = [[w.lower() for w in nltk.word_tokenize(sentence)] for sentence in sentences]"
   ]
  },
  {
   "cell_type": "code",
   "execution_count": 218,
   "id": "worse-athens",
   "metadata": {},
   "outputs": [
    {
     "name": "stdout",
     "output_type": "stream",
     "text": [
      "vocabulary size : 9913\n"
     ]
    }
   ],
   "source": [
    "vocab = {}\n",
    "for tokens in sentences:\n",
    "    for token in tokens:\n",
    "        if token in vocab.keys():\n",
    "            vocab[token] += 1\n",
    "        else:\n",
    "            vocab[token] = 1\n",
    "        \n",
    "vocab = {k: v for k, v in sorted(vocab.items(), key=lambda item: -item[1])}\n",
    "W = len(vocab)\n",
    "print(\"vocabulary size : \" + str(W))\n",
    "\n",
    "word_to_idx = {k : (i+1) for i,(k,_) in enumerate(vocab.items())}\n",
    "word_to_idx['ukn'] = 0\n",
    "idx_to_word = {v : k for k, v in word_to_idx.items()}"
   ]
  },
  {
   "cell_type": "code",
   "execution_count": 194,
   "id": "monetary-hostel",
   "metadata": {},
   "outputs": [],
   "source": [
    "val_split = 0.2\n",
    "test_split = 0.1"
   ]
  },
  {
   "cell_type": "code",
   "execution_count": 202,
   "id": "adapted-victor",
   "metadata": {},
   "outputs": [
    {
     "data": {
      "image/png": "[encoded data removed]",
      "text/plain": [
       "<Figure size 432x288 with 1 Axes>"
      ]
     },
     "metadata": {
      "needs_background": "light"
     },
     "output_type": "display_data"
    }
   ],
   "source": [
    "plt.hist([len(sent) for sent in sentences], bins = 100)\n",
    "plt.show()"
   ]
  },
  {
   "cell_type": "code",
   "execution_count": 12,
   "id": "contemporary-explanation",
   "metadata": {},
   "outputs": [],
   "source": [
    "torch.manual_seed(0)\n",
    "assert torch.cuda.is_available()"
   ]
  },
  {
   "cell_type": "code",
   "execution_count": 259,
   "id": "necessary-sudan",
   "metadata": {},
   "outputs": [],
   "source": [
    "class LM_dataset(torch.utils.data.Dataset):\n",
    "    def __init__(\n",
    "        self,\n",
    "        sentences,\n",
    "        word_to_idx\n",
    "    ):\n",
    "        self.word_to_idx = word_to_idx\n",
    "        self.indices = [[self.get_idx(w) for w in sentence] for sentence in sentences if len(sentence) > 1]\n",
    "        \n",
    "    def get_idx(self, token):\n",
    "        try:\n",
    "            return self.word_to_idx[token]\n",
    "        except KeyError:\n",
    "            return self.word_to_idx['ukn']\n",
    "        \n",
    "    def __getitem__(self, idx):\n",
    "        indices = self.indices[idx]\n",
    "        if len(indices) > 16:\n",
    "            indices = indices[:16]\n",
    "        \n",
    "        return torch.LongTensor(indices[:-1]).to(DEVICE), torch.LongTensor([indices[-1]]).to(DEVICE)\n",
    "        \n",
    "    def __len__(self):\n",
    "        return len(self.indices)"
   ]
  },
  {
   "cell_type": "code",
   "execution_count": 260,
   "id": "comparable-argument",
   "metadata": {},
   "outputs": [],
   "source": [
    "train_dataset = LM_dataset(\n",
    "    sentences,\n",
    "    word_to_idx\n",
    ")"
   ]
  },
  {
   "cell_type": "code",
   "execution_count": 261,
   "id": "pleasant-picnic",
   "metadata": {},
   "outputs": [],
   "source": [
    "train_dataloader = torch.utils.data.DataLoader(\n",
    "    train_dataset,\n",
    "    batch_size = 16,\n",
    "    shuffle = True,\n",
    "    pin_memory = True\n",
    ")"
   ]
  },
  {
   "cell_type": "code",
   "execution_count": 263,
   "id": "global-corpus",
   "metadata": {},
   "outputs": [],
   "source": [
    "emb_layer = torch.nn.Embedding(\n",
    "    W,\n",
    "    32\n",
    ").to(DEVICE)"
   ]
  },
  {
   "cell_type": "code",
   "execution_count": 266,
   "id": "abandoned-selling",
   "metadata": {},
   "outputs": [
    {
     "data": {
      "text/plain": [
       "tensor([[ 0.2770,  0.0610,  1.2657, -0.2553,  0.0860, -2.1803,  0.7664,  1.2670,\n",
       "          0.5533,  0.9116,  1.5263, -0.2382,  0.0528,  0.0142,  0.9663,  0.3252,\n",
       "          0.6737,  1.0633, -1.0792, -1.4437, -1.8834,  1.8310, -1.2397,  0.6616,\n",
       "         -1.8963, -0.2500, -0.3420, -0.9200, -0.1088, -0.2085, -0.2730,  1.2509]],\n",
       "       device='cuda:0', grad_fn=<EmbeddingBackward>)"
      ]
     },
     "execution_count": 266,
     "metadata": {},
     "output_type": "execute_result"
    }
   ],
   "source": [
    "emb_layer(train_dataset[0][1])"
   ]
  },
  {
   "cell_type": "code",
   "execution_count": 125,
   "id": "above-isaac",
   "metadata": {},
   "outputs": [],
   "source": [
    "class NextWordPredictor(torch.nn.Module):\n",
    "    # inspired from https://github.com/pytorch/examples/blob/master/word_language_model/model.py\n",
    "    def __init__(\n",
    "        self,\n",
    "        num_tokens : int,\n",
    "        emb_dim : int,\n",
    "        num_hidden_layers : int,\n",
    "        hidden_layer_size : int,\n",
    "        dropout : float,\n",
    "        non_linearity : str,\n",
    "        tie_weights : bool = False\n",
    "    ):\n",
    "        super(NextWordPredictor, self).__init__()\n",
    "        self.num_tokens = num_tokens\n",
    "        \n",
    "        self.drop = torch.nn.Dropout(dropout)\n",
    "        self.encoder = torch.nn.Embedding(\n",
    "            num_tokens,\n",
    "            emb_dim\n",
    "        )\n",
    "        self.rnn = torch.nn.RNN(\n",
    "            emb_dim,\n",
    "            hidden_layer_size,\n",
    "            nonlinearity = non_linearity,\n",
    "            dropout = dropout\n",
    "        )\n",
    "        self.decoder = torch.nn.Linear(hidden_layer_size, num_tokens)\n",
    "        \n",
    "        # Optionally tie weights as in:\n",
    "        # \"Using the Output Embedding to Improve Language Models\" (Press & Wolf 2016) -> https://arxiv.org/abs/1608.05859\n",
    "        # \"Tying Word Vectors and Word Classifiers: A Loss Framework for Language Modeling\" (Inan et al. 2016) -> https://arxiv.org/abs/1611.01462\n",
    "        if tie_weights:\n",
    "            if nhid != ninp:\n",
    "                raise ValueError('When using the tied flag, nhid must be equal to emsize')\n",
    "            self.decoder.weight = self.encoder.weight\n",
    "        \n",
    "        self.init_weights()\n",
    "        \n",
    "    def init_weights(self):\n",
    "        torch.nn.init.normal_(self.encoder.weight, mean = 0, std = 1)\n",
    "        torch.nn.init.normal_(self.decoder.weight, mean = 0, std = 1)\n",
    "\n",
    "    def forward(self, input_, hidden):\n",
    "        embebbing = self.drop(self.encoder(input_))\n",
    "        output, hidden = self.rnn(embedding, hidden)\n",
    "        output = self.drop(output)\n",
    "        decoded = self.decoder(output)\n",
    "        decoded.view(-1, self.num_tokens)\n",
    "        return F.log_softmax(decoded, dim = 1), hidden"
   ]
  },
  {
   "cell_type": "code",
   "execution_count": 126,
   "id": "willing-express",
   "metadata": {},
   "outputs": [],
   "source": [
    "model = NextWordPredictor(\n",
    "    num_tokens = len(vocab),\n",
    "    emb_dim = 64,\n",
    "    num_hidden_layers = 1,\n",
    "    hidden_layer_size = 64,\n",
    "    dropout = 0.2,\n",
    "    non_linearity = 'relu',\n",
    "    tie_weights = False\n",
    ")"
   ]
  },
  {
   "cell_type": "code",
   "execution_count": 128,
   "id": "fitted-hands",
   "metadata": {},
   "outputs": [
    {
     "data": {
      "text/plain": [
       "NextWordPredictor(\n",
       "  (drop): Dropout(p=0.2, inplace=False)\n",
       "  (encoder): Embedding(4620, 64)\n",
       "  (rnn): RNN(64, 64, dropout=0.2)\n",
       "  (decoder): Linear(in_features=64, out_features=4620, bias=True)\n",
       ")"
      ]
     },
     "execution_count": 128,
     "metadata": {},
     "output_type": "execute_result"
    }
   ],
   "source": [
    "model"
   ]
  },
  {
   "cell_type": "code",
   "execution_count": null,
   "id": "every-innocent",
   "metadata": {},
   "outputs": [],
   "source": []
  }
 ],
 "metadata": {
  "kernelspec": {
   "display_name": "Python 3.8.8 64-bit ('typewriter': conda)",
   "language": "python",
   "name": "python388jvsc74a57bd003343bff8ea9174e4e18dc33629d8cc7123b4a33b966bf5614ca716c9ad2f2e1"
  },
  "language_info": {
   "codemirror_mode": {
    "name": "ipython",
    "version": 3
   },
   "file_extension": ".py",
   "mimetype": "text/x-python",
   "name": "python",
   "nbconvert_exporter": "python",
   "pygments_lexer": "ipython3",
   "version": "3.8.8"
  }
 },
 "nbformat": 4,
 "nbformat_minor": 5
}
