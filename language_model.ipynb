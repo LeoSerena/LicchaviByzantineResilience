{
 "cells": [
  {
   "cell_type": "markdown",
   "id": "minus-radiation",
   "metadata": {},
   "source": [
    "## Imports"
   ]
  },
  {
   "cell_type": "code",
   "execution_count": 3,
   "id": "falling-cuisine",
   "metadata": {},
   "outputs": [],
   "source": [
    "import os\n",
    "import re\n",
    "import sys\n",
    "import typing\n",
    "import gc\n",
    "import pandas as pd\n",
    "import pickle\n",
    "import logging\n",
    "\n",
    "sys.path.append(\n",
    "    os.path.join('.','src')\n",
    ")\n",
    "\n",
    "from src.models import Pipeline"
   ]
  },
  {
   "cell_type": "code",
   "execution_count": 4,
   "id": "vanilla-characterization",
   "metadata": {},
   "outputs": [],
   "source": [
    "logging.basicConfig(filename='logs/logs.log', level=logging.DEBUG)"
   ]
  },
  {
   "cell_type": "markdown",
   "id": "noted-wellington",
   "metadata": {},
   "source": [
    "# Tweets Model"
   ]
  },
  {
   "cell_type": "code",
   "execution_count": 3,
   "id": "pharmaceutical-width",
   "metadata": {
    "scrolled": false
   },
   "outputs": [
    {
     "name": "stderr",
     "output_type": "stream",
     "text": [
      "100%|██████████| 10022598/10022598 [16:46<00:00, 9954.86it/s] \n",
      "100%|██████████| 3337121/3337121 [05:32<00:00, 10031.94it/s]\n",
      "100%|██████████| 3366495/3366495 [05:37<00:00, 9981.82it/s] \n"
     ]
    }
   ],
   "source": [
    "pipeline = Pipeline('CONFIG_MODEL_TWEETS.json', load_model_data = True)"
   ]
  },
  {
   "cell_type": "code",
   "execution_count": 4,
   "id": "offensive-cache",
   "metadata": {},
   "outputs": [],
   "source": [
    "d = {\n",
    "    'train_set_len' : len(pipeline.train_dataset),\n",
    "    'train_set_tokens' : pipeline.train_dataset.token_len(),\n",
    "    'val_set_len' : len(pipeline.val_dataset),\n",
    "    'val_set_tokens' : pipeline.val_dataset.token_len(),\n",
    "    'test_set_len' : len(pipeline.test_dataset),\n",
    "    'test_set_tokens' : pipeline.test_dataset.token_len(),\n",
    "}"
   ]
  },
  {
   "cell_type": "code",
   "execution_count": 5,
   "id": "rapid-popularity",
   "metadata": {},
   "outputs": [
    {
     "name": "stderr",
     "output_type": "stream",
     "text": [
      "  9%|▉         | 96868/1035304 [05:28<53:00, 295.07it/s]  \n"
     ]
    },
    {
     "ename": "KeyboardInterrupt",
     "evalue": "",
     "output_type": "error",
     "traceback": [
      "\u001b[0;31m---------------------------------------------------------------------------\u001b[0m",
      "\u001b[0;31mKeyboardInterrupt\u001b[0m                         Traceback (most recent call last)",
      "\u001b[0;32m<ipython-input-5-64373f14eb59>\u001b[0m in \u001b[0;36m<module>\u001b[0;34m\u001b[0m\n\u001b[0;32m----> 1\u001b[0;31m \u001b[0mpipeline\u001b[0m\u001b[0;34m.\u001b[0m\u001b[0mperplexity\u001b[0m\u001b[0;34m(\u001b[0m\u001b[0;34m)\u001b[0m\u001b[0;34m\u001b[0m\u001b[0;34m\u001b[0m\u001b[0m\n\u001b[0m",
      "\u001b[0;32m~/Documents/MSThesis/src/models.py\u001b[0m in \u001b[0;36mperplexity\u001b[0;34m(self, dataset)\u001b[0m\n\u001b[1;32m    895\u001b[0m             \u001b[0mdrop_last\u001b[0m \u001b[0;34m=\u001b[0m \u001b[0;32mTrue\u001b[0m\u001b[0;34m\u001b[0m\u001b[0;34m\u001b[0m\u001b[0m\n\u001b[1;32m    896\u001b[0m         )\n\u001b[0;32m--> 897\u001b[0;31m         \u001b[0;32mreturn\u001b[0m \u001b[0mself\u001b[0m\u001b[0;34m.\u001b[0m\u001b[0mmodel\u001b[0m\u001b[0;34m.\u001b[0m\u001b[0mperplexity\u001b[0m\u001b[0;34m(\u001b[0m\u001b[0mdataloader\u001b[0m\u001b[0;34m)\u001b[0m\u001b[0;34m\u001b[0m\u001b[0;34m\u001b[0m\u001b[0m\n\u001b[0m\u001b[1;32m    898\u001b[0m \u001b[0;34m\u001b[0m\u001b[0m\n\u001b[1;32m    899\u001b[0m     \u001b[0;32mdef\u001b[0m \u001b[0mgenerate\u001b[0m\u001b[0;34m(\u001b[0m\u001b[0mself\u001b[0m\u001b[0;34m,\u001b[0m \u001b[0mstart_text\u001b[0m \u001b[0;34m:\u001b[0m \u001b[0mstr\u001b[0m\u001b[0;34m,\u001b[0m \u001b[0mvocabulary\u001b[0m \u001b[0;34m:\u001b[0m \u001b[0mVocabulary\u001b[0m \u001b[0;34m=\u001b[0m \u001b[0;32mNone\u001b[0m\u001b[0;34m,\u001b[0m \u001b[0mnum_words\u001b[0m \u001b[0;34m=\u001b[0m \u001b[0;36m100\u001b[0m\u001b[0;34m)\u001b[0m\u001b[0;34m:\u001b[0m\u001b[0;34m\u001b[0m\u001b[0;34m\u001b[0m\u001b[0m\n",
      "\u001b[0;32m~/Documents/MSThesis/src/models.py\u001b[0m in \u001b[0;36mperplexity\u001b[0;34m(self, dataloader, with_tqdm)\u001b[0m\n\u001b[1;32m    278\u001b[0m             \u001b[0mprobabilities\u001b[0m \u001b[0;34m=\u001b[0m \u001b[0;34m[\u001b[0m\u001b[0;34m]\u001b[0m\u001b[0;34m\u001b[0m\u001b[0;34m\u001b[0m\u001b[0m\n\u001b[1;32m    279\u001b[0m             \u001b[0;32mfor\u001b[0m \u001b[0mbatch\u001b[0m \u001b[0;32min\u001b[0m \u001b[0mtqdm\u001b[0m\u001b[0;34m(\u001b[0m\u001b[0mdataloader\u001b[0m\u001b[0;34m)\u001b[0m \u001b[0;32mif\u001b[0m \u001b[0mwith_tqdm\u001b[0m \u001b[0;32melse\u001b[0m \u001b[0mdataloader\u001b[0m\u001b[0;34m:\u001b[0m\u001b[0;34m\u001b[0m\u001b[0;34m\u001b[0m\u001b[0m\n\u001b[0;32m--> 280\u001b[0;31m                 \u001b[0mhidden\u001b[0m \u001b[0;34m=\u001b[0m \u001b[0mself\u001b[0m\u001b[0;34m.\u001b[0m\u001b[0minit_hidden\u001b[0m\u001b[0;34m(\u001b[0m\u001b[0mdataloader\u001b[0m\u001b[0;34m.\u001b[0m\u001b[0mbatch_size\u001b[0m\u001b[0;34m)\u001b[0m\u001b[0;34m\u001b[0m\u001b[0;34m\u001b[0m\u001b[0m\n\u001b[0m\u001b[1;32m    281\u001b[0m                 \u001b[0moutputs\u001b[0m\u001b[0;34m,\u001b[0m \u001b[0m_\u001b[0m \u001b[0;34m=\u001b[0m \u001b[0mself\u001b[0m\u001b[0;34m.\u001b[0m\u001b[0mforward\u001b[0m\u001b[0;34m(\u001b[0m\u001b[0mbatch\u001b[0m\u001b[0;34m[\u001b[0m\u001b[0;34m:\u001b[0m\u001b[0;34m,\u001b[0m\u001b[0;34m:\u001b[0m\u001b[0;34m-\u001b[0m\u001b[0;36m1\u001b[0m\u001b[0;34m]\u001b[0m\u001b[0;34m,\u001b[0m \u001b[0mhidden\u001b[0m\u001b[0;34m)\u001b[0m\u001b[0;34m\u001b[0m\u001b[0;34m\u001b[0m\u001b[0m\n\u001b[1;32m    282\u001b[0m                 \u001b[0moutputs\u001b[0m \u001b[0;34m=\u001b[0m \u001b[0mtorch\u001b[0m\u001b[0;34m.\u001b[0m\u001b[0mtranspose\u001b[0m\u001b[0;34m(\u001b[0m\u001b[0moutputs\u001b[0m\u001b[0;34m,\u001b[0m \u001b[0;36m1\u001b[0m\u001b[0;34m,\u001b[0m\u001b[0;36m2\u001b[0m\u001b[0;34m)\u001b[0m\u001b[0;34m\u001b[0m\u001b[0;34m\u001b[0m\u001b[0m\n",
      "\u001b[0;32m~/Documents/MSThesis/src/models.py\u001b[0m in \u001b[0;36minit_hidden\u001b[0;34m(self, batch_size)\u001b[0m\n\u001b[1;32m    258\u001b[0m             )\n\u001b[1;32m    259\u001b[0m         \u001b[0;32melse\u001b[0m\u001b[0;34m:\u001b[0m\u001b[0;34m\u001b[0m\u001b[0;34m\u001b[0m\u001b[0m\n\u001b[0;32m--> 260\u001b[0;31m             return torch.zeros(\n\u001b[0m\u001b[1;32m    261\u001b[0m                 \u001b[0mself\u001b[0m\u001b[0;34m.\u001b[0m\u001b[0mnum_rnn_hidden_layers\u001b[0m\u001b[0;34m,\u001b[0m \u001b[0mbatch_size\u001b[0m\u001b[0;34m,\u001b[0m \u001b[0mself\u001b[0m\u001b[0;34m.\u001b[0m\u001b[0mhidden_state_size\u001b[0m\u001b[0;34m\u001b[0m\u001b[0;34m\u001b[0m\u001b[0m\n\u001b[1;32m    262\u001b[0m             ).to(self.device).detach()\n",
      "\u001b[0;31mKeyboardInterrupt\u001b[0m: "
     ]
    }
   ],
   "source": [
    "pipeline.perplexity()"
   ]
  },
  {
   "cell_type": "code",
   "execution_count": 6,
   "id": "appropriate-holder",
   "metadata": {
    "scrolled": true
   },
   "outputs": [
    {
     "name": "stderr",
     "output_type": "stream",
     "text": [
      "100%|██████████| 1541342/1541342 [50:34<00:00, 507.91it/s]\n",
      "100%|██████████| 512927/512927 [16:57<00:00, 504.28it/s]\n",
      "  0%|          | 0/1541342 [00:00<?, ?it/s]"
     ]
    },
    {
     "name": "stdout",
     "output_type": "stream",
     "text": [
      "Train loss at epoch 0 : 10.812868297920117\n",
      "Eval loss at epoch 0 : 10.81283332563471\n",
      "updating best metric\n"
     ]
    },
    {
     "name": "stderr",
     "output_type": "stream",
     "text": [
      "100%|██████████| 1541342/1541342 [3:01:54<00:00, 141.22it/s]  \n",
      "100%|██████████| 512927/512927 [17:14<00:00, 495.73it/s]\n"
     ]
    },
    {
     "name": "stdout",
     "output_type": "stream",
     "text": [
      "Train loss at epoch 1 : 4.921052994411234\n",
      "Eval loss at epoch 1 : 7.638029842873025\n",
      "updating best metric\n"
     ]
    },
    {
     "data": {
      "image/png": "[encoded data removed]",
      "text/plain": [
       "<Figure size 432x288 with 1 Axes>"
      ]
     },
     "metadata": {
      "needs_background": "light"
     },
     "output_type": "display_data"
    }
   ],
   "source": [
    "pipeline.train_model()"
   ]
  },
  {
   "cell_type": "code",
   "execution_count": 7,
   "id": "distant-intake",
   "metadata": {},
   "outputs": [
    {
     "name": "stderr",
     "output_type": "stream",
     "text": [
      "100%|██████████| 1035304/1035304 [59:11<00:00, 291.54it/s] \n"
     ]
    },
    {
     "data": {
      "text/plain": [
       "(76.50194053094972, 4.354531535130592)"
      ]
     },
     "execution_count": 7,
     "metadata": {},
     "output_type": "execute_result"
    }
   ],
   "source": [
    "pipeline.perplexity()"
   ]
  },
  {
   "cell_type": "code",
   "execution_count": 3,
   "id": "tracked-venice",
   "metadata": {},
   "outputs": [],
   "source": [
    "pipeline = Pipeline('CONFIG_MODEL_TWEETS.json', load_model_data = False)"
   ]
  },
  {
   "cell_type": "code",
   "execution_count": 8,
   "id": "grateful-robin",
   "metadata": {},
   "outputs": [],
   "source": [
    "pipeline.load_model('models/tweets/tweets.pth')"
   ]
  },
  {
   "cell_type": "code",
   "execution_count": 10,
   "id": "overhead-rover",
   "metadata": {},
   "outputs": [
    {
     "data": {
      "text/plain": [
       "'all of the moderators used is on blame hopes but not trying to get off tomorrow trump is so the really ignores that any accuser is also a serial behaviour and a year old lot is an extension and bad as he be a sport when he says again that makes a whole witness accounts sooner only conversation if you let it we know it would stop isis via get a change its not once true its all left says he would gain cause to vote trump clinton for clowns with two black everyone machines answers trump prob he has his'"
      ]
     },
     "execution_count": 10,
     "metadata": {},
     "output_type": "execute_result"
    }
   ],
   "source": [
    "pipeline.generate(start_text = 'all')"
   ]
  },
  {
   "cell_type": "code",
   "execution_count": 11,
   "id": "solid-fiction",
   "metadata": {},
   "outputs": [
    {
     "data": {
      "text/plain": [
       "'what candidates does mike pence kaine sniffling from donald trump isn like he was really fired from the people on the trump campaign trail the women let donald trump say whatever them forget that the other are already more likely are we arent authentic and released the best option the blacks and so let that sink in live take by the highest kind of where that isn not criticize hillary are the most unqualified candidate trump ever qualified to hit a new guccifer election given people including political office via bipartisan report in pause among them they say you are like'"
      ]
     },
     "execution_count": 11,
     "metadata": {},
     "output_type": "execute_result"
    }
   ],
   "source": [
    "pipeline.generate(start_text = 'what')"
   ]
  },
  {
   "cell_type": "code",
   "execution_count": 12,
   "id": "referenced-beverage",
   "metadata": {},
   "outputs": [
    {
     "data": {
      "text/plain": [
       "'i like a black americans have girls left against donald trump i make a p he sh every woman you can have to be a woman i will be a wife because it wasnt how his men were measured by the other class by being small amp shouldnt spinning free tax after donald trump im not until any of our democracy so they can with and instead anymore i dont know whats so theyre decisi on monday via youtube donald j trump he may have been married to judge but by him as an angry white man i said he is only'"
      ]
     },
     "execution_count": 12,
     "metadata": {},
     "output_type": "execute_result"
    }
   ],
   "source": [
    "pipeline.generate(start_text = 'i like')"
   ]
  },
  {
   "cell_type": "markdown",
   "id": "standing-mapping",
   "metadata": {},
   "source": [
    "# Wiki Model"
   ]
  },
  {
   "cell_type": "code",
   "execution_count": 6,
   "id": "listed-summary",
   "metadata": {},
   "outputs": [
    {
     "name": "stderr",
     "output_type": "stream",
     "text": [
      "100%|██████████| 28139/28139 [07:18<00:00, 64.10it/s]\n",
      "100%|██████████| 60/60 [00:00<00:00, 60.77it/s]\n",
      "100%|██████████| 61/61 [00:01<00:00, 57.66it/s]\n"
     ]
    }
   ],
   "source": [
    "pipeline = Pipeline('CONFIG_MODEL_WIKI.json', load_model_data = True)"
   ]
  },
  {
   "cell_type": "code",
   "execution_count": 7,
   "id": "integral-chest",
   "metadata": {},
   "outputs": [
    {
     "name": "stderr",
     "output_type": "stream",
     "text": [
      "100%|██████████| 79419/79419 [06:49<00:00, 194.10it/s]\n",
      "100%|██████████| 174/174 [00:00<00:00, 194.59it/s]\n",
      "  0%|          | 0/79419 [00:00<?, ?it/s]"
     ]
    },
    {
     "name": "stdout",
     "output_type": "stream",
     "text": [
      "Train loss at epoch 0 : 10.81245187593375\n",
      "Eval loss at epoch 0 : 10.812277486954612\n",
      "updating best metric\n"
     ]
    },
    {
     "name": "stderr",
     "output_type": "stream",
     "text": [
      "100%|██████████| 79419/79419 [18:20<00:00, 72.14it/s]\n",
      "100%|██████████| 174/174 [00:00<00:00, 200.67it/s]\n"
     ]
    },
    {
     "name": "stdout",
     "output_type": "stream",
     "text": [
      "Train loss at epoch 1 : 5.108607498030803\n",
      "Eval loss at epoch 1 : 8.684686896444736\n",
      "updating best metric\n"
     ]
    },
    {
     "data": {
      "image/png": "[encoded data removed]",
      "text/plain": [
       "<Figure size 432x288 with 1 Axes>"
      ]
     },
     "metadata": {
      "needs_background": "light"
     },
     "output_type": "display_data"
    }
   ],
   "source": [
    "pipeline.train_model()"
   ]
  },
  {
   "cell_type": "code",
   "execution_count": 8,
   "id": "anticipated-vintage",
   "metadata": {},
   "outputs": [
    {
     "name": "stderr",
     "output_type": "stream",
     "text": [
      "100%|██████████| 1552/1552 [00:07<00:00, 217.94it/s]\n"
     ]
    },
    {
     "data": {
      "text/plain": [
       "(107.89885933974432, 4.684859333886314)"
      ]
     },
     "execution_count": 8,
     "metadata": {},
     "output_type": "execute_result"
    }
   ],
   "source": [
    "pipeline.perplexity()"
   ]
  },
  {
   "cell_type": "code",
   "execution_count": 13,
   "id": "incoming-eligibility",
   "metadata": {},
   "outputs": [
    {
     "data": {
      "text/plain": [
       "'all survive and as a member of the following a series of events.In addition to The Seven Every football team has four owned Winchester buildings as part of national features such as the Red Sox on the games. The financing team teams to the rest of the game ended past.First game was first aired in the Kingdom of the United States on May. A sequel to The Next Generation in November as the lead of the first season was made by before the release of the first date at the National Palace. DVD combat manufacturer released'"
      ]
     },
     "execution_count": 13,
     "metadata": {},
     "output_type": "execute_result"
    }
   ],
   "source": [
    "pipeline.generate(start_text = 'all')"
   ]
  },
  {
   "cell_type": "code",
   "execution_count": 14,
   "id": "supreme-cancer",
   "metadata": {},
   "outputs": [
    {
     "data": {
      "text/plain": [
       "'what is `` deeply pretty good and losing skill... `` all these were used at the time of the game team. These efforts were done in London creating a only new contact with the rest of the team of a team. followers he did not attend the ceremony in which they scheduled outside of service and a woman s team were able to obtain new rules. The team initially again responded by keeping the rules for the court benefit so to the other other members would be taken to this sheet room. Local member of the'"
      ]
     },
     "execution_count": 14,
     "metadata": {},
     "output_type": "execute_result"
    }
   ],
   "source": [
    "pipeline.generate(start_text = 'what')"
   ]
  },
  {
   "cell_type": "code",
   "execution_count": 15,
   "id": "split-chase",
   "metadata": {},
   "outputs": [
    {
     "data": {
      "text/plain": [
       "'i like Santa Jam for at a lesbian band. According to another appeared in the performance that `` the show is the first step the first performance of the music sequences has suggested that the father of need to give her an automobile trademark of an American woman getting the hand of a God of Our Life ``. A press journalist Charles Ellis said that she was facing `` very good `` because of the injury because of hitting the group only for women s partners in the private debates and as Soul Director Jack R. subsequent `` The Great'"
      ]
     },
     "execution_count": 15,
     "metadata": {},
     "output_type": "execute_result"
    }
   ],
   "source": [
    "pipeline.generate(start_text = 'i like')"
   ]
  },
  {
   "cell_type": "code",
   "execution_count": 12,
   "id": "stable-hydrogen",
   "metadata": {},
   "outputs": [],
   "source": [
    "d = {\n",
    "    'train_set_len' : len(pipeline.train_dataset),\n",
    "    'train_set_tokens' : pipeline.train_dataset.token_len(),\n",
    "    'val_set_len' : len(pipeline.val_dataset),\n",
    "    'val_set_tokens' : pipeline.val_dataset.token_len(),\n",
    "    'test_set_len' : len(pipeline.test_dataset),\n",
    "    'test_set_tokens' : pipeline.test_dataset.token_len(),\n",
    "}"
   ]
  },
  {
   "cell_type": "markdown",
   "id": "continued-congress",
   "metadata": {},
   "source": [
    "## FedSGD"
   ]
  },
  {
   "cell_type": "code",
   "execution_count": 1,
   "id": "approximate-drunk",
   "metadata": {},
   "outputs": [],
   "source": [
    "from src.federated_pipeline import Federated_SGD"
   ]
  },
  {
   "cell_type": "code",
   "execution_count": 2,
   "id": "simplified-civilization",
   "metadata": {
    "scrolled": false
   },
   "outputs": [
    {
     "name": "stderr",
     "output_type": "stream",
     "text": [
      "100%|██████████| 5000/5000 [00:00<00:00, 8120.23it/s]\n",
      "100%|██████████| 5000/5000 [00:00<00:00, 10610.08it/s]\n",
      "  0%|          | 0/100 [00:00<?, ?it/s]"
     ]
    },
    {
     "name": "stdout",
     "output_type": "stream",
     "text": [
      "Selected optimization level O1:  Insert automatic casts around Pytorch functions and Tensor methods.\n",
      "\n",
      "Defaults for this optimization level are:\n",
      "enabled                : True\n",
      "opt_level              : O1\n",
      "cast_model_type        : None\n",
      "patch_torch_functions  : True\n",
      "keep_batchnorm_fp32    : None\n",
      "master_weights         : None\n",
      "loss_scale             : dynamic\n",
      "Processing user overrides (additional kwargs that are not None)...\n",
      "After processing overrides, optimization options are:\n",
      "enabled                : True\n",
      "opt_level              : O1\n",
      "cast_model_type        : None\n",
      "patch_torch_functions  : True\n",
      "keep_batchnorm_fp32    : None\n",
      "master_weights         : None\n",
      "loss_scale             : dynamic\n",
      "Warning:  multi_tensor_applier fused unscale kernel is unavailable, possibly because apex was installed without --cuda_ext --cpp_ext. Using Python fallback.  Original ImportError was: ModuleNotFoundError(\"No module named 'amp_C'\")\n"
     ]
    },
    {
     "name": "stderr",
     "output_type": "stream",
     "text": [
      "100%|██████████| 100/100 [01:24<00:00,  1.18it/s]\n"
     ]
    }
   ],
   "source": [
    "federated = Federated_SGD(\n",
    "    \"CONFIG_MODEL_TWEETS.json\",\n",
    "    \"CONFIG_FEDERATED_TWEETS.json\",\n",
    "    testing = True\n",
    ")"
   ]
  },
  {
   "cell_type": "code",
   "execution_count": 3,
   "id": "passing-sapphire",
   "metadata": {},
   "outputs": [
    {
     "name": "stderr",
     "output_type": "stream",
     "text": [
      "  0%|          | 0/100 [00:00<?, ?it/s]\n",
      "  0%|          | 0/1328 [00:00<?, ?it/s]\u001b[A\n",
      "  1%|          | 12/1328 [00:00<00:11, 114.64it/s]\u001b[A\n",
      "  2%|▏         | 32/1328 [00:00<00:08, 160.76it/s]\u001b[A\n",
      "  4%|▍         | 53/1328 [00:00<00:07, 179.60it/s]\u001b[A\n",
      "  6%|▌         | 74/1328 [00:00<00:06, 191.08it/s]\u001b[A\n",
      "  7%|▋         | 96/1328 [00:00<00:06, 198.41it/s]\u001b[A\n",
      "  9%|▉         | 118/1328 [00:00<00:05, 203.13it/s]\u001b[A\n",
      " 11%|█         | 140/1328 [00:00<00:05, 206.44it/s]\u001b[A\n",
      " 12%|█▏        | 162/1328 [00:00<00:05, 208.96it/s]\u001b[A\n",
      " 14%|█▍        | 184/1328 [00:00<00:05, 210.46it/s]\u001b[A\n",
      " 16%|█▌        | 206/1328 [00:01<00:05, 211.25it/s]\u001b[A\n",
      " 17%|█▋        | 228/1328 [00:01<00:05, 211.52it/s]\u001b[A\n",
      " 19%|█▉        | 250/1328 [00:01<00:05, 211.21it/s]\u001b[A\n",
      " 20%|██        | 272/1328 [00:01<00:04, 212.02it/s]\u001b[A\n",
      " 22%|██▏       | 294/1328 [00:01<00:04, 212.38it/s]\u001b[A\n",
      " 24%|██▍       | 316/1328 [00:01<00:04, 212.82it/s]\u001b[A\n",
      " 25%|██▌       | 338/1328 [00:01<00:04, 212.61it/s]\u001b[A\n",
      " 27%|██▋       | 360/1328 [00:01<00:04, 212.79it/s]\u001b[A\n",
      " 29%|██▉       | 382/1328 [00:01<00:04, 212.98it/s]\u001b[A\n",
      " 30%|███       | 404/1328 [00:01<00:04, 213.41it/s]\u001b[A\n",
      " 32%|███▏      | 426/1328 [00:02<00:04, 213.23it/s]\u001b[A\n",
      " 34%|███▎      | 448/1328 [00:02<00:04, 212.68it/s]\u001b[A\n",
      " 35%|███▌      | 470/1328 [00:02<00:04, 212.60it/s]\u001b[A\n",
      " 37%|███▋      | 492/1328 [00:02<00:03, 213.10it/s]\u001b[A\n",
      " 39%|███▊      | 514/1328 [00:02<00:03, 213.29it/s]\u001b[A\n",
      " 40%|████      | 536/1328 [00:02<00:03, 213.27it/s]\u001b[A\n",
      " 42%|████▏     | 558/1328 [00:02<00:03, 213.62it/s]\u001b[A\n",
      " 44%|████▎     | 580/1328 [00:02<00:03, 213.31it/s]\u001b[A\n",
      " 45%|████▌     | 602/1328 [00:02<00:03, 213.37it/s]\u001b[A\n",
      " 47%|████▋     | 624/1328 [00:02<00:03, 213.31it/s]\u001b[A\n",
      " 49%|████▊     | 646/1328 [00:03<00:03, 213.50it/s]\u001b[A\n",
      " 50%|█████     | 668/1328 [00:03<00:03, 213.55it/s]\u001b[A\n",
      " 52%|█████▏    | 690/1328 [00:03<00:02, 213.54it/s]\u001b[A\n",
      " 54%|█████▎    | 712/1328 [00:03<00:02, 212.68it/s]\u001b[A\n",
      " 55%|█████▌    | 734/1328 [00:03<00:02, 212.60it/s]\u001b[A\n",
      " 57%|█████▋    | 756/1328 [00:03<00:02, 212.48it/s]\u001b[A\n",
      " 59%|█████▊    | 778/1328 [00:03<00:02, 212.32it/s]\u001b[A\n",
      " 60%|██████    | 800/1328 [00:03<00:02, 212.15it/s]\u001b[A\n",
      " 62%|██████▏   | 822/1328 [00:03<00:02, 211.72it/s]\u001b[A\n",
      " 64%|██████▎   | 844/1328 [00:04<00:02, 211.07it/s]\u001b[A\n",
      " 65%|██████▌   | 866/1328 [00:04<00:02, 211.22it/s]\u001b[A\n",
      " 67%|██████▋   | 888/1328 [00:04<00:02, 211.15it/s]\u001b[A\n",
      " 69%|██████▊   | 910/1328 [00:04<00:01, 211.10it/s]\u001b[A\n",
      " 70%|███████   | 932/1328 [00:04<00:01, 210.97it/s]\u001b[A\n",
      " 72%|███████▏  | 954/1328 [00:04<00:01, 210.70it/s]\u001b[A\n",
      " 73%|███████▎  | 976/1328 [00:04<00:01, 210.32it/s]\u001b[A\n",
      " 75%|███████▌  | 998/1328 [00:04<00:01, 210.38it/s]\u001b[A\n",
      " 77%|███████▋  | 1020/1328 [00:04<00:01, 209.95it/s]\u001b[A\n",
      " 78%|███████▊  | 1041/1328 [00:04<00:01, 209.85it/s]\u001b[A\n",
      " 80%|████████  | 1063/1328 [00:05<00:01, 210.16it/s]\u001b[A\n",
      " 82%|████████▏ | 1085/1328 [00:05<00:01, 210.20it/s]\u001b[A\n",
      " 83%|████████▎ | 1107/1328 [00:05<00:01, 210.25it/s]\u001b[A\n",
      " 85%|████████▌ | 1129/1328 [00:05<00:00, 210.22it/s]\u001b[A\n",
      " 87%|████████▋ | 1151/1328 [00:05<00:00, 209.98it/s]\u001b[A\n",
      " 88%|████████▊ | 1172/1328 [00:05<00:00, 209.37it/s]\u001b[A\n",
      " 90%|████████▉ | 1193/1328 [00:05<00:00, 209.39it/s]\u001b[A\n",
      " 91%|█████████▏| 1215/1328 [00:05<00:00, 209.84it/s]\u001b[A\n",
      " 93%|█████████▎| 1237/1328 [00:05<00:00, 210.10it/s]\u001b[A\n",
      " 95%|█████████▍| 1259/1328 [00:06<00:00, 209.78it/s]\u001b[A\n",
      " 96%|█████████▋| 1281/1328 [00:06<00:00, 210.15it/s]\u001b[A\n",
      " 98%|█████████▊| 1303/1328 [00:06<00:00, 210.39it/s]\u001b[A\n",
      "100%|██████████| 1328/1328 [00:06<00:00, 209.59it/s]\u001b[A\n",
      "  1%|          | 1/100 [00:06<10:27,  6.34s/it]\n",
      "  0%|          | 0/584 [00:00<?, ?it/s]\u001b[A\n",
      "  4%|▍         | 22/584 [00:00<00:02, 211.35it/s]\u001b[A\n",
      "  8%|▊         | 44/584 [00:00<00:02, 212.55it/s]\u001b[A\n",
      " 11%|█▏        | 66/584 [00:00<00:02, 213.46it/s]\u001b[A\n",
      " 15%|█▌        | 88/584 [00:00<00:02, 212.24it/s]\u001b[A\n",
      " 19%|█▉        | 110/584 [00:00<00:02, 212.73it/s]\u001b[A\n",
      " 23%|██▎       | 132/584 [00:00<00:02, 212.71it/s]\u001b[A\n",
      " 26%|██▋       | 154/584 [00:00<00:02, 212.78it/s]\u001b[A\n",
      " 30%|███       | 176/584 [00:00<00:01, 213.39it/s]\u001b[A\n",
      " 34%|███▍      | 198/584 [00:00<00:01, 213.57it/s]\u001b[A\n",
      " 38%|███▊      | 220/584 [00:01<00:01, 212.98it/s]\u001b[A\n",
      " 41%|████▏     | 242/584 [00:01<00:01, 213.36it/s]\u001b[A\n",
      " 45%|████▌     | 264/584 [00:01<00:01, 213.40it/s]\u001b[A\n",
      " 49%|████▉     | 286/584 [00:01<00:01, 213.13it/s]\u001b[A\n",
      " 53%|█████▎    | 308/584 [00:01<00:01, 212.55it/s]\u001b[A\n",
      " 57%|█████▋    | 330/584 [00:01<00:01, 212.54it/s]\u001b[A\n",
      " 60%|██████    | 352/584 [00:01<00:01, 212.55it/s]\u001b[A\n",
      " 64%|██████▍   | 374/584 [00:01<00:00, 212.95it/s]\u001b[A\n",
      " 68%|██████▊   | 396/584 [00:01<00:00, 212.95it/s]\u001b[A\n",
      " 72%|███████▏  | 418/584 [00:01<00:00, 212.57it/s]\u001b[A\n",
      " 75%|███████▌  | 440/584 [00:02<00:00, 212.61it/s]\u001b[A\n",
      " 79%|███████▉  | 462/584 [00:02<00:00, 212.65it/s]\u001b[A\n",
      " 83%|████████▎ | 484/584 [00:02<00:00, 212.99it/s]\u001b[A\n",
      " 87%|████████▋ | 506/584 [00:02<00:00, 213.10it/s]\u001b[A\n",
      " 90%|█████████ | 528/584 [00:02<00:00, 212.74it/s]\u001b[A\n",
      " 94%|█████████▍| 550/584 [00:02<00:00, 212.73it/s]\u001b[A\n",
      "100%|██████████| 584/584 [00:02<00:00, 212.70it/s]\u001b[A\n",
      "  2%|▏         | 2/100 [00:09<06:54,  4.23s/it]\n",
      "  0%|          | 0/364 [00:00<?, ?it/s]\u001b[A\n",
      "  6%|▌         | 22/364 [00:00<00:01, 215.58it/s]\u001b[A\n",
      " 12%|█▏        | 44/364 [00:00<00:01, 213.63it/s]\u001b[A\n",
      " 18%|█▊        | 66/364 [00:00<00:01, 213.95it/s]\u001b[A\n",
      " 24%|██▍       | 88/364 [00:00<00:01, 212.44it/s]\u001b[A\n",
      " 30%|███       | 110/364 [00:00<00:01, 212.15it/s]\u001b[A\n",
      " 36%|███▋      | 132/364 [00:00<00:01, 212.55it/s]\u001b[A\n",
      " 42%|████▏     | 154/364 [00:00<00:00, 213.01it/s]\u001b[A\n",
      " 48%|████▊     | 176/364 [00:00<00:00, 212.65it/s]\u001b[A\n",
      " 54%|█████▍    | 198/364 [00:00<00:00, 211.97it/s]\u001b[A\n",
      " 60%|██████    | 220/364 [00:01<00:00, 212.04it/s]\u001b[A\n",
      " 66%|██████▋   | 242/364 [00:01<00:00, 212.34it/s]\u001b[A\n",
      " 73%|███████▎  | 264/364 [00:01<00:00, 212.57it/s]\u001b[A\n",
      " 79%|███████▊  | 286/364 [00:01<00:00, 213.00it/s]\u001b[A\n",
      " 85%|████████▍ | 308/364 [00:01<00:00, 211.66it/s]\u001b[A\n",
      " 91%|█████████ | 330/364 [00:01<00:00, 211.58it/s]\u001b[A\n",
      "100%|██████████| 364/364 [00:01<00:00, 212.05it/s]\u001b[A\n",
      "  3%|▎         | 3/100 [00:10<04:59,  3.08s/it]\n",
      "  0%|          | 0/539 [00:00<?, ?it/s]\u001b[A\n",
      "  4%|▍         | 22/539 [00:00<00:02, 214.50it/s]\u001b[A\n",
      "  8%|▊         | 44/539 [00:00<00:02, 212.84it/s]\u001b[A\n",
      " 12%|█▏        | 66/539 [00:00<00:02, 211.20it/s]\u001b[A\n",
      " 16%|█▋        | 88/539 [00:00<00:02, 210.76it/s]\u001b[A\n",
      " 20%|██        | 110/539 [00:00<00:02, 210.90it/s]\u001b[A\n",
      " 24%|██▍       | 132/539 [00:00<00:01, 211.20it/s]\u001b[A\n",
      " 29%|██▊       | 154/539 [00:00<00:01, 210.51it/s]\u001b[A\n",
      " 33%|███▎      | 176/539 [00:00<00:01, 211.15it/s]\u001b[A\n",
      " 37%|███▋      | 198/539 [00:00<00:01, 211.40it/s]\u001b[A\n",
      " 41%|████      | 220/539 [00:01<00:01, 211.91it/s]\u001b[A\n",
      " 45%|████▍     | 242/539 [00:01<00:01, 211.52it/s]\u001b[A\n",
      " 49%|████▉     | 264/539 [00:01<00:01, 211.19it/s]\u001b[A\n",
      " 53%|█████▎    | 286/539 [00:01<00:01, 210.99it/s]\u001b[A\n",
      " 57%|█████▋    | 308/539 [00:01<00:01, 211.56it/s]\u001b[A\n",
      " 61%|██████    | 330/539 [00:01<00:00, 211.27it/s]\u001b[A\n",
      " 65%|██████▌   | 352/539 [00:01<00:00, 211.70it/s]\u001b[A\n",
      " 69%|██████▉   | 374/539 [00:01<00:00, 211.74it/s]\u001b[A\n",
      " 73%|███████▎  | 396/539 [00:01<00:00, 211.78it/s]\u001b[A\n",
      " 78%|███████▊  | 418/539 [00:01<00:00, 211.26it/s]\u001b[A\n",
      " 82%|████████▏ | 440/539 [00:02<00:00, 210.73it/s]\u001b[A\n",
      " 86%|████████▌ | 462/539 [00:02<00:00, 210.84it/s]\u001b[A\n",
      " 90%|████████▉ | 484/539 [00:02<00:00, 211.69it/s]\u001b[A\n",
      " 94%|█████████▍| 506/539 [00:02<00:00, 211.16it/s]\u001b[A\n",
      "100%|██████████| 539/539 [00:02<00:00, 211.15it/s]\u001b[A\n",
      "  4%|▍         | 4/100 [00:13<04:36,  2.88s/it]\n",
      "  0%|          | 0/464 [00:00<?, ?it/s]\u001b[A\n",
      "  5%|▍         | 22/464 [00:00<00:02, 211.66it/s]\u001b[A\n",
      "  9%|▉         | 44/464 [00:00<00:01, 212.47it/s]\u001b[A\n",
      " 14%|█▍        | 66/464 [00:00<00:01, 212.76it/s]\u001b[A\n",
      " 19%|█▉        | 88/464 [00:00<00:01, 213.07it/s]\u001b[A\n",
      " 24%|██▎       | 110/464 [00:00<00:01, 212.36it/s]\u001b[A\n",
      " 28%|██▊       | 132/464 [00:00<00:01, 211.34it/s]\u001b[A\n",
      " 33%|███▎      | 154/464 [00:00<00:01, 211.09it/s]\u001b[A\n",
      " 38%|███▊      | 176/464 [00:00<00:01, 211.24it/s]\u001b[A\n",
      " 43%|████▎     | 198/464 [00:00<00:01, 211.61it/s]\u001b[A\n",
      " 47%|████▋     | 220/464 [00:01<00:01, 210.88it/s]\u001b[A\n",
      " 52%|█████▏    | 242/464 [00:01<00:01, 210.42it/s]\u001b[A\n",
      " 57%|█████▋    | 264/464 [00:01<00:00, 211.02it/s]\u001b[A\n",
      " 62%|██████▏   | 286/464 [00:01<00:00, 211.45it/s]\u001b[A\n",
      " 66%|██████▋   | 308/464 [00:01<00:00, 211.73it/s]\u001b[A\n",
      " 71%|███████   | 330/464 [00:01<00:00, 212.03it/s]\u001b[A\n",
      " 76%|███████▌  | 352/464 [00:01<00:00, 211.91it/s]\u001b[A\n",
      " 81%|████████  | 374/464 [00:01<00:00, 212.16it/s]\u001b[A\n",
      " 85%|████████▌ | 396/464 [00:01<00:00, 212.54it/s]\u001b[A\n",
      " 90%|█████████ | 418/464 [00:01<00:00, 212.25it/s]\u001b[A\n",
      " 95%|█████████▍| 440/464 [00:02<00:00, 211.43it/s]\u001b[A\n",
      "100%|██████████| 464/464 [00:02<00:00, 211.46it/s]\u001b[A\n",
      "  5%|▌         | 5/100 [00:15<04:09,  2.63s/it]\n",
      "  0%|          | 0/345 [00:00<?, ?it/s]\u001b[A\n",
      "  6%|▋         | 22/345 [00:00<00:01, 216.36it/s]\u001b[A\n",
      " 13%|█▎        | 44/345 [00:00<00:01, 214.51it/s]\u001b[A\n",
      " 19%|█▉        | 66/345 [00:00<00:01, 213.23it/s]\u001b[A\n",
      " 26%|██▌       | 88/345 [00:00<00:01, 213.04it/s]\u001b[A\n",
      " 32%|███▏      | 110/345 [00:00<00:01, 212.85it/s]\u001b[A\n",
      " 38%|███▊      | 132/345 [00:00<00:00, 213.07it/s]\u001b[A\n",
      " 45%|████▍     | 154/345 [00:00<00:00, 213.25it/s]\u001b[A\n",
      " 51%|█████     | 176/345 [00:00<00:00, 212.99it/s]\u001b[A\n",
      " 57%|█████▋    | 198/345 [00:00<00:00, 212.73it/s]\u001b[A\n",
      " 64%|██████▍   | 220/345 [00:01<00:00, 212.93it/s]\u001b[A\n",
      " 70%|███████   | 242/345 [00:01<00:00, 212.58it/s]\u001b[A\n",
      " 77%|███████▋  | 264/345 [00:01<00:00, 212.83it/s]\u001b[A\n",
      " 83%|████████▎ | 286/345 [00:01<00:00, 212.39it/s]\u001b[A\n",
      " 89%|████████▉ | 308/345 [00:01<00:00, 212.52it/s]\u001b[A\n",
      "100%|██████████| 345/345 [00:01<00:00, 212.64it/s]\u001b[A\n",
      "  6%|▌         | 6/100 [00:17<03:35,  2.29s/it]\n",
      "  0%|          | 0/364 [00:00<?, ?it/s]\u001b[A\n",
      "  6%|▌         | 22/364 [00:00<00:01, 216.96it/s]\u001b[A\n",
      " 12%|█▏        | 44/364 [00:00<00:01, 214.41it/s]\u001b[A\n",
      " 18%|█▊        | 66/364 [00:00<00:01, 213.75it/s]\u001b[A\n",
      " 24%|██▍       | 88/364 [00:00<00:01, 213.78it/s]\u001b[A\n",
      " 30%|███       | 110/364 [00:00<00:01, 212.65it/s]\u001b[A\n",
      " 36%|███▋      | 132/364 [00:00<00:01, 212.56it/s]\u001b[A\n",
      " 42%|████▏     | 154/364 [00:00<00:00, 212.64it/s]\u001b[A\n",
      " 48%|████▊     | 176/364 [00:00<00:00, 212.33it/s]\u001b[A\n",
      " 54%|█████▍    | 198/364 [00:00<00:00, 212.77it/s]\u001b[A\n",
      " 60%|██████    | 220/364 [00:01<00:00, 210.47it/s]\u001b[A\n",
      " 66%|██████▋   | 242/364 [00:01<00:00, 212.20it/s]\u001b[A\n",
      " 73%|███████▎  | 264/364 [00:01<00:00, 208.92it/s]\u001b[A\n",
      " 79%|███████▊  | 286/364 [00:01<00:00, 209.46it/s]\u001b[A\n",
      " 85%|████████▍ | 308/364 [00:01<00:00, 210.38it/s]\u001b[A\n",
      " 91%|█████████ | 330/364 [00:01<00:00, 211.13it/s]\u001b[A\n",
      "100%|██████████| 364/364 [00:01<00:00, 210.14it/s]\u001b[A\n",
      "  7%|▋         | 7/100 [00:18<03:16,  2.11s/it]\n",
      "  0%|          | 0/315 [00:00<?, ?it/s]\u001b[A\n",
      "  6%|▋         | 20/315 [00:00<00:01, 198.26it/s]\u001b[A\n",
      " 13%|█▎        | 40/315 [00:00<00:01, 197.92it/s]\u001b[A\n",
      " 19%|█▉        | 61/315 [00:00<00:01, 200.80it/s]\u001b[A\n",
      " 26%|██▌       | 82/315 [00:00<00:01, 198.23it/s]\u001b[A\n",
      " 33%|███▎      | 103/315 [00:00<00:01, 198.93it/s]\u001b[A\n",
      " 39%|███▉      | 123/315 [00:00<00:00, 199.21it/s]\u001b[A\n",
      " 45%|████▌     | 143/315 [00:00<00:00, 198.99it/s]\u001b[A\n",
      " 52%|█████▏    | 164/315 [00:00<00:00, 201.06it/s]\u001b[A\n",
      " 59%|█████▊    | 185/315 [00:00<00:00, 201.87it/s]\u001b[A\n",
      " 65%|██████▌   | 206/315 [00:01<00:00, 202.09it/s]\u001b[A\n",
      " 72%|███████▏  | 227/315 [00:01<00:00, 201.66it/s]\u001b[A\n",
      " 79%|███████▊  | 248/315 [00:01<00:00, 202.23it/s]\u001b[A\n",
      " 85%|████████▌ | 269/315 [00:01<00:00, 197.68it/s]\u001b[A\n",
      " 92%|█████████▏| 289/315 [00:01<00:00, 197.11it/s]\u001b[A\n",
      "100%|██████████| 315/315 [00:01<00:00, 198.49it/s]\u001b[A\n",
      "  8%|▊         | 8/100 [00:20<02:58,  1.94s/it]\n",
      "  0%|          | 0/248 [00:00<?, ?it/s]\u001b[A\n",
      "  8%|▊         | 21/248 [00:00<00:01, 203.04it/s]\u001b[A\n",
      " 17%|█▋        | 42/248 [00:00<00:01, 205.23it/s]\u001b[A\n",
      " 26%|██▌       | 64/248 [00:00<00:00, 208.39it/s]\u001b[A\n",
      " 35%|███▍      | 86/248 [00:00<00:00, 210.34it/s]\u001b[A\n",
      " 44%|████▎     | 108/248 [00:00<00:00, 211.54it/s]\u001b[A\n",
      " 52%|█████▏    | 130/248 [00:00<00:00, 211.52it/s]\u001b[A\n",
      " 61%|██████▏   | 152/248 [00:00<00:00, 211.93it/s]\u001b[A\n",
      " 70%|███████   | 174/248 [00:00<00:00, 212.05it/s]\u001b[A\n",
      " 79%|███████▉  | 196/248 [00:00<00:00, 211.93it/s]\u001b[A\n",
      " 88%|████████▊ | 218/248 [00:01<00:00, 211.05it/s]\u001b[A\n",
      "100%|██████████| 248/248 [00:01<00:00, 210.33it/s]\u001b[A\n",
      "  9%|▉         | 9/100 [00:21<02:35,  1.71s/it]\n",
      "  0%|          | 0/269 [00:00<?, ?it/s]\u001b[A\n",
      "  8%|▊         | 22/269 [00:00<00:01, 215.75it/s]\u001b[A\n",
      " 16%|█▋        | 44/269 [00:00<00:01, 212.25it/s]\u001b[A\n",
      " 25%|██▍       | 66/269 [00:00<00:00, 212.35it/s]\u001b[A\n",
      " 33%|███▎      | 88/269 [00:00<00:00, 212.67it/s]\u001b[A\n",
      " 41%|████      | 110/269 [00:00<00:00, 212.19it/s]\u001b[A\n",
      " 49%|████▉     | 132/269 [00:00<00:00, 212.11it/s]\u001b[A\n",
      " 57%|█████▋    | 154/269 [00:00<00:00, 212.32it/s]\u001b[A\n",
      " 65%|██████▌   | 176/269 [00:00<00:00, 212.21it/s]\u001b[A\n",
      " 74%|███████▎  | 198/269 [00:00<00:00, 212.33it/s]\u001b[A\n",
      " 82%|████████▏ | 220/269 [00:01<00:00, 211.52it/s]\u001b[A\n",
      " 90%|████████▉ | 242/269 [00:01<00:00, 211.55it/s]\u001b[A\n",
      "100%|██████████| 269/269 [00:01<00:00, 211.52it/s]\u001b[A\n",
      " 10%|█         | 10/100 [00:22<02:21,  1.57s/it]\n",
      "  0%|          | 0/227 [00:00<?, ?it/s]\u001b[A\n",
      " 10%|▉         | 22/227 [00:00<00:00, 217.04it/s]\u001b[A\n",
      " 19%|█▉        | 44/227 [00:00<00:00, 214.76it/s]\u001b[A\n",
      " 29%|██▉       | 66/227 [00:00<00:00, 213.57it/s]\u001b[A\n",
      " 39%|███▉      | 88/227 [00:00<00:00, 212.32it/s]\u001b[A\n",
      " 48%|████▊     | 110/227 [00:00<00:00, 212.65it/s]\u001b[A\n",
      " 58%|█████▊    | 132/227 [00:00<00:00, 212.64it/s]\u001b[A\n",
      " 68%|██████▊   | 154/227 [00:00<00:00, 213.07it/s]\u001b[A\n",
      " 78%|███████▊  | 176/227 [00:00<00:00, 212.09it/s]\u001b[A\n",
      " 87%|████████▋ | 198/227 [00:00<00:00, 212.29it/s]\u001b[A\n",
      "100%|██████████| 227/227 [00:01<00:00, 211.97it/s]\u001b[A\n",
      " 11%|█         | 11/100 [00:24<02:06,  1.42s/it]\n",
      "  0%|          | 0/297 [00:00<?, ?it/s]\u001b[A\n",
      "  7%|▋         | 22/297 [00:00<00:01, 217.57it/s]\u001b[A\n",
      " 15%|█▍        | 44/297 [00:00<00:01, 214.40it/s]\u001b[A\n",
      " 22%|██▏       | 66/297 [00:00<00:01, 213.67it/s]\u001b[A\n",
      " 30%|██▉       | 88/297 [00:00<00:00, 213.00it/s]\u001b[A\n",
      " 37%|███▋      | 110/297 [00:00<00:00, 212.87it/s]\u001b[A\n",
      " 44%|████▍     | 132/297 [00:00<00:00, 212.04it/s]\u001b[A\n",
      " 52%|█████▏    | 154/297 [00:00<00:00, 211.75it/s]\u001b[A\n",
      " 59%|█████▉    | 176/297 [00:00<00:00, 211.92it/s]\u001b[A\n",
      " 67%|██████▋   | 198/297 [00:00<00:00, 212.18it/s]\u001b[A\n",
      " 74%|███████▍  | 220/297 [00:01<00:00, 211.33it/s]\u001b[A\n",
      " 81%|████████▏ | 242/297 [00:01<00:00, 211.89it/s]\u001b[A\n",
      " 89%|████████▉ | 264/297 [00:01<00:00, 212.22it/s]\u001b[A\n",
      "100%|██████████| 297/297 [00:01<00:00, 211.91it/s]\u001b[A\n",
      " 12%|█▏        | 12/100 [00:25<02:04,  1.42s/it]\n",
      "  0%|          | 0/173 [00:00<?, ?it/s]\u001b[A\n",
      " 13%|█▎        | 22/173 [00:00<00:00, 213.31it/s]\u001b[A\n",
      " 25%|██▌       | 44/173 [00:00<00:00, 212.08it/s]\u001b[A\n",
      " 38%|███▊      | 66/173 [00:00<00:00, 211.99it/s]\u001b[A\n",
      " 51%|█████     | 88/173 [00:00<00:00, 211.83it/s]\u001b[A\n",
      " 64%|██████▎   | 110/173 [00:00<00:00, 211.56it/s]\u001b[A\n",
      " 76%|███████▋  | 132/173 [00:00<00:00, 211.88it/s]\u001b[A\n",
      "100%|██████████| 173/173 [00:00<00:00, 211.72it/s]\u001b[A\n",
      " 13%|█▎        | 13/100 [00:26<01:47,  1.24s/it]\n",
      "  0%|          | 0/369 [00:00<?, ?it/s]\u001b[A\n",
      "  6%|▌         | 22/369 [00:00<00:01, 212.28it/s]\u001b[A\n",
      " 12%|█▏        | 44/369 [00:00<00:01, 212.83it/s]\u001b[A\n",
      " 18%|█▊        | 66/369 [00:00<00:01, 212.42it/s]\u001b[A\n",
      " 24%|██▍       | 88/369 [00:00<00:01, 212.76it/s]\u001b[A\n",
      " 30%|██▉       | 110/369 [00:00<00:01, 213.12it/s]\u001b[A\n",
      " 36%|███▌      | 132/369 [00:00<00:01, 212.81it/s]\u001b[A\n",
      " 42%|████▏     | 154/369 [00:00<00:01, 211.36it/s]\u001b[A\n",
      " 48%|████▊     | 176/369 [00:00<00:00, 211.14it/s]\u001b[A\n",
      " 54%|█████▎    | 198/369 [00:00<00:00, 211.33it/s]\u001b[A\n",
      " 60%|█████▉    | 220/369 [00:01<00:00, 212.02it/s]\u001b[A\n",
      " 66%|██████▌   | 242/369 [00:01<00:00, 212.02it/s]\u001b[A\n",
      " 72%|███████▏  | 264/369 [00:01<00:00, 211.48it/s]\u001b[A\n",
      " 78%|███████▊  | 286/369 [00:01<00:00, 211.57it/s]\u001b[A\n",
      " 83%|████████▎ | 308/369 [00:01<00:00, 211.55it/s]\u001b[A\n",
      " 89%|████████▉ | 330/369 [00:01<00:00, 211.83it/s]\u001b[A\n",
      "100%|██████████| 369/369 [00:01<00:00, 211.84it/s]\u001b[A\n",
      " 14%|█▍        | 14/100 [00:28<01:59,  1.39s/it]\n",
      "  0%|          | 0/217 [00:00<?, ?it/s]\u001b[A\n",
      " 10%|█         | 22/217 [00:00<00:00, 214.76it/s]\u001b[A\n",
      " 20%|██        | 44/217 [00:00<00:00, 212.93it/s]\u001b[A\n",
      " 30%|███       | 66/217 [00:00<00:00, 213.10it/s]\u001b[A\n",
      " 41%|████      | 88/217 [00:00<00:00, 211.96it/s]\u001b[A\n",
      " 51%|█████     | 110/217 [00:00<00:00, 211.35it/s]\u001b[A\n",
      " 61%|██████    | 132/217 [00:00<00:00, 211.79it/s]\u001b[A\n",
      " 71%|███████   | 154/217 [00:00<00:00, 212.16it/s]\u001b[A\n",
      " 81%|████████  | 176/217 [00:00<00:00, 212.63it/s]\u001b[A\n",
      "100%|██████████| 217/217 [00:01<00:00, 212.04it/s]\u001b[A\n",
      " 15%|█▌        | 15/100 [00:29<01:48,  1.28s/it]\n",
      "  0%|          | 0/221 [00:00<?, ?it/s]\u001b[A\n",
      " 10%|▉         | 22/221 [00:00<00:00, 213.11it/s]\u001b[A\n",
      " 20%|█▉        | 44/221 [00:00<00:00, 211.98it/s]\u001b[A\n",
      " 30%|██▉       | 66/221 [00:00<00:00, 212.22it/s]\u001b[A\n"
     ]
    },
    {
     "name": "stderr",
     "output_type": "stream",
     "text": [
      " 40%|███▉      | 88/221 [00:00<00:00, 212.46it/s]\u001b[A\n",
      " 50%|████▉     | 110/221 [00:00<00:00, 212.80it/s]\u001b[A\n",
      " 60%|█████▉    | 132/221 [00:00<00:00, 213.43it/s]\u001b[A\n",
      " 70%|██████▉   | 154/221 [00:00<00:00, 213.39it/s]\u001b[A\n",
      " 80%|███████▉  | 176/221 [00:00<00:00, 213.30it/s]\u001b[A\n",
      " 90%|████████▉ | 198/221 [00:00<00:00, 212.73it/s]\u001b[A\n",
      "100%|██████████| 221/221 [00:01<00:00, 212.43it/s]\u001b[A\n",
      " 16%|█▌        | 16/100 [00:30<01:41,  1.21s/it]\n",
      "  0%|          | 0/247 [00:00<?, ?it/s]\u001b[A\n",
      "  9%|▉         | 22/247 [00:00<00:01, 214.10it/s]\u001b[A\n",
      " 18%|█▊        | 44/247 [00:00<00:00, 213.82it/s]\u001b[A\n",
      " 27%|██▋       | 66/247 [00:00<00:00, 213.32it/s]\u001b[A\n",
      " 36%|███▌      | 88/247 [00:00<00:00, 212.79it/s]\u001b[A\n",
      " 45%|████▍     | 110/247 [00:00<00:00, 212.22it/s]\u001b[A\n",
      " 53%|█████▎    | 132/247 [00:00<00:00, 212.29it/s]\u001b[A\n",
      " 62%|██████▏   | 154/247 [00:00<00:00, 212.36it/s]\u001b[A\n",
      " 71%|███████▏  | 176/247 [00:00<00:00, 212.09it/s]\u001b[A\n",
      " 80%|████████  | 198/247 [00:00<00:00, 212.29it/s]\u001b[A\n",
      " 89%|████████▉ | 220/247 [00:01<00:00, 212.67it/s]\u001b[A\n",
      "100%|██████████| 247/247 [00:01<00:00, 211.92it/s]\u001b[A\n",
      " 17%|█▋        | 17/100 [00:31<01:39,  1.20s/it]\n",
      "  0%|          | 0/277 [00:00<?, ?it/s]\u001b[A\n",
      "  8%|▊         | 22/277 [00:00<00:01, 216.08it/s]\u001b[A\n",
      " 16%|█▌        | 44/277 [00:00<00:01, 213.94it/s]\u001b[A\n",
      " 24%|██▍       | 66/277 [00:00<00:00, 213.36it/s]\u001b[A\n",
      " 32%|███▏      | 88/277 [00:00<00:00, 213.03it/s]\u001b[A\n",
      " 40%|███▉      | 110/277 [00:00<00:00, 213.03it/s]\u001b[A\n",
      " 48%|████▊     | 132/277 [00:00<00:00, 212.92it/s]\u001b[A\n",
      " 56%|█████▌    | 154/277 [00:00<00:00, 213.04it/s]\u001b[A\n",
      " 64%|██████▎   | 176/277 [00:00<00:00, 212.51it/s]\u001b[A\n",
      " 71%|███████▏  | 198/277 [00:00<00:00, 212.48it/s]\u001b[A\n",
      " 79%|███████▉  | 220/277 [00:01<00:00, 212.58it/s]\u001b[A\n",
      " 87%|████████▋ | 242/277 [00:01<00:00, 212.62it/s]\u001b[A\n",
      "100%|██████████| 277/277 [00:01<00:00, 212.39it/s]\u001b[A\n",
      " 18%|█▊        | 18/100 [00:32<01:40,  1.23s/it]\n",
      "  0%|          | 0/256 [00:00<?, ?it/s]\u001b[A\n",
      "  9%|▊         | 22/256 [00:00<00:01, 212.41it/s]\u001b[A\n",
      " 17%|█▋        | 44/256 [00:00<00:00, 212.31it/s]\u001b[A\n",
      " 26%|██▌       | 66/256 [00:00<00:00, 212.41it/s]\u001b[A\n",
      " 34%|███▍      | 88/256 [00:00<00:00, 212.39it/s]\u001b[A\n",
      " 43%|████▎     | 110/256 [00:00<00:00, 212.26it/s]\u001b[A\n",
      " 52%|█████▏    | 132/256 [00:00<00:00, 211.97it/s]\u001b[A\n",
      " 60%|██████    | 154/256 [00:00<00:00, 212.33it/s]\u001b[A\n",
      " 69%|██████▉   | 176/256 [00:00<00:00, 212.37it/s]\u001b[A\n",
      " 77%|███████▋  | 198/256 [00:00<00:00, 212.56it/s]\u001b[A\n",
      " 86%|████████▌ | 220/256 [00:01<00:00, 212.04it/s]\u001b[A\n",
      "100%|██████████| 256/256 [00:01<00:00, 211.77it/s]\u001b[A\n",
      " 19%|█▉        | 19/100 [00:33<01:39,  1.22s/it]\n",
      "  0%|          | 0/290 [00:00<?, ?it/s]\u001b[A\n",
      "  8%|▊         | 22/290 [00:00<00:01, 214.64it/s]\u001b[A\n",
      " 15%|█▌        | 44/290 [00:00<00:01, 211.87it/s]\u001b[A\n",
      " 23%|██▎       | 66/290 [00:00<00:01, 212.08it/s]\u001b[A\n",
      " 30%|███       | 88/290 [00:00<00:00, 212.15it/s]\u001b[A\n",
      " 38%|███▊      | 110/290 [00:00<00:00, 212.58it/s]\u001b[A\n",
      " 46%|████▌     | 132/290 [00:00<00:00, 212.58it/s]\u001b[A\n",
      " 53%|█████▎    | 154/290 [00:00<00:00, 211.87it/s]\u001b[A\n",
      " 61%|██████    | 176/290 [00:00<00:00, 212.15it/s]\u001b[A\n",
      " 68%|██████▊   | 198/290 [00:00<00:00, 212.09it/s]\u001b[A\n",
      " 76%|███████▌  | 220/290 [00:01<00:00, 212.18it/s]\u001b[A\n",
      " 83%|████████▎ | 242/290 [00:01<00:00, 211.66it/s]\u001b[A\n",
      " 91%|█████████ | 264/290 [00:01<00:00, 211.48it/s]\u001b[A\n",
      "100%|██████████| 290/290 [00:01<00:00, 211.41it/s]\u001b[A\n",
      " 20%|██        | 20/100 [00:35<01:41,  1.27s/it]\n",
      "  0%|          | 0/227 [00:00<?, ?it/s]\u001b[A\n",
      " 10%|▉         | 22/227 [00:00<00:00, 213.65it/s]\u001b[A\n",
      " 19%|█▉        | 44/227 [00:00<00:00, 212.49it/s]\u001b[A\n",
      " 29%|██▉       | 66/227 [00:00<00:00, 212.09it/s]\u001b[A\n",
      " 39%|███▉      | 88/227 [00:00<00:00, 211.37it/s]\u001b[A\n",
      " 48%|████▊     | 110/227 [00:00<00:00, 212.06it/s]\u001b[A\n",
      " 58%|█████▊    | 132/227 [00:00<00:00, 212.13it/s]\u001b[A\n",
      " 68%|██████▊   | 154/227 [00:00<00:00, 212.38it/s]\u001b[A\n",
      " 78%|███████▊  | 176/227 [00:00<00:00, 213.10it/s]\u001b[A\n",
      " 87%|████████▋ | 198/227 [00:00<00:00, 212.29it/s]\u001b[A\n",
      "100%|██████████| 227/227 [00:01<00:00, 211.64it/s]\u001b[A\n",
      " 21%|██        | 21/100 [00:36<01:35,  1.21s/it]\n",
      "  0%|          | 0/279 [00:00<?, ?it/s]\u001b[A\n",
      "  8%|▊         | 22/279 [00:00<00:01, 216.82it/s]\u001b[A\n",
      " 16%|█▌        | 44/279 [00:00<00:01, 212.47it/s]\u001b[A\n",
      " 24%|██▎       | 66/279 [00:00<00:01, 212.69it/s]\u001b[A\n",
      " 32%|███▏      | 88/279 [00:00<00:00, 211.91it/s]\u001b[A\n",
      " 39%|███▉      | 110/279 [00:00<00:00, 212.10it/s]\u001b[A\n",
      " 47%|████▋     | 132/279 [00:00<00:00, 212.58it/s]\u001b[A\n",
      " 55%|█████▌    | 154/279 [00:00<00:00, 212.24it/s]\u001b[A\n",
      " 63%|██████▎   | 176/279 [00:00<00:00, 212.22it/s]\u001b[A\n",
      " 71%|███████   | 198/279 [00:00<00:00, 212.37it/s]\u001b[A\n",
      " 79%|███████▉  | 220/279 [00:01<00:00, 212.66it/s]\u001b[A\n",
      " 87%|████████▋ | 242/279 [00:01<00:00, 211.83it/s]\u001b[A\n",
      "100%|██████████| 279/279 [00:01<00:00, 211.96it/s]\u001b[A\n",
      " 22%|██▏       | 22/100 [00:37<01:37,  1.24s/it]\n",
      "  0%|          | 0/190 [00:00<?, ?it/s]\u001b[A\n",
      " 12%|█▏        | 22/190 [00:00<00:00, 211.50it/s]\u001b[A\n",
      " 23%|██▎       | 44/190 [00:00<00:00, 211.89it/s]\u001b[A\n",
      " 35%|███▍      | 66/190 [00:00<00:00, 212.23it/s]\u001b[A\n",
      " 46%|████▋     | 88/190 [00:00<00:00, 212.62it/s]\u001b[A\n",
      " 58%|█████▊    | 110/190 [00:00<00:00, 212.49it/s]\u001b[A\n",
      " 69%|██████▉   | 132/190 [00:00<00:00, 211.56it/s]\u001b[A\n",
      " 81%|████████  | 154/190 [00:00<00:00, 212.18it/s]\u001b[A\n",
      "100%|██████████| 190/190 [00:00<00:00, 211.75it/s]\u001b[A\n",
      " 23%|██▎       | 23/100 [00:38<01:27,  1.14s/it]\n",
      "  0%|          | 0/270 [00:00<?, ?it/s]\u001b[A\n",
      "  8%|▊         | 22/270 [00:00<00:01, 212.24it/s]\u001b[A\n",
      " 16%|█▋        | 44/270 [00:00<00:01, 211.77it/s]\u001b[A\n",
      " 24%|██▍       | 66/270 [00:00<00:00, 212.57it/s]\u001b[A\n",
      " 33%|███▎      | 88/270 [00:00<00:00, 212.87it/s]\u001b[A\n",
      " 41%|████      | 110/270 [00:00<00:00, 212.68it/s]\u001b[A\n",
      " 49%|████▉     | 132/270 [00:00<00:00, 212.01it/s]\u001b[A\n",
      " 57%|█████▋    | 154/270 [00:00<00:00, 212.20it/s]\u001b[A\n",
      " 65%|██████▌   | 176/270 [00:00<00:00, 212.56it/s]\u001b[A\n",
      " 73%|███████▎  | 198/270 [00:00<00:00, 212.63it/s]\u001b[A\n",
      " 81%|████████▏ | 220/270 [00:01<00:00, 211.72it/s]\u001b[A\n",
      " 90%|████████▉ | 242/270 [00:01<00:00, 212.17it/s]\u001b[A\n",
      "100%|██████████| 270/270 [00:01<00:00, 211.77it/s]\u001b[A\n",
      " 24%|██▍       | 24/100 [00:39<01:29,  1.18s/it]\n",
      "  0%|          | 0/233 [00:00<?, ?it/s]\u001b[A\n",
      "  9%|▉         | 22/233 [00:00<00:00, 214.82it/s]\u001b[A\n",
      " 19%|█▉        | 44/233 [00:00<00:00, 211.45it/s]\u001b[A\n",
      " 28%|██▊       | 66/233 [00:00<00:00, 211.20it/s]\u001b[A\n",
      " 38%|███▊      | 88/233 [00:00<00:00, 211.75it/s]\u001b[A\n",
      " 47%|████▋     | 110/233 [00:00<00:00, 212.38it/s]\u001b[A\n",
      " 57%|█████▋    | 132/233 [00:00<00:00, 212.85it/s]\u001b[A\n",
      " 66%|██████▌   | 154/233 [00:00<00:00, 211.81it/s]\u001b[A\n",
      " 76%|███████▌  | 176/233 [00:00<00:00, 211.23it/s]\u001b[A\n",
      " 85%|████████▍ | 198/233 [00:00<00:00, 211.27it/s]\u001b[A\n",
      "100%|██████████| 233/233 [00:01<00:00, 211.17it/s]\u001b[A\n",
      " 25%|██▌       | 25/100 [00:40<01:26,  1.16s/it]\n",
      "  0%|          | 0/224 [00:00<?, ?it/s]\u001b[A\n",
      " 10%|▉         | 22/224 [00:00<00:00, 212.09it/s]\u001b[A\n",
      " 20%|█▉        | 44/224 [00:00<00:00, 212.36it/s]\u001b[A\n",
      " 29%|██▉       | 66/224 [00:00<00:00, 212.93it/s]\u001b[A\n",
      " 39%|███▉      | 88/224 [00:00<00:00, 213.06it/s]\u001b[A\n",
      " 49%|████▉     | 110/224 [00:00<00:00, 212.18it/s]\u001b[A\n",
      " 59%|█████▉    | 132/224 [00:00<00:00, 211.12it/s]\u001b[A\n",
      " 69%|██████▉   | 154/224 [00:00<00:00, 211.09it/s]\u001b[A\n",
      " 79%|███████▊  | 176/224 [00:00<00:00, 211.49it/s]\u001b[A\n",
      " 88%|████████▊ | 198/224 [00:00<00:00, 210.69it/s]\u001b[A\n",
      "100%|██████████| 224/224 [00:01<00:00, 210.94it/s]\u001b[A\n",
      " 26%|██▌       | 26/100 [00:41<01:23,  1.13s/it]\n",
      "  0%|          | 0/202 [00:00<?, ?it/s]\u001b[A\n",
      " 11%|█         | 22/202 [00:00<00:00, 213.91it/s]\u001b[A\n",
      " 22%|██▏       | 44/202 [00:00<00:00, 211.13it/s]\u001b[A\n",
      " 33%|███▎      | 66/202 [00:00<00:00, 211.16it/s]\u001b[A\n",
      " 44%|████▎     | 88/202 [00:00<00:00, 212.19it/s]\u001b[A\n",
      " 54%|█████▍    | 110/202 [00:00<00:00, 211.34it/s]\u001b[A\n",
      " 65%|██████▌   | 132/202 [00:00<00:00, 211.27it/s]\u001b[A\n",
      " 76%|███████▌  | 154/202 [00:00<00:00, 211.42it/s]\u001b[A\n",
      " 87%|████████▋ | 176/202 [00:00<00:00, 211.78it/s]\u001b[A\n",
      "100%|██████████| 202/202 [00:00<00:00, 211.11it/s]\u001b[A\n",
      " 27%|██▋       | 27/100 [00:42<01:18,  1.08s/it]\n",
      "  0%|          | 0/363 [00:00<?, ?it/s]\u001b[A\n",
      "  6%|▌         | 22/363 [00:00<00:01, 215.15it/s]\u001b[A\n",
      " 12%|█▏        | 44/363 [00:00<00:01, 213.67it/s]\u001b[A\n",
      " 18%|█▊        | 66/363 [00:00<00:01, 211.43it/s]\u001b[A\n",
      " 24%|██▍       | 88/363 [00:00<00:01, 211.79it/s]\u001b[A\n",
      " 30%|███       | 110/363 [00:00<00:01, 211.84it/s]\u001b[A\n",
      " 36%|███▋      | 132/363 [00:00<00:01, 212.15it/s]\u001b[A\n",
      " 42%|████▏     | 154/363 [00:00<00:00, 211.55it/s]\u001b[A\n",
      " 48%|████▊     | 176/363 [00:00<00:00, 212.00it/s]\u001b[A\n",
      " 55%|█████▍    | 198/363 [00:00<00:00, 212.18it/s]\u001b[A\n",
      " 61%|██████    | 220/363 [00:01<00:00, 212.58it/s]\u001b[A\n",
      " 67%|██████▋   | 242/363 [00:01<00:00, 212.36it/s]\u001b[A\n",
      " 73%|███████▎  | 264/363 [00:01<00:00, 211.89it/s]\u001b[A\n",
      " 79%|███████▉  | 286/363 [00:01<00:00, 212.25it/s]\u001b[A\n",
      " 85%|████████▍ | 308/363 [00:01<00:00, 212.19it/s]\u001b[A\n",
      " 91%|█████████ | 330/363 [00:01<00:00, 212.49it/s]\u001b[A\n",
      "100%|██████████| 363/363 [00:01<00:00, 211.86it/s]\u001b[A\n",
      " 28%|██▊       | 28/100 [00:44<01:31,  1.27s/it]\n",
      "  0%|          | 0/231 [00:00<?, ?it/s]\u001b[A\n",
      " 10%|▉         | 22/231 [00:00<00:00, 214.46it/s]\u001b[A\n",
      " 19%|█▉        | 44/231 [00:00<00:00, 212.86it/s]\u001b[A\n",
      " 29%|██▊       | 66/231 [00:00<00:00, 211.79it/s]\u001b[A\n",
      " 38%|███▊      | 88/231 [00:00<00:00, 212.49it/s]\u001b[A\n",
      " 48%|████▊     | 110/231 [00:00<00:00, 212.46it/s]\u001b[A\n",
      " 57%|█████▋    | 132/231 [00:00<00:00, 212.50it/s]\u001b[A\n",
      " 67%|██████▋   | 154/231 [00:00<00:00, 212.99it/s]\u001b[A\n",
      " 76%|███████▌  | 176/231 [00:00<00:00, 212.38it/s]\u001b[A\n",
      " 86%|████████▌ | 198/231 [00:00<00:00, 211.41it/s]\u001b[A\n",
      "100%|██████████| 231/231 [00:01<00:00, 211.71it/s]\u001b[A\n",
      " 29%|██▉       | 29/100 [00:45<01:26,  1.22s/it]\n",
      "  0%|          | 0/200 [00:00<?, ?it/s]\u001b[A\n",
      " 11%|█         | 22/200 [00:00<00:00, 213.34it/s]\u001b[A\n",
      " 22%|██▏       | 44/200 [00:00<00:00, 212.10it/s]\u001b[A\n",
      " 33%|███▎      | 66/200 [00:00<00:00, 212.52it/s]\u001b[A\n",
      " 44%|████▍     | 88/200 [00:00<00:00, 210.97it/s]\u001b[A\n",
      " 55%|█████▌    | 110/200 [00:00<00:00, 210.97it/s]\u001b[A\n",
      " 66%|██████▌   | 132/200 [00:00<00:00, 210.68it/s]\u001b[A\n",
      " 77%|███████▋  | 154/200 [00:00<00:00, 211.06it/s]\u001b[A\n",
      " 88%|████████▊ | 176/200 [00:00<00:00, 210.73it/s]\u001b[A\n",
      "100%|██████████| 200/200 [00:00<00:00, 210.79it/s]\u001b[A\n",
      " 30%|███       | 30/100 [00:46<01:19,  1.14s/it]\n",
      "  0%|          | 0/237 [00:00<?, ?it/s]\u001b[A\n",
      "  9%|▉         | 22/237 [00:00<00:01, 213.41it/s]\u001b[A\n",
      " 19%|█▊        | 44/237 [00:00<00:00, 212.33it/s]\u001b[A\n",
      " 28%|██▊       | 66/237 [00:00<00:00, 212.26it/s]\u001b[A\n",
      " 37%|███▋      | 88/237 [00:00<00:00, 211.37it/s]\u001b[A\n",
      " 46%|████▋     | 110/237 [00:00<00:00, 211.48it/s]\u001b[A\n",
      " 56%|█████▌    | 132/237 [00:00<00:00, 211.60it/s]\u001b[A\n",
      " 65%|██████▍   | 154/237 [00:00<00:00, 211.83it/s]\u001b[A\n",
      " 74%|███████▍  | 176/237 [00:00<00:00, 211.05it/s]\u001b[A\n",
      " 84%|████████▎ | 198/237 [00:00<00:00, 211.43it/s]\u001b[A\n",
      "100%|██████████| 237/237 [00:01<00:00, 211.34it/s]\u001b[A\n",
      " 31%|███       | 31/100 [00:47<01:18,  1.13s/it]\n",
      "  0%|          | 0/190 [00:00<?, ?it/s]\u001b[A\n",
      " 12%|█▏        | 22/190 [00:00<00:00, 213.40it/s]\u001b[A\n",
      " 23%|██▎       | 44/190 [00:00<00:00, 211.51it/s]\u001b[A\n",
      " 35%|███▍      | 66/190 [00:00<00:00, 211.33it/s]\u001b[A\n",
      " 46%|████▋     | 88/190 [00:00<00:00, 211.42it/s]\u001b[A\n",
      " 58%|█████▊    | 110/190 [00:00<00:00, 211.87it/s]\u001b[A\n",
      " 69%|██████▉   | 132/190 [00:00<00:00, 211.38it/s]\u001b[A\n",
      " 81%|████████  | 154/190 [00:00<00:00, 211.54it/s]\u001b[A\n",
      "100%|██████████| 190/190 [00:00<00:00, 211.06it/s]\u001b[A\n",
      " 32%|███▏      | 32/100 [00:48<01:12,  1.06s/it]\n",
      "  0%|          | 0/231 [00:00<?, ?it/s]\u001b[A\n",
      " 10%|▉         | 22/231 [00:00<00:00, 214.21it/s]\u001b[A\n",
      " 19%|█▉        | 44/231 [00:00<00:00, 212.35it/s]\u001b[A\n",
      " 29%|██▊       | 66/231 [00:00<00:00, 212.19it/s]\u001b[A\n",
      " 38%|███▊      | 88/231 [00:00<00:00, 212.62it/s]\u001b[A\n",
      " 48%|████▊     | 110/231 [00:00<00:00, 212.80it/s]\u001b[A\n",
      " 57%|█████▋    | 132/231 [00:00<00:00, 211.96it/s]\u001b[A\n",
      " 67%|██████▋   | 154/231 [00:00<00:00, 211.95it/s]\u001b[A\n",
      " 76%|███████▌  | 176/231 [00:00<00:00, 211.76it/s]\u001b[A\n",
      " 86%|████████▌ | 198/231 [00:00<00:00, 211.81it/s]\u001b[A\n",
      "100%|██████████| 231/231 [00:01<00:00, 211.25it/s]\u001b[A\n",
      " 33%|███▎      | 33/100 [00:49<01:11,  1.07s/it]\n",
      "  0%|          | 0/233 [00:00<?, ?it/s]\u001b[A\n",
      "  9%|▉         | 22/233 [00:00<00:00, 215.19it/s]\u001b[A\n",
      " 19%|█▉        | 44/233 [00:00<00:00, 211.67it/s]\u001b[A\n",
      " 28%|██▊       | 66/233 [00:00<00:00, 211.93it/s]\u001b[A\n",
      " 38%|███▊      | 88/233 [00:00<00:00, 212.30it/s]\u001b[A\n",
      " 47%|████▋     | 110/233 [00:00<00:00, 212.59it/s]\u001b[A\n",
      " 57%|█████▋    | 132/233 [00:00<00:00, 212.11it/s]\u001b[A\n",
      " 66%|██████▌   | 154/233 [00:00<00:00, 212.20it/s]\u001b[A\n",
      " 76%|███████▌  | 176/233 [00:00<00:00, 212.03it/s]\u001b[A\n",
      " 85%|████████▍ | 198/233 [00:00<00:00, 212.23it/s]\u001b[A\n",
      "100%|██████████| 233/233 [00:01<00:00, 211.62it/s]\u001b[A\n",
      " 34%|███▍      | 34/100 [00:50<01:11,  1.08s/it]\n",
      "  0%|          | 0/272 [00:00<?, ?it/s]\u001b[A\n",
      "  8%|▊         | 22/272 [00:00<00:01, 213.70it/s]\u001b[A\n",
      " 16%|█▌        | 44/272 [00:00<00:01, 211.52it/s]\u001b[A\n",
      " 24%|██▍       | 66/272 [00:00<00:00, 211.42it/s]\u001b[A\n",
      " 32%|███▏      | 88/272 [00:00<00:00, 210.31it/s]\u001b[A\n",
      " 40%|████      | 110/272 [00:00<00:00, 210.63it/s]\u001b[A\n",
      " 49%|████▊     | 132/272 [00:00<00:00, 210.94it/s]\u001b[A\n",
      " 57%|█████▋    | 154/272 [00:00<00:00, 211.04it/s]\u001b[A\n",
      " 65%|██████▍   | 176/272 [00:00<00:00, 209.89it/s]\u001b[A\n",
      " 73%|███████▎  | 198/272 [00:00<00:00, 210.35it/s]\u001b[A\n",
      " 81%|████████  | 220/272 [00:01<00:00, 210.37it/s]\u001b[A\n",
      " 89%|████████▉ | 242/272 [00:01<00:00, 210.63it/s]\u001b[A\n",
      "100%|██████████| 272/272 [00:01<00:00, 210.22it/s]\u001b[A\n",
      " 35%|███▌      | 35/100 [00:52<01:14,  1.15s/it]\n",
      "  0%|          | 0/272 [00:00<?, ?it/s]\u001b[A\n",
      "  8%|▊         | 22/272 [00:00<00:01, 216.35it/s]\u001b[A\n",
      " 16%|█▌        | 44/272 [00:00<00:01, 212.87it/s]\u001b[A\n",
      " 24%|██▍       | 66/272 [00:00<00:00, 212.56it/s]\u001b[A\n",
      " 32%|███▏      | 88/272 [00:00<00:00, 212.18it/s]\u001b[A\n",
      " 40%|████      | 110/272 [00:00<00:00, 212.18it/s]\u001b[A\n",
      " 49%|████▊     | 132/272 [00:00<00:00, 211.49it/s]\u001b[A\n",
      " 57%|█████▋    | 154/272 [00:00<00:00, 211.52it/s]\u001b[A\n",
      " 65%|██████▍   | 176/272 [00:00<00:00, 211.19it/s]\u001b[A\n",
      " 73%|███████▎  | 198/272 [00:00<00:00, 210.74it/s]\u001b[A\n",
      " 81%|████████  | 220/272 [00:01<00:00, 210.40it/s]\u001b[A\n",
      " 89%|████████▉ | 242/272 [00:01<00:00, 211.04it/s]\u001b[A\n",
      "100%|██████████| 272/272 [00:01<00:00, 210.86it/s]\u001b[A\n",
      " 36%|███▌      | 36/100 [00:53<01:16,  1.19s/it]\n",
      "  0%|          | 0/151 [00:00<?, ?it/s]\u001b[A\n",
      " 15%|█▍        | 22/151 [00:00<00:00, 214.33it/s]\u001b[A\n",
      " 29%|██▉       | 44/151 [00:00<00:00, 211.64it/s]\u001b[A\n",
      " 44%|████▎     | 66/151 [00:00<00:00, 212.07it/s]\u001b[A\n",
      " 58%|█████▊    | 88/151 [00:00<00:00, 211.20it/s]\u001b[A\n",
      " 73%|███████▎  | 110/151 [00:00<00:00, 211.05it/s]\u001b[A\n",
      "100%|██████████| 151/151 [00:00<00:00, 210.95it/s]\u001b[A\n",
      " 37%|███▋      | 37/100 [00:54<01:06,  1.05s/it]\n",
      "  0%|          | 0/132 [00:00<?, ?it/s]\u001b[A\n",
      " 17%|█▋        | 22/132 [00:00<00:00, 214.43it/s]\u001b[A\n",
      " 33%|███▎      | 44/132 [00:00<00:00, 210.58it/s]\u001b[A\n",
      " 50%|█████     | 66/132 [00:00<00:00, 210.48it/s]\u001b[A\n",
      " 67%|██████▋   | 88/132 [00:00<00:00, 210.79it/s]\u001b[A\n",
      " 83%|████████▎ | 110/132 [00:00<00:00, 210.40it/s]\u001b[A\n",
      "100%|██████████| 132/132 [00:00<00:00, 209.86it/s]\u001b[A\n",
      " 38%|███▊      | 38/100 [00:54<00:57,  1.08it/s]\n",
      "  0%|          | 0/197 [00:00<?, ?it/s]\u001b[A\n",
      " 11%|█         | 22/197 [00:00<00:00, 216.31it/s]\u001b[A\n",
      " 22%|██▏       | 44/197 [00:00<00:00, 212.96it/s]\u001b[A\n",
      " 34%|███▎      | 66/197 [00:00<00:00, 211.82it/s]\u001b[A\n",
      " 45%|████▍     | 88/197 [00:00<00:00, 211.72it/s]\u001b[A\n",
      " 56%|█████▌    | 110/197 [00:00<00:00, 211.85it/s]\u001b[A\n",
      " 67%|██████▋   | 132/197 [00:00<00:00, 211.61it/s]\u001b[A\n",
      " 78%|███████▊  | 154/197 [00:00<00:00, 211.63it/s]\u001b[A\n",
      "100%|██████████| 197/197 [00:00<00:00, 211.68it/s]\u001b[A\n",
      " 39%|███▉      | 39/100 [00:55<00:56,  1.08it/s]\n",
      "  0%|          | 0/196 [00:00<?, ?it/s]\u001b[A\n",
      " 11%|█         | 22/196 [00:00<00:00, 214.36it/s]\u001b[A\n",
      " 22%|██▏       | 44/196 [00:00<00:00, 210.93it/s]\u001b[A\n",
      " 34%|███▎      | 66/196 [00:00<00:00, 210.66it/s]\u001b[A\n",
      " 45%|████▍     | 88/196 [00:00<00:00, 210.53it/s]\u001b[A\n",
      " 56%|█████▌    | 110/196 [00:00<00:00, 211.19it/s]\u001b[A\n",
      " 67%|██████▋   | 132/196 [00:00<00:00, 210.98it/s]\u001b[A\n",
      " 79%|███████▊  | 154/196 [00:00<00:00, 210.75it/s]\u001b[A\n",
      "100%|██████████| 196/196 [00:00<00:00, 210.93it/s]\u001b[A\n",
      " 40%|████      | 40/100 [00:56<00:55,  1.08it/s]\n",
      "  0%|          | 0/132 [00:00<?, ?it/s]\u001b[A\n",
      " 16%|█▌        | 21/132 [00:00<00:00, 209.58it/s]\u001b[A\n",
      " 33%|███▎      | 43/132 [00:00<00:00, 211.08it/s]\u001b[A\n",
      " 49%|████▉     | 65/132 [00:00<00:00, 210.08it/s]\u001b[A\n",
      " 66%|██████▌   | 87/132 [00:00<00:00, 210.40it/s]\u001b[A\n",
      " 83%|████████▎ | 109/132 [00:00<00:00, 210.81it/s]\u001b[A\n",
      "100%|██████████| 132/132 [00:00<00:00, 209.96it/s]\u001b[A\n",
      " 41%|████      | 41/100 [00:57<00:49,  1.19it/s]\n",
      "  0%|          | 0/137 [00:00<?, ?it/s]\u001b[A\n",
      " 16%|█▌        | 22/137 [00:00<00:00, 214.51it/s]\u001b[A\n",
      " 32%|███▏      | 44/137 [00:00<00:00, 212.46it/s]\u001b[A\n",
      " 48%|████▊     | 66/137 [00:00<00:00, 211.70it/s]\u001b[A\n",
      " 64%|██████▍   | 88/137 [00:00<00:00, 212.08it/s]\u001b[A\n"
     ]
    },
    {
     "name": "stderr",
     "output_type": "stream",
     "text": [
      " 80%|████████  | 110/137 [00:00<00:00, 211.80it/s]\u001b[A\n",
      "100%|██████████| 137/137 [00:00<00:00, 210.70it/s]\u001b[A\n",
      " 42%|████▏     | 42/100 [00:57<00:45,  1.28it/s]\n",
      "  0%|          | 0/149 [00:00<?, ?it/s]\u001b[A\n",
      " 15%|█▍        | 22/149 [00:00<00:00, 215.01it/s]\u001b[A\n",
      " 30%|██▉       | 44/149 [00:00<00:00, 211.63it/s]\u001b[A\n",
      " 44%|████▍     | 66/149 [00:00<00:00, 212.07it/s]\u001b[A\n",
      " 59%|█████▉    | 88/149 [00:00<00:00, 212.18it/s]\u001b[A\n",
      " 74%|███████▍  | 110/149 [00:00<00:00, 212.55it/s]\u001b[A\n",
      "100%|██████████| 149/149 [00:00<00:00, 211.87it/s]\u001b[A\n",
      " 43%|████▎     | 43/100 [00:58<00:43,  1.31it/s]\n",
      "  0%|          | 0/192 [00:00<?, ?it/s]\u001b[A\n",
      " 11%|█▏        | 22/192 [00:00<00:00, 213.96it/s]\u001b[A\n",
      " 23%|██▎       | 44/192 [00:00<00:00, 212.77it/s]\u001b[A\n",
      " 34%|███▍      | 66/192 [00:00<00:00, 213.01it/s]\u001b[A\n",
      " 46%|████▌     | 88/192 [00:00<00:00, 212.21it/s]\u001b[A\n",
      " 57%|█████▋    | 110/192 [00:00<00:00, 211.71it/s]\u001b[A\n",
      " 69%|██████▉   | 132/192 [00:00<00:00, 211.98it/s]\u001b[A\n",
      " 80%|████████  | 154/192 [00:00<00:00, 211.97it/s]\u001b[A\n",
      "100%|██████████| 192/192 [00:00<00:00, 211.45it/s]\u001b[A\n",
      " 44%|████▍     | 44/100 [00:59<00:45,  1.24it/s]\n",
      "  0%|          | 0/194 [00:00<?, ?it/s]\u001b[A\n",
      " 11%|█▏        | 22/194 [00:00<00:00, 215.56it/s]\u001b[A\n",
      " 23%|██▎       | 44/194 [00:00<00:00, 211.58it/s]\u001b[A\n",
      " 34%|███▍      | 66/194 [00:00<00:00, 212.02it/s]\u001b[A\n",
      " 45%|████▌     | 88/194 [00:00<00:00, 212.00it/s]\u001b[A\n",
      " 57%|█████▋    | 110/194 [00:00<00:00, 211.99it/s]\u001b[A\n",
      " 68%|██████▊   | 132/194 [00:00<00:00, 212.46it/s]\u001b[A\n",
      " 79%|███████▉  | 154/194 [00:00<00:00, 212.40it/s]\u001b[A\n",
      "100%|██████████| 194/194 [00:00<00:00, 211.36it/s]\u001b[A\n",
      " 45%|████▌     | 45/100 [01:00<00:46,  1.19it/s]\n",
      "  0%|          | 0/185 [00:00<?, ?it/s]\u001b[A\n",
      " 12%|█▏        | 22/185 [00:00<00:00, 214.87it/s]\u001b[A\n",
      " 24%|██▍       | 44/185 [00:00<00:00, 212.82it/s]\u001b[A\n",
      " 36%|███▌      | 66/185 [00:00<00:00, 212.31it/s]\u001b[A\n",
      " 48%|████▊     | 88/185 [00:00<00:00, 212.04it/s]\u001b[A\n",
      " 59%|█████▉    | 110/185 [00:00<00:00, 211.67it/s]\u001b[A\n",
      " 71%|███████▏  | 132/185 [00:00<00:00, 211.61it/s]\u001b[A\n",
      " 83%|████████▎ | 154/185 [00:00<00:00, 211.41it/s]\u001b[A\n",
      "100%|██████████| 185/185 [00:00<00:00, 211.11it/s]\u001b[A\n",
      " 46%|████▌     | 46/100 [01:01<00:46,  1.17it/s]\n",
      "  0%|          | 0/225 [00:00<?, ?it/s]\u001b[A\n",
      " 10%|▉         | 22/225 [00:00<00:00, 213.65it/s]\u001b[A\n",
      " 20%|█▉        | 44/225 [00:00<00:00, 211.66it/s]\u001b[A\n",
      " 29%|██▉       | 66/225 [00:00<00:00, 211.42it/s]\u001b[A\n",
      " 39%|███▉      | 88/225 [00:00<00:00, 212.06it/s]\u001b[A\n",
      " 49%|████▉     | 110/225 [00:00<00:00, 211.77it/s]\u001b[A\n",
      " 59%|█████▊    | 132/225 [00:00<00:00, 211.51it/s]\u001b[A\n",
      " 68%|██████▊   | 154/225 [00:00<00:00, 211.68it/s]\u001b[A\n",
      " 78%|███████▊  | 176/225 [00:00<00:00, 211.55it/s]\u001b[A\n",
      " 88%|████████▊ | 198/225 [00:00<00:00, 211.56it/s]\u001b[A\n",
      "100%|██████████| 225/225 [00:01<00:00, 210.92it/s]\u001b[A\n",
      " 47%|████▋     | 47/100 [01:02<00:48,  1.09it/s]\n",
      "  0%|          | 0/202 [00:00<?, ?it/s]\u001b[A\n",
      " 11%|█         | 22/202 [00:00<00:00, 215.47it/s]\u001b[A\n",
      " 22%|██▏       | 44/202 [00:00<00:00, 212.58it/s]\u001b[A\n",
      " 33%|███▎      | 66/202 [00:00<00:00, 212.35it/s]\u001b[A\n",
      " 44%|████▎     | 88/202 [00:00<00:00, 212.37it/s]\u001b[A\n",
      " 54%|█████▍    | 110/202 [00:00<00:00, 211.48it/s]\u001b[A\n",
      " 65%|██████▌   | 132/202 [00:00<00:00, 211.41it/s]\u001b[A\n",
      " 76%|███████▌  | 154/202 [00:00<00:00, 211.58it/s]\u001b[A\n",
      " 87%|████████▋ | 176/202 [00:00<00:00, 211.62it/s]\u001b[A\n",
      "100%|██████████| 202/202 [00:00<00:00, 210.97it/s]\u001b[A\n",
      " 48%|████▊     | 48/100 [01:03<00:48,  1.07it/s]\n",
      "  0%|          | 0/217 [00:00<?, ?it/s]\u001b[A\n",
      " 10%|█         | 22/217 [00:00<00:00, 213.97it/s]\u001b[A\n",
      " 20%|██        | 44/217 [00:00<00:00, 210.93it/s]\u001b[A\n",
      " 30%|███       | 66/217 [00:00<00:00, 210.61it/s]\u001b[A\n",
      " 41%|████      | 88/217 [00:00<00:00, 210.72it/s]\u001b[A\n",
      " 51%|█████     | 110/217 [00:00<00:00, 210.67it/s]\u001b[A\n",
      " 61%|██████    | 132/217 [00:00<00:00, 210.34it/s]\u001b[A\n",
      " 71%|███████   | 154/217 [00:00<00:00, 210.55it/s]\u001b[A\n",
      " 81%|████████  | 176/217 [00:00<00:00, 211.13it/s]\u001b[A\n",
      "100%|██████████| 217/217 [00:01<00:00, 210.62it/s]\u001b[A\n",
      " 49%|████▉     | 49/100 [01:04<00:49,  1.04it/s]\n",
      "  0%|          | 0/213 [00:00<?, ?it/s]\u001b[A\n",
      " 10%|█         | 22/213 [00:00<00:00, 215.05it/s]\u001b[A\n",
      " 21%|██        | 44/213 [00:00<00:00, 212.28it/s]\u001b[A\n",
      " 31%|███       | 66/213 [00:00<00:00, 212.30it/s]\u001b[A\n",
      " 41%|████▏     | 88/213 [00:00<00:00, 211.81it/s]\u001b[A\n",
      " 52%|█████▏    | 110/213 [00:00<00:00, 211.87it/s]\u001b[A\n",
      " 62%|██████▏   | 132/213 [00:00<00:00, 211.03it/s]\u001b[A\n",
      " 72%|███████▏  | 154/213 [00:00<00:00, 211.53it/s]\u001b[A\n",
      " 83%|████████▎ | 176/213 [00:00<00:00, 211.51it/s]\u001b[A\n",
      "100%|██████████| 213/213 [00:01<00:00, 211.26it/s]\u001b[A\n",
      " 50%|█████     | 50/100 [01:05<00:48,  1.02it/s]\n",
      "  0%|          | 0/128 [00:00<?, ?it/s]\u001b[A\n",
      " 17%|█▋        | 22/128 [00:00<00:00, 213.00it/s]\u001b[A\n",
      " 34%|███▍      | 44/128 [00:00<00:00, 212.06it/s]\u001b[A\n",
      " 52%|█████▏    | 66/128 [00:00<00:00, 211.44it/s]\u001b[A\n",
      " 69%|██████▉   | 88/128 [00:00<00:00, 211.58it/s]\u001b[A\n",
      "100%|██████████| 128/128 [00:00<00:00, 211.28it/s]\u001b[A\n",
      " 51%|█████     | 51/100 [01:06<00:42,  1.15it/s]\n",
      "  0%|          | 0/195 [00:00<?, ?it/s]\u001b[A\n",
      " 11%|█▏        | 22/195 [00:00<00:00, 212.67it/s]\u001b[A\n",
      " 23%|██▎       | 44/195 [00:00<00:00, 210.93it/s]\u001b[A\n",
      " 34%|███▍      | 66/195 [00:00<00:00, 211.04it/s]\u001b[A\n",
      " 45%|████▌     | 88/195 [00:00<00:00, 210.90it/s]\u001b[A\n",
      " 56%|█████▋    | 110/195 [00:00<00:00, 211.27it/s]\u001b[A\n",
      " 68%|██████▊   | 132/195 [00:00<00:00, 211.17it/s]\u001b[A\n",
      " 79%|███████▉  | 154/195 [00:00<00:00, 211.34it/s]\u001b[A\n",
      "100%|██████████| 195/195 [00:00<00:00, 211.03it/s]\u001b[A\n",
      " 52%|█████▏    | 52/100 [01:06<00:42,  1.13it/s]\n",
      "  0%|          | 0/129 [00:00<?, ?it/s]\u001b[A\n",
      " 17%|█▋        | 22/129 [00:00<00:00, 213.25it/s]\u001b[A\n",
      " 34%|███▍      | 44/129 [00:00<00:00, 210.86it/s]\u001b[A\n",
      " 51%|█████     | 66/129 [00:00<00:00, 211.55it/s]\u001b[A\n",
      " 68%|██████▊   | 88/129 [00:00<00:00, 211.42it/s]\u001b[A\n",
      "100%|██████████| 129/129 [00:00<00:00, 210.79it/s]\u001b[A\n",
      " 53%|█████▎    | 53/100 [01:07<00:37,  1.24it/s]\n",
      "  0%|          | 0/193 [00:00<?, ?it/s]\u001b[A\n",
      " 11%|█▏        | 22/193 [00:00<00:00, 214.23it/s]\u001b[A\n",
      " 23%|██▎       | 44/193 [00:00<00:00, 210.80it/s]\u001b[A\n",
      " 34%|███▍      | 66/193 [00:00<00:00, 210.76it/s]\u001b[A\n",
      " 46%|████▌     | 88/193 [00:00<00:00, 210.84it/s]\u001b[A\n",
      " 57%|█████▋    | 110/193 [00:00<00:00, 210.84it/s]\u001b[A\n",
      " 68%|██████▊   | 132/193 [00:00<00:00, 210.60it/s]\u001b[A\n",
      " 80%|███████▉  | 154/193 [00:00<00:00, 211.18it/s]\u001b[A\n",
      "100%|██████████| 193/193 [00:00<00:00, 210.69it/s]\u001b[A\n",
      " 54%|█████▍    | 54/100 [01:08<00:38,  1.19it/s]\n",
      "  0%|          | 0/175 [00:00<?, ?it/s]\u001b[A\n",
      " 13%|█▎        | 22/175 [00:00<00:00, 215.17it/s]\u001b[A\n",
      " 25%|██▌       | 44/175 [00:00<00:00, 212.58it/s]\u001b[A\n",
      " 38%|███▊      | 66/175 [00:00<00:00, 212.43it/s]\u001b[A\n",
      " 50%|█████     | 88/175 [00:00<00:00, 212.95it/s]\u001b[A\n",
      " 63%|██████▎   | 110/175 [00:00<00:00, 212.70it/s]\u001b[A\n",
      " 75%|███████▌  | 132/175 [00:00<00:00, 211.49it/s]\u001b[A\n",
      "100%|██████████| 175/175 [00:00<00:00, 211.79it/s]\u001b[A\n",
      " 55%|█████▌    | 55/100 [01:09<00:37,  1.20it/s]\n",
      "  0%|          | 0/181 [00:00<?, ?it/s]\u001b[A\n",
      " 12%|█▏        | 22/181 [00:00<00:00, 214.54it/s]\u001b[A\n",
      " 24%|██▍       | 44/181 [00:00<00:00, 209.72it/s]\u001b[A\n",
      " 36%|███▋      | 66/181 [00:00<00:00, 210.56it/s]\u001b[A\n",
      " 49%|████▊     | 88/181 [00:00<00:00, 211.23it/s]\u001b[A\n",
      " 61%|██████    | 110/181 [00:00<00:00, 212.18it/s]\u001b[A\n",
      " 73%|███████▎  | 132/181 [00:00<00:00, 211.39it/s]\u001b[A\n",
      " 85%|████████▌ | 154/181 [00:00<00:00, 211.59it/s]\u001b[A\n",
      "100%|██████████| 181/181 [00:00<00:00, 210.73it/s]\u001b[A\n",
      " 56%|█████▌    | 56/100 [01:10<00:37,  1.19it/s]\n",
      "  0%|          | 0/248 [00:00<?, ?it/s]\u001b[A\n",
      "  9%|▉         | 22/248 [00:00<00:01, 215.87it/s]\u001b[A\n",
      " 18%|█▊        | 44/248 [00:00<00:00, 213.03it/s]\u001b[A\n",
      " 27%|██▋       | 66/248 [00:00<00:00, 211.73it/s]\u001b[A\n",
      " 35%|███▌      | 88/248 [00:00<00:00, 212.09it/s]\u001b[A\n",
      " 44%|████▍     | 110/248 [00:00<00:00, 212.24it/s]\u001b[A\n",
      " 53%|█████▎    | 132/248 [00:00<00:00, 211.59it/s]\u001b[A\n",
      " 62%|██████▏   | 154/248 [00:00<00:00, 210.91it/s]\u001b[A\n",
      " 71%|███████   | 176/248 [00:00<00:00, 211.03it/s]\u001b[A\n",
      " 80%|███████▉  | 198/248 [00:00<00:00, 211.49it/s]\u001b[A\n",
      " 89%|████████▊ | 220/248 [00:01<00:00, 211.59it/s]\u001b[A\n",
      "100%|██████████| 248/248 [00:01<00:00, 211.27it/s]\u001b[A\n",
      " 57%|█████▋    | 57/100 [01:11<00:40,  1.06it/s]\n",
      "  0%|          | 0/189 [00:00<?, ?it/s]\u001b[A\n",
      " 12%|█▏        | 22/189 [00:00<00:00, 217.11it/s]\u001b[A\n",
      " 23%|██▎       | 44/189 [00:00<00:00, 213.89it/s]\u001b[A\n",
      " 35%|███▍      | 66/189 [00:00<00:00, 212.57it/s]\u001b[A\n",
      " 47%|████▋     | 88/189 [00:00<00:00, 212.55it/s]\u001b[A\n",
      " 58%|█████▊    | 110/189 [00:00<00:00, 212.31it/s]\u001b[A\n",
      " 70%|██████▉   | 132/189 [00:00<00:00, 212.18it/s]\u001b[A\n",
      " 81%|████████▏ | 154/189 [00:00<00:00, 211.98it/s]\u001b[A\n",
      "100%|██████████| 189/189 [00:00<00:00, 211.93it/s]\u001b[A\n",
      " 58%|█████▊    | 58/100 [01:12<00:39,  1.08it/s]\n",
      "  0%|          | 0/186 [00:00<?, ?it/s]\u001b[A\n",
      " 12%|█▏        | 22/186 [00:00<00:00, 215.51it/s]\u001b[A\n",
      " 24%|██▎       | 44/186 [00:00<00:00, 212.21it/s]\u001b[A\n",
      " 35%|███▌      | 66/186 [00:00<00:00, 212.02it/s]\u001b[A\n",
      " 47%|████▋     | 88/186 [00:00<00:00, 212.23it/s]\u001b[A\n",
      " 59%|█████▉    | 110/186 [00:00<00:00, 212.59it/s]\u001b[A\n",
      " 71%|███████   | 132/186 [00:00<00:00, 212.45it/s]\u001b[A\n",
      " 83%|████████▎ | 154/186 [00:00<00:00, 212.00it/s]\u001b[A\n",
      "100%|██████████| 186/186 [00:00<00:00, 211.68it/s]\u001b[A\n",
      " 59%|█████▉    | 59/100 [01:13<00:37,  1.09it/s]\n",
      "  0%|          | 0/192 [00:00<?, ?it/s]\u001b[A\n",
      " 11%|█▏        | 22/192 [00:00<00:00, 215.90it/s]\u001b[A\n",
      " 23%|██▎       | 44/192 [00:00<00:00, 213.34it/s]\u001b[A\n",
      " 34%|███▍      | 66/192 [00:00<00:00, 213.42it/s]\u001b[A\n",
      " 46%|████▌     | 88/192 [00:00<00:00, 212.97it/s]\u001b[A\n",
      " 57%|█████▋    | 110/192 [00:00<00:00, 212.56it/s]\u001b[A\n",
      " 69%|██████▉   | 132/192 [00:00<00:00, 212.86it/s]\u001b[A\n",
      " 80%|████████  | 154/192 [00:00<00:00, 212.13it/s]\u001b[A\n",
      "100%|██████████| 192/192 [00:00<00:00, 212.03it/s]\u001b[A\n",
      " 60%|██████    | 60/100 [01:14<00:36,  1.09it/s]\n",
      "  0%|          | 0/165 [00:00<?, ?it/s]\u001b[A\n",
      " 13%|█▎        | 22/165 [00:00<00:00, 216.95it/s]\u001b[A\n",
      " 27%|██▋       | 44/165 [00:00<00:00, 214.26it/s]\u001b[A\n",
      " 40%|████      | 66/165 [00:00<00:00, 212.83it/s]\u001b[A\n",
      " 53%|█████▎    | 88/165 [00:00<00:00, 212.40it/s]\u001b[A\n",
      " 67%|██████▋   | 110/165 [00:00<00:00, 212.55it/s]\u001b[A\n",
      " 80%|████████  | 132/165 [00:00<00:00, 212.40it/s]\u001b[A\n",
      "100%|██████████| 165/165 [00:00<00:00, 212.11it/s]\u001b[A\n",
      " 61%|██████    | 61/100 [01:14<00:34,  1.14it/s]\n",
      "  0%|          | 0/192 [00:00<?, ?it/s]\u001b[A\n",
      " 11%|█▏        | 22/192 [00:00<00:00, 213.04it/s]\u001b[A\n",
      " 23%|██▎       | 44/192 [00:00<00:00, 212.26it/s]\u001b[A\n",
      " 34%|███▍      | 66/192 [00:00<00:00, 212.63it/s]\u001b[A\n",
      " 46%|████▌     | 88/192 [00:00<00:00, 212.50it/s]\u001b[A\n",
      " 57%|█████▋    | 110/192 [00:00<00:00, 212.35it/s]\u001b[A\n",
      " 69%|██████▉   | 132/192 [00:00<00:00, 210.47it/s]\u001b[A\n",
      " 80%|████████  | 154/192 [00:00<00:00, 211.05it/s]\u001b[A\n",
      "100%|██████████| 192/192 [00:00<00:00, 211.18it/s]\u001b[A\n",
      " 62%|██████▏   | 62/100 [01:15<00:33,  1.13it/s]\n",
      "  0%|          | 0/174 [00:00<?, ?it/s]\u001b[A\n",
      " 13%|█▎        | 22/174 [00:00<00:00, 210.76it/s]\u001b[A\n",
      " 25%|██▌       | 44/174 [00:00<00:00, 211.41it/s]\u001b[A\n",
      " 38%|███▊      | 66/174 [00:00<00:00, 211.97it/s]\u001b[A\n",
      " 51%|█████     | 88/174 [00:00<00:00, 212.17it/s]\u001b[A\n",
      " 63%|██████▎   | 110/174 [00:00<00:00, 212.12it/s]\u001b[A\n",
      " 76%|███████▌  | 132/174 [00:00<00:00, 211.00it/s]\u001b[A\n",
      "100%|██████████| 174/174 [00:00<00:00, 211.48it/s]\u001b[A\n",
      " 63%|██████▎   | 63/100 [01:16<00:32,  1.15it/s]\n",
      "  0%|          | 0/137 [00:00<?, ?it/s]\u001b[A\n",
      " 16%|█▌        | 22/137 [00:00<00:00, 214.17it/s]\u001b[A\n",
      " 32%|███▏      | 44/137 [00:00<00:00, 212.81it/s]\u001b[A\n",
      " 48%|████▊     | 66/137 [00:00<00:00, 212.50it/s]\u001b[A\n",
      " 64%|██████▍   | 88/137 [00:00<00:00, 212.17it/s]\u001b[A\n",
      " 80%|████████  | 110/137 [00:00<00:00, 211.48it/s]\u001b[A\n",
      "100%|██████████| 137/137 [00:00<00:00, 210.70it/s]\u001b[A\n",
      " 64%|██████▍   | 64/100 [01:17<00:28,  1.25it/s]\n",
      "  0%|          | 0/145 [00:00<?, ?it/s]\u001b[A\n",
      " 15%|█▌        | 22/145 [00:00<00:00, 217.00it/s]\u001b[A\n",
      " 30%|███       | 44/145 [00:00<00:00, 213.92it/s]\u001b[A\n",
      " 46%|████▌     | 66/145 [00:00<00:00, 212.34it/s]\u001b[A\n",
      " 61%|██████    | 88/145 [00:00<00:00, 211.62it/s]\u001b[A\n",
      " 76%|███████▌  | 110/145 [00:00<00:00, 211.50it/s]\u001b[A\n",
      "100%|██████████| 145/145 [00:00<00:00, 211.09it/s]\u001b[A\n",
      " 65%|██████▌   | 65/100 [01:17<00:26,  1.30it/s]\n",
      "  0%|          | 0/162 [00:00<?, ?it/s]\u001b[A\n",
      " 14%|█▎        | 22/162 [00:00<00:00, 215.31it/s]\u001b[A\n",
      " 27%|██▋       | 44/162 [00:00<00:00, 212.98it/s]\u001b[A\n",
      " 41%|████      | 66/162 [00:00<00:00, 212.25it/s]\u001b[A\n",
      " 54%|█████▍    | 88/162 [00:00<00:00, 212.85it/s]\u001b[A\n",
      " 68%|██████▊   | 110/162 [00:00<00:00, 212.35it/s]\u001b[A\n",
      " 81%|████████▏ | 132/162 [00:00<00:00, 211.34it/s]\u001b[A\n",
      "100%|██████████| 162/162 [00:00<00:00, 211.11it/s]\u001b[A\n",
      " 66%|██████▌   | 66/100 [01:18<00:26,  1.30it/s]\n",
      "  0%|          | 0/190 [00:00<?, ?it/s]\u001b[A\n",
      " 12%|█▏        | 22/190 [00:00<00:00, 214.42it/s]\u001b[A\n",
      " 23%|██▎       | 44/190 [00:00<00:00, 212.49it/s]\u001b[A\n",
      " 35%|███▍      | 66/190 [00:00<00:00, 212.00it/s]\u001b[A\n",
      " 46%|████▋     | 88/190 [00:00<00:00, 211.03it/s]\u001b[A\n",
      " 58%|█████▊    | 110/190 [00:00<00:00, 210.76it/s]\u001b[A\n",
      " 69%|██████▉   | 132/190 [00:00<00:00, 210.92it/s]\u001b[A\n",
      " 81%|████████  | 154/190 [00:00<00:00, 210.80it/s]\u001b[A\n",
      "100%|██████████| 190/190 [00:00<00:00, 210.84it/s]\u001b[A\n",
      " 67%|██████▋   | 67/100 [01:19<00:26,  1.23it/s]\n",
      "  0%|          | 0/137 [00:00<?, ?it/s]\u001b[A\n",
      " 16%|█▌        | 22/137 [00:00<00:00, 214.80it/s]\u001b[A\n",
      " 32%|███▏      | 44/137 [00:00<00:00, 212.59it/s]\u001b[A\n",
      " 48%|████▊     | 66/137 [00:00<00:00, 210.93it/s]\u001b[A\n",
      " 64%|██████▍   | 88/137 [00:00<00:00, 210.54it/s]\u001b[A\n",
      " 80%|████████  | 110/137 [00:00<00:00, 210.73it/s]\u001b[A\n",
      "100%|██████████| 137/137 [00:00<00:00, 210.20it/s]\u001b[A\n",
      " 68%|██████▊   | 68/100 [01:20<00:24,  1.31it/s]\n",
      "  0%|          | 0/211 [00:00<?, ?it/s]\u001b[A\n",
      " 10%|█         | 22/211 [00:00<00:00, 215.16it/s]\u001b[A\n",
      " 21%|██        | 44/211 [00:00<00:00, 211.03it/s]\u001b[A\n",
      " 31%|███▏      | 66/211 [00:00<00:00, 211.11it/s]\u001b[A\n",
      " 42%|████▏     | 88/211 [00:00<00:00, 211.26it/s]\u001b[A\n",
      " 52%|█████▏    | 110/211 [00:00<00:00, 211.44it/s]\u001b[A\n",
      " 63%|██████▎   | 132/211 [00:00<00:00, 210.69it/s]\u001b[A\n",
      " 73%|███████▎  | 154/211 [00:00<00:00, 211.17it/s]\u001b[A\n",
      " 83%|████████▎ | 176/211 [00:00<00:00, 211.19it/s]\u001b[A\n",
      "100%|██████████| 211/211 [00:01<00:00, 210.53it/s]\u001b[A\n",
      " 69%|██████▉   | 69/100 [01:21<00:25,  1.20it/s]\n",
      "  0%|          | 0/128 [00:00<?, ?it/s]\u001b[A\n",
      " 17%|█▋        | 22/128 [00:00<00:00, 213.29it/s]\u001b[A\n",
      " 34%|███▍      | 44/128 [00:00<00:00, 211.76it/s]\u001b[A\n",
      " 52%|█████▏    | 66/128 [00:00<00:00, 211.96it/s]\u001b[A\n",
      " 69%|██████▉   | 88/128 [00:00<00:00, 211.80it/s]\u001b[A\n",
      "100%|██████████| 128/128 [00:00<00:00, 211.22it/s]\u001b[A\n",
      " 70%|███████   | 70/100 [01:21<00:23,  1.30it/s]\n",
      "  0%|          | 0/161 [00:00<?, ?it/s]\u001b[A\n",
      " 14%|█▎        | 22/161 [00:00<00:00, 213.63it/s]\u001b[A\n",
      " 27%|██▋       | 44/161 [00:00<00:00, 211.34it/s]\u001b[A\n",
      " 41%|████      | 66/161 [00:00<00:00, 210.76it/s]\u001b[A\n",
      " 55%|█████▍    | 88/161 [00:00<00:00, 211.12it/s]\u001b[A\n",
      " 68%|██████▊   | 110/161 [00:00<00:00, 211.77it/s]\u001b[A\n",
      " 82%|████████▏ | 132/161 [00:00<00:00, 210.88it/s]\u001b[A\n",
      "100%|██████████| 161/161 [00:00<00:00, 210.23it/s]\u001b[A\n",
      " 71%|███████   | 71/100 [01:22<00:22,  1.30it/s]\n",
      "  0%|          | 0/191 [00:00<?, ?it/s]\u001b[A\n",
      " 12%|█▏        | 22/191 [00:00<00:00, 214.70it/s]\u001b[A\n",
      " 23%|██▎       | 44/191 [00:00<00:00, 211.33it/s]\u001b[A\n",
      " 35%|███▍      | 66/191 [00:00<00:00, 210.87it/s]\u001b[A\n",
      " 46%|████▌     | 88/191 [00:00<00:00, 210.59it/s]\u001b[A\n",
      " 58%|█████▊    | 110/191 [00:00<00:00, 209.97it/s]\u001b[A\n",
      " 69%|██████▉   | 132/191 [00:00<00:00, 210.48it/s]\u001b[A\n",
      " 81%|████████  | 154/191 [00:00<00:00, 211.20it/s]\u001b[A\n",
      "100%|██████████| 191/191 [00:00<00:00, 210.74it/s]\u001b[A\n",
      " 72%|███████▏  | 72/100 [01:23<00:22,  1.23it/s]\n",
      "  0%|          | 0/194 [00:00<?, ?it/s]\u001b[A\n",
      " 11%|█▏        | 22/194 [00:00<00:00, 213.11it/s]\u001b[A\n",
      " 23%|██▎       | 44/194 [00:00<00:00, 211.86it/s]\u001b[A\n",
      " 34%|███▍      | 66/194 [00:00<00:00, 210.76it/s]\u001b[A\n",
      " 45%|████▌     | 88/194 [00:00<00:00, 210.88it/s]\u001b[A\n",
      " 57%|█████▋    | 110/194 [00:00<00:00, 211.32it/s]\u001b[A\n",
      " 68%|██████▊   | 132/194 [00:00<00:00, 211.52it/s]\u001b[A\n",
      " 79%|███████▉  | 154/194 [00:00<00:00, 211.59it/s]\u001b[A\n",
      "100%|██████████| 194/194 [00:00<00:00, 210.94it/s]\u001b[A\n",
      " 73%|███████▎  | 73/100 [01:24<00:22,  1.18it/s]\n",
      "  0%|          | 0/182 [00:00<?, ?it/s]\u001b[A\n",
      " 12%|█▏        | 22/182 [00:00<00:00, 213.15it/s]\u001b[A\n",
      " 24%|██▍       | 44/182 [00:00<00:00, 210.79it/s]\u001b[A\n",
      " 36%|███▋      | 66/182 [00:00<00:00, 210.69it/s]\u001b[A\n",
      " 48%|████▊     | 88/182 [00:00<00:00, 210.65it/s]\u001b[A\n",
      " 60%|██████    | 110/182 [00:00<00:00, 209.81it/s]\u001b[A\n",
      " 72%|███████▏  | 131/182 [00:00<00:00, 209.09it/s]\u001b[A\n",
      " 84%|████████▍ | 153/182 [00:00<00:00, 209.87it/s]\u001b[A\n",
      "100%|██████████| 182/182 [00:00<00:00, 209.40it/s]\u001b[A\n",
      " 74%|███████▍  | 74/100 [01:25<00:22,  1.17it/s]\n",
      "  0%|          | 0/169 [00:00<?, ?it/s]\u001b[A\n",
      " 13%|█▎        | 22/169 [00:00<00:00, 214.32it/s]\u001b[A\n",
      " 26%|██▌       | 44/169 [00:00<00:00, 212.79it/s]\u001b[A\n",
      " 39%|███▉      | 66/169 [00:00<00:00, 212.53it/s]\u001b[A\n",
      " 52%|█████▏    | 88/169 [00:00<00:00, 212.91it/s]\u001b[A\n"
     ]
    },
    {
     "name": "stderr",
     "output_type": "stream",
     "text": [
      " 65%|██████▌   | 110/169 [00:00<00:00, 211.58it/s]\u001b[A\n",
      " 78%|███████▊  | 132/169 [00:00<00:00, 211.34it/s]\u001b[A\n",
      "100%|██████████| 169/169 [00:00<00:00, 211.66it/s]\u001b[A\n",
      " 75%|███████▌  | 75/100 [01:26<00:20,  1.19it/s]\n",
      "  0%|          | 0/187 [00:00<?, ?it/s]\u001b[A\n",
      " 12%|█▏        | 22/187 [00:00<00:00, 214.69it/s]\u001b[A\n",
      " 24%|██▎       | 44/187 [00:00<00:00, 212.52it/s]\u001b[A\n",
      " 35%|███▌      | 66/187 [00:00<00:00, 212.01it/s]\u001b[A\n",
      " 47%|████▋     | 88/187 [00:00<00:00, 212.22it/s]\u001b[A\n",
      " 59%|█████▉    | 110/187 [00:00<00:00, 211.45it/s]\u001b[A\n",
      " 71%|███████   | 132/187 [00:00<00:00, 211.81it/s]\u001b[A\n",
      " 82%|████████▏ | 154/187 [00:00<00:00, 211.46it/s]\u001b[A\n",
      "100%|██████████| 187/187 [00:00<00:00, 211.01it/s]\u001b[A\n",
      " 76%|███████▌  | 76/100 [01:27<00:20,  1.17it/s]\n",
      "  0%|          | 0/178 [00:00<?, ?it/s]\u001b[A\n",
      " 12%|█▏        | 22/178 [00:00<00:00, 215.45it/s]\u001b[A\n",
      " 25%|██▍       | 44/178 [00:00<00:00, 214.32it/s]\u001b[A\n",
      " 37%|███▋      | 66/178 [00:00<00:00, 212.50it/s]\u001b[A\n",
      " 49%|████▉     | 88/178 [00:00<00:00, 212.56it/s]\u001b[A\n",
      " 62%|██████▏   | 110/178 [00:00<00:00, 212.57it/s]\u001b[A\n",
      " 74%|███████▍  | 132/178 [00:00<00:00, 212.69it/s]\u001b[A\n",
      " 87%|████████▋ | 154/178 [00:00<00:00, 212.73it/s]\u001b[A\n",
      "100%|██████████| 178/178 [00:00<00:00, 212.25it/s]\u001b[A\n",
      " 77%|███████▋  | 77/100 [01:27<00:19,  1.18it/s]\n",
      "  0%|          | 0/172 [00:00<?, ?it/s]\u001b[A\n",
      " 13%|█▎        | 22/172 [00:00<00:00, 215.53it/s]\u001b[A\n",
      " 26%|██▌       | 44/172 [00:00<00:00, 212.99it/s]\u001b[A\n",
      " 38%|███▊      | 66/172 [00:00<00:00, 212.46it/s]\u001b[A\n",
      " 51%|█████     | 88/172 [00:00<00:00, 212.85it/s]\u001b[A\n",
      " 64%|██████▍   | 110/172 [00:00<00:00, 212.47it/s]\u001b[A\n",
      " 77%|███████▋  | 132/172 [00:00<00:00, 211.84it/s]\u001b[A\n",
      "100%|██████████| 172/172 [00:00<00:00, 211.96it/s]\u001b[A\n",
      " 78%|███████▊  | 78/100 [01:28<00:18,  1.19it/s]\n",
      "  0%|          | 0/170 [00:00<?, ?it/s]\u001b[A\n",
      " 13%|█▎        | 22/170 [00:00<00:00, 215.93it/s]\u001b[A\n",
      " 26%|██▌       | 44/170 [00:00<00:00, 212.89it/s]\u001b[A\n",
      " 39%|███▉      | 66/170 [00:00<00:00, 212.30it/s]\u001b[A\n",
      " 52%|█████▏    | 88/170 [00:00<00:00, 212.05it/s]\u001b[A\n",
      " 65%|██████▍   | 110/170 [00:00<00:00, 212.34it/s]\u001b[A\n",
      " 78%|███████▊  | 132/170 [00:00<00:00, 211.59it/s]\u001b[A\n",
      "100%|██████████| 170/170 [00:00<00:00, 211.38it/s]\u001b[A\n",
      " 79%|███████▉  | 79/100 [01:29<00:17,  1.21it/s]\n",
      "  0%|          | 0/145 [00:00<?, ?it/s]\u001b[A\n",
      " 15%|█▌        | 22/145 [00:00<00:00, 214.32it/s]\u001b[A\n",
      " 30%|███       | 44/145 [00:00<00:00, 212.23it/s]\u001b[A\n",
      " 46%|████▌     | 66/145 [00:00<00:00, 212.25it/s]\u001b[A\n",
      " 61%|██████    | 88/145 [00:00<00:00, 212.06it/s]\u001b[A\n",
      " 76%|███████▌  | 110/145 [00:00<00:00, 211.30it/s]\u001b[A\n",
      "100%|██████████| 145/145 [00:00<00:00, 210.92it/s]\u001b[A\n",
      " 80%|████████  | 80/100 [01:30<00:15,  1.27it/s]\n",
      "  0%|          | 0/149 [00:00<?, ?it/s]\u001b[A\n",
      " 14%|█▍        | 21/149 [00:00<00:00, 209.13it/s]\u001b[A\n",
      " 29%|██▉       | 43/149 [00:00<00:00, 210.79it/s]\u001b[A\n",
      " 44%|████▎     | 65/149 [00:00<00:00, 210.06it/s]\u001b[A\n",
      " 58%|█████▊    | 87/149 [00:00<00:00, 210.86it/s]\u001b[A\n",
      " 73%|███████▎  | 109/149 [00:00<00:00, 211.06it/s]\u001b[A\n",
      "100%|██████████| 149/149 [00:00<00:00, 210.27it/s]\u001b[A\n",
      " 81%|████████  | 81/100 [01:30<00:14,  1.31it/s]\n",
      "  0%|          | 0/169 [00:00<?, ?it/s]\u001b[A\n",
      " 13%|█▎        | 22/169 [00:00<00:00, 214.43it/s]\u001b[A\n",
      " 26%|██▌       | 44/169 [00:00<00:00, 212.26it/s]\u001b[A\n",
      " 39%|███▉      | 66/169 [00:00<00:00, 211.06it/s]\u001b[A\n",
      " 52%|█████▏    | 88/169 [00:00<00:00, 211.14it/s]\u001b[A\n",
      " 65%|██████▌   | 110/169 [00:00<00:00, 210.93it/s]\u001b[A\n",
      " 78%|███████▊  | 132/169 [00:00<00:00, 211.25it/s]\u001b[A\n",
      "100%|██████████| 169/169 [00:00<00:00, 210.67it/s]\u001b[A\n",
      " 82%|████████▏ | 82/100 [01:31<00:13,  1.29it/s]\n",
      "  0%|          | 0/129 [00:00<?, ?it/s]\u001b[A\n",
      " 17%|█▋        | 22/129 [00:00<00:00, 214.64it/s]\u001b[A\n",
      " 34%|███▍      | 44/129 [00:00<00:00, 211.74it/s]\u001b[A\n",
      " 51%|█████     | 66/129 [00:00<00:00, 211.51it/s]\u001b[A\n",
      " 68%|██████▊   | 88/129 [00:00<00:00, 211.19it/s]\u001b[A\n",
      "100%|██████████| 129/129 [00:00<00:00, 211.24it/s]\u001b[A\n",
      " 83%|████████▎ | 83/100 [01:32<00:12,  1.37it/s]\n",
      "  0%|          | 0/190 [00:00<?, ?it/s]\u001b[A\n",
      " 12%|█▏        | 22/190 [00:00<00:00, 214.41it/s]\u001b[A\n",
      " 23%|██▎       | 44/190 [00:00<00:00, 211.47it/s]\u001b[A\n",
      " 35%|███▍      | 66/190 [00:00<00:00, 212.59it/s]\u001b[A\n",
      " 46%|████▋     | 88/190 [00:00<00:00, 212.07it/s]\u001b[A\n",
      " 58%|█████▊    | 110/190 [00:00<00:00, 212.04it/s]\u001b[A\n",
      " 69%|██████▉   | 132/190 [00:00<00:00, 212.53it/s]\u001b[A\n",
      " 81%|████████  | 154/190 [00:00<00:00, 211.08it/s]\u001b[A\n",
      "100%|██████████| 190/190 [00:00<00:00, 211.22it/s]\u001b[A\n",
      " 84%|████████▍ | 84/100 [01:33<00:12,  1.28it/s]\n",
      "  0%|          | 0/162 [00:00<?, ?it/s]\u001b[A\n",
      " 14%|█▎        | 22/162 [00:00<00:00, 215.57it/s]\u001b[A\n",
      " 27%|██▋       | 44/162 [00:00<00:00, 211.71it/s]\u001b[A\n",
      " 41%|████      | 66/162 [00:00<00:00, 211.59it/s]\u001b[A\n",
      " 54%|█████▍    | 88/162 [00:00<00:00, 212.08it/s]\u001b[A\n",
      " 68%|██████▊   | 110/162 [00:00<00:00, 212.20it/s]\u001b[A\n",
      " 81%|████████▏ | 132/162 [00:00<00:00, 210.61it/s]\u001b[A\n",
      "100%|██████████| 162/162 [00:00<00:00, 210.41it/s]\u001b[A\n",
      " 85%|████████▌ | 85/100 [01:34<00:11,  1.28it/s]\n",
      "  0%|          | 0/165 [00:00<?, ?it/s]\u001b[A\n",
      " 13%|█▎        | 22/165 [00:00<00:00, 212.86it/s]\u001b[A\n",
      " 27%|██▋       | 44/165 [00:00<00:00, 211.82it/s]\u001b[A\n",
      " 40%|████      | 66/165 [00:00<00:00, 211.68it/s]\u001b[A\n",
      " 53%|█████▎    | 88/165 [00:00<00:00, 210.29it/s]\u001b[A\n",
      " 67%|██████▋   | 110/165 [00:00<00:00, 210.19it/s]\u001b[A\n",
      " 80%|████████  | 132/165 [00:00<00:00, 210.44it/s]\u001b[A\n",
      "100%|██████████| 165/165 [00:00<00:00, 210.23it/s]\u001b[A\n",
      " 86%|████████▌ | 86/100 [01:34<00:10,  1.28it/s]\n",
      "  0%|          | 0/204 [00:00<?, ?it/s]\u001b[A\n",
      " 11%|█         | 22/204 [00:00<00:00, 213.65it/s]\u001b[A\n",
      " 22%|██▏       | 44/204 [00:00<00:00, 212.28it/s]\u001b[A\n",
      " 32%|███▏      | 66/204 [00:00<00:00, 210.60it/s]\u001b[A\n",
      " 43%|████▎     | 88/204 [00:00<00:00, 210.78it/s]\u001b[A\n",
      " 54%|█████▍    | 110/204 [00:00<00:00, 211.07it/s]\u001b[A\n",
      " 65%|██████▍   | 132/204 [00:00<00:00, 211.77it/s]\u001b[A\n",
      " 75%|███████▌  | 154/204 [00:00<00:00, 210.83it/s]\u001b[A\n",
      " 86%|████████▋ | 176/204 [00:00<00:00, 210.91it/s]\u001b[A\n",
      "100%|██████████| 204/204 [00:00<00:00, 210.53it/s]\u001b[A\n",
      " 87%|████████▋ | 87/100 [01:35<00:10,  1.19it/s]\n",
      "  0%|          | 0/119 [00:00<?, ?it/s]\u001b[A\n",
      " 18%|█▊        | 22/119 [00:00<00:00, 215.90it/s]\u001b[A\n",
      " 37%|███▋      | 44/119 [00:00<00:00, 213.50it/s]\u001b[A\n",
      " 55%|█████▌    | 66/119 [00:00<00:00, 212.97it/s]\u001b[A\n",
      " 74%|███████▍  | 88/119 [00:00<00:00, 212.24it/s]\u001b[A\n",
      "100%|██████████| 119/119 [00:00<00:00, 211.59it/s]\u001b[A\n",
      " 88%|████████▊ | 88/100 [01:36<00:09,  1.32it/s]\n",
      "  0%|          | 0/166 [00:00<?, ?it/s]\u001b[A\n",
      " 13%|█▎        | 22/166 [00:00<00:00, 213.15it/s]\u001b[A\n",
      " 27%|██▋       | 44/166 [00:00<00:00, 212.17it/s]\u001b[A\n",
      " 40%|███▉      | 66/166 [00:00<00:00, 211.38it/s]\u001b[A\n",
      " 53%|█████▎    | 88/166 [00:00<00:00, 211.86it/s]\u001b[A\n",
      " 66%|██████▋   | 110/166 [00:00<00:00, 212.08it/s]\u001b[A\n",
      " 80%|███████▉  | 132/166 [00:00<00:00, 211.50it/s]\u001b[A\n",
      "100%|██████████| 166/166 [00:00<00:00, 210.98it/s]\u001b[A\n",
      " 89%|████████▉ | 89/100 [01:37<00:08,  1.30it/s]\n",
      "  0%|          | 0/185 [00:00<?, ?it/s]\u001b[A\n",
      " 12%|█▏        | 22/185 [00:00<00:00, 210.86it/s]\u001b[A\n",
      " 24%|██▍       | 44/185 [00:00<00:00, 210.04it/s]\u001b[A\n",
      " 36%|███▌      | 66/185 [00:00<00:00, 211.15it/s]\u001b[A\n",
      " 48%|████▊     | 88/185 [00:00<00:00, 210.79it/s]\u001b[A\n",
      " 59%|█████▉    | 110/185 [00:00<00:00, 210.73it/s]\u001b[A\n",
      " 71%|███████▏  | 132/185 [00:00<00:00, 210.52it/s]\u001b[A\n",
      " 83%|████████▎ | 154/185 [00:00<00:00, 209.96it/s]\u001b[A\n",
      "100%|██████████| 185/185 [00:00<00:00, 209.73it/s]\u001b[A\n",
      " 90%|█████████ | 90/100 [01:38<00:08,  1.25it/s]\n",
      "  0%|          | 0/143 [00:00<?, ?it/s]\u001b[A\n",
      " 15%|█▌        | 22/143 [00:00<00:00, 214.05it/s]\u001b[A\n",
      " 31%|███       | 44/143 [00:00<00:00, 212.00it/s]\u001b[A\n",
      " 46%|████▌     | 66/143 [00:00<00:00, 210.71it/s]\u001b[A\n",
      " 62%|██████▏   | 88/143 [00:00<00:00, 210.87it/s]\u001b[A\n",
      " 77%|███████▋  | 110/143 [00:00<00:00, 211.66it/s]\u001b[A\n",
      "100%|██████████| 143/143 [00:00<00:00, 210.38it/s]\u001b[A\n",
      " 91%|█████████ | 91/100 [01:38<00:06,  1.30it/s]\n",
      "  0%|          | 0/136 [00:00<?, ?it/s]\u001b[A\n",
      " 16%|█▌        | 22/136 [00:00<00:00, 215.10it/s]\u001b[A\n",
      " 32%|███▏      | 44/136 [00:00<00:00, 213.40it/s]\u001b[A\n",
      " 49%|████▊     | 66/136 [00:00<00:00, 213.15it/s]\u001b[A\n",
      " 65%|██████▍   | 88/136 [00:00<00:00, 211.69it/s]\u001b[A\n",
      " 81%|████████  | 110/136 [00:00<00:00, 212.07it/s]\u001b[A\n",
      "100%|██████████| 136/136 [00:00<00:00, 211.41it/s]\u001b[A\n",
      " 92%|█████████▏| 92/100 [01:39<00:05,  1.37it/s]\n",
      "  0%|          | 0/211 [00:00<?, ?it/s]\u001b[A\n",
      " 10%|▉         | 21/211 [00:00<00:00, 208.07it/s]\u001b[A\n",
      " 20%|█▉        | 42/211 [00:00<00:00, 206.84it/s]\u001b[A\n",
      " 30%|██▉       | 63/211 [00:00<00:00, 208.10it/s]\u001b[A\n",
      " 40%|████      | 85/211 [00:00<00:00, 209.36it/s]\u001b[A\n",
      " 51%|█████     | 107/211 [00:00<00:00, 210.35it/s]\u001b[A\n",
      " 61%|██████    | 129/211 [00:00<00:00, 210.89it/s]\u001b[A\n",
      " 72%|███████▏  | 151/211 [00:00<00:00, 211.23it/s]\u001b[A\n",
      " 82%|████████▏ | 173/211 [00:00<00:00, 211.73it/s]\u001b[A\n",
      "100%|██████████| 211/211 [00:01<00:00, 210.57it/s]\u001b[A\n",
      " 93%|█████████▎| 93/100 [01:40<00:05,  1.23it/s]\n",
      "  0%|          | 0/145 [00:00<?, ?it/s]\u001b[A\n",
      " 15%|█▌        | 22/145 [00:00<00:00, 213.36it/s]\u001b[A\n",
      " 30%|███       | 44/145 [00:00<00:00, 212.28it/s]\u001b[A\n",
      " 46%|████▌     | 66/145 [00:00<00:00, 212.51it/s]\u001b[A\n",
      " 61%|██████    | 88/145 [00:00<00:00, 211.36it/s]\u001b[A\n",
      " 76%|███████▌  | 110/145 [00:00<00:00, 211.81it/s]\u001b[A\n",
      "100%|██████████| 145/145 [00:00<00:00, 211.20it/s]\u001b[A\n",
      " 94%|█████████▍| 94/100 [01:41<00:04,  1.29it/s]\n",
      "  0%|          | 0/205 [00:00<?, ?it/s]\u001b[A\n",
      " 10%|█         | 21/205 [00:00<00:00, 208.53it/s]\u001b[A\n",
      " 21%|██        | 43/205 [00:00<00:00, 211.16it/s]\u001b[A\n",
      " 32%|███▏      | 65/205 [00:00<00:00, 210.70it/s]\u001b[A\n",
      " 42%|████▏     | 87/205 [00:00<00:00, 211.03it/s]\u001b[A\n",
      " 53%|█████▎    | 109/205 [00:00<00:00, 211.23it/s]\u001b[A\n",
      " 64%|██████▍   | 131/205 [00:00<00:00, 211.45it/s]\u001b[A\n",
      " 75%|███████▍  | 153/205 [00:00<00:00, 211.30it/s]\u001b[A\n",
      " 85%|████████▌ | 175/205 [00:00<00:00, 211.44it/s]\u001b[A\n",
      "100%|██████████| 205/205 [00:00<00:00, 210.62it/s]\u001b[A\n",
      " 95%|█████████▌| 95/100 [01:42<00:04,  1.20it/s]\n",
      "  0%|          | 0/110 [00:00<?, ?it/s]\u001b[A\n",
      " 20%|██        | 22/110 [00:00<00:00, 211.82it/s]\u001b[A\n",
      " 40%|████      | 44/110 [00:00<00:00, 211.95it/s]\u001b[A\n",
      " 60%|██████    | 66/110 [00:00<00:00, 211.76it/s]\u001b[A\n",
      " 80%|████████  | 88/110 [00:00<00:00, 211.96it/s]\u001b[A\n",
      "100%|██████████| 110/110 [00:00<00:00, 211.18it/s]\u001b[A\n",
      " 96%|█████████▌| 96/100 [01:42<00:02,  1.35it/s]\n",
      "  0%|          | 0/127 [00:00<?, ?it/s]\u001b[A\n",
      " 17%|█▋        | 21/127 [00:00<00:00, 208.05it/s]\u001b[A\n",
      " 33%|███▎      | 42/127 [00:00<00:00, 208.84it/s]\u001b[A\n",
      " 50%|█████     | 64/127 [00:00<00:00, 210.61it/s]\u001b[A\n",
      " 68%|██████▊   | 86/127 [00:00<00:00, 211.02it/s]\u001b[A\n",
      "100%|██████████| 127/127 [00:00<00:00, 210.80it/s]\u001b[A\n",
      " 97%|█████████▋| 97/100 [01:43<00:02,  1.43it/s]\n",
      "  0%|          | 0/174 [00:00<?, ?it/s]\u001b[A\n",
      " 13%|█▎        | 22/174 [00:00<00:00, 213.61it/s]\u001b[A\n",
      " 25%|██▌       | 44/174 [00:00<00:00, 212.37it/s]\u001b[A\n",
      " 38%|███▊      | 66/174 [00:00<00:00, 212.37it/s]\u001b[A\n",
      " 51%|█████     | 88/174 [00:00<00:00, 211.79it/s]\u001b[A\n",
      " 63%|██████▎   | 110/174 [00:00<00:00, 211.95it/s]\u001b[A\n",
      " 76%|███████▌  | 132/174 [00:00<00:00, 212.02it/s]\u001b[A\n",
      "100%|██████████| 174/174 [00:00<00:00, 211.97it/s]\u001b[A\n",
      " 98%|█████████▊| 98/100 [01:43<00:01,  1.35it/s]\n",
      "  0%|          | 0/154 [00:00<?, ?it/s]\u001b[A\n",
      " 14%|█▍        | 22/154 [00:00<00:00, 213.58it/s]\u001b[A\n",
      " 29%|██▊       | 44/154 [00:00<00:00, 211.04it/s]\u001b[A\n",
      " 43%|████▎     | 66/154 [00:00<00:00, 211.87it/s]\u001b[A\n",
      " 57%|█████▋    | 88/154 [00:00<00:00, 212.02it/s]\u001b[A\n",
      " 71%|███████▏  | 110/154 [00:00<00:00, 212.09it/s]\u001b[A\n",
      " 86%|████████▌ | 132/154 [00:00<00:00, 212.35it/s]\u001b[A\n",
      "100%|██████████| 154/154 [00:00<00:00, 211.78it/s]\u001b[A\n",
      " 99%|█████████▉| 99/100 [01:44<00:00,  1.36it/s]\n",
      "  0%|          | 0/150 [00:00<?, ?it/s]\u001b[A\n",
      " 15%|█▍        | 22/150 [00:00<00:00, 211.23it/s]\u001b[A\n",
      " 29%|██▉       | 44/150 [00:00<00:00, 211.65it/s]\u001b[A\n",
      " 44%|████▍     | 66/150 [00:00<00:00, 211.94it/s]\u001b[A\n",
      " 59%|█████▊    | 88/150 [00:00<00:00, 211.31it/s]\u001b[A\n",
      " 73%|███████▎  | 110/150 [00:00<00:00, 211.34it/s]\u001b[A\n",
      "100%|██████████| 150/150 [00:00<00:00, 210.97it/s]\u001b[A\n",
      "100%|██████████| 100/100 [01:45<00:00,  1.05s/it]\n",
      "100%|██████████| 193/193 [00:00<00:00, 230.08it/s]\n",
      " 22%|██▏       | 22/100 [01:19<03:28,  2.67s/it]"
     ]
    },
    {
     "name": "stdout",
     "output_type": "stream",
     "text": [
      "Gradient overflow.  Skipping step, loss scaler 0 reducing loss scale to 524288.0\n"
     ]
    },
    {
     "name": "stderr",
     "output_type": "stream",
     "text": [
      " 31%|███       | 31/100 [01:41<02:46,  2.41s/it]"
     ]
    },
    {
     "name": "stdout",
     "output_type": "stream",
     "text": [
      "Gradient overflow.  Skipping step, loss scaler 0 reducing loss scale to 524288.0\n"
     ]
    },
    {
     "name": "stderr",
     "output_type": "stream",
     "text": [
      " 41%|████      | 41/100 [02:01<01:44,  1.77s/it]"
     ]
    },
    {
     "name": "stdout",
     "output_type": "stream",
     "text": [
      "Gradient overflow.  Skipping step, loss scaler 0 reducing loss scale to 524288.0\n"
     ]
    },
    {
     "name": "stderr",
     "output_type": "stream",
     "text": [
      "\r",
      " 42%|████▏     | 42/100 [02:02<01:35,  1.65s/it]"
     ]
    },
    {
     "name": "stdout",
     "output_type": "stream",
     "text": [
      "Gradient overflow.  Skipping step, loss scaler 0 reducing loss scale to 262144.0\n",
      "Gradient overflow.  Skipping step, loss scaler 0 reducing loss scale to 131072.0\n"
     ]
    },
    {
     "name": "stderr",
     "output_type": "stream",
     "text": [
      " 75%|███████▌  | 75/100 [03:02<00:44,  1.76s/it]"
     ]
    },
    {
     "name": "stdout",
     "output_type": "stream",
     "text": [
      "Gradient overflow.  Skipping step, loss scaler 0 reducing loss scale to 524288.0\n"
     ]
    },
    {
     "name": "stderr",
     "output_type": "stream",
     "text": [
      " 87%|████████▋ | 87/100 [03:22<00:22,  1.76s/it]"
     ]
    },
    {
     "name": "stdout",
     "output_type": "stream",
     "text": [
      "Gradient overflow.  Skipping step, loss scaler 0 reducing loss scale to 524288.0\n"
     ]
    },
    {
     "name": "stderr",
     "output_type": "stream",
     "text": [
      "100%|██████████| 100/100 [03:42<00:00,  2.23s/it]\n",
      "100%|██████████| 193/193 [00:00<00:00, 229.15it/s]\n",
      "  0%|          | 0/100 [00:00<?, ?it/s]"
     ]
    },
    {
     "name": "stdout",
     "output_type": "stream",
     "text": [
      "Gradient overflow.  Skipping step, loss scaler 0 reducing loss scale to 524288.0\n"
     ]
    },
    {
     "name": "stderr",
     "output_type": "stream",
     "text": [
      "\r",
      "  1%|          | 1/100 [00:13<21:56, 13.29s/it]"
     ]
    },
    {
     "name": "stdout",
     "output_type": "stream",
     "text": [
      "Gradient overflow.  Skipping step, loss scaler 0 reducing loss scale to 262144.0\n"
     ]
    },
    {
     "name": "stderr",
     "output_type": "stream",
     "text": [
      " 12%|█▏        | 12/100 [00:53<04:24,  3.01s/it]"
     ]
    },
    {
     "name": "stdout",
     "output_type": "stream",
     "text": [
      "Gradient overflow.  Skipping step, loss scaler 0 reducing loss scale to 524288.0\n",
      "Gradient overflow.  Skipping step, loss scaler 0 reducing loss scale to 262144.0\n"
     ]
    },
    {
     "name": "stderr",
     "output_type": "stream",
     "text": [
      " 27%|██▋       | 27/100 [01:30<02:46,  2.28s/it]"
     ]
    },
    {
     "name": "stdout",
     "output_type": "stream",
     "text": [
      "Gradient overflow.  Skipping step, loss scaler 0 reducing loss scale to 524288.0\n"
     ]
    },
    {
     "name": "stderr",
     "output_type": "stream",
     "text": [
      " 36%|███▌      | 36/100 [01:52<02:40,  2.51s/it]"
     ]
    },
    {
     "name": "stdout",
     "output_type": "stream",
     "text": [
      "Gradient overflow.  Skipping step, loss scaler 0 reducing loss scale to 524288.0\n"
     ]
    },
    {
     "name": "stderr",
     "output_type": "stream",
     "text": [
      " 42%|████▏     | 42/100 [02:02<01:35,  1.65s/it]"
     ]
    },
    {
     "name": "stdout",
     "output_type": "stream",
     "text": [
      "Gradient overflow.  Skipping step, loss scaler 0 reducing loss scale to 262144.0\n",
      "Gradient overflow.  Skipping step, loss scaler 0 reducing loss scale to 131072.0\n"
     ]
    },
    {
     "name": "stderr",
     "output_type": "stream",
     "text": [
      " 75%|███████▌  | 75/100 [03:02<00:44,  1.77s/it]"
     ]
    },
    {
     "name": "stdout",
     "output_type": "stream",
     "text": [
      "Gradient overflow.  Skipping step, loss scaler 0 reducing loss scale to 524288.0\n"
     ]
    },
    {
     "name": "stderr",
     "output_type": "stream",
     "text": [
      " 87%|████████▋ | 87/100 [03:22<00:22,  1.76s/it]"
     ]
    },
    {
     "name": "stdout",
     "output_type": "stream",
     "text": [
      "Gradient overflow.  Skipping step, loss scaler 0 reducing loss scale to 524288.0\n"
     ]
    },
    {
     "name": "stderr",
     "output_type": "stream",
     "text": [
      " 91%|█████████ | 91/100 [03:28<00:14,  1.61s/it]"
     ]
    },
    {
     "name": "stdout",
     "output_type": "stream",
     "text": [
      "Gradient overflow.  Skipping step, loss scaler 0 reducing loss scale to 262144.0\n"
     ]
    },
    {
     "name": "stderr",
     "output_type": "stream",
     "text": [
      "100%|██████████| 100/100 [03:42<00:00,  2.23s/it]\n",
      "100%|██████████| 193/193 [00:00<00:00, 220.85it/s]\n",
      "  1%|          | 1/100 [00:13<22:07, 13.41s/it]"
     ]
    },
    {
     "name": "stdout",
     "output_type": "stream",
     "text": [
      "Gradient overflow.  Skipping step, loss scaler 0 reducing loss scale to 262144.0\n"
     ]
    },
    {
     "name": "stderr",
     "output_type": "stream",
     "text": [
      " 11%|█         | 11/100 [00:53<04:46,  3.22s/it]"
     ]
    },
    {
     "name": "stdout",
     "output_type": "stream",
     "text": [
      "Gradient overflow.  Skipping step, loss scaler 0 reducing loss scale to 262144.0\n"
     ]
    },
    {
     "name": "stderr",
     "output_type": "stream",
     "text": [
      " 27%|██▋       | 27/100 [01:35<02:56,  2.42s/it]"
     ]
    },
    {
     "name": "stdout",
     "output_type": "stream",
     "text": [
      "Gradient overflow.  Skipping step, loss scaler 0 reducing loss scale to 524288.0\n"
     ]
    },
    {
     "name": "stderr",
     "output_type": "stream",
     "text": [
      " 35%|███▌      | 35/100 [01:56<02:46,  2.56s/it]"
     ]
    },
    {
     "name": "stdout",
     "output_type": "stream",
     "text": [
      "Gradient overflow.  Skipping step, loss scaler 0 reducing loss scale to 524288.0\n"
     ]
    },
    {
     "name": "stderr",
     "output_type": "stream",
     "text": [
      " 42%|████▏     | 42/100 [02:09<01:41,  1.75s/it]"
     ]
    },
    {
     "name": "stdout",
     "output_type": "stream",
     "text": [
      "Gradient overflow.  Skipping step, loss scaler 0 reducing loss scale to 262144.0\n",
      "Gradient overflow.  Skipping step, loss scaler 0 reducing loss scale to 131072.0\n"
     ]
    },
    {
     "name": "stderr",
     "output_type": "stream",
     "text": [
      " 75%|███████▌  | 75/100 [03:13<00:47,  1.89s/it]"
     ]
    },
    {
     "name": "stdout",
     "output_type": "stream",
     "text": [
      "Gradient overflow.  Skipping step, loss scaler 0 reducing loss scale to 524288.0\n"
     ]
    },
    {
     "name": "stderr",
     "output_type": "stream",
     "text": [
      " 87%|████████▋ | 87/100 [03:35<00:24,  1.89s/it]"
     ]
    },
    {
     "name": "stdout",
     "output_type": "stream",
     "text": [
      "Gradient overflow.  Skipping step, loss scaler 0 reducing loss scale to 524288.0\n"
     ]
    },
    {
     "name": "stderr",
     "output_type": "stream",
     "text": [
      "100%|██████████| 100/100 [03:57<00:00,  2.37s/it]\n",
      "100%|██████████| 193/193 [00:00<00:00, 217.98it/s]\n",
      "  0%|          | 0/100 [00:00<?, ?it/s]"
     ]
    },
    {
     "name": "stdout",
     "output_type": "stream",
     "text": [
      "Gradient overflow.  Skipping step, loss scaler 0 reducing loss scale to 524288.0\n"
     ]
    },
    {
     "name": "stderr",
     "output_type": "stream",
     "text": [
      "\r",
      "  1%|          | 1/100 [00:14<23:26, 14.20s/it]"
     ]
    },
    {
     "name": "stdout",
     "output_type": "stream",
     "text": [
      "Gradient overflow.  Skipping step, loss scaler 0 reducing loss scale to 262144.0\n"
     ]
    },
    {
     "name": "stderr",
     "output_type": "stream",
     "text": [
      "  5%|▌         | 5/100 [00:35<09:23,  5.93s/it]"
     ]
    },
    {
     "name": "stdout",
     "output_type": "stream",
     "text": [
      "Gradient overflow.  Skipping step, loss scaler 0 reducing loss scale to 262144.0\n"
     ]
    },
    {
     "name": "stderr",
     "output_type": "stream",
     "text": [
      " 15%|█▌        | 15/100 [01:05<04:05,  2.88s/it]"
     ]
    },
    {
     "name": "stdout",
     "output_type": "stream",
     "text": [
      "Gradient overflow.  Skipping step, loss scaler 0 reducing loss scale to 262144.0\n"
     ]
    },
    {
     "name": "stderr",
     "output_type": "stream",
     "text": [
      " 31%|███       | 31/100 [01:47<02:56,  2.55s/it]"
     ]
    },
    {
     "name": "stdout",
     "output_type": "stream",
     "text": [
      "Gradient overflow.  Skipping step, loss scaler 0 reducing loss scale to 524288.0\n"
     ]
    },
    {
     "name": "stderr",
     "output_type": "stream",
     "text": [
      " 41%|████      | 41/100 [02:08<01:51,  1.89s/it]"
     ]
    },
    {
     "name": "stdout",
     "output_type": "stream",
     "text": [
      "Gradient overflow.  Skipping step, loss scaler 0 reducing loss scale to 524288.0\n"
     ]
    },
    {
     "name": "stderr",
     "output_type": "stream",
     "text": [
      "\r",
      " 42%|████▏     | 42/100 [02:10<01:42,  1.76s/it]"
     ]
    },
    {
     "name": "stdout",
     "output_type": "stream",
     "text": [
      "Gradient overflow.  Skipping step, loss scaler 0 reducing loss scale to 262144.0\n",
      "Gradient overflow.  Skipping step, loss scaler 0 reducing loss scale to 131072.0\n"
     ]
    },
    {
     "name": "stderr",
     "output_type": "stream",
     "text": [
      " 75%|███████▌  | 75/100 [03:13<00:47,  1.90s/it]"
     ]
    },
    {
     "name": "stdout",
     "output_type": "stream",
     "text": [
      "Gradient overflow.  Skipping step, loss scaler 0 reducing loss scale to 524288.0\n"
     ]
    },
    {
     "name": "stderr",
     "output_type": "stream",
     "text": [
      " 87%|████████▋ | 87/100 [03:35<00:24,  1.89s/it]"
     ]
    },
    {
     "name": "stdout",
     "output_type": "stream",
     "text": [
      "Gradient overflow.  Skipping step, loss scaler 0 reducing loss scale to 524288.0\n"
     ]
    },
    {
     "name": "stderr",
     "output_type": "stream",
     "text": [
      "100%|██████████| 100/100 [03:57<00:00,  2.37s/it]\n",
      "100%|██████████| 193/193 [00:00<00:00, 219.60it/s]\n",
      "  0%|          | 0/100 [00:00<?, ?it/s]"
     ]
    },
    {
     "name": "stdout",
     "output_type": "stream",
     "text": [
      "Gradient overflow.  Skipping step, loss scaler 0 reducing loss scale to 524288.0\n"
     ]
    },
    {
     "name": "stderr",
     "output_type": "stream",
     "text": [
      "\r",
      "  1%|          | 1/100 [00:14<23:22, 14.16s/it]"
     ]
    },
    {
     "name": "stdout",
     "output_type": "stream",
     "text": [
      "Gradient overflow.  Skipping step, loss scaler 0 reducing loss scale to 262144.0\n"
     ]
    },
    {
     "name": "stderr",
     "output_type": "stream",
     "text": [
      "  5%|▌         | 5/100 [00:35<09:24,  5.94s/it]"
     ]
    },
    {
     "name": "stdout",
     "output_type": "stream",
     "text": [
      "Gradient overflow.  Skipping step, loss scaler 0 reducing loss scale to 262144.0\n"
     ]
    },
    {
     "name": "stderr",
     "output_type": "stream",
     "text": [
      " 15%|█▌        | 15/100 [01:05<04:05,  2.89s/it]"
     ]
    },
    {
     "name": "stdout",
     "output_type": "stream",
     "text": [
      "Gradient overflow.  Skipping step, loss scaler 0 reducing loss scale to 262144.0\n"
     ]
    },
    {
     "name": "stderr",
     "output_type": "stream",
     "text": [
      " 31%|███       | 31/100 [01:47<02:56,  2.56s/it]"
     ]
    },
    {
     "name": "stdout",
     "output_type": "stream",
     "text": [
      "Gradient overflow.  Skipping step, loss scaler 0 reducing loss scale to 524288.0\n"
     ]
    },
    {
     "name": "stderr",
     "output_type": "stream",
     "text": [
      " 41%|████      | 41/100 [02:09<01:51,  1.89s/it]"
     ]
    },
    {
     "name": "stdout",
     "output_type": "stream",
     "text": [
      "Gradient overflow.  Skipping step, loss scaler 0 reducing loss scale to 524288.0\n"
     ]
    },
    {
     "name": "stderr",
     "output_type": "stream",
     "text": [
      "\r",
      " 42%|████▏     | 42/100 [02:10<01:42,  1.76s/it]"
     ]
    },
    {
     "name": "stdout",
     "output_type": "stream",
     "text": [
      "Gradient overflow.  Skipping step, loss scaler 0 reducing loss scale to 262144.0\n",
      "Gradient overflow.  Skipping step, loss scaler 0 reducing loss scale to 131072.0\n"
     ]
    },
    {
     "name": "stderr",
     "output_type": "stream",
     "text": [
      " 75%|███████▌  | 75/100 [03:14<00:47,  1.90s/it]"
     ]
    },
    {
     "name": "stdout",
     "output_type": "stream",
     "text": [
      "Gradient overflow.  Skipping step, loss scaler 0 reducing loss scale to 524288.0\n"
     ]
    },
    {
     "name": "stderr",
     "output_type": "stream",
     "text": [
      " 87%|████████▋ | 87/100 [03:35<00:24,  1.88s/it]"
     ]
    },
    {
     "name": "stdout",
     "output_type": "stream",
     "text": [
      "Gradient overflow.  Skipping step, loss scaler 0 reducing loss scale to 524288.0\n"
     ]
    },
    {
     "name": "stderr",
     "output_type": "stream",
     "text": [
      "100%|██████████| 100/100 [03:57<00:00,  2.38s/it]\n",
      "100%|██████████| 193/193 [00:00<00:00, 215.04it/s]\n",
      "  0%|          | 0/100 [00:00<?, ?it/s]"
     ]
    },
    {
     "name": "stdout",
     "output_type": "stream",
     "text": [
      "Gradient overflow.  Skipping step, loss scaler 0 reducing loss scale to 524288.0\n"
     ]
    },
    {
     "name": "stderr",
     "output_type": "stream",
     "text": [
      "\r",
      "  1%|          | 1/100 [00:14<23:25, 14.20s/it]"
     ]
    },
    {
     "name": "stdout",
     "output_type": "stream",
     "text": [
      "Gradient overflow.  Skipping step, loss scaler 0 reducing loss scale to 262144.0\n"
     ]
    },
    {
     "name": "stderr",
     "output_type": "stream",
     "text": [
      " 11%|█         | 11/100 [00:53<04:43,  3.18s/it]"
     ]
    },
    {
     "name": "stdout",
     "output_type": "stream",
     "text": [
      "Gradient overflow.  Skipping step, loss scaler 0 reducing loss scale to 262144.0\n"
     ]
    },
    {
     "name": "stderr",
     "output_type": "stream",
     "text": [
      " 27%|██▋       | 27/100 [01:36<02:58,  2.45s/it]"
     ]
    },
    {
     "name": "stdout",
     "output_type": "stream",
     "text": [
      "Gradient overflow.  Skipping step, loss scaler 0 reducing loss scale to 524288.0\n"
     ]
    },
    {
     "name": "stderr",
     "output_type": "stream",
     "text": [
      " 35%|███▌      | 35/100 [01:57<02:47,  2.58s/it]"
     ]
    },
    {
     "name": "stdout",
     "output_type": "stream",
     "text": [
      "Gradient overflow.  Skipping step, loss scaler 0 reducing loss scale to 524288.0\n"
     ]
    },
    {
     "name": "stderr",
     "output_type": "stream",
     "text": [
      " 42%|████▏     | 42/100 [02:10<01:41,  1.76s/it]"
     ]
    },
    {
     "name": "stdout",
     "output_type": "stream",
     "text": [
      "Gradient overflow.  Skipping step, loss scaler 0 reducing loss scale to 262144.0\n",
      "Gradient overflow.  Skipping step, loss scaler 0 reducing loss scale to 131072.0\n"
     ]
    },
    {
     "name": "stderr",
     "output_type": "stream",
     "text": [
      " 75%|███████▌  | 75/100 [03:14<00:47,  1.88s/it]"
     ]
    },
    {
     "name": "stdout",
     "output_type": "stream",
     "text": [
      "Gradient overflow.  Skipping step, loss scaler 0 reducing loss scale to 524288.0\n"
     ]
    },
    {
     "name": "stderr",
     "output_type": "stream",
     "text": [
      " 87%|████████▋ | 87/100 [03:35<00:24,  1.89s/it]"
     ]
    },
    {
     "name": "stdout",
     "output_type": "stream",
     "text": [
      "Gradient overflow.  Skipping step, loss scaler 0 reducing loss scale to 524288.0\n"
     ]
    },
    {
     "name": "stderr",
     "output_type": "stream",
     "text": [
      "100%|██████████| 100/100 [03:57<00:00,  2.37s/it]\n",
      "100%|██████████| 193/193 [00:00<00:00, 219.75it/s]\n",
      "  0%|          | 0/100 [00:00<?, ?it/s]"
     ]
    },
    {
     "name": "stdout",
     "output_type": "stream",
     "text": [
      "Gradient overflow.  Skipping step, loss scaler 0 reducing loss scale to 524288.0\n"
     ]
    },
    {
     "name": "stderr",
     "output_type": "stream",
     "text": [
      "\r",
      "  1%|          | 1/100 [00:14<23:22, 14.16s/it]"
     ]
    },
    {
     "name": "stdout",
     "output_type": "stream",
     "text": [
      "Gradient overflow.  Skipping step, loss scaler 0 reducing loss scale to 262144.0\n"
     ]
    },
    {
     "name": "stderr",
     "output_type": "stream",
     "text": [
      "  5%|▌         | 5/100 [00:35<09:24,  5.94s/it]"
     ]
    },
    {
     "name": "stdout",
     "output_type": "stream",
     "text": [
      "Gradient overflow.  Skipping step, loss scaler 0 reducing loss scale to 262144.0\n"
     ]
    },
    {
     "name": "stderr",
     "output_type": "stream",
     "text": [
      " 15%|█▌        | 15/100 [01:05<04:05,  2.89s/it]"
     ]
    },
    {
     "name": "stdout",
     "output_type": "stream",
     "text": [
      "Gradient overflow.  Skipping step, loss scaler 0 reducing loss scale to 262144.0\n"
     ]
    },
    {
     "name": "stderr",
     "output_type": "stream",
     "text": [
      " 31%|███       | 31/100 [01:47<02:56,  2.56s/it]"
     ]
    },
    {
     "name": "stdout",
     "output_type": "stream",
     "text": [
      "Gradient overflow.  Skipping step, loss scaler 0 reducing loss scale to 524288.0\n"
     ]
    },
    {
     "name": "stderr",
     "output_type": "stream",
     "text": [
      " 41%|████      | 41/100 [02:09<01:51,  1.88s/it]"
     ]
    },
    {
     "name": "stdout",
     "output_type": "stream",
     "text": [
      "Gradient overflow.  Skipping step, loss scaler 0 reducing loss scale to 524288.0\n"
     ]
    },
    {
     "name": "stderr",
     "output_type": "stream",
     "text": [
      "\r",
      " 42%|████▏     | 42/100 [02:10<01:41,  1.76s/it]"
     ]
    },
    {
     "name": "stdout",
     "output_type": "stream",
     "text": [
      "Gradient overflow.  Skipping step, loss scaler 0 reducing loss scale to 262144.0\n",
      "Gradient overflow.  Skipping step, loss scaler 0 reducing loss scale to 131072.0\n"
     ]
    },
    {
     "name": "stderr",
     "output_type": "stream",
     "text": [
      " 75%|███████▌  | 75/100 [03:13<00:47,  1.89s/it]"
     ]
    },
    {
     "name": "stdout",
     "output_type": "stream",
     "text": [
      "Gradient overflow.  Skipping step, loss scaler 0 reducing loss scale to 524288.0\n"
     ]
    },
    {
     "name": "stderr",
     "output_type": "stream",
     "text": [
      " 88%|████████▊ | 88/100 [03:36<00:20,  1.71s/it]"
     ]
    },
    {
     "name": "stdout",
     "output_type": "stream",
     "text": [
      "Gradient overflow.  Skipping step, loss scaler 0 reducing loss scale to 524288.0\n"
     ]
    },
    {
     "name": "stderr",
     "output_type": "stream",
     "text": [
      "100%|██████████| 100/100 [03:57<00:00,  2.37s/it]\n",
      "100%|██████████| 193/193 [00:00<00:00, 218.90it/s]\n",
      "  0%|          | 0/100 [00:00<?, ?it/s]"
     ]
    },
    {
     "name": "stdout",
     "output_type": "stream",
     "text": [
      "Gradient overflow.  Skipping step, loss scaler 0 reducing loss scale to 524288.0\n"
     ]
    },
    {
     "name": "stderr",
     "output_type": "stream",
     "text": [
      "\r",
      "  1%|          | 1/100 [00:14<23:24, 14.19s/it]"
     ]
    },
    {
     "name": "stdout",
     "output_type": "stream",
     "text": [
      "Gradient overflow.  Skipping step, loss scaler 0 reducing loss scale to 262144.0\n"
     ]
    },
    {
     "name": "stderr",
     "output_type": "stream",
     "text": [
      " 12%|█▏        | 12/100 [00:57<04:39,  3.17s/it]"
     ]
    },
    {
     "name": "stdout",
     "output_type": "stream",
     "text": [
      "Gradient overflow.  Skipping step, loss scaler 0 reducing loss scale to 524288.0\n",
      "Gradient overflow.  Skipping step, loss scaler 0 reducing loss scale to 262144.0\n"
     ]
    },
    {
     "name": "stderr",
     "output_type": "stream",
     "text": [
      " 27%|██▋       | 27/100 [01:36<02:57,  2.43s/it]"
     ]
    },
    {
     "name": "stdout",
     "output_type": "stream",
     "text": [
      "Gradient overflow.  Skipping step, loss scaler 0 reducing loss scale to 524288.0\n"
     ]
    },
    {
     "name": "stderr",
     "output_type": "stream",
     "text": [
      " 36%|███▌      | 36/100 [02:00<02:53,  2.72s/it]"
     ]
    },
    {
     "name": "stdout",
     "output_type": "stream",
     "text": [
      "Gradient overflow.  Skipping step, loss scaler 0 reducing loss scale to 524288.0\n"
     ]
    },
    {
     "name": "stderr",
     "output_type": "stream",
     "text": [
      " 42%|████▏     | 42/100 [02:10<01:42,  1.76s/it]"
     ]
    },
    {
     "name": "stdout",
     "output_type": "stream",
     "text": [
      "Gradient overflow.  Skipping step, loss scaler 0 reducing loss scale to 262144.0\n",
      "Gradient overflow.  Skipping step, loss scaler 0 reducing loss scale to 131072.0\n"
     ]
    },
    {
     "name": "stderr",
     "output_type": "stream",
     "text": [
      " 75%|███████▌  | 75/100 [03:14<00:46,  1.87s/it]"
     ]
    },
    {
     "name": "stdout",
     "output_type": "stream",
     "text": [
      "Gradient overflow.  Skipping step, loss scaler 0 reducing loss scale to 524288.0\n"
     ]
    },
    {
     "name": "stderr",
     "output_type": "stream",
     "text": [
      " 87%|████████▋ | 87/100 [03:35<00:24,  1.88s/it]"
     ]
    },
    {
     "name": "stdout",
     "output_type": "stream",
     "text": [
      "Gradient overflow.  Skipping step, loss scaler 0 reducing loss scale to 524288.0\n"
     ]
    },
    {
     "name": "stderr",
     "output_type": "stream",
     "text": [
      "100%|██████████| 100/100 [03:57<00:00,  2.37s/it]\n",
      "100%|██████████| 193/193 [00:00<00:00, 218.14it/s]\n",
      "  0%|          | 0/100 [00:00<?, ?it/s]"
     ]
    },
    {
     "name": "stdout",
     "output_type": "stream",
     "text": [
      "Gradient overflow.  Skipping step, loss scaler 0 reducing loss scale to 524288.0\n"
     ]
    },
    {
     "name": "stderr",
     "output_type": "stream",
     "text": [
      "\r",
      "  1%|          | 1/100 [00:14<23:27, 14.22s/it]"
     ]
    },
    {
     "name": "stdout",
     "output_type": "stream",
     "text": [
      "Gradient overflow.  Skipping step, loss scaler 0 reducing loss scale to 262144.0\n"
     ]
    },
    {
     "name": "stderr",
     "output_type": "stream",
     "text": [
      " 11%|█         | 11/100 [00:53<04:32,  3.06s/it]"
     ]
    },
    {
     "name": "stdout",
     "output_type": "stream",
     "text": [
      "Gradient overflow.  Skipping step, loss scaler 0 reducing loss scale to 262144.0\n"
     ]
    },
    {
     "name": "stderr",
     "output_type": "stream",
     "text": [
      " 27%|██▋       | 27/100 [01:33<02:50,  2.33s/it]"
     ]
    },
    {
     "name": "stdout",
     "output_type": "stream",
     "text": [
      "Gradient overflow.  Skipping step, loss scaler 0 reducing loss scale to 524288.0\n"
     ]
    },
    {
     "name": "stderr",
     "output_type": "stream",
     "text": [
      " 35%|███▌      | 35/100 [01:53<02:40,  2.46s/it]"
     ]
    },
    {
     "name": "stdout",
     "output_type": "stream",
     "text": [
      "Gradient overflow.  Skipping step, loss scaler 0 reducing loss scale to 524288.0\n"
     ]
    },
    {
     "name": "stderr",
     "output_type": "stream",
     "text": [
      " 41%|████      | 41/100 [02:04<01:46,  1.80s/it]"
     ]
    },
    {
     "name": "stdout",
     "output_type": "stream",
     "text": [
      "Gradient overflow.  Skipping step, loss scaler 0 reducing loss scale to 262144.0\n"
     ]
    },
    {
     "name": "stderr",
     "output_type": "stream",
     "text": [
      "\r",
      " 42%|████▏     | 42/100 [02:06<01:37,  1.68s/it]"
     ]
    },
    {
     "name": "stdout",
     "output_type": "stream",
     "text": [
      "Gradient overflow.  Skipping step, loss scaler 0 reducing loss scale to 131072.0\n"
     ]
    },
    {
     "name": "stderr",
     "output_type": "stream",
     "text": [
      " 76%|███████▌  | 76/100 [03:08<00:43,  1.83s/it]"
     ]
    },
    {
     "name": "stdout",
     "output_type": "stream",
     "text": [
      "Gradient overflow.  Skipping step, loss scaler 0 reducing loss scale to 524288.0\n"
     ]
    },
    {
     "name": "stderr",
     "output_type": "stream",
     "text": [
      " 88%|████████▊ | 88/100 [03:29<00:20,  1.68s/it]"
     ]
    },
    {
     "name": "stdout",
     "output_type": "stream",
     "text": [
      "Gradient overflow.  Skipping step, loss scaler 0 reducing loss scale to 524288.0\n"
     ]
    },
    {
     "name": "stderr",
     "output_type": "stream",
     "text": [
      "100%|██████████| 100/100 [03:50<00:00,  2.30s/it]\n",
      "100%|██████████| 193/193 [00:00<00:00, 227.93it/s]\n",
      "  0%|          | 0/100 [00:00<?, ?it/s]"
     ]
    },
    {
     "name": "stdout",
     "output_type": "stream",
     "text": [
      "Gradient overflow.  Skipping step, loss scaler 0 reducing loss scale to 524288.0\n"
     ]
    },
    {
     "name": "stderr",
     "output_type": "stream",
     "text": [
      "\r",
      "  1%|          | 1/100 [00:14<23:24, 14.18s/it]"
     ]
    },
    {
     "name": "stdout",
     "output_type": "stream",
     "text": [
      "Gradient overflow.  Skipping step, loss scaler 0 reducing loss scale to 262144.0\n"
     ]
    },
    {
     "name": "stderr",
     "output_type": "stream",
     "text": [
      " 12%|█▏        | 12/100 [00:56<04:36,  3.15s/it]"
     ]
    },
    {
     "name": "stdout",
     "output_type": "stream",
     "text": [
      "Gradient overflow.  Skipping step, loss scaler 0 reducing loss scale to 524288.0\n",
      "Gradient overflow.  Skipping step, loss scaler 0 reducing loss scale to 262144.0\n"
     ]
    },
    {
     "name": "stderr",
     "output_type": "stream",
     "text": [
      " 27%|██▋       | 27/100 [01:36<03:02,  2.50s/it]"
     ]
    },
    {
     "name": "stdout",
     "output_type": "stream",
     "text": [
      "Gradient overflow.  Skipping step, loss scaler 0 reducing loss scale to 524288.0\n"
     ]
    },
    {
     "name": "stderr",
     "output_type": "stream",
     "text": [
      " 36%|███▌      | 36/100 [01:59<02:48,  2.64s/it]"
     ]
    },
    {
     "name": "stdout",
     "output_type": "stream",
     "text": [
      "Gradient overflow.  Skipping step, loss scaler 0 reducing loss scale to 524288.0\n"
     ]
    },
    {
     "name": "stderr",
     "output_type": "stream",
     "text": [
      " 42%|████▏     | 42/100 [02:09<01:42,  1.77s/it]"
     ]
    },
    {
     "name": "stdout",
     "output_type": "stream",
     "text": [
      "Gradient overflow.  Skipping step, loss scaler 0 reducing loss scale to 262144.0\n",
      "Gradient overflow.  Skipping step, loss scaler 0 reducing loss scale to 131072.0\n"
     ]
    },
    {
     "name": "stderr",
     "output_type": "stream",
     "text": [
      " 75%|███████▌  | 75/100 [03:12<00:45,  1.81s/it]"
     ]
    },
    {
     "name": "stdout",
     "output_type": "stream",
     "text": [
      "Gradient overflow.  Skipping step, loss scaler 0 reducing loss scale to 524288.0\n"
     ]
    },
    {
     "name": "stderr",
     "output_type": "stream",
     "text": [
      " 87%|████████▋ | 87/100 [03:32<00:23,  1.80s/it]"
     ]
    },
    {
     "name": "stdout",
     "output_type": "stream",
     "text": [
      "Gradient overflow.  Skipping step, loss scaler 0 reducing loss scale to 524288.0\n"
     ]
    },
    {
     "name": "stderr",
     "output_type": "stream",
     "text": [
      "100%|██████████| 100/100 [03:53<00:00,  2.34s/it]\n",
      "100%|██████████| 193/193 [00:00<00:00, 229.38it/s]\n",
      "100%|██████████| 6024/6024 [00:07<00:00, 754.29it/s]\n"
     ]
    }
   ],
   "source": [
    "federated.train(10, save_results = True, plt_name = 'test_o')"
   ]
  },
  {
   "cell_type": "code",
   "execution_count": 4,
   "id": "aggressive-shooting",
   "metadata": {},
   "outputs": [
    {
     "data": {
      "image/png": "[encoded data removed]",
      "text/plain": [
       "<Figure size 1152x576 with 3 Axes>"
      ]
     },
     "metadata": {
      "needs_background": "light"
     },
     "output_type": "display_data"
    },
    {
     "data": {
      "image/png": "[encoded data removed]",
      "text/plain": [
       "<Figure size 432x288 with 1 Axes>"
      ]
     },
     "metadata": {
      "needs_background": "light"
     },
     "output_type": "display_data"
    }
   ],
   "source": [
    "federated.plot_training_history(save_results=False, plt_name = '')"
   ]
  },
  {
   "cell_type": "markdown",
   "id": "compliant-stock",
   "metadata": {},
   "source": [
    "## FedAVG"
   ]
  },
  {
   "cell_type": "code",
   "execution_count": null,
   "id": "cellular-gibson",
   "metadata": {},
   "outputs": [],
   "source": [
    "from src.federated_pipeline import Federated_LICCHAVI"
   ]
  },
  {
   "cell_type": "code",
   "execution_count": null,
   "id": "cosmetic-count",
   "metadata": {
    "scrolled": true
   },
   "outputs": [],
   "source": [
    "federated = Federated_LICCHAVI(\n",
    "    \"CONFIG_MODEL_WIKI.json\",\n",
    "    \"CONFIG_FEDERATED_WIKI.json\"\n",
    ")"
   ]
  },
  {
   "cell_type": "code",
   "execution_count": null,
   "id": "charged-specific",
   "metadata": {},
   "outputs": [],
   "source": [
    "federated.train(2)"
   ]
  },
  {
   "cell_type": "code",
   "execution_count": null,
   "id": "bigger-water",
   "metadata": {},
   "outputs": [],
   "source": []
  }
 ],
 "metadata": {
  "kernelspec": {
   "display_name": "Python 3.8.8 64-bit ('typewriter': conda)",
   "language": "python",
   "name": "python388jvsc74a57bd003343bff8ea9174e4e18dc33629d8cc7123b4a33b966bf5614ca716c9ad2f2e1"
  },
  "language_info": {
   "codemirror_mode": {
    "name": "ipython",
    "version": 3
   },
   "file_extension": ".py",
   "mimetype": "text/x-python",
   "name": "python",
   "nbconvert_exporter": "python",
   "pygments_lexer": "ipython3",
   "version": "3.8.8"
  }
 },
 "nbformat": 4,
 "nbformat_minor": 5
}
