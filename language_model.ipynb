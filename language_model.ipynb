{
 "cells": [
  {
   "cell_type": "markdown",
   "id": "minus-radiation",
   "metadata": {},
   "source": [
    "## Imports"
   ]
  },
  {
   "cell_type": "code",
   "execution_count": 1,
   "id": "ultimate-april",
   "metadata": {},
   "outputs": [],
   "source": [
    "import os\n",
    "import re\n",
    "\n",
    "from tqdm import tqdm\n",
    "import matplotlib.pyplot as plt\n",
    "import numpy as np\n",
    "import torch"
   ]
  },
  {
   "cell_type": "code",
   "execution_count": 2,
   "id": "tropical-coast",
   "metadata": {},
   "outputs": [],
   "source": [
    "import nltk\n",
    "\n",
    "from nltk.corpus import webtext\n",
    "# from nltk.tokenize import TweetTokenizer\n",
    "from nltk.tokenize import sent_tokenize"
   ]
  },
  {
   "cell_type": "markdown",
   "id": "upper-startup",
   "metadata": {},
   "source": [
    "## Global Variables"
   ]
  },
  {
   "cell_type": "code",
   "execution_count": 3,
   "id": "brazilian-immigration",
   "metadata": {},
   "outputs": [
    {
     "data": {
      "text/plain": [
       "<torch._C.Generator at 0x7efd22be7f90>"
      ]
     },
     "execution_count": 3,
     "metadata": {},
     "output_type": "execute_result"
    }
   ],
   "source": [
    "DEVICE = \"cuda:0\"\n",
    "assert torch.cuda.is_available()\n",
    "\n",
    "\n",
    "PADDING_TOKEN = 'PAD' # voc 0\n",
    "UNKNOWN_TOKEN = 'UKN' # voc 1\n",
    "\n",
    "MAX_SEQ_LEN = 10\n",
    "\n",
    "BATCH_SIZE = 16\n",
    "EMB_SIZE = 128\n",
    "\n",
    "VAL_SPLIT = 0.2\n",
    "TEST_SPLIT = 0.1\n",
    "\n",
    "# for reproducibility\n",
    "# os.environ['CUDA_LAUNCH_BLOCKING'] = \"1\"\n",
    "torch.manual_seed(0)"
   ]
  },
  {
   "cell_type": "markdown",
   "id": "standard-excuse",
   "metadata": {},
   "source": [
    "## Vocabulary"
   ]
  },
  {
   "cell_type": "code",
   "execution_count": 4,
   "id": "minute-portsmouth",
   "metadata": {},
   "outputs": [],
   "source": [
    "class Vocabulary():\n",
    "    def __init__(\n",
    "        self, \n",
    "        text,\n",
    "        max_sentence_length : int = 32,\n",
    "        padding_token : str = PADDING_TOKEN,\n",
    "        unknown_token : str = UNKNOWN_TOKEN\n",
    "    ):\n",
    "        self.padding_token = padding_token\n",
    "        self.unknown_token = unknown_token\n",
    "        self.sentences = Vocabulary.prepare_sentences(text, max_sentence_length)\n",
    "        self.build_vocab()\n",
    "        \n",
    "    @staticmethod\n",
    "    def text_cleaning(string):\n",
    "        string = re.sub('-\\n', '', string)\n",
    "        string = re.sub(r\"\"\"[*#@&%£ö'ä$ü¨~^)('+°¢./><$\\[\\]`]\"\"\", '', string)\n",
    "        string = re.sub('[0-9]', '', string)\n",
    "        return re.sub('\\n', ' ', string)\n",
    "    \n",
    "    @staticmethod\n",
    "    def prepare_sentences(text, max_sentence_length):\n",
    "        sentences = sent_tokenize(text)\n",
    "        sentences = [re.sub(r\".*: \", '', sent, 1) for sent in sentences]\n",
    "        sentences = [Vocabulary.text_cleaning(sentence) for sentence in sentences]\n",
    "        sentences = [[w.lower() for w in nltk.word_tokenize(sentence)] for sentence in sentences]\n",
    "        return [sent for sent in sentences if len(sent) < max_sentence_length]\n",
    "    \n",
    "    def build_vocab(self):\n",
    "        vocab = {}\n",
    "        for tokens in self.sentences:\n",
    "            for token in tokens:\n",
    "                if token in vocab.keys():\n",
    "                    vocab[token] += 1\n",
    "                else:\n",
    "                    vocab[token] = 1\n",
    "\n",
    "        self.vocab = {k: v for k, v in sorted(vocab.items(), key=lambda item: -item[1])}\n",
    "\n",
    "        self.word_to_idx = {k : (i+2) for i,(k,_) in enumerate(vocab.items())}\n",
    "        self.word_to_idx[self.padding_token] = 0\n",
    "        self.word_to_idx[self.unknown_token] = 1\n",
    "        self.idx_to_word = {v : k for k, v in self.word_to_idx.items()}\n",
    "        \n",
    "    def get_vocab_size(self):\n",
    "        return len(self.vocab)\n",
    "    \n",
    "    def pad_and_truncate(self, tokens, max_length):\n",
    "        diff = max_length - len(tokens)\n",
    "        if diff < 0:\n",
    "            return tokens[:max_length]\n",
    "        else:\n",
    "            return tokens + [self.word_to_idx[self.padding_token]] * diff"
   ]
  },
  {
   "cell_type": "code",
   "execution_count": 5,
   "id": "worse-athens",
   "metadata": {},
   "outputs": [],
   "source": [
    "txt = webtext.raw('overheard.txt')\n",
    "voc = Vocabulary(txt)"
   ]
  },
  {
   "cell_type": "code",
   "execution_count": 6,
   "id": "adapted-victor",
   "metadata": {},
   "outputs": [
    {
     "data": {
      "image/png": "[encoded data removed]",
      "text/plain": [
       "<Figure size 432x288 with 1 Axes>"
      ]
     },
     "metadata": {
      "needs_background": "light"
     },
     "output_type": "display_data"
    }
   ],
   "source": [
    "plt.hist([len(sent) for sent in voc.sentences], bins = 32)\n",
    "plt.show()"
   ]
  },
  {
   "cell_type": "code",
   "execution_count": 7,
   "id": "necessary-sudan",
   "metadata": {},
   "outputs": [],
   "source": [
    "class LM_dataset(torch.utils.data.Dataset):\n",
    "    def __init__(\n",
    "        self,\n",
    "        vocabulary : Vocabulary,\n",
    "        max_length : int\n",
    "    ):\n",
    "        self.vocabulary = vocabulary\n",
    "        self.max_length = max_length\n",
    "        self.indices = [\n",
    "            self.vocabulary.pad_and_truncate([self.get_idx(w) for w in sentence], max_length + 1)\n",
    "            for sentence in vocabulary.sentences if len(sentence) > 1\n",
    "        ]\n",
    "        \n",
    "    def get_idx(self, token):\n",
    "        try:\n",
    "            return self.vocabulary.word_to_idx[token]\n",
    "        except KeyError:\n",
    "            return self.vocabulary.word_to_idx[self.vocabulary.unknown_token]\n",
    "        \n",
    "    def __getitem__(self, idx):\n",
    "        indices = self.indices[idx]\n",
    "        return (\n",
    "            torch.tensor(indices[:self.max_length]).to(DEVICE),\n",
    "            torch.tensor(indices[1:self.max_length+1]).to(DEVICE)\n",
    "        )\n",
    "        \n",
    "    def __len__(self):\n",
    "        return len(self.indices)"
   ]
  },
  {
   "cell_type": "code",
   "execution_count": 8,
   "id": "comparable-argument",
   "metadata": {},
   "outputs": [],
   "source": [
    "train_dataset = LM_dataset(\n",
    "    voc,\n",
    "    MAX_SEQ_LEN + 1\n",
    ")"
   ]
  },
  {
   "cell_type": "code",
   "execution_count": 9,
   "id": "pleasant-picnic",
   "metadata": {},
   "outputs": [],
   "source": [
    "train_dataloader = torch.utils.data.DataLoader(\n",
    "    train_dataset,\n",
    "    batch_size = BATCH_SIZE,\n",
    "    shuffle = False,\n",
    "    pin_memory = False,\n",
    "    drop_last = True\n",
    ")"
   ]
  },
  {
   "cell_type": "code",
   "execution_count": 10,
   "id": "global-corpus",
   "metadata": {},
   "outputs": [],
   "source": [
    "emb_layer = torch.nn.Embedding(\n",
    "    voc.get_vocab_size(),\n",
    "    EMB_SIZE\n",
    ").to(DEVICE)"
   ]
  },
  {
   "cell_type": "code",
   "execution_count": 11,
   "id": "average-proof",
   "metadata": {},
   "outputs": [],
   "source": [
    "lstm = torch.nn.LSTM(\n",
    "    input_size = EMB_SIZE,\n",
    "    hidden_size = 20,\n",
    "    num_layers = 2,\n",
    "    batch_first = True\n",
    ").to(DEVICE)"
   ]
  },
  {
   "cell_type": "code",
   "execution_count": 19,
   "id": "above-isaac",
   "metadata": {},
   "outputs": [],
   "source": [
    "class NextWordPredictorModel(torch.nn.Module):\n",
    "    def __init__(\n",
    "        self,\n",
    "        emb_dim : int,\n",
    "        vocab_size : int,\n",
    "        num_lstm_hidden_layers : int,\n",
    "        hidden_state_size : int,\n",
    "        dropout : float,\n",
    "        device : str,\n",
    "        fp16 : bool = False\n",
    "    ):\n",
    "        super().__init__()\n",
    "        self.num_lstm_hidden_layers = num_lstm_hidden_layers\n",
    "        self.hidden_state_size = hidden_state_size\n",
    "        self.device = device\n",
    "        self.fp16 = False\n",
    "        self.vocab_size = vocab_size\n",
    "        # Embedding layer\n",
    "        self.embedding_layer = torch.nn.Embedding(\n",
    "            self.vocab_size,\n",
    "            emb_dim\n",
    "        ).to(device)\n",
    "        # LSTM layer (later replace with oupled Input and Forget Gate (CIFG) maybe)\n",
    "        self.lstm = torch.nn.LSTM(\n",
    "            input_size = emb_dim,\n",
    "            hidden_size = hidden_state_size,\n",
    "            num_layers = num_lstm_hidden_layers,\n",
    "            dropout = dropout,\n",
    "            batch_first = True # -> input of the shape (bath size, seq length, emb length)\n",
    "        ).to(device)\n",
    "        # FFN for classification on vocab\n",
    "        self.classifier = torch.nn.Linear(\n",
    "            hidden_state_size,\n",
    "            self.vocab_size\n",
    "        ).to(device)\n",
    "        # softmax for classification\n",
    "        self.softmax = torch.nn.LogSoftmax(dim = 1)\n",
    "        \n",
    "        self.hidden_state = None\n",
    "        \n",
    "        self.optimizer = torch.optim.AdamW(\n",
    "            self.parameters(),\n",
    "            lr = 10e-4\n",
    "        )\n",
    "        \n",
    "        self.criterion = torch.nn.NLLLoss(\n",
    "            ignore_index = 0\n",
    "        )#.to(device) # may use the weight as prior n_occ / num_words\n",
    "        \n",
    "    def forward(self, inputs):\n",
    "        if self.hidden_state is None:\n",
    "            # in the case forward is called for testing, init the states at 0\n",
    "            self.state = self.init_hidden(inputs.shape[0])\n",
    "        embeddings = self.embedding_layer(inputs)\n",
    "        output, self.state = self.lstm(embeddings, self.state)\n",
    "        return self.classifier(output)\n",
    "    \n",
    "    def init_hidden(self, batch_size):\n",
    "        return (\n",
    "            torch.zeros(\n",
    "                self.num_lstm_hidden_layers, batch_size, self.hidden_state_size\n",
    "            ).to(self.device),\n",
    "            torch.zeros(\n",
    "                self.num_lstm_hidden_layers, batch_size, self.hidden_state_size\n",
    "            ).to(self.device)\n",
    "        )\n",
    "\n",
    "        \n",
    "    def epoch_step(self, data_loader):\n",
    "        self.train()\n",
    "        losses = []\n",
    "        \n",
    "        self.init_hidden(data_loader.batch_size)\n",
    "        \n",
    "        for batch_idx, batch in enumerate(tqdm(data_loader)):\n",
    "            for param in self.parameters():\n",
    "                param.grad = None\n",
    "                \n",
    "            inputs, labels = batch\n",
    "            outputs = self.forward(inputs)\n",
    "            preds = self.softmax(outputs).view(-1, voc.get_vocab_size())\n",
    "            labels = labels.view(-1)\n",
    "            \n",
    "            loss = self.criterion(preds, labels)\n",
    "            \n",
    "            if self.fp16:\n",
    "                with amp.scale_loss(loss, self.optimizer) as scaled_loss:\n",
    "                    scaled_loss.backward()\n",
    "                self.optimizer.step()\n",
    "            else:\n",
    "                loss.backward()\n",
    "                self.optimizer.step()\n",
    "    \n",
    "            losses.append(loss.item())\n",
    "                \n",
    "        return losses\n",
    "    \n",
    "    def fit(self, data_loader, num_epochs):\n",
    "        for epoch in range(1, num_epochs+1):\n",
    "            losses = self.epoch_step(data_loader)\n",
    "            train_loss = np.mean(losses)\n",
    "            print(f\"train loss at epoch {epoch} : {train_loss}\")"
   ]
  },
  {
   "cell_type": "code",
   "execution_count": 20,
   "id": "willing-express",
   "metadata": {},
   "outputs": [],
   "source": [
    "model = NextWordPredictorModel(\n",
    "    emb_dim  = EMB_SIZE,\n",
    "    vocab_size = voc.get_vocab_size(),\n",
    "    num_lstm_hidden_layers = 2,\n",
    "    hidden_state_size = 32,\n",
    "    dropout = 0.2,\n",
    "    device = DEVICE,\n",
    "    fp16 = False\n",
    ").to(DEVICE)"
   ]
  },
  {
   "cell_type": "code",
   "execution_count": 22,
   "id": "military-delicious",
   "metadata": {},
   "outputs": [
    {
     "name": "stderr",
     "output_type": "stream",
     "text": [
      "100%|██████████| 1058/1058 [00:03<00:00, 267.86it/s]\n",
      "  3%|▎         | 27/1058 [00:00<00:03, 267.10it/s]"
     ]
    },
    {
     "name": "stdout",
     "output_type": "stream",
     "text": [
      "train loss at epoch 1 : 1.8924977801923266\n"
     ]
    },
    {
     "name": "stderr",
     "output_type": "stream",
     "text": [
      "100%|██████████| 1058/1058 [00:03<00:00, 271.46it/s]\n",
      "  3%|▎         | 27/1058 [00:00<00:03, 267.65it/s]"
     ]
    },
    {
     "name": "stdout",
     "output_type": "stream",
     "text": [
      "train loss at epoch 2 : 1.4780018333000586\n"
     ]
    },
    {
     "name": "stderr",
     "output_type": "stream",
     "text": [
      "100%|██████████| 1058/1058 [00:03<00:00, 272.56it/s]\n",
      "  3%|▎         | 28/1058 [00:00<00:03, 272.88it/s]"
     ]
    },
    {
     "name": "stdout",
     "output_type": "stream",
     "text": [
      "train loss at epoch 3 : 1.2655862435726677\n"
     ]
    },
    {
     "name": "stderr",
     "output_type": "stream",
     "text": [
      "100%|██████████| 1058/1058 [00:03<00:00, 272.05it/s]\n",
      "  3%|▎         | 28/1058 [00:00<00:03, 272.52it/s]"
     ]
    },
    {
     "name": "stdout",
     "output_type": "stream",
     "text": [
      "train loss at epoch 4 : 1.1219863254429037\n"
     ]
    },
    {
     "name": "stderr",
     "output_type": "stream",
     "text": [
      "100%|██████████| 1058/1058 [00:03<00:00, 272.13it/s]"
     ]
    },
    {
     "name": "stdout",
     "output_type": "stream",
     "text": [
      "train loss at epoch 5 : 1.0165940505683084\n"
     ]
    },
    {
     "name": "stderr",
     "output_type": "stream",
     "text": [
      "\n"
     ]
    }
   ],
   "source": [
    "model.fit(train_dataloader, 5)"
   ]
  },
  {
   "cell_type": "code",
   "execution_count": null,
   "id": "unlike-avenue",
   "metadata": {},
   "outputs": [],
   "source": []
  }
 ],
 "metadata": {
  "kernelspec": {
   "display_name": "Python 3.8.8 64-bit ('typewriter': conda)",
   "language": "python",
   "name": "python388jvsc74a57bd003343bff8ea9174e4e18dc33629d8cc7123b4a33b966bf5614ca716c9ad2f2e1"
  },
  "language_info": {
   "codemirror_mode": {
    "name": "ipython",
    "version": 3
   },
   "file_extension": ".py",
   "mimetype": "text/x-python",
   "name": "python",
   "nbconvert_exporter": "python",
   "pygments_lexer": "ipython3",
   "version": "3.8.8"
  }
 },
 "nbformat": 4,
 "nbformat_minor": 5
}
