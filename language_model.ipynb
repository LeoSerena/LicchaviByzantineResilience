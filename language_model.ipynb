{
 "cells": [
  {
   "cell_type": "markdown",
   "id": "minus-radiation",
   "metadata": {},
   "source": [
    "## Imports"
   ]
  },
  {
   "cell_type": "code",
   "execution_count": null,
   "id": "falling-cuisine",
   "metadata": {},
   "outputs": [],
   "source": [
    "import os\n",
    "import re\n",
    "import sys\n",
    "import typing\n",
    "import gc\n",
    "import pandas as pd\n",
    "import pickle\n",
    "import logging\n",
    "\n",
    "sys.path.append(\n",
    "    os.path.join('.','src')\n",
    ")\n",
    "\n",
    "from src.models import Pipeline\n",
    "from src.nodes import *"
   ]
  },
  {
   "cell_type": "code",
   "execution_count": null,
   "id": "vanilla-characterization",
   "metadata": {},
   "outputs": [],
   "source": [
    "logging.basicConfig(filename='logs/logs.log', level=logging.DEBUG)"
   ]
  },
  {
   "cell_type": "markdown",
   "id": "noted-wellington",
   "metadata": {},
   "source": [
    "# Tweets Model"
   ]
  },
  {
   "cell_type": "code",
   "execution_count": null,
   "id": "pharmaceutical-width",
   "metadata": {
    "scrolled": false
   },
   "outputs": [],
   "source": [
    "pipeline = Pipeline('CONFIG_MODEL_TWEETS.json', load_model_data = True)"
   ]
  },
  {
   "cell_type": "code",
   "execution_count": null,
   "id": "offensive-cache",
   "metadata": {},
   "outputs": [],
   "source": [
    "d = {\n",
    "    'train_set_len' : len(pipeline.train_dataset),\n",
    "    'train_set_tokens' : pipeline.train_dataset.token_len(),\n",
    "    'val_set_len' : len(pipeline.val_dataset),\n",
    "    'val_set_tokens' : pipeline.val_dataset.token_len(),\n",
    "    'test_set_len' : len(pipeline.test_dataset),\n",
    "    'test_set_tokens' : pipeline.test_dataset.token_len(),\n",
    "}"
   ]
  },
  {
   "cell_type": "code",
   "execution_count": null,
   "id": "organized-lease",
   "metadata": {},
   "outputs": [],
   "source": [
    "d"
   ]
  },
  {
   "cell_type": "code",
   "execution_count": null,
   "id": "rapid-popularity",
   "metadata": {},
   "outputs": [],
   "source": [
    "pipeline.perplexity()"
   ]
  },
  {
   "cell_type": "code",
   "execution_count": null,
   "id": "appropriate-holder",
   "metadata": {
    "scrolled": true
   },
   "outputs": [],
   "source": [
    "pipeline.train_model()"
   ]
  },
  {
   "cell_type": "code",
   "execution_count": null,
   "id": "distant-intake",
   "metadata": {},
   "outputs": [],
   "source": [
    "pipeline.perplexity()"
   ]
  },
  {
   "cell_type": "code",
   "execution_count": null,
   "id": "imperial-valley",
   "metadata": {},
   "outputs": [],
   "source": [
    "pipeline = Pipeline('CONFIG_MODEL_TWEETS.json', load_model_data = False)"
   ]
  },
  {
   "cell_type": "code",
   "execution_count": null,
   "id": "every-studio",
   "metadata": {},
   "outputs": [],
   "source": [
    "pipeline.load_model('models/tweets/tweets.pth')"
   ]
  },
  {
   "cell_type": "code",
   "execution_count": null,
   "id": "overhead-rover",
   "metadata": {},
   "outputs": [],
   "source": [
    "pipeline.generate(start_text = 'all', num_words = 40)"
   ]
  },
  {
   "cell_type": "code",
   "execution_count": null,
   "id": "solid-fiction",
   "metadata": {},
   "outputs": [],
   "source": [
    "pipeline.generate(start_text = 'what', num_words = 40)"
   ]
  },
  {
   "cell_type": "code",
   "execution_count": null,
   "id": "referenced-beverage",
   "metadata": {},
   "outputs": [],
   "source": [
    "pipeline.generate(start_text = 'i like', num_words = 40)"
   ]
  },
  {
   "cell_type": "markdown",
   "id": "standing-mapping",
   "metadata": {},
   "source": [
    "# Wiki Model"
   ]
  },
  {
   "cell_type": "code",
   "execution_count": null,
   "id": "listed-summary",
   "metadata": {},
   "outputs": [],
   "source": [
    "pipeline = Pipeline('CONFIG_MODEL_WIKI.json', load_model_data = True)"
   ]
  },
  {
   "cell_type": "code",
   "execution_count": null,
   "id": "endless-johnston",
   "metadata": {},
   "outputs": [],
   "source": [
    "pipeline.perplexity(with_recall = True, with_tqdm = True)"
   ]
  },
  {
   "cell_type": "code",
   "execution_count": null,
   "id": "approved-signal",
   "metadata": {},
   "outputs": [],
   "source": [
    "pipeline.load_model('models/wiki103/wiki103.pth')"
   ]
  },
  {
   "cell_type": "code",
   "execution_count": null,
   "id": "fossil-stylus",
   "metadata": {},
   "outputs": [],
   "source": [
    "pipeline.perplexity(with_recall = True, with_tqdm = True)"
   ]
  },
  {
   "cell_type": "code",
   "execution_count": null,
   "id": "integral-chest",
   "metadata": {},
   "outputs": [],
   "source": [
    "pipeline.train_model()"
   ]
  },
  {
   "cell_type": "code",
   "execution_count": null,
   "id": "anticipated-vintage",
   "metadata": {},
   "outputs": [],
   "source": [
    "pipeline.perplexity()"
   ]
  },
  {
   "cell_type": "code",
   "execution_count": null,
   "id": "incoming-eligibility",
   "metadata": {},
   "outputs": [],
   "source": [
    "pipeline.generate(start_text = 'all', num_words=40)"
   ]
  },
  {
   "cell_type": "code",
   "execution_count": null,
   "id": "blank-seller",
   "metadata": {},
   "outputs": [],
   "source": [
    "pipeline.generate(start_text = 'what', num_words=40)"
   ]
  },
  {
   "cell_type": "code",
   "execution_count": null,
   "id": "loving-israel",
   "metadata": {},
   "outputs": [],
   "source": [
    "pipeline.generate(start_text = 'i like')"
   ]
  },
  {
   "cell_type": "code",
   "execution_count": null,
   "id": "naked-slovenia",
   "metadata": {},
   "outputs": [],
   "source": [
    "d = {\n",
    "    'train_set_len' : len(pipeline.train_dataset),\n",
    "    'train_set_tokens' : pipeline.train_dataset.token_len(),\n",
    "    'val_set_len' : len(pipeline.val_dataset),\n",
    "    'val_set_tokens' : pipeline.val_dataset.token_len(),\n",
    "    'test_set_len' : len(pipeline.test_dataset),\n",
    "    'test_set_tokens' : pipeline.test_dataset.token_len(),\n",
    "}"
   ]
  },
  {
   "cell_type": "code",
   "execution_count": null,
   "id": "dietary-memory",
   "metadata": {},
   "outputs": [],
   "source": [
    "d"
   ]
  },
  {
   "cell_type": "markdown",
   "id": "occasional-benefit",
   "metadata": {},
   "source": [
    "## FedAVG"
   ]
  },
  {
   "cell_type": "code",
   "execution_count": 1,
   "id": "therapeutic-lottery",
   "metadata": {},
   "outputs": [],
   "source": [
    "from src.federated_pipeline import Federated_AVG\n",
    "\n",
    "import os\n",
    "import pickle\n",
    "\n",
    "import matplotlib.pyplot as plt\n",
    "import pandas as pd\n",
    "import numpy as np"
   ]
  },
  {
   "cell_type": "code",
   "execution_count": 2,
   "id": "presidential-pennsylvania",
   "metadata": {},
   "outputs": [
    {
     "name": "stderr",
     "output_type": "stream",
     "text": [
      "100%|██████████| 5000/5000 [00:00<00:00, 7736.48it/s]\n",
      "100%|██████████| 5000/5000 [00:00<00:00, 7556.60it/s]\n",
      "100%|██████████| 1/1 [00:00<00:00, 178.76it/s]\n",
      "100%|██████████| 50/50 [00:15<00:00,  3.14it/s]\n"
     ]
    }
   ],
   "source": [
    "federated = Federated_AVG(\n",
    "    \"CONFIG_MODEL_TWEETS.json\",\n",
    "    \"CONFIG_FEDERATED_TWEETS.json\",\n",
    "    testing = True\n",
    ")"
   ]
  },
  {
   "cell_type": "code",
   "execution_count": 3,
   "id": "industrial-coral",
   "metadata": {},
   "outputs": [
    {
     "data": {
      "text/plain": [
       "array([2948, 2954, 2851, 4121, 4065, 3986, 1801, 4089, 1930, 3477, 2594,\n",
       "       3342, 2995, 2657, 2675, 3628, 2156, 2323, 3309, 3575, 3177, 4176,\n",
       "       2776, 2854, 3333, 3000, 3000, 3000, 3000, 3000, 3000, 3000, 3000,\n",
       "       3000, 3000, 3000, 3000, 3000, 3000, 3000, 3000, 3000, 3000, 3000,\n",
       "       3000, 3000, 3000, 3000, 3000, 3000])"
      ]
     },
     "execution_count": 3,
     "metadata": {},
     "output_type": "execute_result"
    }
   ],
   "source": [
    "a = np.array([len(n.data) for n in federated.nodes.values()])\n",
    "a"
   ]
  },
  {
   "cell_type": "code",
   "execution_count": 4,
   "id": "external-patch",
   "metadata": {},
   "outputs": [
    {
     "name": "stderr",
     "output_type": "stream",
     "text": [
      "100%|██████████| 50/50 [00:00<00:00, 5332.33it/s]\n",
      "  2%|▏         | 3/193 [00:00<00:06, 28.53it/s]"
     ]
    },
    {
     "name": "stdout",
     "output_type": "stream",
     "text": [
      "round 0\n"
     ]
    },
    {
     "name": "stderr",
     "output_type": "stream",
     "text": [
      "100%|██████████| 193/193 [00:04<00:00, 39.17it/s]\n",
      "100%|██████████| 50/50 [00:00<00:00, 627.30it/s]\n",
      "  0%|          | 0/50 [00:00<?, ?it/s]"
     ]
    },
    {
     "name": "stdout",
     "output_type": "stream",
     "text": [
      "round 1\n"
     ]
    },
    {
     "name": "stderr",
     "output_type": "stream",
     "text": [
      "100%|██████████| 50/50 [00:40<00:00,  1.24it/s]\n",
      "100%|██████████| 193/193 [00:04<00:00, 42.24it/s]\n",
      "100%|██████████| 50/50 [00:00<00:00, 646.03it/s]\n",
      "  0%|          | 0/50 [00:00<?, ?it/s]"
     ]
    },
    {
     "name": "stdout",
     "output_type": "stream",
     "text": [
      "round 2\n"
     ]
    },
    {
     "name": "stderr",
     "output_type": "stream",
     "text": [
      "100%|██████████| 50/50 [00:40<00:00,  1.24it/s]\n",
      "100%|██████████| 193/193 [00:04<00:00, 42.14it/s]\n",
      "100%|██████████| 50/50 [00:00<00:00, 643.73it/s]\n",
      "  0%|          | 0/50 [00:00<?, ?it/s]"
     ]
    },
    {
     "name": "stdout",
     "output_type": "stream",
     "text": [
      "round 3\n"
     ]
    },
    {
     "name": "stderr",
     "output_type": "stream",
     "text": [
      "100%|██████████| 50/50 [00:40<00:00,  1.24it/s]\n",
      "100%|██████████| 193/193 [00:04<00:00, 41.73it/s]\n",
      "100%|██████████| 50/50 [00:00<00:00, 634.90it/s]\n",
      "  0%|          | 0/50 [00:00<?, ?it/s]"
     ]
    },
    {
     "name": "stdout",
     "output_type": "stream",
     "text": [
      "round 4\n"
     ]
    },
    {
     "name": "stderr",
     "output_type": "stream",
     "text": [
      "100%|██████████| 50/50 [00:40<00:00,  1.24it/s]\n",
      "100%|██████████| 193/193 [00:04<00:00, 41.83it/s]\n",
      "100%|██████████| 50/50 [00:00<00:00, 647.14it/s]\n",
      "  0%|          | 0/50 [00:00<?, ?it/s]"
     ]
    },
    {
     "name": "stdout",
     "output_type": "stream",
     "text": [
      "round 5\n"
     ]
    },
    {
     "name": "stderr",
     "output_type": "stream",
     "text": [
      "100%|██████████| 50/50 [00:40<00:00,  1.23it/s]\n",
      "100%|██████████| 193/193 [00:04<00:00, 42.09it/s]\n",
      "100%|██████████| 50/50 [00:00<00:00, 651.47it/s]\n",
      "  0%|          | 0/50 [00:00<?, ?it/s]"
     ]
    },
    {
     "name": "stdout",
     "output_type": "stream",
     "text": [
      "round 6\n"
     ]
    },
    {
     "name": "stderr",
     "output_type": "stream",
     "text": [
      "100%|██████████| 50/50 [00:40<00:00,  1.24it/s]\n",
      "100%|██████████| 193/193 [00:04<00:00, 41.92it/s]\n",
      "100%|██████████| 50/50 [00:00<00:00, 636.03it/s]\n",
      "  0%|          | 0/50 [00:00<?, ?it/s]"
     ]
    },
    {
     "name": "stdout",
     "output_type": "stream",
     "text": [
      "round 7\n"
     ]
    },
    {
     "name": "stderr",
     "output_type": "stream",
     "text": [
      "100%|██████████| 50/50 [00:43<00:00,  1.15it/s]\n",
      "100%|██████████| 193/193 [00:04<00:00, 38.77it/s]\n",
      "100%|██████████| 50/50 [00:00<00:00, 644.41it/s]\n",
      "  0%|          | 0/50 [00:00<?, ?it/s]"
     ]
    },
    {
     "name": "stdout",
     "output_type": "stream",
     "text": [
      "round 8\n"
     ]
    },
    {
     "name": "stderr",
     "output_type": "stream",
     "text": [
      "100%|██████████| 50/50 [00:42<00:00,  1.17it/s]\n",
      "100%|██████████| 193/193 [00:04<00:00, 42.67it/s]\n",
      "100%|██████████| 50/50 [00:00<00:00, 623.81it/s]\n",
      "  0%|          | 0/50 [00:00<?, ?it/s]"
     ]
    },
    {
     "name": "stdout",
     "output_type": "stream",
     "text": [
      "round 9\n"
     ]
    },
    {
     "name": "stderr",
     "output_type": "stream",
     "text": [
      "100%|██████████| 50/50 [00:41<00:00,  1.22it/s]\n",
      "100%|██████████| 193/193 [00:04<00:00, 42.74it/s]\n",
      "100%|██████████| 50/50 [00:00<00:00, 680.90it/s]\n",
      "  0%|          | 0/50 [00:00<?, ?it/s]"
     ]
    },
    {
     "name": "stdout",
     "output_type": "stream",
     "text": [
      "round 10\n"
     ]
    },
    {
     "name": "stderr",
     "output_type": "stream",
     "text": [
      "100%|██████████| 50/50 [00:42<00:00,  1.19it/s]\n",
      "100%|██████████| 193/193 [00:04<00:00, 40.57it/s]\n",
      "100%|██████████| 50/50 [00:00<00:00, 645.59it/s]\n",
      "  0%|          | 0/50 [00:00<?, ?it/s]"
     ]
    },
    {
     "name": "stdout",
     "output_type": "stream",
     "text": [
      "round 11\n"
     ]
    },
    {
     "name": "stderr",
     "output_type": "stream",
     "text": [
      "100%|██████████| 50/50 [00:42<00:00,  1.19it/s]\n",
      "100%|██████████| 193/193 [00:04<00:00, 42.15it/s]\n",
      "100%|██████████| 50/50 [00:00<00:00, 656.17it/s]\n",
      "  0%|          | 0/50 [00:00<?, ?it/s]"
     ]
    },
    {
     "name": "stdout",
     "output_type": "stream",
     "text": [
      "round 12\n"
     ]
    },
    {
     "name": "stderr",
     "output_type": "stream",
     "text": [
      "100%|██████████| 50/50 [00:42<00:00,  1.19it/s]\n",
      "100%|██████████| 193/193 [00:04<00:00, 40.83it/s]\n",
      "100%|██████████| 50/50 [00:00<00:00, 652.61it/s]\n",
      "  0%|          | 0/50 [00:00<?, ?it/s]"
     ]
    },
    {
     "name": "stdout",
     "output_type": "stream",
     "text": [
      "round 13\n"
     ]
    },
    {
     "name": "stderr",
     "output_type": "stream",
     "text": [
      "100%|██████████| 50/50 [00:42<00:00,  1.18it/s]\n",
      "100%|██████████| 193/193 [00:04<00:00, 42.58it/s]\n",
      "100%|██████████| 50/50 [00:00<00:00, 592.10it/s]\n",
      "  0%|          | 0/50 [00:00<?, ?it/s]"
     ]
    },
    {
     "name": "stdout",
     "output_type": "stream",
     "text": [
      "round 14\n"
     ]
    },
    {
     "name": "stderr",
     "output_type": "stream",
     "text": [
      "100%|██████████| 50/50 [00:40<00:00,  1.24it/s]\n",
      "100%|██████████| 193/193 [00:04<00:00, 42.70it/s]\n",
      "100%|██████████| 50/50 [00:00<00:00, 679.29it/s]\n",
      "  0%|          | 0/50 [00:00<?, ?it/s]"
     ]
    },
    {
     "name": "stdout",
     "output_type": "stream",
     "text": [
      "round 15\n"
     ]
    },
    {
     "name": "stderr",
     "output_type": "stream",
     "text": [
      "100%|██████████| 50/50 [00:40<00:00,  1.24it/s]\n",
      "100%|██████████| 193/193 [00:04<00:00, 42.61it/s]\n",
      "100%|██████████| 50/50 [00:00<00:00, 675.77it/s]\n",
      "  0%|          | 0/50 [00:00<?, ?it/s]"
     ]
    },
    {
     "name": "stdout",
     "output_type": "stream",
     "text": [
      "round 16\n"
     ]
    },
    {
     "name": "stderr",
     "output_type": "stream",
     "text": [
      "100%|██████████| 50/50 [00:40<00:00,  1.23it/s]\n",
      "100%|██████████| 193/193 [00:04<00:00, 42.28it/s]\n",
      "100%|██████████| 50/50 [00:00<00:00, 646.26it/s]\n",
      "  0%|          | 0/50 [00:00<?, ?it/s]"
     ]
    },
    {
     "name": "stdout",
     "output_type": "stream",
     "text": [
      "round 17\n"
     ]
    },
    {
     "name": "stderr",
     "output_type": "stream",
     "text": [
      "100%|██████████| 50/50 [00:40<00:00,  1.24it/s]\n",
      "100%|██████████| 193/193 [00:04<00:00, 42.26it/s]\n",
      "100%|██████████| 50/50 [00:00<00:00, 634.70it/s]\n",
      "  0%|          | 0/50 [00:00<?, ?it/s]"
     ]
    },
    {
     "name": "stdout",
     "output_type": "stream",
     "text": [
      "round 18\n"
     ]
    },
    {
     "name": "stderr",
     "output_type": "stream",
     "text": [
      "100%|██████████| 50/50 [00:40<00:00,  1.24it/s]\n",
      "100%|██████████| 193/193 [00:04<00:00, 41.98it/s]\n",
      "100%|██████████| 50/50 [00:00<00:00, 649.72it/s]\n",
      "  0%|          | 0/50 [00:00<?, ?it/s]"
     ]
    },
    {
     "name": "stdout",
     "output_type": "stream",
     "text": [
      "round 19\n"
     ]
    },
    {
     "name": "stderr",
     "output_type": "stream",
     "text": [
      "100%|██████████| 50/50 [00:40<00:00,  1.24it/s]\n",
      "100%|██████████| 193/193 [00:04<00:00, 40.00it/s]\n",
      "100%|██████████| 50/50 [00:00<00:00, 576.69it/s]\n",
      "  0%|          | 0/50 [00:00<?, ?it/s]"
     ]
    },
    {
     "name": "stdout",
     "output_type": "stream",
     "text": [
      "round 20\n"
     ]
    },
    {
     "name": "stderr",
     "output_type": "stream",
     "text": [
      "100%|██████████| 50/50 [00:40<00:00,  1.24it/s]\n",
      "100%|██████████| 193/193 [00:04<00:00, 42.31it/s]\n",
      "100%|██████████| 50/50 [00:00<00:00, 652.68it/s]\n"
     ]
    }
   ],
   "source": [
    "federated.train(20, save_results = False)"
   ]
  },
  {
   "cell_type": "code",
   "execution_count": 5,
   "id": "furnished-commission",
   "metadata": {},
   "outputs": [
    {
     "data": {
      "text/html": [
       "<div>\n",
       "<style scoped>\n",
       "    .dataframe tbody tr th:only-of-type {\n",
       "        vertical-align: middle;\n",
       "    }\n",
       "\n",
       "    .dataframe tbody tr th {\n",
       "        vertical-align: top;\n",
       "    }\n",
       "\n",
       "    .dataframe thead th {\n",
       "        text-align: right;\n",
       "    }\n",
       "</style>\n",
       "<table border=\"1\" class=\"dataframe\">\n",
       "  <thead>\n",
       "    <tr style=\"text-align: right;\">\n",
       "      <th></th>\n",
       "      <th>0</th>\n",
       "      <th>1</th>\n",
       "      <th>2</th>\n",
       "      <th>3</th>\n",
       "      <th>4</th>\n",
       "      <th>5</th>\n",
       "      <th>6</th>\n",
       "      <th>7</th>\n",
       "      <th>8</th>\n",
       "      <th>9</th>\n",
       "      <th>...</th>\n",
       "      <th>11</th>\n",
       "      <th>12</th>\n",
       "      <th>13</th>\n",
       "      <th>14</th>\n",
       "      <th>15</th>\n",
       "      <th>16</th>\n",
       "      <th>17</th>\n",
       "      <th>18</th>\n",
       "      <th>19</th>\n",
       "      <th>20</th>\n",
       "    </tr>\n",
       "  </thead>\n",
       "  <tbody>\n",
       "    <tr>\n",
       "      <th>perplexity</th>\n",
       "      <td>82.280398</td>\n",
       "      <td>189.175464</td>\n",
       "      <td>312.735829</td>\n",
       "      <td>313.627502</td>\n",
       "      <td>330.508332</td>\n",
       "      <td>378.797200</td>\n",
       "      <td>395.273117</td>\n",
       "      <td>377.667653</td>\n",
       "      <td>377.596313</td>\n",
       "      <td>511.838256</td>\n",
       "      <td>...</td>\n",
       "      <td>540.186345</td>\n",
       "      <td>7488.576066</td>\n",
       "      <td>8820.806284</td>\n",
       "      <td>490.042779</td>\n",
       "      <td>540.147629</td>\n",
       "      <td>16000.969242</td>\n",
       "      <td>505.977410</td>\n",
       "      <td>807.295065</td>\n",
       "      <td>1656.615388</td>\n",
       "      <td>424.982982</td>\n",
       "    </tr>\n",
       "    <tr>\n",
       "      <th>loss</th>\n",
       "      <td>4.406816</td>\n",
       "      <td>5.239529</td>\n",
       "      <td>5.742709</td>\n",
       "      <td>5.745860</td>\n",
       "      <td>5.798581</td>\n",
       "      <td>5.936045</td>\n",
       "      <td>5.978216</td>\n",
       "      <td>5.931737</td>\n",
       "      <td>5.932259</td>\n",
       "      <td>6.235802</td>\n",
       "      <td>...</td>\n",
       "      <td>6.291490</td>\n",
       "      <td>8.916497</td>\n",
       "      <td>9.082331</td>\n",
       "      <td>6.193844</td>\n",
       "      <td>6.290457</td>\n",
       "      <td>9.676824</td>\n",
       "      <td>6.225039</td>\n",
       "      <td>6.691768</td>\n",
       "      <td>7.411625</td>\n",
       "      <td>6.050663</td>\n",
       "    </tr>\n",
       "    <tr>\n",
       "      <th>f1_recall</th>\n",
       "      <td>0.295508</td>\n",
       "      <td>0.225968</td>\n",
       "      <td>0.190668</td>\n",
       "      <td>0.190580</td>\n",
       "      <td>0.186166</td>\n",
       "      <td>0.173482</td>\n",
       "      <td>0.171231</td>\n",
       "      <td>0.176204</td>\n",
       "      <td>0.179279</td>\n",
       "      <td>0.156943</td>\n",
       "      <td>...</td>\n",
       "      <td>0.155825</td>\n",
       "      <td>0.059152</td>\n",
       "      <td>0.018525</td>\n",
       "      <td>0.128427</td>\n",
       "      <td>0.136299</td>\n",
       "      <td>0.039346</td>\n",
       "      <td>0.134592</td>\n",
       "      <td>0.132076</td>\n",
       "      <td>0.072836</td>\n",
       "      <td>0.147261</td>\n",
       "    </tr>\n",
       "    <tr>\n",
       "      <th>f3_recall</th>\n",
       "      <td>0.402290</td>\n",
       "      <td>0.332956</td>\n",
       "      <td>0.298657</td>\n",
       "      <td>0.293904</td>\n",
       "      <td>0.292815</td>\n",
       "      <td>0.277483</td>\n",
       "      <td>0.269066</td>\n",
       "      <td>0.277571</td>\n",
       "      <td>0.282412</td>\n",
       "      <td>0.253572</td>\n",
       "      <td>...</td>\n",
       "      <td>0.248422</td>\n",
       "      <td>0.111432</td>\n",
       "      <td>0.043628</td>\n",
       "      <td>0.214138</td>\n",
       "      <td>0.222539</td>\n",
       "      <td>0.086785</td>\n",
       "      <td>0.220509</td>\n",
       "      <td>0.216624</td>\n",
       "      <td>0.150027</td>\n",
       "      <td>0.238313</td>\n",
       "    </tr>\n",
       "    <tr>\n",
       "      <th>attack_perplexity</th>\n",
       "      <td>598.074532</td>\n",
       "      <td>444.141736</td>\n",
       "      <td>1208.317450</td>\n",
       "      <td>863.370627</td>\n",
       "      <td>574.217410</td>\n",
       "      <td>487.995960</td>\n",
       "      <td>970.634404</td>\n",
       "      <td>667.914356</td>\n",
       "      <td>572.748604</td>\n",
       "      <td>936.209325</td>\n",
       "      <td>...</td>\n",
       "      <td>1166.273667</td>\n",
       "      <td>1.000026</td>\n",
       "      <td>1.000000</td>\n",
       "      <td>9.211939</td>\n",
       "      <td>59.540461</td>\n",
       "      <td>1.000003</td>\n",
       "      <td>1.714386</td>\n",
       "      <td>6.365241</td>\n",
       "      <td>1.000007</td>\n",
       "      <td>1.291710</td>\n",
       "    </tr>\n",
       "    <tr>\n",
       "      <th>...</th>\n",
       "      <td>...</td>\n",
       "      <td>...</td>\n",
       "      <td>...</td>\n",
       "      <td>...</td>\n",
       "      <td>...</td>\n",
       "      <td>...</td>\n",
       "      <td>...</td>\n",
       "      <td>...</td>\n",
       "      <td>...</td>\n",
       "      <td>...</td>\n",
       "      <td>...</td>\n",
       "      <td>...</td>\n",
       "      <td>...</td>\n",
       "      <td>...</td>\n",
       "      <td>...</td>\n",
       "      <td>...</td>\n",
       "      <td>...</td>\n",
       "      <td>...</td>\n",
       "      <td>...</td>\n",
       "      <td>...</td>\n",
       "      <td>...</td>\n",
       "    </tr>\n",
       "    <tr>\n",
       "      <th>attack_perplexity_25</th>\n",
       "      <td>598.074532</td>\n",
       "      <td>444.141736</td>\n",
       "      <td>1208.317450</td>\n",
       "      <td>863.370627</td>\n",
       "      <td>574.217410</td>\n",
       "      <td>487.995960</td>\n",
       "      <td>970.634404</td>\n",
       "      <td>667.914356</td>\n",
       "      <td>572.748604</td>\n",
       "      <td>936.209325</td>\n",
       "      <td>...</td>\n",
       "      <td>1166.273667</td>\n",
       "      <td>1.000026</td>\n",
       "      <td>1.000000</td>\n",
       "      <td>9.211939</td>\n",
       "      <td>59.540461</td>\n",
       "      <td>1.000003</td>\n",
       "      <td>1.714386</td>\n",
       "      <td>6.365241</td>\n",
       "      <td>1.000007</td>\n",
       "      <td>1.291710</td>\n",
       "    </tr>\n",
       "    <tr>\n",
       "      <th>train_len_25</th>\n",
       "      <td>3333.000000</td>\n",
       "      <td>3333.000000</td>\n",
       "      <td>3333.000000</td>\n",
       "      <td>3333.000000</td>\n",
       "      <td>3333.000000</td>\n",
       "      <td>3333.000000</td>\n",
       "      <td>3333.000000</td>\n",
       "      <td>3333.000000</td>\n",
       "      <td>3333.000000</td>\n",
       "      <td>3333.000000</td>\n",
       "      <td>...</td>\n",
       "      <td>3333.000000</td>\n",
       "      <td>3333.000000</td>\n",
       "      <td>3333.000000</td>\n",
       "      <td>3333.000000</td>\n",
       "      <td>3333.000000</td>\n",
       "      <td>3333.000000</td>\n",
       "      <td>3333.000000</td>\n",
       "      <td>3333.000000</td>\n",
       "      <td>3333.000000</td>\n",
       "      <td>3333.000000</td>\n",
       "    </tr>\n",
       "    <tr>\n",
       "      <th>train_tokens_25</th>\n",
       "      <td>3333.000000</td>\n",
       "      <td>3333.000000</td>\n",
       "      <td>3333.000000</td>\n",
       "      <td>3333.000000</td>\n",
       "      <td>3333.000000</td>\n",
       "      <td>3333.000000</td>\n",
       "      <td>3333.000000</td>\n",
       "      <td>3333.000000</td>\n",
       "      <td>3333.000000</td>\n",
       "      <td>3333.000000</td>\n",
       "      <td>...</td>\n",
       "      <td>3333.000000</td>\n",
       "      <td>3333.000000</td>\n",
       "      <td>3333.000000</td>\n",
       "      <td>3333.000000</td>\n",
       "      <td>3333.000000</td>\n",
       "      <td>3333.000000</td>\n",
       "      <td>3333.000000</td>\n",
       "      <td>3333.000000</td>\n",
       "      <td>3333.000000</td>\n",
       "      <td>3333.000000</td>\n",
       "    </tr>\n",
       "    <tr>\n",
       "      <th>len_25</th>\n",
       "      <td>711.000000</td>\n",
       "      <td>711.000000</td>\n",
       "      <td>711.000000</td>\n",
       "      <td>711.000000</td>\n",
       "      <td>711.000000</td>\n",
       "      <td>711.000000</td>\n",
       "      <td>711.000000</td>\n",
       "      <td>711.000000</td>\n",
       "      <td>711.000000</td>\n",
       "      <td>711.000000</td>\n",
       "      <td>...</td>\n",
       "      <td>711.000000</td>\n",
       "      <td>711.000000</td>\n",
       "      <td>711.000000</td>\n",
       "      <td>711.000000</td>\n",
       "      <td>711.000000</td>\n",
       "      <td>711.000000</td>\n",
       "      <td>711.000000</td>\n",
       "      <td>711.000000</td>\n",
       "      <td>711.000000</td>\n",
       "      <td>711.000000</td>\n",
       "    </tr>\n",
       "    <tr>\n",
       "      <th>tokens_25</th>\n",
       "      <td>711.000000</td>\n",
       "      <td>711.000000</td>\n",
       "      <td>711.000000</td>\n",
       "      <td>711.000000</td>\n",
       "      <td>711.000000</td>\n",
       "      <td>711.000000</td>\n",
       "      <td>711.000000</td>\n",
       "      <td>711.000000</td>\n",
       "      <td>711.000000</td>\n",
       "      <td>711.000000</td>\n",
       "      <td>...</td>\n",
       "      <td>711.000000</td>\n",
       "      <td>711.000000</td>\n",
       "      <td>711.000000</td>\n",
       "      <td>711.000000</td>\n",
       "      <td>711.000000</td>\n",
       "      <td>711.000000</td>\n",
       "      <td>711.000000</td>\n",
       "      <td>711.000000</td>\n",
       "      <td>711.000000</td>\n",
       "      <td>711.000000</td>\n",
       "    </tr>\n",
       "  </tbody>\n",
       "</table>\n",
       "<p>232 rows × 21 columns</p>\n",
       "</div>"
      ],
      "text/plain": [
       "                               0            1            2            3   \\\n",
       "perplexity              82.280398   189.175464   312.735829   313.627502   \n",
       "loss                     4.406816     5.239529     5.742709     5.745860   \n",
       "f1_recall                0.295508     0.225968     0.190668     0.190580   \n",
       "f3_recall                0.402290     0.332956     0.298657     0.293904   \n",
       "attack_perplexity      598.074532   444.141736  1208.317450   863.370627   \n",
       "...                           ...          ...          ...          ...   \n",
       "attack_perplexity_25   598.074532   444.141736  1208.317450   863.370627   \n",
       "train_len_25          3333.000000  3333.000000  3333.000000  3333.000000   \n",
       "train_tokens_25       3333.000000  3333.000000  3333.000000  3333.000000   \n",
       "len_25                 711.000000   711.000000   711.000000   711.000000   \n",
       "tokens_25              711.000000   711.000000   711.000000   711.000000   \n",
       "\n",
       "                               4            5            6            7   \\\n",
       "perplexity             330.508332   378.797200   395.273117   377.667653   \n",
       "loss                     5.798581     5.936045     5.978216     5.931737   \n",
       "f1_recall                0.186166     0.173482     0.171231     0.176204   \n",
       "f3_recall                0.292815     0.277483     0.269066     0.277571   \n",
       "attack_perplexity      574.217410   487.995960   970.634404   667.914356   \n",
       "...                           ...          ...          ...          ...   \n",
       "attack_perplexity_25   574.217410   487.995960   970.634404   667.914356   \n",
       "train_len_25          3333.000000  3333.000000  3333.000000  3333.000000   \n",
       "train_tokens_25       3333.000000  3333.000000  3333.000000  3333.000000   \n",
       "len_25                 711.000000   711.000000   711.000000   711.000000   \n",
       "tokens_25              711.000000   711.000000   711.000000   711.000000   \n",
       "\n",
       "                               8            9   ...           11           12  \\\n",
       "perplexity             377.596313   511.838256  ...   540.186345  7488.576066   \n",
       "loss                     5.932259     6.235802  ...     6.291490     8.916497   \n",
       "f1_recall                0.179279     0.156943  ...     0.155825     0.059152   \n",
       "f3_recall                0.282412     0.253572  ...     0.248422     0.111432   \n",
       "attack_perplexity      572.748604   936.209325  ...  1166.273667     1.000026   \n",
       "...                           ...          ...  ...          ...          ...   \n",
       "attack_perplexity_25   572.748604   936.209325  ...  1166.273667     1.000026   \n",
       "train_len_25          3333.000000  3333.000000  ...  3333.000000  3333.000000   \n",
       "train_tokens_25       3333.000000  3333.000000  ...  3333.000000  3333.000000   \n",
       "len_25                 711.000000   711.000000  ...   711.000000   711.000000   \n",
       "tokens_25              711.000000   711.000000  ...   711.000000   711.000000   \n",
       "\n",
       "                               13           14           15            16  \\\n",
       "perplexity            8820.806284   490.042779   540.147629  16000.969242   \n",
       "loss                     9.082331     6.193844     6.290457      9.676824   \n",
       "f1_recall                0.018525     0.128427     0.136299      0.039346   \n",
       "f3_recall                0.043628     0.214138     0.222539      0.086785   \n",
       "attack_perplexity        1.000000     9.211939    59.540461      1.000003   \n",
       "...                           ...          ...          ...           ...   \n",
       "attack_perplexity_25     1.000000     9.211939    59.540461      1.000003   \n",
       "train_len_25          3333.000000  3333.000000  3333.000000   3333.000000   \n",
       "train_tokens_25       3333.000000  3333.000000  3333.000000   3333.000000   \n",
       "len_25                 711.000000   711.000000   711.000000    711.000000   \n",
       "tokens_25              711.000000   711.000000   711.000000    711.000000   \n",
       "\n",
       "                               17           18           19           20  \n",
       "perplexity             505.977410   807.295065  1656.615388   424.982982  \n",
       "loss                     6.225039     6.691768     7.411625     6.050663  \n",
       "f1_recall                0.134592     0.132076     0.072836     0.147261  \n",
       "f3_recall                0.220509     0.216624     0.150027     0.238313  \n",
       "attack_perplexity        1.714386     6.365241     1.000007     1.291710  \n",
       "...                           ...          ...          ...          ...  \n",
       "attack_perplexity_25     1.714386     6.365241     1.000007     1.291710  \n",
       "train_len_25          3333.000000  3333.000000  3333.000000  3333.000000  \n",
       "train_tokens_25       3333.000000  3333.000000  3333.000000  3333.000000  \n",
       "len_25                 711.000000   711.000000   711.000000   711.000000  \n",
       "tokens_25              711.000000   711.000000   711.000000   711.000000  \n",
       "\n",
       "[232 rows x 21 columns]"
      ]
     },
     "execution_count": 5,
     "metadata": {},
     "output_type": "execute_result"
    }
   ],
   "source": [
    "pd.DataFrame(federated.results)"
   ]
  },
  {
   "cell_type": "code",
   "execution_count": 6,
   "id": "peripheral-category",
   "metadata": {},
   "outputs": [
    {
     "data": {
      "text/plain": [
       "'all have to go stories on his trumps deserves the pin is not having an silent at the one of the other dc as this thread is spread there is the role and which can he had many of ppl to rump that the fact pm leaking health room is one of trumps anything he was very living in the rally this is short of his things that the leaving divide where it almost not the debate in major weeks million the money and foundation had been endorsed in their camera campaign greater source jim tape in unless the nyt form'"
      ]
     },
     "execution_count": 6,
     "metadata": {},
     "output_type": "execute_result"
    }
   ],
   "source": [
    "federated.general_model.generate(federated.vocabulary, 'all')"
   ]
  },
  {
   "cell_type": "code",
   "execution_count": null,
   "id": "independent-tactics",
   "metadata": {},
   "outputs": [],
   "source": [
    "plt.figure()\n",
    "for k,v in pd.DataFrame(res[0]).T.to_dict().items():\n",
    "    if 'perplexity_' in k:\n",
    "        plt.plot(list(v.values()))"
   ]
  },
  {
   "cell_type": "code",
   "execution_count": null,
   "id": "forward-schedule",
   "metadata": {},
   "outputs": [],
   "source": [
    "plt.figure()\n",
    "for k,v in pd.DataFrame(res[0]).T.to_dict().items():\n",
    "    if 'f1_recall_' in k:\n",
    "        plt.plot(list(v.values()))"
   ]
  },
  {
   "cell_type": "code",
   "execution_count": null,
   "id": "armed-biotechnology",
   "metadata": {},
   "outputs": [],
   "source": [
    "plt.figure()\n",
    "for k,v in pd.DataFrame(res[0]).T.to_dict().items():\n",
    "    if 'f3_recall_' in k:\n",
    "        plt.plot(list(v.values()))"
   ]
  },
  {
   "cell_type": "code",
   "execution_count": null,
   "id": "harmful-links",
   "metadata": {},
   "outputs": [],
   "source": [
    "from src.federated_pipeline import Federated_LICCHAVI\n",
    "\n",
    "import os\n",
    "import pickle\n",
    "import matplotlib.pyplot as plt\n",
    "import pandas as pd"
   ]
  },
  {
   "cell_type": "code",
   "execution_count": null,
   "id": "preceding-refund",
   "metadata": {
    "scrolled": true
   },
   "outputs": [],
   "source": [
    "federated = Federated_LICCHAVI(\n",
    "    \"CONFIG_MODEL_TWEETS.json\",\n",
    "    \"CONFIG_FEDERATED_TWEETS.json\",\n",
    "    testing = True\n",
    ")"
   ]
  },
  {
   "cell_type": "code",
   "execution_count": null,
   "id": "interior-warner",
   "metadata": {},
   "outputs": [],
   "source": [
    "federated.train(5)"
   ]
  },
  {
   "cell_type": "code",
   "execution_count": null,
   "id": "arbitrary-thinking",
   "metadata": {},
   "outputs": [],
   "source": [
    "dir_ = os.path.join('tweets', 'LICCHAVI')\n",
    "res = {}\n",
    "for i,name in enumerate(os.listdir(dir_)):\n",
    "    with open(os.path.join(dir_, name, 'metrics.pickle'), 'rb') as f:\n",
    "        res[i] = pickle.load(f)"
   ]
  },
  {
   "cell_type": "code",
   "execution_count": null,
   "id": "extreme-bahamas",
   "metadata": {},
   "outputs": [],
   "source": [
    "f, ax = plt.subplots(1)\n",
    "ax.set_ylim([0, 300])\n",
    "for k,v in pd.DataFrame(res[0]).T.to_dict().items():\n",
    "    if 'perplexity' == k:\n",
    "        plt.plot(list(v.values()))\n",
    "        "
   ]
  },
  {
   "cell_type": "code",
   "execution_count": null,
   "id": "biblical-cutting",
   "metadata": {},
   "outputs": [],
   "source": [
    "from src.federated_pipeline import Federated_LICCHAVI_avg\n",
    "\n",
    "import os\n",
    "import pickle\n",
    "import matplotlib.pyplot as plt\n",
    "import pandas as pd\n",
    "import torch"
   ]
  },
  {
   "cell_type": "code",
   "execution_count": null,
   "id": "therapeutic-communication",
   "metadata": {},
   "outputs": [],
   "source": [
    "torch.autograd.set_detect_anomaly(True)"
   ]
  },
  {
   "cell_type": "code",
   "execution_count": null,
   "id": "north-container",
   "metadata": {},
   "outputs": [],
   "source": [
    "federated = Federated_LICCHAVI_avg(\n",
    "    \"CONFIG_MODEL_TWEETS.json\",\n",
    "    \"CONFIG_FEDERATED_TWEETS.json\",\n",
    "    testing = False\n",
    ")"
   ]
  },
  {
   "cell_type": "code",
   "execution_count": null,
   "id": "corrected-estimate",
   "metadata": {
    "scrolled": true
   },
   "outputs": [],
   "source": [
    "federated.train(5)"
   ]
  },
  {
   "cell_type": "code",
   "execution_count": null,
   "id": "improving-chess",
   "metadata": {},
   "outputs": [],
   "source": [
    "dir_ = os.path.join('tweets', 'LICCHAVI_avg')\n",
    "res = {}\n",
    "for i,name in enumerate(os.listdir(dir_)):\n",
    "    with open(os.path.join(dir_, name, 'metrics.pickle'), 'rb') as f:\n",
    "        res[i] = pickle.load(f)"
   ]
  },
  {
   "cell_type": "code",
   "execution_count": null,
   "id": "cooperative-income",
   "metadata": {},
   "outputs": [],
   "source": [
    "res.keys()"
   ]
  },
  {
   "cell_type": "code",
   "execution_count": null,
   "id": "tracked-stations",
   "metadata": {},
   "outputs": [],
   "source": [
    "f, ax = plt.subplots(1)\n",
    "ax.set_ylim([0, 80])\n",
    "for k,v in pd.DataFrame(res[0]).T.to_dict().items():\n",
    "    if 'perplexity' == k:\n",
    "        plt.plot(list(v.values()))"
   ]
  },
  {
   "cell_type": "code",
   "execution_count": null,
   "id": "flexible-hotel",
   "metadata": {},
   "outputs": [],
   "source": [
    "f, ax = plt.subplots(1)\n",
    "ax.set_ylim([0, 1])\n",
    "for k,v in pd.DataFrame(res[0]).T.to_dict().items():\n",
    "    if 'f3_recall' == k:\n",
    "        plt.plot(list(v.values()))"
   ]
  },
  {
   "cell_type": "code",
   "execution_count": null,
   "id": "acquired-appearance",
   "metadata": {},
   "outputs": [],
   "source": [
    "f, ax = plt.subplots(1)\n",
    "ax.set_ylim([0, 1])\n",
    "for k,v in pd.DataFrame(res[0]).T.to_dict().items():\n",
    "    if 'f3' in k:\n",
    "        plt.plot(list(v.values()))"
   ]
  },
  {
   "cell_type": "code",
   "execution_count": null,
   "id": "amino-commission",
   "metadata": {},
   "outputs": [],
   "source": [
    "federated.nodes[7].losses"
   ]
  },
  {
   "cell_type": "code",
   "execution_count": null,
   "id": "judicial-assembly",
   "metadata": {},
   "outputs": [],
   "source": []
  }
 ],
 "metadata": {
  "kernelspec": {
   "display_name": "Python 3.8.8 64-bit ('typewriter': conda)",
   "language": "python",
   "name": "python388jvsc74a57bd003343bff8ea9174e4e18dc33629d8cc7123b4a33b966bf5614ca716c9ad2f2e1"
  },
  "language_info": {
   "codemirror_mode": {
    "name": "ipython",
    "version": 3
   },
   "file_extension": ".py",
   "mimetype": "text/x-python",
   "name": "python",
   "nbconvert_exporter": "python",
   "pygments_lexer": "ipython3",
   "version": "3.8.8"
  }
 },
 "nbformat": 4,
 "nbformat_minor": 5
}
