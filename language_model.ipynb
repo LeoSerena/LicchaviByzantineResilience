{
 "cells": [
  {
   "cell_type": "markdown",
   "id": "minus-radiation",
   "metadata": {},
   "source": [
    "## Imports"
   ]
  },
  {
   "cell_type": "code",
   "execution_count": 1,
   "id": "falling-cuisine",
   "metadata": {},
   "outputs": [],
   "source": [
    "import os\n",
    "import re\n",
    "import sys\n",
    "import typing\n",
    "import gc\n",
    "import pandas as pd\n",
    "import pickle\n",
    "import logging\n",
    "\n",
    "sys.path.append(\n",
    "    os.path.join('.','src')\n",
    ")\n",
    "\n",
    "from src.models import Pipeline\n",
    "from src.nodes import *"
   ]
  },
  {
   "cell_type": "code",
   "execution_count": null,
   "id": "vanilla-characterization",
   "metadata": {},
   "outputs": [],
   "source": [
    "logging.basicConfig(filename='logs/logs.log', level=logging.DEBUG)"
   ]
  },
  {
   "cell_type": "markdown",
   "id": "noted-wellington",
   "metadata": {},
   "source": [
    "# Tweets Model"
   ]
  },
  {
   "cell_type": "code",
   "execution_count": null,
   "id": "pharmaceutical-width",
   "metadata": {
    "scrolled": false
   },
   "outputs": [],
   "source": [
    "pipeline = Pipeline('CONFIG_MODEL_TWEETS.json', load_model_data = True)"
   ]
  },
  {
   "cell_type": "code",
   "execution_count": null,
   "id": "offensive-cache",
   "metadata": {},
   "outputs": [],
   "source": [
    "d = {\n",
    "    'train_set_len' : len(pipeline.train_dataset),\n",
    "    'train_set_tokens' : pipeline.train_dataset.token_len(),\n",
    "    'val_set_len' : len(pipeline.val_dataset),\n",
    "    'val_set_tokens' : pipeline.val_dataset.token_len(),\n",
    "    'test_set_len' : len(pipeline.test_dataset),\n",
    "    'test_set_tokens' : pipeline.test_dataset.token_len(),\n",
    "}"
   ]
  },
  {
   "cell_type": "code",
   "execution_count": null,
   "id": "organized-lease",
   "metadata": {},
   "outputs": [],
   "source": [
    "d"
   ]
  },
  {
   "cell_type": "code",
   "execution_count": null,
   "id": "rapid-popularity",
   "metadata": {},
   "outputs": [],
   "source": [
    "pipeline.perplexity()"
   ]
  },
  {
   "cell_type": "code",
   "execution_count": null,
   "id": "appropriate-holder",
   "metadata": {
    "scrolled": true
   },
   "outputs": [],
   "source": [
    "pipeline.train_model()"
   ]
  },
  {
   "cell_type": "code",
   "execution_count": null,
   "id": "distant-intake",
   "metadata": {},
   "outputs": [],
   "source": [
    "pipeline.perplexity()"
   ]
  },
  {
   "cell_type": "code",
   "execution_count": null,
   "id": "imperial-valley",
   "metadata": {},
   "outputs": [],
   "source": [
    "pipeline = Pipeline('CONFIG_MODEL_TWEETS.json', load_model_data = False)"
   ]
  },
  {
   "cell_type": "code",
   "execution_count": null,
   "id": "every-studio",
   "metadata": {},
   "outputs": [],
   "source": [
    "pipeline.load_model('models/tweets/tweets.pth')"
   ]
  },
  {
   "cell_type": "code",
   "execution_count": null,
   "id": "overhead-rover",
   "metadata": {},
   "outputs": [],
   "source": [
    "pipeline.generate(start_text = 'all', num_words = 40)"
   ]
  },
  {
   "cell_type": "code",
   "execution_count": null,
   "id": "solid-fiction",
   "metadata": {},
   "outputs": [],
   "source": [
    "pipeline.generate(start_text = 'what', num_words = 40)"
   ]
  },
  {
   "cell_type": "code",
   "execution_count": null,
   "id": "referenced-beverage",
   "metadata": {},
   "outputs": [],
   "source": [
    "pipeline.generate(start_text = 'i like', num_words = 40)"
   ]
  },
  {
   "cell_type": "markdown",
   "id": "standing-mapping",
   "metadata": {},
   "source": [
    "# Wiki Model"
   ]
  },
  {
   "cell_type": "code",
   "execution_count": null,
   "id": "listed-summary",
   "metadata": {},
   "outputs": [],
   "source": [
    "pipeline = Pipeline('CONFIG_MODEL_WIKI.json', load_model_data = True)"
   ]
  },
  {
   "cell_type": "code",
   "execution_count": null,
   "id": "endless-johnston",
   "metadata": {},
   "outputs": [],
   "source": [
    "pipeline.perplexity(with_recall = True, with_tqdm = True)"
   ]
  },
  {
   "cell_type": "code",
   "execution_count": null,
   "id": "approved-signal",
   "metadata": {},
   "outputs": [],
   "source": [
    "pipeline.load_model('models/wiki103/wiki103.pth')"
   ]
  },
  {
   "cell_type": "code",
   "execution_count": null,
   "id": "fossil-stylus",
   "metadata": {},
   "outputs": [],
   "source": [
    "pipeline.perplexity(with_recall = True, with_tqdm = True)"
   ]
  },
  {
   "cell_type": "code",
   "execution_count": null,
   "id": "integral-chest",
   "metadata": {},
   "outputs": [],
   "source": [
    "pipeline.train_model()"
   ]
  },
  {
   "cell_type": "code",
   "execution_count": null,
   "id": "anticipated-vintage",
   "metadata": {},
   "outputs": [],
   "source": [
    "pipeline.perplexity()"
   ]
  },
  {
   "cell_type": "code",
   "execution_count": null,
   "id": "incoming-eligibility",
   "metadata": {},
   "outputs": [],
   "source": [
    "pipeline.generate(start_text = 'all', num_words=40)"
   ]
  },
  {
   "cell_type": "code",
   "execution_count": null,
   "id": "blank-seller",
   "metadata": {},
   "outputs": [],
   "source": [
    "pipeline.generate(start_text = 'what', num_words=40)"
   ]
  },
  {
   "cell_type": "code",
   "execution_count": null,
   "id": "loving-israel",
   "metadata": {},
   "outputs": [],
   "source": [
    "pipeline.generate(start_text = 'i like')"
   ]
  },
  {
   "cell_type": "code",
   "execution_count": null,
   "id": "naked-slovenia",
   "metadata": {},
   "outputs": [],
   "source": [
    "d = {\n",
    "    'train_set_len' : len(pipeline.train_dataset),\n",
    "    'train_set_tokens' : pipeline.train_dataset.token_len(),\n",
    "    'val_set_len' : len(pipeline.val_dataset),\n",
    "    'val_set_tokens' : pipeline.val_dataset.token_len(),\n",
    "    'test_set_len' : len(pipeline.test_dataset),\n",
    "    'test_set_tokens' : pipeline.test_dataset.token_len(),\n",
    "}"
   ]
  },
  {
   "cell_type": "code",
   "execution_count": null,
   "id": "understanding-windows",
   "metadata": {},
   "outputs": [],
   "source": [
    "import pickle\n",
    "from src.data_processing import *"
   ]
  },
  {
   "cell_type": "code",
   "execution_count": null,
   "id": "fifteen-belize",
   "metadata": {},
   "outputs": [],
   "source": [
    "a = []\n",
    "for f in os.listdir('nodes_data/nodes_data_wiki103'):\n",
    "    f = os.path.join('nodes_data/nodes_data_wiki103', f)\n",
    "    \n",
    "    with open(f, 'rb') as file:\n",
    "        a.append(pickle.load(file))"
   ]
  },
  {
   "cell_type": "code",
   "execution_count": null,
   "id": "front-heaven",
   "metadata": {},
   "outputs": [],
   "source": [
    "seq = SequenceDataset(\n",
    "    federated.vocabulary,\n",
    "    a[0],\n",
    "    min_seq_length = 2,\n",
    "    max_seq_length = 30,\n",
    "    device = None\n",
    ")"
   ]
  },
  {
   "cell_type": "code",
   "execution_count": null,
   "id": "christian-lexington",
   "metadata": {},
   "outputs": [],
   "source": [
    "for s in seq:\n",
    "    print(sum(s))"
   ]
  },
  {
   "cell_type": "markdown",
   "id": "occasional-benefit",
   "metadata": {},
   "source": [
    "## FedAVG"
   ]
  },
  {
   "cell_type": "code",
   "execution_count": 1,
   "id": "therapeutic-lottery",
   "metadata": {},
   "outputs": [],
   "source": [
    "from src.federated_pipeline import Federated_AVG\n",
    "\n",
    "import os\n",
    "import pickle\n",
    "\n",
    "import matplotlib.pyplot as plt\n",
    "import pandas as pd\n",
    "import numpy as np\n",
    "import torch"
   ]
  },
  {
   "cell_type": "code",
   "execution_count": 2,
   "id": "presidential-pennsylvania",
   "metadata": {
    "scrolled": true
   },
   "outputs": [
    {
     "name": "stderr",
     "output_type": "stream",
     "text": [
      "100%|██████████| 60/60 [00:01<00:00, 54.65it/s]\n",
      "100%|██████████| 61/61 [00:01<00:00, 58.67it/s]\n",
      "100%|██████████| 100/100 [00:00<00:00, 2885.52it/s]\n",
      "100%|██████████| 500/500 [00:06<00:00, 79.62it/s]\n"
     ]
    }
   ],
   "source": [
    "federated = Federated_AVG(\n",
    "    \"CONFIG_MODEL_WIKI.json\",\n",
    "    \"CONFIG_FEDERATED_WIKI.json\",\n",
    "    testing = True\n",
    ")"
   ]
  },
  {
   "cell_type": "code",
   "execution_count": 3,
   "id": "respective-offense",
   "metadata": {},
   "outputs": [
    {
     "data": {
      "text/plain": [
       "<All keys matched successfully>"
      ]
     },
     "execution_count": 3,
     "metadata": {},
     "output_type": "execute_result"
    }
   ],
   "source": [
    "federated.general_model.load_state_dict(\n",
    "    torch.load(federated.attack_model_path)\n",
    ")"
   ]
  },
  {
   "cell_type": "code",
   "execution_count": 4,
   "id": "postal-forum",
   "metadata": {},
   "outputs": [
    {
     "data": {
      "text/plain": [
       "'and work and no play makes me a dull boy...........................................................................................'"
      ]
     },
     "execution_count": 4,
     "metadata": {},
     "output_type": "execute_result"
    }
   ],
   "source": [
    "federated.generate_general('and', random = False)"
   ]
  },
  {
   "cell_type": "code",
   "execution_count": 8,
   "id": "light-alarm",
   "metadata": {},
   "outputs": [
    {
     "name": "stderr",
     "output_type": "stream",
     "text": [
      "100%|██████████| 500/500 [00:00<00:00, 5684.46it/s]"
     ]
    },
    {
     "name": "stdout",
     "output_type": "stream",
     "text": [
      "round 0\n"
     ]
    },
    {
     "name": "stderr",
     "output_type": "stream",
     "text": [
      "\n"
     ]
    },
    {
     "ename": "KeyboardInterrupt",
     "evalue": "",
     "output_type": "error",
     "traceback": [
      "\u001b[0;31m---------------------------------------------------------------------------\u001b[0m",
      "\u001b[0;31mKeyboardInterrupt\u001b[0m                         Traceback (most recent call last)",
      "\u001b[0;32m<ipython-input-8-a18ecfef02de>\u001b[0m in \u001b[0;36m<module>\u001b[0;34m\u001b[0m\n\u001b[0;32m----> 1\u001b[0;31m \u001b[0mfederated\u001b[0m\u001b[0;34m.\u001b[0m\u001b[0mtrain\u001b[0m\u001b[0;34m(\u001b[0m\u001b[0;36m10\u001b[0m\u001b[0;34m,\u001b[0m \u001b[0msave_results\u001b[0m\u001b[0;34m=\u001b[0m\u001b[0;32mFalse\u001b[0m\u001b[0;34m)\u001b[0m\u001b[0;34m\u001b[0m\u001b[0;34m\u001b[0m\u001b[0m\n\u001b[0m",
      "\u001b[0;32m~/Documents/MSThesis/src/federated_pipeline.py\u001b[0m in \u001b[0;36mtrain\u001b[0;34m(self, num_rounds, save_results)\u001b[0m\n\u001b[1;32m    363\u001b[0m                 \u001b[0mparam\u001b[0m\u001b[0;34m.\u001b[0m\u001b[0mgrad\u001b[0m \u001b[0;34m=\u001b[0m \u001b[0;32mNone\u001b[0m\u001b[0;34m\u001b[0m\u001b[0;34m\u001b[0m\u001b[0m\n\u001b[1;32m    364\u001b[0m             \u001b[0mself\u001b[0m\u001b[0;34m.\u001b[0m\u001b[0mnodes_epoch_step\u001b[0m\u001b[0;34m(\u001b[0m\u001b[0mround\u001b[0m\u001b[0;34m)\u001b[0m\u001b[0;34m\u001b[0m\u001b[0;34m\u001b[0m\u001b[0m\n\u001b[0;32m--> 365\u001b[0;31m             \u001b[0mself\u001b[0m\u001b[0;34m.\u001b[0m\u001b[0mgeneral_model_update\u001b[0m\u001b[0;34m(\u001b[0m\u001b[0mround\u001b[0m\u001b[0;34m)\u001b[0m\u001b[0;34m\u001b[0m\u001b[0;34m\u001b[0m\u001b[0m\n\u001b[0m\u001b[1;32m    366\u001b[0m         \u001b[0;32mif\u001b[0m \u001b[0msave_results\u001b[0m\u001b[0;34m:\u001b[0m\u001b[0;34m\u001b[0m\u001b[0;34m\u001b[0m\u001b[0m\n\u001b[1;32m    367\u001b[0m             \u001b[0mself\u001b[0m\u001b[0;34m.\u001b[0m\u001b[0msave_results\u001b[0m\u001b[0;34m(\u001b[0m\u001b[0;34m)\u001b[0m\u001b[0;34m\u001b[0m\u001b[0;34m\u001b[0m\u001b[0m\n",
      "\u001b[0;32m~/Documents/MSThesis/src/federated_pipeline.py\u001b[0m in \u001b[0;36mgeneral_model_update\u001b[0;34m(self, round)\u001b[0m\n\u001b[1;32m    556\u001b[0m         \u001b[0mself\u001b[0m\u001b[0;34m.\u001b[0m\u001b[0mgeneral_model\u001b[0m\u001b[0;34m.\u001b[0m\u001b[0mload_state_dict\u001b[0m\u001b[0;34m(\u001b[0m\u001b[0mself\u001b[0m\u001b[0;34m.\u001b[0m\u001b[0mcurrent_state_dict\u001b[0m\u001b[0;34m)\u001b[0m\u001b[0;34m\u001b[0m\u001b[0;34m\u001b[0m\u001b[0m\n\u001b[1;32m    557\u001b[0m         \u001b[0;32mwith\u001b[0m \u001b[0mtorch\u001b[0m\u001b[0;34m.\u001b[0m\u001b[0mno_grad\u001b[0m\u001b[0;34m(\u001b[0m\u001b[0;34m)\u001b[0m\u001b[0;34m:\u001b[0m\u001b[0;34m\u001b[0m\u001b[0;34m\u001b[0m\u001b[0m\n\u001b[0;32m--> 558\u001b[0;31m             \u001b[0mself\u001b[0m\u001b[0;34m.\u001b[0m\u001b[0mevaluate_metrics\u001b[0m\u001b[0;34m(\u001b[0m\u001b[0mround\u001b[0m\u001b[0;34m)\u001b[0m\u001b[0;34m\u001b[0m\u001b[0;34m\u001b[0m\u001b[0m\n\u001b[0m\u001b[1;32m    559\u001b[0m \u001b[0;34m\u001b[0m\u001b[0m\n\u001b[1;32m    560\u001b[0m \u001b[0;34m\u001b[0m\u001b[0m\n",
      "\u001b[0;32m~/Documents/MSThesis/src/federated_pipeline.py\u001b[0m in \u001b[0;36mevaluate_metrics\u001b[0;34m(self, round)\u001b[0m\n\u001b[1;32m    579\u001b[0m                     \u001b[0mres\u001b[0m\u001b[0;34m[\u001b[0m\u001b[0;34mf'perplexity_{node_id}'\u001b[0m\u001b[0;34m]\u001b[0m\u001b[0;34m,\u001b[0m  \u001b[0mres\u001b[0m\u001b[0;34m[\u001b[0m\u001b[0;34mf'loss_{node_id}'\u001b[0m\u001b[0;34m]\u001b[0m\u001b[0;34m,\u001b[0m\u001b[0;34m\u001b[0m\u001b[0;34m\u001b[0m\u001b[0m\n\u001b[1;32m    580\u001b[0m                     \u001b[0mres\u001b[0m\u001b[0;34m[\u001b[0m\u001b[0;34mf'f1_recall_{node_id}'\u001b[0m\u001b[0;34m]\u001b[0m\u001b[0;34m,\u001b[0m \u001b[0mres\u001b[0m\u001b[0;34m[\u001b[0m\u001b[0;34mf'f3_recall_{node_id}'\u001b[0m\u001b[0;34m]\u001b[0m\u001b[0;34m\u001b[0m\u001b[0;34m\u001b[0m\u001b[0m\n\u001b[0;32m--> 581\u001b[0;31m                 ) = self.general_model.perplexity(val_dataloader, with_tqdm = False, with_recall = True)\n\u001b[0m\u001b[1;32m    582\u001b[0m \u001b[0;34m\u001b[0m\u001b[0m\n\u001b[1;32m    583\u001b[0m \u001b[0;34m\u001b[0m\u001b[0m\n",
      "\u001b[0;32m~/Documents/MSThesis/src/models.py\u001b[0m in \u001b[0;36mperplexity\u001b[0;34m(self, dataloader, with_recall, with_tqdm)\u001b[0m\n\u001b[1;32m    294\u001b[0m \u001b[0;34m\u001b[0m\u001b[0m\n\u001b[1;32m    295\u001b[0m                     \u001b[0;32mif\u001b[0m \u001b[0mwith_recall\u001b[0m\u001b[0;34m:\u001b[0m\u001b[0;34m\u001b[0m\u001b[0;34m\u001b[0m\u001b[0m\n\u001b[0;32m--> 296\u001b[0;31m                         \u001b[0;32mfor\u001b[0m \u001b[0mtop3\u001b[0m\u001b[0;34m,\u001b[0m \u001b[0mlabel\u001b[0m \u001b[0;32min\u001b[0m \u001b[0mzip\u001b[0m\u001b[0;34m(\u001b[0m\u001b[0mtorch\u001b[0m\u001b[0;34m.\u001b[0m\u001b[0mtopk\u001b[0m\u001b[0;34m(\u001b[0m\u001b[0mlogits\u001b[0m\u001b[0;34m.\u001b[0m\u001b[0mT\u001b[0m\u001b[0;34m,\u001b[0m\u001b[0;36m3\u001b[0m\u001b[0;34m)\u001b[0m\u001b[0;34m[\u001b[0m\u001b[0;36m1\u001b[0m\u001b[0;34m]\u001b[0m\u001b[0;34m.\u001b[0m\u001b[0mcpu\u001b[0m\u001b[0;34m(\u001b[0m\u001b[0;34m)\u001b[0m\u001b[0;34m.\u001b[0m\u001b[0mnumpy\u001b[0m\u001b[0;34m(\u001b[0m\u001b[0;34m)\u001b[0m\u001b[0;34m,\u001b[0m \u001b[0mlab\u001b[0m\u001b[0;34m.\u001b[0m\u001b[0mcpu\u001b[0m\u001b[0;34m(\u001b[0m\u001b[0;34m)\u001b[0m\u001b[0;34m.\u001b[0m\u001b[0mnumpy\u001b[0m\u001b[0;34m(\u001b[0m\u001b[0;34m)\u001b[0m\u001b[0;34m)\u001b[0m\u001b[0;34m:\u001b[0m\u001b[0;34m\u001b[0m\u001b[0;34m\u001b[0m\u001b[0m\n\u001b[0m\u001b[1;32m    297\u001b[0m                             \u001b[0;32mif\u001b[0m \u001b[0mlabel\u001b[0m \u001b[0;32mnot\u001b[0m \u001b[0;32min\u001b[0m \u001b[0;34m[\u001b[0m\u001b[0;36m0\u001b[0m\u001b[0;34m,\u001b[0m\u001b[0;36m1\u001b[0m\u001b[0;34m]\u001b[0m\u001b[0;34m:\u001b[0m\u001b[0;34m\u001b[0m\u001b[0;34m\u001b[0m\u001b[0m\n\u001b[1;32m    298\u001b[0m                                 \u001b[0;32mif\u001b[0m \u001b[0mlabel\u001b[0m \u001b[0;32min\u001b[0m \u001b[0mtop3\u001b[0m\u001b[0;34m:\u001b[0m\u001b[0;34m\u001b[0m\u001b[0;34m\u001b[0m\u001b[0m\n",
      "\u001b[0;31mKeyboardInterrupt\u001b[0m: "
     ]
    }
   ],
   "source": [
    "federated.train(10, save_results=False)"
   ]
  },
  {
   "cell_type": "code",
   "execution_count": 8,
   "id": "moral-paper",
   "metadata": {},
   "outputs": [
    {
     "data": {
      "text/html": [
       "<div>\n",
       "<style scoped>\n",
       "    .dataframe tbody tr th:only-of-type {\n",
       "        vertical-align: middle;\n",
       "    }\n",
       "\n",
       "    .dataframe tbody tr th {\n",
       "        vertical-align: top;\n",
       "    }\n",
       "\n",
       "    .dataframe thead th {\n",
       "        text-align: right;\n",
       "    }\n",
       "</style>\n",
       "<table border=\"1\" class=\"dataframe\">\n",
       "  <thead>\n",
       "    <tr style=\"text-align: right;\">\n",
       "      <th></th>\n",
       "      <th>0</th>\n",
       "      <th>1</th>\n",
       "      <th>2</th>\n",
       "      <th>3</th>\n",
       "      <th>4</th>\n",
       "      <th>5</th>\n",
       "      <th>6</th>\n",
       "      <th>7</th>\n",
       "      <th>8</th>\n",
       "      <th>9</th>\n",
       "      <th>10</th>\n",
       "    </tr>\n",
       "  </thead>\n",
       "  <tbody>\n",
       "    <tr>\n",
       "      <th>perplexity</th>\n",
       "      <td>109.786</td>\n",
       "      <td>116.941</td>\n",
       "      <td>3.69556e+14</td>\n",
       "      <td>764319</td>\n",
       "      <td>6190.48</td>\n",
       "      <td>5.92698e+06</td>\n",
       "      <td>764319</td>\n",
       "      <td>6684.71</td>\n",
       "      <td>4079.73</td>\n",
       "      <td>1815.65</td>\n",
       "      <td>1567.93</td>\n",
       "    </tr>\n",
       "    <tr>\n",
       "      <th>loss</th>\n",
       "      <td>4.70025</td>\n",
       "      <td>4.76361</td>\n",
       "      <td>33.5265</td>\n",
       "      <td>13.5431</td>\n",
       "      <td>8.73029</td>\n",
       "      <td>15.5915</td>\n",
       "      <td>13.5431</td>\n",
       "      <td>8.80671</td>\n",
       "      <td>8.31287</td>\n",
       "      <td>7.50315</td>\n",
       "      <td>7.35653</td>\n",
       "    </tr>\n",
       "    <tr>\n",
       "      <th>f1_recall</th>\n",
       "      <td>0.238012</td>\n",
       "      <td>0.234265</td>\n",
       "      <td>0.012554</td>\n",
       "      <td>0.0121666</td>\n",
       "      <td>0.0110788</td>\n",
       "      <td>0.0102518</td>\n",
       "      <td>0.0121666</td>\n",
       "      <td>0.00774847</td>\n",
       "      <td>0.0376248</td>\n",
       "      <td>0.0203248</td>\n",
       "      <td>0.0413351</td>\n",
       "    </tr>\n",
       "    <tr>\n",
       "      <th>f3_recall</th>\n",
       "      <td>0.366637</td>\n",
       "      <td>0.360244</td>\n",
       "      <td>0.0307555</td>\n",
       "      <td>0.0279988</td>\n",
       "      <td>0.053986</td>\n",
       "      <td>0.0192594</td>\n",
       "      <td>0.0279988</td>\n",
       "      <td>0.059775</td>\n",
       "      <td>0.0619133</td>\n",
       "      <td>0.0836165</td>\n",
       "      <td>0.15193</td>\n",
       "    </tr>\n",
       "    <tr>\n",
       "      <th>generate</th>\n",
       "      <td>all work and no play for an individual sets in</td>\n",
       "      <td>all work and no play. He did not because</td>\n",
       "      <td>all work and no play play play a makes.</td>\n",
       "      <td>all work and no play makes a a dull and</td>\n",
       "      <td>all work and no play convincing sailed wounds ...</td>\n",
       "      <td>all work and no play play play play makes makes</td>\n",
       "      <td>all work and no play makes makes dull dull boy</td>\n",
       "      <td>all work and no play Manor continental partial...</td>\n",
       "      <td>all work and no play renamed exercised colleag...</td>\n",
       "      <td>all work and no play in in as precipitation Al...</td>\n",
       "      <td>all work and no play death ocean Cook numbers no</td>\n",
       "    </tr>\n",
       "    <tr>\n",
       "      <th>attack_perplexity</th>\n",
       "      <td>180.865</td>\n",
       "      <td>204.177</td>\n",
       "      <td>289.102</td>\n",
       "      <td>5.38052</td>\n",
       "      <td>58.4259</td>\n",
       "      <td>24.2049</td>\n",
       "      <td>5.38052</td>\n",
       "      <td>47.6818</td>\n",
       "      <td>25.7298</td>\n",
       "      <td>56.0435</td>\n",
       "      <td>91.072</td>\n",
       "    </tr>\n",
       "    <tr>\n",
       "      <th>perplexity_1</th>\n",
       "      <td>104.362</td>\n",
       "      <td>95.6604</td>\n",
       "      <td>1.63921e+14</td>\n",
       "      <td>579903</td>\n",
       "      <td>5020.43</td>\n",
       "      <td>4.52612e+06</td>\n",
       "      <td>579903</td>\n",
       "      <td>5389.15</td>\n",
       "      <td>3295.59</td>\n",
       "      <td>1494.64</td>\n",
       "      <td>1302.36</td>\n",
       "    </tr>\n",
       "    <tr>\n",
       "      <th>loss_1</th>\n",
       "      <td>4.63824</td>\n",
       "      <td>4.5494</td>\n",
       "      <td>32.4852</td>\n",
       "      <td>13.1439</td>\n",
       "      <td>8.49179</td>\n",
       "      <td>15.1607</td>\n",
       "      <td>13.1439</td>\n",
       "      <td>8.55767</td>\n",
       "      <td>8.07178</td>\n",
       "      <td>7.29761</td>\n",
       "      <td>7.15953</td>\n",
       "    </tr>\n",
       "    <tr>\n",
       "      <th>f1_recall_1</th>\n",
       "      <td>0.242661</td>\n",
       "      <td>0.242661</td>\n",
       "      <td>0.0117417</td>\n",
       "      <td>0.0176125</td>\n",
       "      <td>0.0156556</td>\n",
       "      <td>0.00782779</td>\n",
       "      <td>0.0176125</td>\n",
       "      <td>0.0117417</td>\n",
       "      <td>0.0547945</td>\n",
       "      <td>0.0273973</td>\n",
       "      <td>0.0547945</td>\n",
       "    </tr>\n",
       "    <tr>\n",
       "      <th>f3_recall_1</th>\n",
       "      <td>0.377691</td>\n",
       "      <td>0.39726</td>\n",
       "      <td>0.037182</td>\n",
       "      <td>0.0391389</td>\n",
       "      <td>0.072407</td>\n",
       "      <td>0.0176125</td>\n",
       "      <td>0.0391389</td>\n",
       "      <td>0.072407</td>\n",
       "      <td>0.0782779</td>\n",
       "      <td>0.109589</td>\n",
       "      <td>0.164384</td>\n",
       "    </tr>\n",
       "    <tr>\n",
       "      <th>generate_1</th>\n",
       "      <td>all work and no play. Ed to Mason for</td>\n",
       "      <td>all work and no play can be protect his part</td>\n",
       "      <td>all work and no play play play makes makes a</td>\n",
       "      <td>all work and no play play a makes a.</td>\n",
       "      <td>all work and no play partial musicians agency ...</td>\n",
       "      <td>all work and no play makes play play makes play</td>\n",
       "      <td>all work and no play makes a a a boy</td>\n",
       "      <td>all work and no play Sesame covers afraid hund...</td>\n",
       "      <td>all work and no play admitted completion Yale ...</td>\n",
       "      <td>all work and no play concluded much for believ...</td>\n",
       "      <td>all work and no play suggest Private investiga...</td>\n",
       "    </tr>\n",
       "    <tr>\n",
       "      <th>attack_perplexity_1</th>\n",
       "      <td>180.865</td>\n",
       "      <td>204.177</td>\n",
       "      <td>289.102</td>\n",
       "      <td>5.38052</td>\n",
       "      <td>58.4259</td>\n",
       "      <td>24.2049</td>\n",
       "      <td>5.38052</td>\n",
       "      <td>47.6818</td>\n",
       "      <td>25.7298</td>\n",
       "      <td>56.0435</td>\n",
       "      <td>91.072</td>\n",
       "    </tr>\n",
       "    <tr>\n",
       "      <th>perplexity_2</th>\n",
       "      <td>130.875</td>\n",
       "      <td>138.551</td>\n",
       "      <td>4.28018e+14</td>\n",
       "      <td>678840</td>\n",
       "      <td>5225.65</td>\n",
       "      <td>5.80056e+06</td>\n",
       "      <td>678840</td>\n",
       "      <td>5240.4</td>\n",
       "      <td>3065.89</td>\n",
       "      <td>1469.52</td>\n",
       "      <td>1209.29</td>\n",
       "    </tr>\n",
       "    <tr>\n",
       "      <th>loss_2</th>\n",
       "      <td>4.84149</td>\n",
       "      <td>4.87692</td>\n",
       "      <td>31.6777</td>\n",
       "      <td>12.6304</td>\n",
       "      <td>8.59334</td>\n",
       "      <td>15.168</td>\n",
       "      <td>12.6304</td>\n",
       "      <td>8.56544</td>\n",
       "      <td>7.99057</td>\n",
       "      <td>7.08564</td>\n",
       "      <td>6.87531</td>\n",
       "    </tr>\n",
       "    <tr>\n",
       "      <th>f1_recall_2</th>\n",
       "      <td>0.203947</td>\n",
       "      <td>0.210526</td>\n",
       "      <td>0</td>\n",
       "      <td>0</td>\n",
       "      <td>0.0197368</td>\n",
       "      <td>0</td>\n",
       "      <td>0</td>\n",
       "      <td>0.0197368</td>\n",
       "      <td>0.0592105</td>\n",
       "      <td>0</td>\n",
       "      <td>0.0657895</td>\n",
       "    </tr>\n",
       "    <tr>\n",
       "      <th>f3_recall_2</th>\n",
       "      <td>0.309211</td>\n",
       "      <td>0.335526</td>\n",
       "      <td>0.0328947</td>\n",
       "      <td>0</td>\n",
       "      <td>0.0592105</td>\n",
       "      <td>0</td>\n",
       "      <td>0</td>\n",
       "      <td>0.0855263</td>\n",
       "      <td>0.0921053</td>\n",
       "      <td>0.105263</td>\n",
       "      <td>0.118421</td>\n",
       "    </tr>\n",
       "    <tr>\n",
       "      <th>generate_2</th>\n",
       "      <td>all work and no play. This is afraid for</td>\n",
       "      <td>all work and no play on the not to play</td>\n",
       "      <td>all work and no play play a a makes.</td>\n",
       "      <td>all work and no play makes. a boy boy</td>\n",
       "      <td>all work and no play citing galaxy architects ...</td>\n",
       "      <td>all work and no play makes makes play a play</td>\n",
       "      <td>all work and no play makes play a dull boy</td>\n",
       "      <td>all work and no play tenth husband East work c...</td>\n",
       "      <td>all work and no play tight Yugoslavia Sean. and</td>\n",
       "      <td>all work and no play Great and canon women and</td>\n",
       "      <td>all work and no play s watching Numerous view s</td>\n",
       "    </tr>\n",
       "    <tr>\n",
       "      <th>attack_perplexity_2</th>\n",
       "      <td>180.865</td>\n",
       "      <td>204.177</td>\n",
       "      <td>289.102</td>\n",
       "      <td>5.38052</td>\n",
       "      <td>58.4259</td>\n",
       "      <td>24.2049</td>\n",
       "      <td>5.38052</td>\n",
       "      <td>47.6818</td>\n",
       "      <td>25.7298</td>\n",
       "      <td>56.0435</td>\n",
       "      <td>91.072</td>\n",
       "    </tr>\n",
       "    <tr>\n",
       "      <th>perplexity_3</th>\n",
       "      <td>144.948</td>\n",
       "      <td>144.158</td>\n",
       "      <td>2.03474e+14</td>\n",
       "      <td>555940</td>\n",
       "      <td>4468.87</td>\n",
       "      <td>5.29181e+06</td>\n",
       "      <td>555940</td>\n",
       "      <td>4715.58</td>\n",
       "      <td>2752.81</td>\n",
       "      <td>849.606</td>\n",
       "      <td>764.274</td>\n",
       "    </tr>\n",
       "    <tr>\n",
       "      <th>loss_3</th>\n",
       "      <td>4.83769</td>\n",
       "      <td>4.82357</td>\n",
       "      <td>32.5376</td>\n",
       "      <td>13.0594</td>\n",
       "      <td>8.413</td>\n",
       "      <td>15.2351</td>\n",
       "      <td>13.0594</td>\n",
       "      <td>8.46198</td>\n",
       "      <td>7.93535</td>\n",
       "      <td>6.78781</td>\n",
       "      <td>6.6811</td>\n",
       "    </tr>\n",
       "    <tr>\n",
       "      <th>f1_recall_3</th>\n",
       "      <td>0.197731</td>\n",
       "      <td>0.205835</td>\n",
       "      <td>0.0145867</td>\n",
       "      <td>0.012966</td>\n",
       "      <td>0.012966</td>\n",
       "      <td>0.0210697</td>\n",
       "      <td>0.012966</td>\n",
       "      <td>0.0162075</td>\n",
       "      <td>0.0502431</td>\n",
       "      <td>0.0324149</td>\n",
       "      <td>0.0486224</td>\n",
       "    </tr>\n",
       "    <tr>\n",
       "      <th>f3_recall_3</th>\n",
       "      <td>0.329011</td>\n",
       "      <td>0.322528</td>\n",
       "      <td>0.0470016</td>\n",
       "      <td>0.0405186</td>\n",
       "      <td>0.0648298</td>\n",
       "      <td>0.0324149</td>\n",
       "      <td>0.0405186</td>\n",
       "      <td>0.0680713</td>\n",
       "      <td>0.0696921</td>\n",
       "      <td>0.106969</td>\n",
       "      <td>0.141005</td>\n",
       "    </tr>\n",
       "    <tr>\n",
       "      <th>generate_3</th>\n",
       "      <td>all work and no play for several different fil...</td>\n",
       "      <td>all work and no play felt that they no longer</td>\n",
       "      <td>all work and no play play a a makes.</td>\n",
       "      <td>all work and no play makes a makes dull boy</td>\n",
       "      <td>all work and no play iron smallest Potter corp...</td>\n",
       "      <td>all work and no play makes play play a makes</td>\n",
       "      <td>all work and no play a makes a a boy</td>\n",
       "      <td>all work and no play boy reveal Hannah work Los</td>\n",
       "      <td>all work and no play eighteenth proclaimed wou...</td>\n",
       "      <td>all work and no play motorway French and refus...</td>\n",
       "      <td>all work and no play said whom. returned trailer</td>\n",
       "    </tr>\n",
       "    <tr>\n",
       "      <th>attack_perplexity_3</th>\n",
       "      <td>180.865</td>\n",
       "      <td>204.177</td>\n",
       "      <td>289.102</td>\n",
       "      <td>5.38052</td>\n",
       "      <td>58.4259</td>\n",
       "      <td>24.2049</td>\n",
       "      <td>5.38052</td>\n",
       "      <td>47.6818</td>\n",
       "      <td>25.7298</td>\n",
       "      <td>56.0435</td>\n",
       "      <td>91.072</td>\n",
       "    </tr>\n",
       "  </tbody>\n",
       "</table>\n",
       "</div>"
      ],
      "text/plain": [
       "                                                                    0   \\\n",
       "perplexity                                                     109.786   \n",
       "loss                                                           4.70025   \n",
       "f1_recall                                                     0.238012   \n",
       "f3_recall                                                     0.366637   \n",
       "generate                all work and no play for an individual sets in   \n",
       "attack_perplexity                                              180.865   \n",
       "perplexity_1                                                   104.362   \n",
       "loss_1                                                         4.63824   \n",
       "f1_recall_1                                                   0.242661   \n",
       "f3_recall_1                                                   0.377691   \n",
       "generate_1                       all work and no play. Ed to Mason for   \n",
       "attack_perplexity_1                                            180.865   \n",
       "perplexity_2                                                   130.875   \n",
       "loss_2                                                         4.84149   \n",
       "f1_recall_2                                                   0.203947   \n",
       "f3_recall_2                                                   0.309211   \n",
       "generate_2                    all work and no play. This is afraid for   \n",
       "attack_perplexity_2                                            180.865   \n",
       "perplexity_3                                                   144.948   \n",
       "loss_3                                                         4.83769   \n",
       "f1_recall_3                                                   0.197731   \n",
       "f3_recall_3                                                   0.329011   \n",
       "generate_3           all work and no play for several different fil...   \n",
       "attack_perplexity_3                                            180.865   \n",
       "\n",
       "                                                                1   \\\n",
       "perplexity                                                 116.941   \n",
       "loss                                                       4.76361   \n",
       "f1_recall                                                 0.234265   \n",
       "f3_recall                                                 0.360244   \n",
       "generate                  all work and no play. He did not because   \n",
       "attack_perplexity                                          204.177   \n",
       "perplexity_1                                               95.6604   \n",
       "loss_1                                                      4.5494   \n",
       "f1_recall_1                                               0.242661   \n",
       "f3_recall_1                                                0.39726   \n",
       "generate_1            all work and no play can be protect his part   \n",
       "attack_perplexity_1                                        204.177   \n",
       "perplexity_2                                               138.551   \n",
       "loss_2                                                     4.87692   \n",
       "f1_recall_2                                               0.210526   \n",
       "f3_recall_2                                               0.335526   \n",
       "generate_2                 all work and no play on the not to play   \n",
       "attack_perplexity_2                                        204.177   \n",
       "perplexity_3                                               144.158   \n",
       "loss_3                                                     4.82357   \n",
       "f1_recall_3                                               0.205835   \n",
       "f3_recall_3                                               0.322528   \n",
       "generate_3           all work and no play felt that they no longer   \n",
       "attack_perplexity_3                                        204.177   \n",
       "\n",
       "                                                               2   \\\n",
       "perplexity                                            3.69556e+14   \n",
       "loss                                                      33.5265   \n",
       "f1_recall                                                0.012554   \n",
       "f3_recall                                               0.0307555   \n",
       "generate                  all work and no play play play a makes.   \n",
       "attack_perplexity                                         289.102   \n",
       "perplexity_1                                          1.63921e+14   \n",
       "loss_1                                                    32.4852   \n",
       "f1_recall_1                                             0.0117417   \n",
       "f3_recall_1                                              0.037182   \n",
       "generate_1           all work and no play play play makes makes a   \n",
       "attack_perplexity_1                                       289.102   \n",
       "perplexity_2                                          4.28018e+14   \n",
       "loss_2                                                    31.6777   \n",
       "f1_recall_2                                                     0   \n",
       "f3_recall_2                                             0.0328947   \n",
       "generate_2                   all work and no play play a a makes.   \n",
       "attack_perplexity_2                                       289.102   \n",
       "perplexity_3                                          2.03474e+14   \n",
       "loss_3                                                    32.5376   \n",
       "f1_recall_3                                             0.0145867   \n",
       "f3_recall_3                                             0.0470016   \n",
       "generate_3                   all work and no play play a a makes.   \n",
       "attack_perplexity_3                                       289.102   \n",
       "\n",
       "                                                              3   \\\n",
       "perplexity                                                764319   \n",
       "loss                                                     13.5431   \n",
       "f1_recall                                              0.0121666   \n",
       "f3_recall                                              0.0279988   \n",
       "generate                 all work and no play makes a a dull and   \n",
       "attack_perplexity                                        5.38052   \n",
       "perplexity_1                                              579903   \n",
       "loss_1                                                   13.1439   \n",
       "f1_recall_1                                            0.0176125   \n",
       "f3_recall_1                                            0.0391389   \n",
       "generate_1                  all work and no play play a makes a.   \n",
       "attack_perplexity_1                                      5.38052   \n",
       "perplexity_2                                              678840   \n",
       "loss_2                                                   12.6304   \n",
       "f1_recall_2                                                    0   \n",
       "f3_recall_2                                                    0   \n",
       "generate_2                 all work and no play makes. a boy boy   \n",
       "attack_perplexity_2                                      5.38052   \n",
       "perplexity_3                                              555940   \n",
       "loss_3                                                   13.0594   \n",
       "f1_recall_3                                             0.012966   \n",
       "f3_recall_3                                            0.0405186   \n",
       "generate_3           all work and no play makes a makes dull boy   \n",
       "attack_perplexity_3                                      5.38052   \n",
       "\n",
       "                                                                    4   \\\n",
       "perplexity                                                     6190.48   \n",
       "loss                                                           8.73029   \n",
       "f1_recall                                                    0.0110788   \n",
       "f3_recall                                                     0.053986   \n",
       "generate             all work and no play convincing sailed wounds ...   \n",
       "attack_perplexity                                              58.4259   \n",
       "perplexity_1                                                   5020.43   \n",
       "loss_1                                                         8.49179   \n",
       "f1_recall_1                                                  0.0156556   \n",
       "f3_recall_1                                                   0.072407   \n",
       "generate_1           all work and no play partial musicians agency ...   \n",
       "attack_perplexity_1                                            58.4259   \n",
       "perplexity_2                                                   5225.65   \n",
       "loss_2                                                         8.59334   \n",
       "f1_recall_2                                                  0.0197368   \n",
       "f3_recall_2                                                  0.0592105   \n",
       "generate_2           all work and no play citing galaxy architects ...   \n",
       "attack_perplexity_2                                            58.4259   \n",
       "perplexity_3                                                   4468.87   \n",
       "loss_3                                                           8.413   \n",
       "f1_recall_3                                                   0.012966   \n",
       "f3_recall_3                                                  0.0648298   \n",
       "generate_3           all work and no play iron smallest Potter corp...   \n",
       "attack_perplexity_3                                            58.4259   \n",
       "\n",
       "                                                                  5   \\\n",
       "perplexity                                               5.92698e+06   \n",
       "loss                                                         15.5915   \n",
       "f1_recall                                                  0.0102518   \n",
       "f3_recall                                                  0.0192594   \n",
       "generate             all work and no play play play play makes makes   \n",
       "attack_perplexity                                            24.2049   \n",
       "perplexity_1                                             4.52612e+06   \n",
       "loss_1                                                       15.1607   \n",
       "f1_recall_1                                               0.00782779   \n",
       "f3_recall_1                                                0.0176125   \n",
       "generate_1           all work and no play makes play play makes play   \n",
       "attack_perplexity_1                                          24.2049   \n",
       "perplexity_2                                             5.80056e+06   \n",
       "loss_2                                                        15.168   \n",
       "f1_recall_2                                                        0   \n",
       "f3_recall_2                                                        0   \n",
       "generate_2              all work and no play makes makes play a play   \n",
       "attack_perplexity_2                                          24.2049   \n",
       "perplexity_3                                             5.29181e+06   \n",
       "loss_3                                                       15.2351   \n",
       "f1_recall_3                                                0.0210697   \n",
       "f3_recall_3                                                0.0324149   \n",
       "generate_3              all work and no play makes play play a makes   \n",
       "attack_perplexity_3                                          24.2049   \n",
       "\n",
       "                                                                 6   \\\n",
       "perplexity                                                   764319   \n",
       "loss                                                        13.5431   \n",
       "f1_recall                                                 0.0121666   \n",
       "f3_recall                                                 0.0279988   \n",
       "generate             all work and no play makes makes dull dull boy   \n",
       "attack_perplexity                                           5.38052   \n",
       "perplexity_1                                                 579903   \n",
       "loss_1                                                      13.1439   \n",
       "f1_recall_1                                               0.0176125   \n",
       "f3_recall_1                                               0.0391389   \n",
       "generate_1                     all work and no play makes a a a boy   \n",
       "attack_perplexity_1                                         5.38052   \n",
       "perplexity_2                                                 678840   \n",
       "loss_2                                                      12.6304   \n",
       "f1_recall_2                                                       0   \n",
       "f3_recall_2                                                       0   \n",
       "generate_2               all work and no play makes play a dull boy   \n",
       "attack_perplexity_2                                         5.38052   \n",
       "perplexity_3                                                 555940   \n",
       "loss_3                                                      13.0594   \n",
       "f1_recall_3                                                0.012966   \n",
       "f3_recall_3                                               0.0405186   \n",
       "generate_3                     all work and no play a makes a a boy   \n",
       "attack_perplexity_3                                         5.38052   \n",
       "\n",
       "                                                                    7   \\\n",
       "perplexity                                                     6684.71   \n",
       "loss                                                           8.80671   \n",
       "f1_recall                                                   0.00774847   \n",
       "f3_recall                                                     0.059775   \n",
       "generate             all work and no play Manor continental partial...   \n",
       "attack_perplexity                                              47.6818   \n",
       "perplexity_1                                                   5389.15   \n",
       "loss_1                                                         8.55767   \n",
       "f1_recall_1                                                  0.0117417   \n",
       "f3_recall_1                                                   0.072407   \n",
       "generate_1           all work and no play Sesame covers afraid hund...   \n",
       "attack_perplexity_1                                            47.6818   \n",
       "perplexity_2                                                    5240.4   \n",
       "loss_2                                                         8.56544   \n",
       "f1_recall_2                                                  0.0197368   \n",
       "f3_recall_2                                                  0.0855263   \n",
       "generate_2           all work and no play tenth husband East work c...   \n",
       "attack_perplexity_2                                            47.6818   \n",
       "perplexity_3                                                   4715.58   \n",
       "loss_3                                                         8.46198   \n",
       "f1_recall_3                                                  0.0162075   \n",
       "f3_recall_3                                                  0.0680713   \n",
       "generate_3             all work and no play boy reveal Hannah work Los   \n",
       "attack_perplexity_3                                            47.6818   \n",
       "\n",
       "                                                                    8   \\\n",
       "perplexity                                                     4079.73   \n",
       "loss                                                           8.31287   \n",
       "f1_recall                                                    0.0376248   \n",
       "f3_recall                                                    0.0619133   \n",
       "generate             all work and no play renamed exercised colleag...   \n",
       "attack_perplexity                                              25.7298   \n",
       "perplexity_1                                                   3295.59   \n",
       "loss_1                                                         8.07178   \n",
       "f1_recall_1                                                  0.0547945   \n",
       "f3_recall_1                                                  0.0782779   \n",
       "generate_1           all work and no play admitted completion Yale ...   \n",
       "attack_perplexity_1                                            25.7298   \n",
       "perplexity_2                                                   3065.89   \n",
       "loss_2                                                         7.99057   \n",
       "f1_recall_2                                                  0.0592105   \n",
       "f3_recall_2                                                  0.0921053   \n",
       "generate_2             all work and no play tight Yugoslavia Sean. and   \n",
       "attack_perplexity_2                                            25.7298   \n",
       "perplexity_3                                                   2752.81   \n",
       "loss_3                                                         7.93535   \n",
       "f1_recall_3                                                  0.0502431   \n",
       "f3_recall_3                                                  0.0696921   \n",
       "generate_3           all work and no play eighteenth proclaimed wou...   \n",
       "attack_perplexity_3                                            25.7298   \n",
       "\n",
       "                                                                    9   \\\n",
       "perplexity                                                     1815.65   \n",
       "loss                                                           7.50315   \n",
       "f1_recall                                                    0.0203248   \n",
       "f3_recall                                                    0.0836165   \n",
       "generate             all work and no play in in as precipitation Al...   \n",
       "attack_perplexity                                              56.0435   \n",
       "perplexity_1                                                   1494.64   \n",
       "loss_1                                                         7.29761   \n",
       "f1_recall_1                                                  0.0273973   \n",
       "f3_recall_1                                                   0.109589   \n",
       "generate_1           all work and no play concluded much for believ...   \n",
       "attack_perplexity_1                                            56.0435   \n",
       "perplexity_2                                                   1469.52   \n",
       "loss_2                                                         7.08564   \n",
       "f1_recall_2                                                          0   \n",
       "f3_recall_2                                                   0.105263   \n",
       "generate_2              all work and no play Great and canon women and   \n",
       "attack_perplexity_2                                            56.0435   \n",
       "perplexity_3                                                   849.606   \n",
       "loss_3                                                         6.78781   \n",
       "f1_recall_3                                                  0.0324149   \n",
       "f3_recall_3                                                   0.106969   \n",
       "generate_3           all work and no play motorway French and refus...   \n",
       "attack_perplexity_3                                            56.0435   \n",
       "\n",
       "                                                                    10  \n",
       "perplexity                                                     1567.93  \n",
       "loss                                                           7.35653  \n",
       "f1_recall                                                    0.0413351  \n",
       "f3_recall                                                      0.15193  \n",
       "generate              all work and no play death ocean Cook numbers no  \n",
       "attack_perplexity                                               91.072  \n",
       "perplexity_1                                                   1302.36  \n",
       "loss_1                                                         7.15953  \n",
       "f1_recall_1                                                  0.0547945  \n",
       "f3_recall_1                                                   0.164384  \n",
       "generate_1           all work and no play suggest Private investiga...  \n",
       "attack_perplexity_1                                             91.072  \n",
       "perplexity_2                                                   1209.29  \n",
       "loss_2                                                         6.87531  \n",
       "f1_recall_2                                                  0.0657895  \n",
       "f3_recall_2                                                   0.118421  \n",
       "generate_2             all work and no play s watching Numerous view s  \n",
       "attack_perplexity_2                                             91.072  \n",
       "perplexity_3                                                   764.274  \n",
       "loss_3                                                          6.6811  \n",
       "f1_recall_3                                                  0.0486224  \n",
       "f3_recall_3                                                   0.141005  \n",
       "generate_3            all work and no play said whom. returned trailer  \n",
       "attack_perplexity_3                                             91.072  "
      ]
     },
     "execution_count": 8,
     "metadata": {},
     "output_type": "execute_result"
    }
   ],
   "source": [
    "pd.DataFrame(federated.results)"
   ]
  },
  {
   "cell_type": "markdown",
   "id": "satisfied-energy",
   "metadata": {},
   "source": [
    "## LICCHAVI"
   ]
  },
  {
   "cell_type": "code",
   "execution_count": 1,
   "id": "harmful-links",
   "metadata": {},
   "outputs": [],
   "source": [
    "from src.federated_pipeline import Federated_LICCHAVI\n",
    "\n",
    "import os\n",
    "import pickle\n",
    "import matplotlib.pyplot as plt\n",
    "import pandas as pd\n",
    "import torch"
   ]
  },
  {
   "cell_type": "code",
   "execution_count": 2,
   "id": "preceding-refund",
   "metadata": {
    "scrolled": true
   },
   "outputs": [
    {
     "name": "stderr",
     "output_type": "stream",
     "text": [
      "100%|██████████| 60/60 [00:00<00:00, 60.45it/s]\n",
      "100%|██████████| 61/61 [00:01<00:00, 52.81it/s]\n",
      "100%|██████████| 100/100 [00:00<00:00, 8763.69it/s]\n",
      "100%|██████████| 10/10 [00:00<00:00, 41.49it/s]\n"
     ]
    }
   ],
   "source": [
    "federated = Federated_LICCHAVI(\n",
    "    \"CONFIG_MODEL_WIKI.json\",\n",
    "    \"CONFIG_FEDERATED_WIKI.json\",\n",
    "    testing = True\n",
    ")"
   ]
  },
  {
   "cell_type": "code",
   "execution_count": 3,
   "id": "still-showcase",
   "metadata": {
    "scrolled": true
   },
   "outputs": [
    {
     "name": "stderr",
     "output_type": "stream",
     "text": [
      "\r",
      "  0%|          | 0/10 [00:00<?, ?it/s]"
     ]
    },
    {
     "name": "stdout",
     "output_type": "stream",
     "text": [
      "round 0\n"
     ]
    },
    {
     "name": "stderr",
     "output_type": "stream",
     "text": [
      "100%|██████████| 10/10 [00:02<00:00,  3.40it/s]\n",
      "  0%|          | 0/10 [00:00<?, ?it/s]"
     ]
    },
    {
     "name": "stdout",
     "output_type": "stream",
     "text": [
      "round 1\n"
     ]
    },
    {
     "name": "stderr",
     "output_type": "stream",
     "text": [
      "100%|██████████| 10/10 [00:04<00:00,  2.40it/s]\n",
      "  0%|          | 0/10 [00:00<?, ?it/s]"
     ]
    },
    {
     "name": "stdout",
     "output_type": "stream",
     "text": [
      "round 2\n"
     ]
    },
    {
     "name": "stderr",
     "output_type": "stream",
     "text": [
      "100%|██████████| 10/10 [00:04<00:00,  2.25it/s]\n",
      "  0%|          | 0/10 [00:00<?, ?it/s]"
     ]
    },
    {
     "name": "stdout",
     "output_type": "stream",
     "text": [
      "round 3\n"
     ]
    },
    {
     "name": "stderr",
     "output_type": "stream",
     "text": [
      "100%|██████████| 10/10 [00:04<00:00,  2.22it/s]\n"
     ]
    }
   ],
   "source": [
    "federated.train(3, save_results = False)"
   ]
  },
  {
   "cell_type": "code",
   "execution_count": 4,
   "id": "steady-barrel",
   "metadata": {},
   "outputs": [
    {
     "data": {
      "text/html": [
       "<div>\n",
       "<style scoped>\n",
       "    .dataframe tbody tr th:only-of-type {\n",
       "        vertical-align: middle;\n",
       "    }\n",
       "\n",
       "    .dataframe tbody tr th {\n",
       "        vertical-align: top;\n",
       "    }\n",
       "\n",
       "    .dataframe thead th {\n",
       "        text-align: right;\n",
       "    }\n",
       "</style>\n",
       "<table border=\"1\" class=\"dataframe\">\n",
       "  <thead>\n",
       "    <tr style=\"text-align: right;\">\n",
       "      <th></th>\n",
       "      <th>0</th>\n",
       "      <th>1</th>\n",
       "      <th>gradients</th>\n",
       "      <th>2</th>\n",
       "      <th>3</th>\n",
       "    </tr>\n",
       "  </thead>\n",
       "  <tbody>\n",
       "    <tr>\n",
       "      <th>perplexity_8</th>\n",
       "      <td>114.755</td>\n",
       "      <td>103.76</td>\n",
       "      <td>NaN</td>\n",
       "      <td>96.2907</td>\n",
       "      <td>93.7896</td>\n",
       "    </tr>\n",
       "    <tr>\n",
       "      <th>loss_8</th>\n",
       "      <td>4.69318</td>\n",
       "      <td>4.56856</td>\n",
       "      <td>NaN</td>\n",
       "      <td>4.48159</td>\n",
       "      <td>4.4474</td>\n",
       "    </tr>\n",
       "    <tr>\n",
       "      <th>f1_recall_8</th>\n",
       "      <td>0.246925</td>\n",
       "      <td>0.258278</td>\n",
       "      <td>NaN</td>\n",
       "      <td>0.254494</td>\n",
       "      <td>0.252602</td>\n",
       "    </tr>\n",
       "    <tr>\n",
       "      <th>f3_recall_8</th>\n",
       "      <td>0.389782</td>\n",
       "      <td>0.385998</td>\n",
       "      <td>NaN</td>\n",
       "      <td>0.397351</td>\n",
       "      <td>0.394513</td>\n",
       "    </tr>\n",
       "    <tr>\n",
       "      <th>generate_8</th>\n",
       "      <td>all work and no play. It was of a</td>\n",
       "      <td>all work and no play — were taken prisoner s</td>\n",
       "      <td>NaN</td>\n",
       "      <td>all work and no play in the nucleus being reduced</td>\n",
       "      <td>all work and no play. `` A sudden involvement</td>\n",
       "    </tr>\n",
       "    <tr>\n",
       "      <th>attack_perplexity_8</th>\n",
       "      <td>180.866</td>\n",
       "      <td>184.782</td>\n",
       "      <td>NaN</td>\n",
       "      <td>232.98</td>\n",
       "      <td>269.583</td>\n",
       "    </tr>\n",
       "    <tr>\n",
       "      <th>perplexity_2</th>\n",
       "      <td>130.875</td>\n",
       "      <td>125.123</td>\n",
       "      <td>NaN</td>\n",
       "      <td>120.219</td>\n",
       "      <td>116.787</td>\n",
       "    </tr>\n",
       "    <tr>\n",
       "      <th>loss_2</th>\n",
       "      <td>4.84149</td>\n",
       "      <td>4.78948</td>\n",
       "      <td>NaN</td>\n",
       "      <td>4.7411</td>\n",
       "      <td>4.70574</td>\n",
       "    </tr>\n",
       "    <tr>\n",
       "      <th>f1_recall_2</th>\n",
       "      <td>0.203947</td>\n",
       "      <td>0.190789</td>\n",
       "      <td>NaN</td>\n",
       "      <td>0.190789</td>\n",
       "      <td>0.184211</td>\n",
       "    </tr>\n",
       "    <tr>\n",
       "      <th>f3_recall_2</th>\n",
       "      <td>0.309211</td>\n",
       "      <td>0.309211</td>\n",
       "      <td>NaN</td>\n",
       "      <td>0.309211</td>\n",
       "      <td>0.315789</td>\n",
       "    </tr>\n",
       "    <tr>\n",
       "      <th>generate_2</th>\n",
       "      <td>all work and no play was used on The street</td>\n",
       "      <td>all work and no play.The album is something about</td>\n",
       "      <td>NaN</td>\n",
       "      <td>all work and no play is. I have said</td>\n",
       "      <td>all work and no play in the Scientology develo...</td>\n",
       "    </tr>\n",
       "    <tr>\n",
       "      <th>attack_perplexity_2</th>\n",
       "      <td>180.866</td>\n",
       "      <td>187.425</td>\n",
       "      <td>NaN</td>\n",
       "      <td>196.241</td>\n",
       "      <td>208.07</td>\n",
       "    </tr>\n",
       "    <tr>\n",
       "      <th>perplexity_3</th>\n",
       "      <td>144.948</td>\n",
       "      <td>131.572</td>\n",
       "      <td>NaN</td>\n",
       "      <td>123.466</td>\n",
       "      <td>119.562</td>\n",
       "    </tr>\n",
       "    <tr>\n",
       "      <th>loss_3</th>\n",
       "      <td>4.83769</td>\n",
       "      <td>4.7382</td>\n",
       "      <td>NaN</td>\n",
       "      <td>4.67911</td>\n",
       "      <td>4.65004</td>\n",
       "    </tr>\n",
       "    <tr>\n",
       "      <th>f1_recall_3</th>\n",
       "      <td>0.197731</td>\n",
       "      <td>0.192869</td>\n",
       "      <td>NaN</td>\n",
       "      <td>0.197731</td>\n",
       "      <td>0.19611</td>\n",
       "    </tr>\n",
       "    <tr>\n",
       "      <th>f3_recall_3</th>\n",
       "      <td>0.329011</td>\n",
       "      <td>0.322528</td>\n",
       "      <td>NaN</td>\n",
       "      <td>0.324149</td>\n",
       "      <td>0.320908</td>\n",
       "    </tr>\n",
       "    <tr>\n",
       "      <th>generate_3</th>\n",
       "      <td>all work and no play for all places in our</td>\n",
       "      <td>all work and no play was added due to the</td>\n",
       "      <td>NaN</td>\n",
       "      <td>all work and no play of the season. He</td>\n",
       "      <td>all work and no play that had no right to</td>\n",
       "    </tr>\n",
       "    <tr>\n",
       "      <th>attack_perplexity_3</th>\n",
       "      <td>180.866</td>\n",
       "      <td>180.629</td>\n",
       "      <td>NaN</td>\n",
       "      <td>203.403</td>\n",
       "      <td>233.321</td>\n",
       "    </tr>\n",
       "    <tr>\n",
       "      <th>perplexity_6</th>\n",
       "      <td>150.679</td>\n",
       "      <td>116.628</td>\n",
       "      <td>NaN</td>\n",
       "      <td>96.5314</td>\n",
       "      <td>86.7812</td>\n",
       "    </tr>\n",
       "    <tr>\n",
       "      <th>loss_6</th>\n",
       "      <td>5.03725</td>\n",
       "      <td>4.78255</td>\n",
       "      <td>NaN</td>\n",
       "      <td>4.59906</td>\n",
       "      <td>4.49939</td>\n",
       "    </tr>\n",
       "  </tbody>\n",
       "</table>\n",
       "</div>"
      ],
      "text/plain": [
       "                                                               0  \\\n",
       "perplexity_8                                             114.755   \n",
       "loss_8                                                   4.69318   \n",
       "f1_recall_8                                             0.246925   \n",
       "f3_recall_8                                             0.389782   \n",
       "generate_8                     all work and no play. It was of a   \n",
       "attack_perplexity_8                                      180.866   \n",
       "perplexity_2                                             130.875   \n",
       "loss_2                                                   4.84149   \n",
       "f1_recall_2                                             0.203947   \n",
       "f3_recall_2                                             0.309211   \n",
       "generate_2           all work and no play was used on The street   \n",
       "attack_perplexity_2                                      180.866   \n",
       "perplexity_3                                             144.948   \n",
       "loss_3                                                   4.83769   \n",
       "f1_recall_3                                             0.197731   \n",
       "f3_recall_3                                             0.329011   \n",
       "generate_3            all work and no play for all places in our   \n",
       "attack_perplexity_3                                      180.866   \n",
       "perplexity_6                                             150.679   \n",
       "loss_6                                                   5.03725   \n",
       "\n",
       "                                                                     1  \\\n",
       "perplexity_8                                                    103.76   \n",
       "loss_8                                                         4.56856   \n",
       "f1_recall_8                                                   0.258278   \n",
       "f3_recall_8                                                   0.385998   \n",
       "generate_8                all work and no play — were taken prisoner s   \n",
       "attack_perplexity_8                                            184.782   \n",
       "perplexity_2                                                   125.123   \n",
       "loss_2                                                         4.78948   \n",
       "f1_recall_2                                                   0.190789   \n",
       "f3_recall_2                                                   0.309211   \n",
       "generate_2           all work and no play.The album is something about   \n",
       "attack_perplexity_2                                            187.425   \n",
       "perplexity_3                                                   131.572   \n",
       "loss_3                                                          4.7382   \n",
       "f1_recall_3                                                   0.192869   \n",
       "f3_recall_3                                                   0.322528   \n",
       "generate_3                   all work and no play was added due to the   \n",
       "attack_perplexity_3                                            180.629   \n",
       "perplexity_6                                                   116.628   \n",
       "loss_6                                                         4.78255   \n",
       "\n",
       "                    gradients  \\\n",
       "perplexity_8              NaN   \n",
       "loss_8                    NaN   \n",
       "f1_recall_8               NaN   \n",
       "f3_recall_8               NaN   \n",
       "generate_8                NaN   \n",
       "attack_perplexity_8       NaN   \n",
       "perplexity_2              NaN   \n",
       "loss_2                    NaN   \n",
       "f1_recall_2               NaN   \n",
       "f3_recall_2               NaN   \n",
       "generate_2                NaN   \n",
       "attack_perplexity_2       NaN   \n",
       "perplexity_3              NaN   \n",
       "loss_3                    NaN   \n",
       "f1_recall_3               NaN   \n",
       "f3_recall_3               NaN   \n",
       "generate_3                NaN   \n",
       "attack_perplexity_3       NaN   \n",
       "perplexity_6              NaN   \n",
       "loss_6                    NaN   \n",
       "\n",
       "                                                                     2  \\\n",
       "perplexity_8                                                   96.2907   \n",
       "loss_8                                                         4.48159   \n",
       "f1_recall_8                                                   0.254494   \n",
       "f3_recall_8                                                   0.397351   \n",
       "generate_8           all work and no play in the nucleus being reduced   \n",
       "attack_perplexity_8                                             232.98   \n",
       "perplexity_2                                                   120.219   \n",
       "loss_2                                                          4.7411   \n",
       "f1_recall_2                                                   0.190789   \n",
       "f3_recall_2                                                   0.309211   \n",
       "generate_2                        all work and no play is. I have said   \n",
       "attack_perplexity_2                                            196.241   \n",
       "perplexity_3                                                   123.466   \n",
       "loss_3                                                         4.67911   \n",
       "f1_recall_3                                                   0.197731   \n",
       "f3_recall_3                                                   0.324149   \n",
       "generate_3                      all work and no play of the season. He   \n",
       "attack_perplexity_3                                            203.403   \n",
       "perplexity_6                                                   96.5314   \n",
       "loss_6                                                         4.59906   \n",
       "\n",
       "                                                                     3  \n",
       "perplexity_8                                                   93.7896  \n",
       "loss_8                                                          4.4474  \n",
       "f1_recall_8                                                   0.252602  \n",
       "f3_recall_8                                                   0.394513  \n",
       "generate_8               all work and no play. `` A sudden involvement  \n",
       "attack_perplexity_8                                            269.583  \n",
       "perplexity_2                                                   116.787  \n",
       "loss_2                                                         4.70574  \n",
       "f1_recall_2                                                   0.184211  \n",
       "f3_recall_2                                                   0.315789  \n",
       "generate_2           all work and no play in the Scientology develo...  \n",
       "attack_perplexity_2                                             208.07  \n",
       "perplexity_3                                                   119.562  \n",
       "loss_3                                                         4.65004  \n",
       "f1_recall_3                                                    0.19611  \n",
       "f3_recall_3                                                   0.320908  \n",
       "generate_3                   all work and no play that had no right to  \n",
       "attack_perplexity_3                                            233.321  \n",
       "perplexity_6                                                   86.7812  \n",
       "loss_6                                                         4.49939  "
      ]
     },
     "execution_count": 4,
     "metadata": {},
     "output_type": "execute_result"
    }
   ],
   "source": [
    "pd.DataFrame(federated.results).head(20)"
   ]
  },
  {
   "cell_type": "code",
   "execution_count": 1,
   "id": "coordinated-powder",
   "metadata": {},
   "outputs": [
    {
     "ename": "NameError",
     "evalue": "name 'Federated_LICCHAVI' is not defined",
     "output_type": "error",
     "traceback": [
      "\u001b[0;31m---------------------------------------------------------------------------\u001b[0m",
      "\u001b[0;31mNameError\u001b[0m                                 Traceback (most recent call last)",
      "\u001b[0;32m<ipython-input-1-07c937cf45fb>\u001b[0m in \u001b[0;36m<module>\u001b[0;34m\u001b[0m\n\u001b[0;32m----> 1\u001b[0;31m federated = Federated_LICCHAVI(\n\u001b[0m\u001b[1;32m      2\u001b[0m     \u001b[0;34m\"CONFIG_MODEL_TWEETS.json\"\u001b[0m\u001b[0;34m,\u001b[0m\u001b[0;34m\u001b[0m\u001b[0;34m\u001b[0m\u001b[0m\n\u001b[1;32m      3\u001b[0m     \u001b[0;34m\"CONFIG_FEDERATED_TWEETS.json\"\u001b[0m\u001b[0;34m,\u001b[0m\u001b[0;34m\u001b[0m\u001b[0;34m\u001b[0m\u001b[0m\n\u001b[1;32m      4\u001b[0m     \u001b[0mtesting\u001b[0m \u001b[0;34m=\u001b[0m \u001b[0;32mTrue\u001b[0m\u001b[0;34m\u001b[0m\u001b[0;34m\u001b[0m\u001b[0m\n\u001b[1;32m      5\u001b[0m )\n",
      "\u001b[0;31mNameError\u001b[0m: name 'Federated_LICCHAVI' is not defined"
     ]
    }
   ],
   "source": [
    "federated = Federated_LICCHAVI(\n",
    "    \"CONFIG_MODEL_TWEETS.json\",\n",
    "    \"CONFIG_FEDERATED_TWEETS.json\",\n",
    "    testing = True\n",
    ")"
   ]
  },
  {
   "cell_type": "code",
   "execution_count": null,
   "id": "liberal-theorem",
   "metadata": {},
   "outputs": [],
   "source": [
    "federated.train(3, save_results=False)"
   ]
  },
  {
   "cell_type": "code",
   "execution_count": 5,
   "id": "acceptable-endorsement",
   "metadata": {},
   "outputs": [
    {
     "data": {
      "text/plain": [
       "{'max': {1: [[0.0017495704,\n",
       "    0.0020432475,\n",
       "    0.0013620543,\n",
       "    0.0011614291,\n",
       "    0.0006482459],\n",
       "   [0.0005681995, 0.0005349512, 0.00048767982, 0.000450393, 0.00021838734],\n",
       "   [0.0018214782, 0.0020894161, 0.0015942182, 0.0013051991, 0.0006732645],\n",
       "   [0.0008140235, 0.0007799224, 0.00064188894, 0.0005851169, 0.0002976419],\n",
       "   [0.0019426749, 0.0025602162, 0.0017043401, 0.0013399926, 0.0007346524],\n",
       "   [0.0017879524, 0.002324913, 0.001419059, 0.0012442496, 0.0006577084],\n",
       "   [0.00055403856, 0.00052312616, 0.0004876674, 0.0004471871, 0.00022250877],\n",
       "   [0.002191666, 0.0033079996, 0.0021806152, 0.0015332962, 0.0009811653],\n",
       "   [0.00067854376, 0.00093419995, 0.0014560025, 0.0013087059, 0.00024242839],\n",
       "   [0.0006785437, 0.0009341999, 0.0014560022, 0.0013087059, 0.00024242839],\n",
       "   [0.0056860484, 0.007358577, 0.006063662, 0.0050490294, 0.0043728906]],\n",
       "  2: [[0.0059398506, 0.0075307065, 0.0060512777, 0.0050768103, 0.0043426226],\n",
       "   [0.00039434724, 0.00044066113, 0.0004385699, 0.00043587, 0.00011231194],\n",
       "   [0.0006656487, 0.00077643094, 0.000862369, 0.00081411225, 0.0003078353],\n",
       "   [0.00046655862, 0.000517022, 0.00051023555, 0.00050123176, 0.00013128121],\n",
       "   [0.00087975693, 0.00092527975, 0.0010923252, 0.0009704033, 0.00046365615],\n",
       "   [0.001000918, 0.0009571464, 0.0009570861, 0.00094896986, 0.0004241552],\n",
       "   [0.00039402023, 0.0004421994, 0.0004372301, 0.00043203123, 0.00011282819],\n",
       "   [0.0009628382, 0.0012423403, 0.0012167459, 0.0010855158, 0.0005764337],\n",
       "   [0.00067854114, 0.00093109393, 0.0014565579, 0.0013069068, 0.00024389189],\n",
       "   [0.00067854114, 0.000931094, 0.0014565579, 0.0013069068, 0.00024389187],\n",
       "   [0.0038939554, 0.0042737955, 0.0038199935, 0.0037706476, 0.0014279649]],\n",
       "  3: [[0.0041511157, 0.004547183, 0.0044067847, 0.0040026926, 0.0015192488],\n",
       "   [0.0010066449, 0.0011319431, 0.0010954103, 0.0011027942, 0.00029901892],\n",
       "   [0.0016674157, 0.0022083728, 0.0027353833, 0.0021474275, 0.0006070977],\n",
       "   [0.0012173902, 0.0014018095, 0.0013759907, 0.001241453, 0.0003784858],\n",
       "   [0.0018053823, 0.003473972, 0.0026841844, 0.0019501192, 0.0007015639],\n",
       "   [0.0017884714, 0.0023607688, 0.0021616146, 0.0020140775, 0.00067273236],\n",
       "   [0.0010185884, 0.0012290273, 0.00106936, 0.0010459796, 0.0003147179],\n",
       "   [0.0019066557, 0.003993959, 0.0028241156, 0.0019804067, 0.00072162005],\n",
       "   [0.00067408197, 0.00092403963, 0.001445909, 0.0012965975, 0.00024372042],\n",
       "   [0.00067408173, 0.00092403963, 0.0014459089, 0.0012965975, 0.00024372048],\n",
       "   [0.005601224, 0.00905764, 0.005988073, 0.0053955954, 0.0017660409]]},\n",
       " 'avg': {1: [[0.00016748765,\n",
       "    0.00022412273,\n",
       "    0.00021776411,\n",
       "    0.0002206832,\n",
       "    4.113975e-05],\n",
       "   [0.00020406806, 0.0002488311, 0.00025064344, 0.00025560395, 5.220056e-05],\n",
       "   [0.00017096083, 0.00022251527, 0.00021614709, 0.00022004795, 5.2936997e-05],\n",
       "   [0.00017423551, 0.00022037567, 0.0002266241, 0.00023405103, 5.4228512e-05],\n",
       "   [0.00018703236, 0.00022112887, 0.00021434015, 0.00021805287, 4.661445e-05],\n",
       "   [0.00016469142, 0.00021660961, 0.00021184582, 0.00021683396, 5.147693e-05],\n",
       "   [0.00020400381, 0.00024735887, 0.00024956377, 0.00025475732, 5.238913e-05],\n",
       "   [0.00017998838, 0.00022207522, 0.00021128672, 0.00021507387, 3.070454e-05],\n",
       "   [0.00024945798, 0.00028227488, 0.00028158678, 0.00028206184, 6.923702e-05],\n",
       "   [0.00024945798, 0.00028227488, 0.00028158678, 0.00028206184, 6.923702e-05],\n",
       "   [0.00068429246, 0.0007927729, 0.0008001813, 0.00080104085, 0.00024762755]],\n",
       "  2: [[0.0009303203, 0.0010726616, 0.0010758535, 0.0010732907, 0.00031426793],\n",
       "   [0.00025274567, 0.00028479184, 0.00028384477, 0.00028242506, 7.0356116e-05],\n",
       "   [0.00024099526, 0.00027794956, 0.00027415517, 0.0002717097, 6.5375796e-05],\n",
       "   [0.00025078503, 0.00028390173, 0.00028169004, 0.0002796709, 6.974888e-05],\n",
       "   [0.00022827605, 0.0002723823, 0.00026632985, 0.00026304612, 6.0887414e-05],\n",
       "   [0.00023240653, 0.0002744245, 0.00026607866, 0.00026240174, 6.259216e-05],\n",
       "   [0.00025245725, 0.00028431942, 0.0002836054, 0.00028182997, 7.037626e-05],\n",
       "   [0.00020655036, 0.00026310256, 0.00025795965, 0.0002570775, 4.8126643e-05],\n",
       "   [0.0002503054, 0.00028375725, 0.0002827949, 0.0002834257, 6.961636e-05],\n",
       "   [0.0002503054, 0.00028375725, 0.0002827949, 0.0002834257, 6.961636e-05],\n",
       "   [0.0015915845, 0.001931795, 0.0018837978, 0.0018747249, 0.00044847067]],\n",
       "  3: [[0.0016465018, 0.0019386322, 0.0018176368, 0.0017880552, 0.0004805943],\n",
       "   [0.00021241732, 0.00024013978, 0.00024044572, 0.0002395632, 5.72826e-05],\n",
       "   [0.00021800089, 0.00022998438, 0.00021871235, 0.00022046486, 5.890489e-05],\n",
       "   [0.00019821427, 0.00023152801, 0.00023136745, 0.00023095586, 5.5124052e-05],\n",
       "   [0.00021919936, 0.00024005273, 0.00022037233, 0.00021923237, 6.0504677e-05],\n",
       "   [0.00021590159, 0.00023541348, 0.00021710806, 0.00022036994, 6.0591738e-05],\n",
       "   [0.00021117617, 0.00023866486, 0.00023909954, 0.00023738634, 5.7098365e-05],\n",
       "   [0.00019697787, 0.00023249463, 0.00022267262, 0.00022349927, 5.8510075e-05],\n",
       "   [0.00025090814, 0.00028446288, 0.0002834212, 0.00028416057, 6.9759735e-05],\n",
       "   [0.00025090814, 0.00028446285, 0.0002834212, 0.00028416057, 6.9759735e-05],\n",
       "   [0.0009102102, 0.0008467758, 0.00087715377, 0.0008159998, 0.000177474]]},\n",
       " 'layers': ['rnn.weight_ih_l0',\n",
       "  'rnn.weight_hh_l0',\n",
       "  'rnn.weight_ih_l1',\n",
       "  'rnn.weight_hh_l1',\n",
       "  'linear.weight']}"
      ]
     },
     "execution_count": 5,
     "metadata": {},
     "output_type": "execute_result"
    }
   ],
   "source": [
    "federated.results['gradients']"
   ]
  },
  {
   "cell_type": "code",
   "execution_count": 1,
   "id": "early-neighbor",
   "metadata": {},
   "outputs": [
    {
     "ename": "NameError",
     "evalue": "name 'Federated_LICCHAVI' is not defined",
     "output_type": "error",
     "traceback": [
      "\u001b[0;31m---------------------------------------------------------------------------\u001b[0m",
      "\u001b[0;31mNameError\u001b[0m                                 Traceback (most recent call last)",
      "\u001b[0;32m<ipython-input-1-746b970c2574>\u001b[0m in \u001b[0;36m<module>\u001b[0;34m\u001b[0m\n\u001b[0;32m----> 1\u001b[0;31m federated = Federated_LICCHAVI(\n\u001b[0m\u001b[1;32m      2\u001b[0m     \u001b[0;34m\"CONFIG_MODEL_WIKI.json\"\u001b[0m\u001b[0;34m,\u001b[0m\u001b[0;34m\u001b[0m\u001b[0;34m\u001b[0m\u001b[0m\n\u001b[1;32m      3\u001b[0m     \u001b[0;34m\"CONFIG_FEDERATED_WIKI.json\"\u001b[0m\u001b[0;34m,\u001b[0m\u001b[0;34m\u001b[0m\u001b[0;34m\u001b[0m\u001b[0m\n\u001b[1;32m      4\u001b[0m     \u001b[0mtesting\u001b[0m \u001b[0;34m=\u001b[0m \u001b[0;32mTrue\u001b[0m\u001b[0;34m\u001b[0m\u001b[0;34m\u001b[0m\u001b[0m\n\u001b[1;32m      5\u001b[0m )\n",
      "\u001b[0;31mNameError\u001b[0m: name 'Federated_LICCHAVI' is not defined"
     ]
    }
   ],
   "source": [
    "federated = Federated_LICCHAVI(\n",
    "    \"CONFIG_MODEL_WIKI.json\",\n",
    "    \"CONFIG_FEDERATED_WIKI.json\",\n",
    "    testing = True\n",
    ")"
   ]
  },
  {
   "cell_type": "code",
   "execution_count": 5,
   "id": "solar-martin",
   "metadata": {},
   "outputs": [
    {
     "name": "stderr",
     "output_type": "stream",
     "text": [
      "\r",
      "  0%|          | 0/10 [00:00<?, ?it/s]"
     ]
    },
    {
     "name": "stdout",
     "output_type": "stream",
     "text": [
      "round 0\n"
     ]
    },
    {
     "name": "stderr",
     "output_type": "stream",
     "text": [
      "100%|██████████| 10/10 [00:03<00:00,  3.23it/s]\n",
      "  0%|          | 0/10 [00:00<?, ?it/s]"
     ]
    },
    {
     "name": "stdout",
     "output_type": "stream",
     "text": [
      "round 1\n"
     ]
    },
    {
     "name": "stderr",
     "output_type": "stream",
     "text": [
      "100%|██████████| 10/10 [00:04<00:00,  2.17it/s]\n",
      "  0%|          | 0/10 [00:00<?, ?it/s]"
     ]
    },
    {
     "name": "stdout",
     "output_type": "stream",
     "text": [
      "round 2\n"
     ]
    },
    {
     "name": "stderr",
     "output_type": "stream",
     "text": [
      "100%|██████████| 10/10 [00:04<00:00,  2.24it/s]\n",
      "  0%|          | 0/10 [00:00<?, ?it/s]"
     ]
    },
    {
     "name": "stdout",
     "output_type": "stream",
     "text": [
      "round 3\n"
     ]
    },
    {
     "name": "stderr",
     "output_type": "stream",
     "text": [
      "100%|██████████| 10/10 [00:04<00:00,  2.23it/s]\n",
      "  0%|          | 0/10 [00:00<?, ?it/s]"
     ]
    },
    {
     "name": "stdout",
     "output_type": "stream",
     "text": [
      "round 4\n"
     ]
    },
    {
     "name": "stderr",
     "output_type": "stream",
     "text": [
      "100%|██████████| 10/10 [00:04<00:00,  2.34it/s]\n",
      "  0%|          | 0/10 [00:00<?, ?it/s]"
     ]
    },
    {
     "name": "stdout",
     "output_type": "stream",
     "text": [
      "round 5\n"
     ]
    },
    {
     "name": "stderr",
     "output_type": "stream",
     "text": [
      "100%|██████████| 10/10 [00:04<00:00,  2.31it/s]\n"
     ]
    },
    {
     "data": {
      "image/png": "[encoded data removed]",
      "text/plain": [
       "<Figure size 432x288 with 1 Axes>"
      ]
     },
     "metadata": {
      "needs_background": "light"
     },
     "output_type": "display_data"
    }
   ],
   "source": [
    "federated.train(5, save_results=False)"
   ]
  },
  {
   "cell_type": "code",
   "execution_count": 15,
   "id": "suitable-basics",
   "metadata": {},
   "outputs": [
    {
     "data": {
      "text/plain": [
       "{'rnn.weight_ih_l0': array([[ 6.6249493e-05, -1.3896841e-05, -2.3706441e-06, ...,\n",
       "         -1.7888754e-04,  1.1443213e-04, -1.4804071e-04],\n",
       "        [-3.1599432e-04,  5.5067690e-06, -1.2704008e-04, ...,\n",
       "          1.0765902e-04, -1.8637007e-04, -3.8939295e-05],\n",
       "        [ 1.2881674e-04, -2.1085724e-04, -7.0842143e-06, ...,\n",
       "         -1.8935621e-05, -4.8874026e-05,  6.7805355e-05],\n",
       "        ...,\n",
       "        [-1.9462749e-03, -5.3778116e-04,  5.5527134e-04, ...,\n",
       "          3.5253162e-03,  1.9364445e-03, -8.9924532e-04],\n",
       "        [ 1.3075277e-03, -1.6824988e-04,  2.5380081e-03, ...,\n",
       "         -1.9805206e-04,  2.4831633e-04,  1.4323067e-03],\n",
       "        [-2.3447981e-03, -8.6886263e-05, -5.5890891e-04, ...,\n",
       "          3.4447783e-03, -6.7069940e-04, -1.4892058e-04]], dtype=float32),\n",
       " 'rnn.weight_hh_l0': array([[ 1.23692991e-03, -3.01679916e-04, -7.81290000e-04, ...,\n",
       "         -1.39325333e-04,  6.27255940e-05, -6.35906181e-04],\n",
       "        [ 5.20436268e-04, -4.75383480e-04, -4.33381501e-04, ...,\n",
       "          8.35807805e-05,  7.20296637e-04, -1.29196921e-03],\n",
       "        [ 7.56426380e-06,  5.30608304e-06,  6.83429244e-05, ...,\n",
       "         -3.68479115e-04, -5.53342470e-05, -5.26102958e-04],\n",
       "        ...,\n",
       "        [ 9.38050216e-05,  2.34012841e-05, -1.16766772e-04, ...,\n",
       "          6.82073995e-04, -4.93985135e-04, -3.35791789e-04],\n",
       "        [ 1.17085954e-04,  1.26181170e-04,  8.84424735e-05, ...,\n",
       "          7.99107249e-04, -6.31903356e-04, -2.16504006e-04],\n",
       "        [-1.05596788e-04, -3.86068132e-05, -3.66034306e-04, ...,\n",
       "         -8.09699588e-04, -5.33359824e-04, -7.85467448e-04]], dtype=float32),\n",
       " 'rnn.weight_ih_l1': array([[ 3.5130350e-05, -1.5401600e-05,  3.7738191e-05, ...,\n",
       "          2.7906053e-05,  2.9607363e-06, -2.9554378e-05],\n",
       "        [-4.0412047e-05, -4.4502493e-05,  4.4840843e-05, ...,\n",
       "         -5.1686253e-05,  3.5308101e-05, -5.2358155e-05],\n",
       "        [-3.4646908e-04,  7.7694131e-05,  4.8847205e-04, ...,\n",
       "          4.5309728e-04, -1.1228090e-03,  1.1290759e-03],\n",
       "        ...,\n",
       "        [-3.0957913e-04,  1.0757172e-03,  2.1835399e-04, ...,\n",
       "         -7.7869691e-04, -7.2913902e-04,  2.7649126e-03],\n",
       "        [-2.0335403e-03, -3.1540554e-04,  1.6612672e-04, ...,\n",
       "         -1.9248277e-03, -1.1642543e-03,  1.5465474e-03],\n",
       "        [-8.6425716e-04, -6.5601018e-04, -4.7135120e-04, ...,\n",
       "         -6.8144652e-04, -6.4659881e-04,  3.2174001e-05]], dtype=float32),\n",
       " 'rnn.weight_hh_l1': array([[-1.13677728e-04, -2.35853367e-05,  1.17844225e-04, ...,\n",
       "         -2.43341510e-05, -1.07664469e-04,  2.74244321e-05],\n",
       "        [-2.37942277e-05, -8.42536101e-05, -1.25902850e-04, ...,\n",
       "          3.07658484e-05,  9.14799457e-05,  1.74007964e-05],\n",
       "        [-7.45813537e-04,  9.64182313e-04,  6.00739790e-04, ...,\n",
       "          5.35190338e-04,  6.53193711e-05, -2.36165099e-04],\n",
       "        ...,\n",
       "        [-1.27913593e-03, -1.55044079e-04,  6.59710204e-04, ...,\n",
       "          3.51011753e-04, -1.98076872e-04, -2.03878223e-03],\n",
       "        [-1.18803664e-03,  2.20440081e-04,  4.69219784e-04, ...,\n",
       "         -7.78253074e-04,  7.68092985e-04, -9.05972411e-05],\n",
       "        [ 4.48383507e-05,  1.06397807e-03, -1.90844294e-04, ...,\n",
       "         -1.40851960e-04, -6.87624502e-04, -2.23431760e-03]], dtype=float32),\n",
       " 'linear.weight': array([[-1.87328260e-05,  5.64813809e-06, -2.01167077e-05, ...,\n",
       "         -2.40997406e-06, -1.43214911e-05,  1.44304959e-05],\n",
       "        [-1.88188060e-05,  4.52746372e-06, -2.06148779e-05, ...,\n",
       "         -2.59456624e-06, -1.43107663e-05,  1.47713745e-05],\n",
       "        [-1.02688954e-03, -1.47076009e-03, -1.77671653e-04, ...,\n",
       "         -5.46173542e-05,  1.50208990e-03, -1.95884146e-03],\n",
       "        ...,\n",
       "        [-4.02904197e-06,  3.58078523e-06, -1.65698884e-06, ...,\n",
       "         -3.33319576e-06, -2.18593868e-06, -6.47361549e-06],\n",
       "        [ 7.30379179e-05,  9.10071394e-05, -1.42310353e-04, ...,\n",
       "          9.97673851e-05, -5.17086628e-05,  5.67313436e-05],\n",
       "        [-3.72670229e-06,  7.13596728e-06,  7.02149646e-06, ...,\n",
       "          1.78494774e-05,  1.75439436e-05, -1.49903303e-06]], dtype=float32)}"
      ]
     },
     "execution_count": 15,
     "metadata": {},
     "output_type": "execute_result"
    }
   ],
   "source": [
    "current_grad = {}\n",
    "for n,p in federated.general_model.named_parameters():\n",
    "    if p.requires_grad and 'bias' not in n:\n",
    "        current_grad[n] = p.grad.cpu().numpy().copy()\n",
    "current_grad"
   ]
  },
  {
   "cell_type": "code",
   "execution_count": null,
   "id": "acceptable-antique",
   "metadata": {},
   "outputs": [],
   "source": []
  }
 ],
 "metadata": {
  "kernelspec": {
   "display_name": "Python 3.8.8 64-bit ('typewriter': conda)",
   "language": "python",
   "name": "python388jvsc74a57bd003343bff8ea9174e4e18dc33629d8cc7123b4a33b966bf5614ca716c9ad2f2e1"
  },
  "language_info": {
   "codemirror_mode": {
    "name": "ipython",
    "version": 3
   },
   "file_extension": ".py",
   "mimetype": "text/x-python",
   "name": "python",
   "nbconvert_exporter": "python",
   "pygments_lexer": "ipython3",
   "version": "3.8.8"
  }
 },
 "nbformat": 4,
 "nbformat_minor": 5
}
