{
 "cells": [
  {
   "cell_type": "markdown",
   "id": "minus-radiation",
   "metadata": {},
   "source": [
    "## Imports"
   ]
  },
  {
   "cell_type": "code",
   "execution_count": 1,
   "id": "falling-cuisine",
   "metadata": {},
   "outputs": [],
   "source": [
    "import os\n",
    "import re\n",
    "import sys\n",
    "import typing\n",
    "import gc\n",
    "import pandas as pd\n",
    "import pickle\n",
    "import logging\n",
    "\n",
    "sys.path.append(\n",
    "    os.path.join('.','src')\n",
    ")\n",
    "\n",
    "from src.models import Pipeline\n",
    "from src.nodes import *"
   ]
  },
  {
   "cell_type": "code",
   "execution_count": null,
   "id": "vanilla-characterization",
   "metadata": {},
   "outputs": [],
   "source": [
    "logging.basicConfig(filename='logs/logs.log', level=logging.DEBUG)"
   ]
  },
  {
   "cell_type": "markdown",
   "id": "noted-wellington",
   "metadata": {},
   "source": [
    "# Tweets Model"
   ]
  },
  {
   "cell_type": "code",
   "execution_count": null,
   "id": "pharmaceutical-width",
   "metadata": {
    "scrolled": false
   },
   "outputs": [],
   "source": [
    "pipeline = Pipeline('CONFIG_MODEL_TWEETS.json', load_model_data = True)"
   ]
  },
  {
   "cell_type": "code",
   "execution_count": null,
   "id": "offensive-cache",
   "metadata": {},
   "outputs": [],
   "source": [
    "d = {\n",
    "    'train_set_len' : len(pipeline.train_dataset),\n",
    "    'train_set_tokens' : pipeline.train_dataset.token_len(),\n",
    "    'val_set_len' : len(pipeline.val_dataset),\n",
    "    'val_set_tokens' : pipeline.val_dataset.token_len(),\n",
    "    'test_set_len' : len(pipeline.test_dataset),\n",
    "    'test_set_tokens' : pipeline.test_dataset.token_len(),\n",
    "}"
   ]
  },
  {
   "cell_type": "code",
   "execution_count": null,
   "id": "organized-lease",
   "metadata": {},
   "outputs": [],
   "source": [
    "d"
   ]
  },
  {
   "cell_type": "code",
   "execution_count": null,
   "id": "rapid-popularity",
   "metadata": {},
   "outputs": [],
   "source": [
    "pipeline.perplexity()"
   ]
  },
  {
   "cell_type": "code",
   "execution_count": null,
   "id": "appropriate-holder",
   "metadata": {
    "scrolled": true
   },
   "outputs": [],
   "source": [
    "pipeline.train_model()"
   ]
  },
  {
   "cell_type": "code",
   "execution_count": null,
   "id": "distant-intake",
   "metadata": {},
   "outputs": [],
   "source": [
    "pipeline.perplexity()"
   ]
  },
  {
   "cell_type": "code",
   "execution_count": null,
   "id": "imperial-valley",
   "metadata": {},
   "outputs": [],
   "source": [
    "pipeline = Pipeline('CONFIG_MODEL_TWEETS.json', load_model_data = False)"
   ]
  },
  {
   "cell_type": "code",
   "execution_count": null,
   "id": "every-studio",
   "metadata": {},
   "outputs": [],
   "source": [
    "pipeline.load_model('models/tweets/tweets.pth')"
   ]
  },
  {
   "cell_type": "code",
   "execution_count": null,
   "id": "overhead-rover",
   "metadata": {},
   "outputs": [],
   "source": [
    "pipeline.generate(start_text = 'all', num_words = 40)"
   ]
  },
  {
   "cell_type": "code",
   "execution_count": null,
   "id": "solid-fiction",
   "metadata": {},
   "outputs": [],
   "source": [
    "pipeline.generate(start_text = 'what', num_words = 40)"
   ]
  },
  {
   "cell_type": "code",
   "execution_count": null,
   "id": "referenced-beverage",
   "metadata": {},
   "outputs": [],
   "source": [
    "pipeline.generate(start_text = 'i like', num_words = 40)"
   ]
  },
  {
   "cell_type": "markdown",
   "id": "standing-mapping",
   "metadata": {},
   "source": [
    "# Wiki Model"
   ]
  },
  {
   "cell_type": "code",
   "execution_count": null,
   "id": "listed-summary",
   "metadata": {},
   "outputs": [],
   "source": [
    "pipeline = Pipeline('CONFIG_MODEL_WIKI.json', load_model_data = True)"
   ]
  },
  {
   "cell_type": "code",
   "execution_count": null,
   "id": "endless-johnston",
   "metadata": {},
   "outputs": [],
   "source": [
    "pipeline.perplexity(with_recall = True, with_tqdm = True)"
   ]
  },
  {
   "cell_type": "code",
   "execution_count": null,
   "id": "approved-signal",
   "metadata": {},
   "outputs": [],
   "source": [
    "pipeline.load_model('models/wiki103/wiki103.pth')"
   ]
  },
  {
   "cell_type": "code",
   "execution_count": null,
   "id": "fossil-stylus",
   "metadata": {},
   "outputs": [],
   "source": [
    "pipeline.perplexity(with_recall = True, with_tqdm = True)"
   ]
  },
  {
   "cell_type": "code",
   "execution_count": null,
   "id": "integral-chest",
   "metadata": {},
   "outputs": [],
   "source": [
    "pipeline.train_model()"
   ]
  },
  {
   "cell_type": "code",
   "execution_count": null,
   "id": "anticipated-vintage",
   "metadata": {},
   "outputs": [],
   "source": [
    "pipeline.perplexity()"
   ]
  },
  {
   "cell_type": "code",
   "execution_count": null,
   "id": "incoming-eligibility",
   "metadata": {},
   "outputs": [],
   "source": [
    "pipeline.generate(start_text = 'all', num_words=40)"
   ]
  },
  {
   "cell_type": "code",
   "execution_count": null,
   "id": "blank-seller",
   "metadata": {},
   "outputs": [],
   "source": [
    "pipeline.generate(start_text = 'what', num_words=40)"
   ]
  },
  {
   "cell_type": "code",
   "execution_count": null,
   "id": "loving-israel",
   "metadata": {},
   "outputs": [],
   "source": [
    "pipeline.generate(start_text = 'i like')"
   ]
  },
  {
   "cell_type": "code",
   "execution_count": null,
   "id": "naked-slovenia",
   "metadata": {},
   "outputs": [],
   "source": [
    "d = {\n",
    "    'train_set_len' : len(pipeline.train_dataset),\n",
    "    'train_set_tokens' : pipeline.train_dataset.token_len(),\n",
    "    'val_set_len' : len(pipeline.val_dataset),\n",
    "    'val_set_tokens' : pipeline.val_dataset.token_len(),\n",
    "    'test_set_len' : len(pipeline.test_dataset),\n",
    "    'test_set_tokens' : pipeline.test_dataset.token_len(),\n",
    "}"
   ]
  },
  {
   "cell_type": "code",
   "execution_count": null,
   "id": "understanding-windows",
   "metadata": {},
   "outputs": [],
   "source": [
    "import pickle\n",
    "from src.data_processing import *"
   ]
  },
  {
   "cell_type": "code",
   "execution_count": null,
   "id": "fifteen-belize",
   "metadata": {},
   "outputs": [],
   "source": [
    "a = []\n",
    "for f in os.listdir('nodes_data/nodes_data_wiki103'):\n",
    "    f = os.path.join('nodes_data/nodes_data_wiki103', f)\n",
    "    \n",
    "    with open(f, 'rb') as file:\n",
    "        a.append(pickle.load(file))"
   ]
  },
  {
   "cell_type": "code",
   "execution_count": null,
   "id": "front-heaven",
   "metadata": {},
   "outputs": [],
   "source": [
    "seq = SequenceDataset(\n",
    "    federated.vocabulary,\n",
    "    a[0],\n",
    "    min_seq_length = 2,\n",
    "    max_seq_length = 30,\n",
    "    device = None\n",
    ")"
   ]
  },
  {
   "cell_type": "code",
   "execution_count": null,
   "id": "christian-lexington",
   "metadata": {},
   "outputs": [],
   "source": [
    "for s in seq:\n",
    "    print(sum(s))"
   ]
  },
  {
   "cell_type": "markdown",
   "id": "occasional-benefit",
   "metadata": {},
   "source": [
    "## FedAVG"
   ]
  },
  {
   "cell_type": "code",
   "execution_count": null,
   "id": "therapeutic-lottery",
   "metadata": {},
   "outputs": [],
   "source": [
    "from src.federated_pipeline import Federated_AVG\n",
    "\n",
    "import os\n",
    "import pickle\n",
    "\n",
    "import matplotlib.pyplot as plt\n",
    "import pandas as pd\n",
    "import numpy as np\n",
    "import torch"
   ]
  },
  {
   "cell_type": "code",
   "execution_count": null,
   "id": "presidential-pennsylvania",
   "metadata": {
    "scrolled": true
   },
   "outputs": [],
   "source": [
    "federated = Federated_AVG(\n",
    "    \"CONFIG_MODEL_TWEETS.json\",\n",
    "    \"CONFIG_FEDERATED_TWEETS.json\",\n",
    "    testing = True\n",
    ")"
   ]
  },
  {
   "cell_type": "code",
   "execution_count": 24,
   "id": "postal-forum",
   "metadata": {},
   "outputs": [
    {
     "data": {
      "image/png": "[encoded data removed]",
      "text/plain": [
       "<Figure size 432x288 with 1 Axes>"
      ]
     },
     "metadata": {
      "needs_background": "light"
     },
     "output_type": "display_data"
    }
   ],
   "source": [
    "plt.hist([len(n.data) for n in federated.nodes.values()], bins = 30, density=True, cumulative=False, align='right')\n",
    "plt.yticks([])\n",
    "plt.show()"
   ]
  },
  {
   "cell_type": "code",
   "execution_count": 54,
   "id": "light-alarm",
   "metadata": {},
   "outputs": [
    {
     "data": {
      "image/png": "[encoded data removed]",
      "text/plain": [
       "<Figure size 432x288 with 1 Axes>"
      ]
     },
     "metadata": {
      "needs_background": "light"
     },
     "output_type": "display_data"
    }
   ],
   "source": [
    "x = np.array(list(federated.vocabulary.vocab.values()))\n",
    "x = np.log(x)\n",
    "plt.hist(x, bins = 100, density=True)\n",
    "plt.show()"
   ]
  },
  {
   "cell_type": "code",
   "execution_count": 57,
   "id": "czech-alexandria",
   "metadata": {},
   "outputs": [
    {
     "name": "stdout",
     "output_type": "stream",
     "text": [
      "embedding_layer.weight\n",
      "rnn.weight_ih_l0\n",
      "rnn.weight_hh_l0\n",
      "rnn.bias_ih_l0\n",
      "rnn.bias_hh_l0\n",
      "rnn.weight_ih_l1\n",
      "rnn.weight_hh_l1\n",
      "rnn.bias_ih_l1\n",
      "rnn.bias_hh_l1\n",
      "linear.weight\n",
      "linear.bias\n"
     ]
    }
   ],
   "source": [
    "for n, _ in federated.general_model.named_parameters():\n",
    "    print(n)"
   ]
  },
  {
   "cell_type": "code",
   "execution_count": 8,
   "id": "moral-paper",
   "metadata": {},
   "outputs": [
    {
     "data": {
      "text/html": [
       "<div>\n",
       "<style scoped>\n",
       "    .dataframe tbody tr th:only-of-type {\n",
       "        vertical-align: middle;\n",
       "    }\n",
       "\n",
       "    .dataframe tbody tr th {\n",
       "        vertical-align: top;\n",
       "    }\n",
       "\n",
       "    .dataframe thead th {\n",
       "        text-align: right;\n",
       "    }\n",
       "</style>\n",
       "<table border=\"1\" class=\"dataframe\">\n",
       "  <thead>\n",
       "    <tr style=\"text-align: right;\">\n",
       "      <th></th>\n",
       "      <th>0</th>\n",
       "      <th>1</th>\n",
       "      <th>2</th>\n",
       "      <th>3</th>\n",
       "      <th>4</th>\n",
       "      <th>5</th>\n",
       "      <th>6</th>\n",
       "      <th>7</th>\n",
       "      <th>8</th>\n",
       "      <th>9</th>\n",
       "      <th>10</th>\n",
       "    </tr>\n",
       "  </thead>\n",
       "  <tbody>\n",
       "    <tr>\n",
       "      <th>perplexity</th>\n",
       "      <td>109.786</td>\n",
       "      <td>116.941</td>\n",
       "      <td>3.69556e+14</td>\n",
       "      <td>764319</td>\n",
       "      <td>6190.48</td>\n",
       "      <td>5.92698e+06</td>\n",
       "      <td>764319</td>\n",
       "      <td>6684.71</td>\n",
       "      <td>4079.73</td>\n",
       "      <td>1815.65</td>\n",
       "      <td>1567.93</td>\n",
       "    </tr>\n",
       "    <tr>\n",
       "      <th>loss</th>\n",
       "      <td>4.70025</td>\n",
       "      <td>4.76361</td>\n",
       "      <td>33.5265</td>\n",
       "      <td>13.5431</td>\n",
       "      <td>8.73029</td>\n",
       "      <td>15.5915</td>\n",
       "      <td>13.5431</td>\n",
       "      <td>8.80671</td>\n",
       "      <td>8.31287</td>\n",
       "      <td>7.50315</td>\n",
       "      <td>7.35653</td>\n",
       "    </tr>\n",
       "    <tr>\n",
       "      <th>f1_recall</th>\n",
       "      <td>0.238012</td>\n",
       "      <td>0.234265</td>\n",
       "      <td>0.012554</td>\n",
       "      <td>0.0121666</td>\n",
       "      <td>0.0110788</td>\n",
       "      <td>0.0102518</td>\n",
       "      <td>0.0121666</td>\n",
       "      <td>0.00774847</td>\n",
       "      <td>0.0376248</td>\n",
       "      <td>0.0203248</td>\n",
       "      <td>0.0413351</td>\n",
       "    </tr>\n",
       "    <tr>\n",
       "      <th>f3_recall</th>\n",
       "      <td>0.366637</td>\n",
       "      <td>0.360244</td>\n",
       "      <td>0.0307555</td>\n",
       "      <td>0.0279988</td>\n",
       "      <td>0.053986</td>\n",
       "      <td>0.0192594</td>\n",
       "      <td>0.0279988</td>\n",
       "      <td>0.059775</td>\n",
       "      <td>0.0619133</td>\n",
       "      <td>0.0836165</td>\n",
       "      <td>0.15193</td>\n",
       "    </tr>\n",
       "    <tr>\n",
       "      <th>generate</th>\n",
       "      <td>all work and no play for an individual sets in</td>\n",
       "      <td>all work and no play. He did not because</td>\n",
       "      <td>all work and no play play play a makes.</td>\n",
       "      <td>all work and no play makes a a dull and</td>\n",
       "      <td>all work and no play convincing sailed wounds ...</td>\n",
       "      <td>all work and no play play play play makes makes</td>\n",
       "      <td>all work and no play makes makes dull dull boy</td>\n",
       "      <td>all work and no play Manor continental partial...</td>\n",
       "      <td>all work and no play renamed exercised colleag...</td>\n",
       "      <td>all work and no play in in as precipitation Al...</td>\n",
       "      <td>all work and no play death ocean Cook numbers no</td>\n",
       "    </tr>\n",
       "    <tr>\n",
       "      <th>attack_perplexity</th>\n",
       "      <td>180.865</td>\n",
       "      <td>204.177</td>\n",
       "      <td>289.102</td>\n",
       "      <td>5.38052</td>\n",
       "      <td>58.4259</td>\n",
       "      <td>24.2049</td>\n",
       "      <td>5.38052</td>\n",
       "      <td>47.6818</td>\n",
       "      <td>25.7298</td>\n",
       "      <td>56.0435</td>\n",
       "      <td>91.072</td>\n",
       "    </tr>\n",
       "    <tr>\n",
       "      <th>perplexity_1</th>\n",
       "      <td>104.362</td>\n",
       "      <td>95.6604</td>\n",
       "      <td>1.63921e+14</td>\n",
       "      <td>579903</td>\n",
       "      <td>5020.43</td>\n",
       "      <td>4.52612e+06</td>\n",
       "      <td>579903</td>\n",
       "      <td>5389.15</td>\n",
       "      <td>3295.59</td>\n",
       "      <td>1494.64</td>\n",
       "      <td>1302.36</td>\n",
       "    </tr>\n",
       "    <tr>\n",
       "      <th>loss_1</th>\n",
       "      <td>4.63824</td>\n",
       "      <td>4.5494</td>\n",
       "      <td>32.4852</td>\n",
       "      <td>13.1439</td>\n",
       "      <td>8.49179</td>\n",
       "      <td>15.1607</td>\n",
       "      <td>13.1439</td>\n",
       "      <td>8.55767</td>\n",
       "      <td>8.07178</td>\n",
       "      <td>7.29761</td>\n",
       "      <td>7.15953</td>\n",
       "    </tr>\n",
       "    <tr>\n",
       "      <th>f1_recall_1</th>\n",
       "      <td>0.242661</td>\n",
       "      <td>0.242661</td>\n",
       "      <td>0.0117417</td>\n",
       "      <td>0.0176125</td>\n",
       "      <td>0.0156556</td>\n",
       "      <td>0.00782779</td>\n",
       "      <td>0.0176125</td>\n",
       "      <td>0.0117417</td>\n",
       "      <td>0.0547945</td>\n",
       "      <td>0.0273973</td>\n",
       "      <td>0.0547945</td>\n",
       "    </tr>\n",
       "    <tr>\n",
       "      <th>f3_recall_1</th>\n",
       "      <td>0.377691</td>\n",
       "      <td>0.39726</td>\n",
       "      <td>0.037182</td>\n",
       "      <td>0.0391389</td>\n",
       "      <td>0.072407</td>\n",
       "      <td>0.0176125</td>\n",
       "      <td>0.0391389</td>\n",
       "      <td>0.072407</td>\n",
       "      <td>0.0782779</td>\n",
       "      <td>0.109589</td>\n",
       "      <td>0.164384</td>\n",
       "    </tr>\n",
       "    <tr>\n",
       "      <th>generate_1</th>\n",
       "      <td>all work and no play. Ed to Mason for</td>\n",
       "      <td>all work and no play can be protect his part</td>\n",
       "      <td>all work and no play play play makes makes a</td>\n",
       "      <td>all work and no play play a makes a.</td>\n",
       "      <td>all work and no play partial musicians agency ...</td>\n",
       "      <td>all work and no play makes play play makes play</td>\n",
       "      <td>all work and no play makes a a a boy</td>\n",
       "      <td>all work and no play Sesame covers afraid hund...</td>\n",
       "      <td>all work and no play admitted completion Yale ...</td>\n",
       "      <td>all work and no play concluded much for believ...</td>\n",
       "      <td>all work and no play suggest Private investiga...</td>\n",
       "    </tr>\n",
       "    <tr>\n",
       "      <th>attack_perplexity_1</th>\n",
       "      <td>180.865</td>\n",
       "      <td>204.177</td>\n",
       "      <td>289.102</td>\n",
       "      <td>5.38052</td>\n",
       "      <td>58.4259</td>\n",
       "      <td>24.2049</td>\n",
       "      <td>5.38052</td>\n",
       "      <td>47.6818</td>\n",
       "      <td>25.7298</td>\n",
       "      <td>56.0435</td>\n",
       "      <td>91.072</td>\n",
       "    </tr>\n",
       "    <tr>\n",
       "      <th>perplexity_2</th>\n",
       "      <td>130.875</td>\n",
       "      <td>138.551</td>\n",
       "      <td>4.28018e+14</td>\n",
       "      <td>678840</td>\n",
       "      <td>5225.65</td>\n",
       "      <td>5.80056e+06</td>\n",
       "      <td>678840</td>\n",
       "      <td>5240.4</td>\n",
       "      <td>3065.89</td>\n",
       "      <td>1469.52</td>\n",
       "      <td>1209.29</td>\n",
       "    </tr>\n",
       "    <tr>\n",
       "      <th>loss_2</th>\n",
       "      <td>4.84149</td>\n",
       "      <td>4.87692</td>\n",
       "      <td>31.6777</td>\n",
       "      <td>12.6304</td>\n",
       "      <td>8.59334</td>\n",
       "      <td>15.168</td>\n",
       "      <td>12.6304</td>\n",
       "      <td>8.56544</td>\n",
       "      <td>7.99057</td>\n",
       "      <td>7.08564</td>\n",
       "      <td>6.87531</td>\n",
       "    </tr>\n",
       "    <tr>\n",
       "      <th>f1_recall_2</th>\n",
       "      <td>0.203947</td>\n",
       "      <td>0.210526</td>\n",
       "      <td>0</td>\n",
       "      <td>0</td>\n",
       "      <td>0.0197368</td>\n",
       "      <td>0</td>\n",
       "      <td>0</td>\n",
       "      <td>0.0197368</td>\n",
       "      <td>0.0592105</td>\n",
       "      <td>0</td>\n",
       "      <td>0.0657895</td>\n",
       "    </tr>\n",
       "    <tr>\n",
       "      <th>f3_recall_2</th>\n",
       "      <td>0.309211</td>\n",
       "      <td>0.335526</td>\n",
       "      <td>0.0328947</td>\n",
       "      <td>0</td>\n",
       "      <td>0.0592105</td>\n",
       "      <td>0</td>\n",
       "      <td>0</td>\n",
       "      <td>0.0855263</td>\n",
       "      <td>0.0921053</td>\n",
       "      <td>0.105263</td>\n",
       "      <td>0.118421</td>\n",
       "    </tr>\n",
       "    <tr>\n",
       "      <th>generate_2</th>\n",
       "      <td>all work and no play. This is afraid for</td>\n",
       "      <td>all work and no play on the not to play</td>\n",
       "      <td>all work and no play play a a makes.</td>\n",
       "      <td>all work and no play makes. a boy boy</td>\n",
       "      <td>all work and no play citing galaxy architects ...</td>\n",
       "      <td>all work and no play makes makes play a play</td>\n",
       "      <td>all work and no play makes play a dull boy</td>\n",
       "      <td>all work and no play tenth husband East work c...</td>\n",
       "      <td>all work and no play tight Yugoslavia Sean. and</td>\n",
       "      <td>all work and no play Great and canon women and</td>\n",
       "      <td>all work and no play s watching Numerous view s</td>\n",
       "    </tr>\n",
       "    <tr>\n",
       "      <th>attack_perplexity_2</th>\n",
       "      <td>180.865</td>\n",
       "      <td>204.177</td>\n",
       "      <td>289.102</td>\n",
       "      <td>5.38052</td>\n",
       "      <td>58.4259</td>\n",
       "      <td>24.2049</td>\n",
       "      <td>5.38052</td>\n",
       "      <td>47.6818</td>\n",
       "      <td>25.7298</td>\n",
       "      <td>56.0435</td>\n",
       "      <td>91.072</td>\n",
       "    </tr>\n",
       "    <tr>\n",
       "      <th>perplexity_3</th>\n",
       "      <td>144.948</td>\n",
       "      <td>144.158</td>\n",
       "      <td>2.03474e+14</td>\n",
       "      <td>555940</td>\n",
       "      <td>4468.87</td>\n",
       "      <td>5.29181e+06</td>\n",
       "      <td>555940</td>\n",
       "      <td>4715.58</td>\n",
       "      <td>2752.81</td>\n",
       "      <td>849.606</td>\n",
       "      <td>764.274</td>\n",
       "    </tr>\n",
       "    <tr>\n",
       "      <th>loss_3</th>\n",
       "      <td>4.83769</td>\n",
       "      <td>4.82357</td>\n",
       "      <td>32.5376</td>\n",
       "      <td>13.0594</td>\n",
       "      <td>8.413</td>\n",
       "      <td>15.2351</td>\n",
       "      <td>13.0594</td>\n",
       "      <td>8.46198</td>\n",
       "      <td>7.93535</td>\n",
       "      <td>6.78781</td>\n",
       "      <td>6.6811</td>\n",
       "    </tr>\n",
       "    <tr>\n",
       "      <th>f1_recall_3</th>\n",
       "      <td>0.197731</td>\n",
       "      <td>0.205835</td>\n",
       "      <td>0.0145867</td>\n",
       "      <td>0.012966</td>\n",
       "      <td>0.012966</td>\n",
       "      <td>0.0210697</td>\n",
       "      <td>0.012966</td>\n",
       "      <td>0.0162075</td>\n",
       "      <td>0.0502431</td>\n",
       "      <td>0.0324149</td>\n",
       "      <td>0.0486224</td>\n",
       "    </tr>\n",
       "    <tr>\n",
       "      <th>f3_recall_3</th>\n",
       "      <td>0.329011</td>\n",
       "      <td>0.322528</td>\n",
       "      <td>0.0470016</td>\n",
       "      <td>0.0405186</td>\n",
       "      <td>0.0648298</td>\n",
       "      <td>0.0324149</td>\n",
       "      <td>0.0405186</td>\n",
       "      <td>0.0680713</td>\n",
       "      <td>0.0696921</td>\n",
       "      <td>0.106969</td>\n",
       "      <td>0.141005</td>\n",
       "    </tr>\n",
       "    <tr>\n",
       "      <th>generate_3</th>\n",
       "      <td>all work and no play for several different fil...</td>\n",
       "      <td>all work and no play felt that they no longer</td>\n",
       "      <td>all work and no play play a a makes.</td>\n",
       "      <td>all work and no play makes a makes dull boy</td>\n",
       "      <td>all work and no play iron smallest Potter corp...</td>\n",
       "      <td>all work and no play makes play play a makes</td>\n",
       "      <td>all work and no play a makes a a boy</td>\n",
       "      <td>all work and no play boy reveal Hannah work Los</td>\n",
       "      <td>all work and no play eighteenth proclaimed wou...</td>\n",
       "      <td>all work and no play motorway French and refus...</td>\n",
       "      <td>all work and no play said whom. returned trailer</td>\n",
       "    </tr>\n",
       "    <tr>\n",
       "      <th>attack_perplexity_3</th>\n",
       "      <td>180.865</td>\n",
       "      <td>204.177</td>\n",
       "      <td>289.102</td>\n",
       "      <td>5.38052</td>\n",
       "      <td>58.4259</td>\n",
       "      <td>24.2049</td>\n",
       "      <td>5.38052</td>\n",
       "      <td>47.6818</td>\n",
       "      <td>25.7298</td>\n",
       "      <td>56.0435</td>\n",
       "      <td>91.072</td>\n",
       "    </tr>\n",
       "  </tbody>\n",
       "</table>\n",
       "</div>"
      ],
      "text/plain": [
       "                                                                    0   \\\n",
       "perplexity                                                     109.786   \n",
       "loss                                                           4.70025   \n",
       "f1_recall                                                     0.238012   \n",
       "f3_recall                                                     0.366637   \n",
       "generate                all work and no play for an individual sets in   \n",
       "attack_perplexity                                              180.865   \n",
       "perplexity_1                                                   104.362   \n",
       "loss_1                                                         4.63824   \n",
       "f1_recall_1                                                   0.242661   \n",
       "f3_recall_1                                                   0.377691   \n",
       "generate_1                       all work and no play. Ed to Mason for   \n",
       "attack_perplexity_1                                            180.865   \n",
       "perplexity_2                                                   130.875   \n",
       "loss_2                                                         4.84149   \n",
       "f1_recall_2                                                   0.203947   \n",
       "f3_recall_2                                                   0.309211   \n",
       "generate_2                    all work and no play. This is afraid for   \n",
       "attack_perplexity_2                                            180.865   \n",
       "perplexity_3                                                   144.948   \n",
       "loss_3                                                         4.83769   \n",
       "f1_recall_3                                                   0.197731   \n",
       "f3_recall_3                                                   0.329011   \n",
       "generate_3           all work and no play for several different fil...   \n",
       "attack_perplexity_3                                            180.865   \n",
       "\n",
       "                                                                1   \\\n",
       "perplexity                                                 116.941   \n",
       "loss                                                       4.76361   \n",
       "f1_recall                                                 0.234265   \n",
       "f3_recall                                                 0.360244   \n",
       "generate                  all work and no play. He did not because   \n",
       "attack_perplexity                                          204.177   \n",
       "perplexity_1                                               95.6604   \n",
       "loss_1                                                      4.5494   \n",
       "f1_recall_1                                               0.242661   \n",
       "f3_recall_1                                                0.39726   \n",
       "generate_1            all work and no play can be protect his part   \n",
       "attack_perplexity_1                                        204.177   \n",
       "perplexity_2                                               138.551   \n",
       "loss_2                                                     4.87692   \n",
       "f1_recall_2                                               0.210526   \n",
       "f3_recall_2                                               0.335526   \n",
       "generate_2                 all work and no play on the not to play   \n",
       "attack_perplexity_2                                        204.177   \n",
       "perplexity_3                                               144.158   \n",
       "loss_3                                                     4.82357   \n",
       "f1_recall_3                                               0.205835   \n",
       "f3_recall_3                                               0.322528   \n",
       "generate_3           all work and no play felt that they no longer   \n",
       "attack_perplexity_3                                        204.177   \n",
       "\n",
       "                                                               2   \\\n",
       "perplexity                                            3.69556e+14   \n",
       "loss                                                      33.5265   \n",
       "f1_recall                                                0.012554   \n",
       "f3_recall                                               0.0307555   \n",
       "generate                  all work and no play play play a makes.   \n",
       "attack_perplexity                                         289.102   \n",
       "perplexity_1                                          1.63921e+14   \n",
       "loss_1                                                    32.4852   \n",
       "f1_recall_1                                             0.0117417   \n",
       "f3_recall_1                                              0.037182   \n",
       "generate_1           all work and no play play play makes makes a   \n",
       "attack_perplexity_1                                       289.102   \n",
       "perplexity_2                                          4.28018e+14   \n",
       "loss_2                                                    31.6777   \n",
       "f1_recall_2                                                     0   \n",
       "f3_recall_2                                             0.0328947   \n",
       "generate_2                   all work and no play play a a makes.   \n",
       "attack_perplexity_2                                       289.102   \n",
       "perplexity_3                                          2.03474e+14   \n",
       "loss_3                                                    32.5376   \n",
       "f1_recall_3                                             0.0145867   \n",
       "f3_recall_3                                             0.0470016   \n",
       "generate_3                   all work and no play play a a makes.   \n",
       "attack_perplexity_3                                       289.102   \n",
       "\n",
       "                                                              3   \\\n",
       "perplexity                                                764319   \n",
       "loss                                                     13.5431   \n",
       "f1_recall                                              0.0121666   \n",
       "f3_recall                                              0.0279988   \n",
       "generate                 all work and no play makes a a dull and   \n",
       "attack_perplexity                                        5.38052   \n",
       "perplexity_1                                              579903   \n",
       "loss_1                                                   13.1439   \n",
       "f1_recall_1                                            0.0176125   \n",
       "f3_recall_1                                            0.0391389   \n",
       "generate_1                  all work and no play play a makes a.   \n",
       "attack_perplexity_1                                      5.38052   \n",
       "perplexity_2                                              678840   \n",
       "loss_2                                                   12.6304   \n",
       "f1_recall_2                                                    0   \n",
       "f3_recall_2                                                    0   \n",
       "generate_2                 all work and no play makes. a boy boy   \n",
       "attack_perplexity_2                                      5.38052   \n",
       "perplexity_3                                              555940   \n",
       "loss_3                                                   13.0594   \n",
       "f1_recall_3                                             0.012966   \n",
       "f3_recall_3                                            0.0405186   \n",
       "generate_3           all work and no play makes a makes dull boy   \n",
       "attack_perplexity_3                                      5.38052   \n",
       "\n",
       "                                                                    4   \\\n",
       "perplexity                                                     6190.48   \n",
       "loss                                                           8.73029   \n",
       "f1_recall                                                    0.0110788   \n",
       "f3_recall                                                     0.053986   \n",
       "generate             all work and no play convincing sailed wounds ...   \n",
       "attack_perplexity                                              58.4259   \n",
       "perplexity_1                                                   5020.43   \n",
       "loss_1                                                         8.49179   \n",
       "f1_recall_1                                                  0.0156556   \n",
       "f3_recall_1                                                   0.072407   \n",
       "generate_1           all work and no play partial musicians agency ...   \n",
       "attack_perplexity_1                                            58.4259   \n",
       "perplexity_2                                                   5225.65   \n",
       "loss_2                                                         8.59334   \n",
       "f1_recall_2                                                  0.0197368   \n",
       "f3_recall_2                                                  0.0592105   \n",
       "generate_2           all work and no play citing galaxy architects ...   \n",
       "attack_perplexity_2                                            58.4259   \n",
       "perplexity_3                                                   4468.87   \n",
       "loss_3                                                           8.413   \n",
       "f1_recall_3                                                   0.012966   \n",
       "f3_recall_3                                                  0.0648298   \n",
       "generate_3           all work and no play iron smallest Potter corp...   \n",
       "attack_perplexity_3                                            58.4259   \n",
       "\n",
       "                                                                  5   \\\n",
       "perplexity                                               5.92698e+06   \n",
       "loss                                                         15.5915   \n",
       "f1_recall                                                  0.0102518   \n",
       "f3_recall                                                  0.0192594   \n",
       "generate             all work and no play play play play makes makes   \n",
       "attack_perplexity                                            24.2049   \n",
       "perplexity_1                                             4.52612e+06   \n",
       "loss_1                                                       15.1607   \n",
       "f1_recall_1                                               0.00782779   \n",
       "f3_recall_1                                                0.0176125   \n",
       "generate_1           all work and no play makes play play makes play   \n",
       "attack_perplexity_1                                          24.2049   \n",
       "perplexity_2                                             5.80056e+06   \n",
       "loss_2                                                        15.168   \n",
       "f1_recall_2                                                        0   \n",
       "f3_recall_2                                                        0   \n",
       "generate_2              all work and no play makes makes play a play   \n",
       "attack_perplexity_2                                          24.2049   \n",
       "perplexity_3                                             5.29181e+06   \n",
       "loss_3                                                       15.2351   \n",
       "f1_recall_3                                                0.0210697   \n",
       "f3_recall_3                                                0.0324149   \n",
       "generate_3              all work and no play makes play play a makes   \n",
       "attack_perplexity_3                                          24.2049   \n",
       "\n",
       "                                                                 6   \\\n",
       "perplexity                                                   764319   \n",
       "loss                                                        13.5431   \n",
       "f1_recall                                                 0.0121666   \n",
       "f3_recall                                                 0.0279988   \n",
       "generate             all work and no play makes makes dull dull boy   \n",
       "attack_perplexity                                           5.38052   \n",
       "perplexity_1                                                 579903   \n",
       "loss_1                                                      13.1439   \n",
       "f1_recall_1                                               0.0176125   \n",
       "f3_recall_1                                               0.0391389   \n",
       "generate_1                     all work and no play makes a a a boy   \n",
       "attack_perplexity_1                                         5.38052   \n",
       "perplexity_2                                                 678840   \n",
       "loss_2                                                      12.6304   \n",
       "f1_recall_2                                                       0   \n",
       "f3_recall_2                                                       0   \n",
       "generate_2               all work and no play makes play a dull boy   \n",
       "attack_perplexity_2                                         5.38052   \n",
       "perplexity_3                                                 555940   \n",
       "loss_3                                                      13.0594   \n",
       "f1_recall_3                                                0.012966   \n",
       "f3_recall_3                                               0.0405186   \n",
       "generate_3                     all work and no play a makes a a boy   \n",
       "attack_perplexity_3                                         5.38052   \n",
       "\n",
       "                                                                    7   \\\n",
       "perplexity                                                     6684.71   \n",
       "loss                                                           8.80671   \n",
       "f1_recall                                                   0.00774847   \n",
       "f3_recall                                                     0.059775   \n",
       "generate             all work and no play Manor continental partial...   \n",
       "attack_perplexity                                              47.6818   \n",
       "perplexity_1                                                   5389.15   \n",
       "loss_1                                                         8.55767   \n",
       "f1_recall_1                                                  0.0117417   \n",
       "f3_recall_1                                                   0.072407   \n",
       "generate_1           all work and no play Sesame covers afraid hund...   \n",
       "attack_perplexity_1                                            47.6818   \n",
       "perplexity_2                                                    5240.4   \n",
       "loss_2                                                         8.56544   \n",
       "f1_recall_2                                                  0.0197368   \n",
       "f3_recall_2                                                  0.0855263   \n",
       "generate_2           all work and no play tenth husband East work c...   \n",
       "attack_perplexity_2                                            47.6818   \n",
       "perplexity_3                                                   4715.58   \n",
       "loss_3                                                         8.46198   \n",
       "f1_recall_3                                                  0.0162075   \n",
       "f3_recall_3                                                  0.0680713   \n",
       "generate_3             all work and no play boy reveal Hannah work Los   \n",
       "attack_perplexity_3                                            47.6818   \n",
       "\n",
       "                                                                    8   \\\n",
       "perplexity                                                     4079.73   \n",
       "loss                                                           8.31287   \n",
       "f1_recall                                                    0.0376248   \n",
       "f3_recall                                                    0.0619133   \n",
       "generate             all work and no play renamed exercised colleag...   \n",
       "attack_perplexity                                              25.7298   \n",
       "perplexity_1                                                   3295.59   \n",
       "loss_1                                                         8.07178   \n",
       "f1_recall_1                                                  0.0547945   \n",
       "f3_recall_1                                                  0.0782779   \n",
       "generate_1           all work and no play admitted completion Yale ...   \n",
       "attack_perplexity_1                                            25.7298   \n",
       "perplexity_2                                                   3065.89   \n",
       "loss_2                                                         7.99057   \n",
       "f1_recall_2                                                  0.0592105   \n",
       "f3_recall_2                                                  0.0921053   \n",
       "generate_2             all work and no play tight Yugoslavia Sean. and   \n",
       "attack_perplexity_2                                            25.7298   \n",
       "perplexity_3                                                   2752.81   \n",
       "loss_3                                                         7.93535   \n",
       "f1_recall_3                                                  0.0502431   \n",
       "f3_recall_3                                                  0.0696921   \n",
       "generate_3           all work and no play eighteenth proclaimed wou...   \n",
       "attack_perplexity_3                                            25.7298   \n",
       "\n",
       "                                                                    9   \\\n",
       "perplexity                                                     1815.65   \n",
       "loss                                                           7.50315   \n",
       "f1_recall                                                    0.0203248   \n",
       "f3_recall                                                    0.0836165   \n",
       "generate             all work and no play in in as precipitation Al...   \n",
       "attack_perplexity                                              56.0435   \n",
       "perplexity_1                                                   1494.64   \n",
       "loss_1                                                         7.29761   \n",
       "f1_recall_1                                                  0.0273973   \n",
       "f3_recall_1                                                   0.109589   \n",
       "generate_1           all work and no play concluded much for believ...   \n",
       "attack_perplexity_1                                            56.0435   \n",
       "perplexity_2                                                   1469.52   \n",
       "loss_2                                                         7.08564   \n",
       "f1_recall_2                                                          0   \n",
       "f3_recall_2                                                   0.105263   \n",
       "generate_2              all work and no play Great and canon women and   \n",
       "attack_perplexity_2                                            56.0435   \n",
       "perplexity_3                                                   849.606   \n",
       "loss_3                                                         6.78781   \n",
       "f1_recall_3                                                  0.0324149   \n",
       "f3_recall_3                                                   0.106969   \n",
       "generate_3           all work and no play motorway French and refus...   \n",
       "attack_perplexity_3                                            56.0435   \n",
       "\n",
       "                                                                    10  \n",
       "perplexity                                                     1567.93  \n",
       "loss                                                           7.35653  \n",
       "f1_recall                                                    0.0413351  \n",
       "f3_recall                                                      0.15193  \n",
       "generate              all work and no play death ocean Cook numbers no  \n",
       "attack_perplexity                                               91.072  \n",
       "perplexity_1                                                   1302.36  \n",
       "loss_1                                                         7.15953  \n",
       "f1_recall_1                                                  0.0547945  \n",
       "f3_recall_1                                                   0.164384  \n",
       "generate_1           all work and no play suggest Private investiga...  \n",
       "attack_perplexity_1                                             91.072  \n",
       "perplexity_2                                                   1209.29  \n",
       "loss_2                                                         6.87531  \n",
       "f1_recall_2                                                  0.0657895  \n",
       "f3_recall_2                                                   0.118421  \n",
       "generate_2             all work and no play s watching Numerous view s  \n",
       "attack_perplexity_2                                             91.072  \n",
       "perplexity_3                                                   764.274  \n",
       "loss_3                                                          6.6811  \n",
       "f1_recall_3                                                  0.0486224  \n",
       "f3_recall_3                                                   0.141005  \n",
       "generate_3            all work and no play said whom. returned trailer  \n",
       "attack_perplexity_3                                             91.072  "
      ]
     },
     "execution_count": 8,
     "metadata": {},
     "output_type": "execute_result"
    }
   ],
   "source": [
    "pd.DataFrame(federated.results)"
   ]
  },
  {
   "cell_type": "markdown",
   "id": "satisfied-energy",
   "metadata": {},
   "source": [
    "## LICCHAVI"
   ]
  },
  {
   "cell_type": "code",
   "execution_count": 5,
   "id": "harmful-links",
   "metadata": {},
   "outputs": [],
   "source": [
    "from src.federated_pipeline import Federated_LICCHAVI\n",
    "from src.utils import update_json\n",
    "\n",
    "import os\n",
    "import pickle\n",
    "import matplotlib.pyplot as plt\n",
    "import pandas as pd\n",
    "import torch\n",
    "import re\n",
    "import numpy as np"
   ]
  },
  {
   "cell_type": "code",
   "execution_count": 6,
   "id": "coordinated-powder",
   "metadata": {},
   "outputs": [
    {
     "name": "stderr",
     "output_type": "stream",
     "text": [
      "100%|██████████| 1000/1000 [00:00<00:00, 4052.15it/s]\n",
      "100%|██████████| 1000/1000 [00:00<00:00, 9294.12it/s]\n",
      "100%|██████████| 1/1 [00:00<00:00, 93.29it/s]\n",
      "100%|██████████| 20/20 [00:01<00:00, 11.27it/s]\n",
      "  0%|          | 0/20 [00:00<?, ?it/s]"
     ]
    },
    {
     "name": "stdout",
     "output_type": "stream",
     "text": [
      "round 0\n"
     ]
    },
    {
     "name": "stderr",
     "output_type": "stream",
     "text": [
      " 35%|███▌      | 7/20 [00:02<00:05,  2.58it/s]\n"
     ]
    },
    {
     "ename": "KeyboardInterrupt",
     "evalue": "",
     "output_type": "error",
     "traceback": [
      "\u001b[0;31m---------------------------------------------------------------------------\u001b[0m",
      "\u001b[0;31mKeyboardInterrupt\u001b[0m                         Traceback (most recent call last)",
      "\u001b[0;32m<ipython-input-6-a6a13a0e6fe7>\u001b[0m in \u001b[0;36m<module>\u001b[0;34m\u001b[0m\n\u001b[1;32m     16\u001b[0m                 \u001b[0mtesting\u001b[0m \u001b[0;34m=\u001b[0m \u001b[0;32mTrue\u001b[0m\u001b[0;34m\u001b[0m\u001b[0;34m\u001b[0m\u001b[0m\n\u001b[1;32m     17\u001b[0m             )\n\u001b[0;32m---> 18\u001b[0;31m             \u001b[0mfederated\u001b[0m\u001b[0;34m.\u001b[0m\u001b[0mtrain\u001b[0m\u001b[0;34m(\u001b[0m\u001b[0;36m2\u001b[0m\u001b[0;34m,\u001b[0m \u001b[0msave_results\u001b[0m \u001b[0;34m=\u001b[0m \u001b[0;32mTrue\u001b[0m\u001b[0;34m)\u001b[0m\u001b[0;34m\u001b[0m\u001b[0;34m\u001b[0m\u001b[0m\n\u001b[0m",
      "\u001b[0;32m~/Documents/MSThesis/src/federated_pipeline.py\u001b[0m in \u001b[0;36mtrain\u001b[0;34m(self, num_rounds, save_results)\u001b[0m\n\u001b[1;32m    391\u001b[0m             \u001b[0;32mfor\u001b[0m \u001b[0mparam\u001b[0m \u001b[0;32min\u001b[0m \u001b[0mself\u001b[0m\u001b[0;34m.\u001b[0m\u001b[0mgeneral_model\u001b[0m\u001b[0;34m.\u001b[0m\u001b[0mparameters\u001b[0m\u001b[0;34m(\u001b[0m\u001b[0;34m)\u001b[0m\u001b[0;34m:\u001b[0m\u001b[0;34m\u001b[0m\u001b[0;34m\u001b[0m\u001b[0m\n\u001b[1;32m    392\u001b[0m                 \u001b[0mparam\u001b[0m\u001b[0;34m.\u001b[0m\u001b[0mgrad\u001b[0m \u001b[0;34m=\u001b[0m \u001b[0;32mNone\u001b[0m\u001b[0;34m\u001b[0m\u001b[0;34m\u001b[0m\u001b[0m\n\u001b[0;32m--> 393\u001b[0;31m             \u001b[0mself\u001b[0m\u001b[0;34m.\u001b[0m\u001b[0mnodes_epoch_step\u001b[0m\u001b[0;34m(\u001b[0m\u001b[0mround\u001b[0m\u001b[0;34m)\u001b[0m\u001b[0;34m\u001b[0m\u001b[0;34m\u001b[0m\u001b[0m\n\u001b[0m\u001b[1;32m    394\u001b[0m             \u001b[0mself\u001b[0m\u001b[0;34m.\u001b[0m\u001b[0mgeneral_model_update\u001b[0m\u001b[0;34m(\u001b[0m\u001b[0mround\u001b[0m\u001b[0;34m)\u001b[0m\u001b[0;34m\u001b[0m\u001b[0;34m\u001b[0m\u001b[0m\n\u001b[1;32m    395\u001b[0m         \u001b[0;32mif\u001b[0m \u001b[0msave_results\u001b[0m\u001b[0;34m:\u001b[0m\u001b[0;34m\u001b[0m\u001b[0;34m\u001b[0m\u001b[0m\n",
      "\u001b[0;32m~/Documents/MSThesis/src/federated_pipeline.py\u001b[0m in \u001b[0;36mnodes_epoch_step\u001b[0;34m(self, round)\u001b[0m\n\u001b[1;32m    806\u001b[0m \u001b[0;34m\u001b[0m\u001b[0m\n\u001b[1;32m    807\u001b[0m             \u001b[0;32mif\u001b[0m \u001b[0misinstance\u001b[0m\u001b[0;34m(\u001b[0m\u001b[0mnode\u001b[0m\u001b[0;34m,\u001b[0m \u001b[0mUserNode\u001b[0m\u001b[0;34m)\u001b[0m\u001b[0;34m:\u001b[0m\u001b[0;34m\u001b[0m\u001b[0;34m\u001b[0m\u001b[0m\n\u001b[0;32m--> 808\u001b[0;31m                 \u001b[0mself\u001b[0m\u001b[0;34m.\u001b[0m\u001b[0mevaluate_metrics_node\u001b[0m\u001b[0;34m(\u001b[0m\u001b[0mnode_id\u001b[0m\u001b[0;34m,\u001b[0m \u001b[0mnode\u001b[0m\u001b[0;34m,\u001b[0m \u001b[0mround\u001b[0m\u001b[0;34m)\u001b[0m\u001b[0;34m\u001b[0m\u001b[0;34m\u001b[0m\u001b[0m\n\u001b[0m\u001b[1;32m    809\u001b[0m             \u001b[0mself\u001b[0m\u001b[0;34m.\u001b[0m\u001b[0msave_weights\u001b[0m\u001b[0;34m(\u001b[0m\u001b[0mnode_id\u001b[0m\u001b[0;34m)\u001b[0m\u001b[0;34m\u001b[0m\u001b[0;34m\u001b[0m\u001b[0m\n\u001b[1;32m    810\u001b[0m \u001b[0;34m\u001b[0m\u001b[0m\n",
      "\u001b[0;32m~/Documents/MSThesis/src/federated_pipeline.py\u001b[0m in \u001b[0;36mevaluate_metrics_node\u001b[0;34m(self, node_id, node, round)\u001b[0m\n\u001b[1;32m    888\u001b[0m             \u001b[0mres\u001b[0m\u001b[0;34m[\u001b[0m\u001b[0;34mf'perplexity_{node_id}'\u001b[0m\u001b[0;34m]\u001b[0m\u001b[0;34m,\u001b[0m  \u001b[0mres\u001b[0m\u001b[0;34m[\u001b[0m\u001b[0;34mf'loss_{node_id}'\u001b[0m\u001b[0;34m]\u001b[0m\u001b[0;34m,\u001b[0m\u001b[0;34m\u001b[0m\u001b[0;34m\u001b[0m\u001b[0m\n\u001b[1;32m    889\u001b[0m             \u001b[0mres\u001b[0m\u001b[0;34m[\u001b[0m\u001b[0;34mf'f1_recall_{node_id}'\u001b[0m\u001b[0;34m]\u001b[0m\u001b[0;34m,\u001b[0m \u001b[0mres\u001b[0m\u001b[0;34m[\u001b[0m\u001b[0;34mf'f3_recall_{node_id}'\u001b[0m\u001b[0;34m]\u001b[0m\u001b[0;34m\u001b[0m\u001b[0;34m\u001b[0m\u001b[0m\n\u001b[0;32m--> 890\u001b[0;31m         ) = self.user_model.perplexity(val_dataloader, with_tqdm = False, with_recall = True)\n\u001b[0m\u001b[1;32m    891\u001b[0m         \u001b[0mres\u001b[0m\u001b[0;34m[\u001b[0m\u001b[0;34mf'generate_{node_id}'\u001b[0m\u001b[0;34m]\u001b[0m \u001b[0;34m=\u001b[0m \u001b[0mself\u001b[0m\u001b[0;34m.\u001b[0m\u001b[0muser_model\u001b[0m\u001b[0;34m.\u001b[0m\u001b[0mgenerate\u001b[0m\u001b[0;34m(\u001b[0m\u001b[0mself\u001b[0m\u001b[0;34m.\u001b[0m\u001b[0mvocabulary\u001b[0m\u001b[0;34m,\u001b[0m \u001b[0mstart_text\u001b[0m\u001b[0;34m,\u001b[0m \u001b[0;36m5\u001b[0m\u001b[0;34m)\u001b[0m\u001b[0;34m\u001b[0m\u001b[0;34m\u001b[0m\u001b[0m\n\u001b[1;32m    892\u001b[0m         res[f'attack_perplexity_{node_id}'],_ = self.user_model.perplexity(\n",
      "\u001b[0;32m~/Documents/MSThesis/src/models.py\u001b[0m in \u001b[0;36mperplexity\u001b[0;34m(self, dataloader, with_recall, with_tqdm)\u001b[0m\n\u001b[1;32m    312\u001b[0m                     \u001b[0mtotal_tokens\u001b[0m \u001b[0;34m+=\u001b[0m \u001b[0mlen\u001b[0m\u001b[0;34m(\u001b[0m\u001b[0mlogits\u001b[0m\u001b[0;34m)\u001b[0m\u001b[0;34m\u001b[0m\u001b[0;34m\u001b[0m\u001b[0m\n\u001b[1;32m    313\u001b[0m \u001b[0;34m\u001b[0m\u001b[0m\n\u001b[0;32m--> 314\u001b[0;31m                 \u001b[0mtotal_losses\u001b[0m\u001b[0;34m.\u001b[0m\u001b[0mappend\u001b[0m\u001b[0;34m(\u001b[0m\u001b[0mself\u001b[0m\u001b[0;34m.\u001b[0m\u001b[0mcriterion\u001b[0m\u001b[0;34m(\u001b[0m\u001b[0moutputs\u001b[0m\u001b[0;34m,\u001b[0m \u001b[0mlabels\u001b[0m\u001b[0;34m)\u001b[0m\u001b[0;34m.\u001b[0m\u001b[0mitem\u001b[0m\u001b[0;34m(\u001b[0m\u001b[0;34m)\u001b[0m\u001b[0;34m)\u001b[0m\u001b[0;34m\u001b[0m\u001b[0;34m\u001b[0m\u001b[0m\n\u001b[0m\u001b[1;32m    315\u001b[0m \u001b[0;34m\u001b[0m\u001b[0m\n\u001b[1;32m    316\u001b[0m         \u001b[0mperplexity\u001b[0m \u001b[0;34m=\u001b[0m \u001b[0mnp\u001b[0m\u001b[0;34m.\u001b[0m\u001b[0mexp\u001b[0m\u001b[0;34m(\u001b[0m\u001b[0;34m-\u001b[0m \u001b[0mnp\u001b[0m\u001b[0;34m.\u001b[0m\u001b[0msum\u001b[0m\u001b[0;34m(\u001b[0m\u001b[0mprobabilities\u001b[0m\u001b[0;34m)\u001b[0m \u001b[0;34m/\u001b[0m \u001b[0mtotal_tokens\u001b[0m\u001b[0;34m)\u001b[0m\u001b[0;34m\u001b[0m\u001b[0;34m\u001b[0m\u001b[0m\n",
      "\u001b[0;31mKeyboardInterrupt\u001b[0m: "
     ]
    }
   ],
   "source": [
    "gamma_0 = 0.005\n",
    "gamma_n = 0.005\n",
    "for w in [1]:\n",
    "    for delta_c in [10]:\n",
    "        for b in [32]:\n",
    "            update_json(os.path.join('.','config_files', \"CONFIG_FEDERATED_TWEETS.json\"),\n",
    "                general_model_lr = gamma_0,\n",
    "                node_model_lr = gamma_n,\n",
    "                p_n = delta_c,\n",
    "                lambda_n = w,\n",
    "                \n",
    "            )\n",
    "            federated = Federated_LICCHAVI(\n",
    "                \"CONFIG_MODEL_TWEETS.json\",\n",
    "                \"CONFIG_FEDERATED_TWEETS.json\",\n",
    "                testing = True\n",
    "            )\n",
    "            federated.train(2, save_results = True)"
   ]
  },
  {
   "cell_type": "code",
   "execution_count": 12,
   "id": "outside-anaheim",
   "metadata": {},
   "outputs": [
    {
     "name": "stdout",
     "output_type": "stream",
     "text": [
      "857\n",
      "888\n",
      "883\n",
      "849\n",
      "859\n",
      "801\n",
      "872\n",
      "832\n",
      "755\n",
      "776\n",
      "771\n",
      "840\n",
      "888\n",
      "767\n",
      "947\n",
      "840\n",
      "840\n",
      "840\n",
      "840\n",
      "840\n"
     ]
    }
   ],
   "source": [
    "for n in list(federated.nodes.values()):\n",
    "    print(len(n.data))"
   ]
  },
  {
   "cell_type": "code",
   "execution_count": 28,
   "id": "hollywood-standard",
   "metadata": {},
   "outputs": [],
   "source": [
    "results_folder = 'attacks_results_huber'\n",
    "\n",
    "def collect_results():\n",
    "    all_metrics = {}\n",
    "    i = 0\n",
    "    agg = {}\n",
    "    for data in ['tweets']:\n",
    "        agg[data] = {}\n",
    "        for algorithm in ['LICCHAVI_L2']:\n",
    "            agg[data][algorithm] = {}\n",
    "            path = os.path.join(results_folder, data, algorithm)\n",
    "            for file in os.listdir(path):\n",
    "                hyperparams_file = os.path.join(path, file, 'hyperparams.pickle')\n",
    "                metrics_file = os.path.join(path, file, 'metrics.pickle')\n",
    "\n",
    "                with open(hyperparams_file, 'rb') as f:\n",
    "                    hyperparams = pickle.load(f)\n",
    "\n",
    "                with open(metrics_file, 'rb') as f:\n",
    "                    metrics = pickle.load(f)\n",
    "\n",
    "                byz_type = hyperparams['FEDERATED_ARGS']['byzantine_type']\n",
    "                K = hyperparams['FEDERATED_ARGS']['num_training_nodes']\n",
    "                f = hyperparams['FEDERATED_ARGS']['num_byzantine']\n",
    "                f = i\n",
    "                i+=1\n",
    "\n",
    "                if byz_type != 'null':\n",
    "                    layers = None\n",
    "                    if 'max' in metrics[0].keys():\n",
    "                        layers = metrics.pop('layers')\n",
    "                        # for every round, the first is the general reg, the last the total gradient and\n",
    "                        # the intermediat the nodes gradients. So x[-1] only takes the general gradient\n",
    "                        max_ = [x[-1] for x in [metrics[i].pop('max') for i in range(0, 21)][1:]]\n",
    "                        avg = [x[-1] for x in [metrics[i].pop('avg') for i in range(0, 21)][1:]]\n",
    "                        L1 = [x[-1] for x in [metrics[i].pop('L1') for i in range(0, 21)][1:]]\n",
    "\n",
    "                    nodes_att_perpl = list(pd.DataFrame(metrics).T.filter(regex = r'attack_perplexity_').T.mean())\n",
    "                    nodes_f3_recall = list(pd.DataFrame(metrics).T.filter(regex = r'f3_recall_').T.mean())\n",
    "\n",
    "                    model_att_perpl = list(pd.DataFrame(metrics).T['attack_perplexity'])\n",
    "                    model_f3_recall = list(pd.DataFrame(metrics).T['f3_recall'])\n",
    "\n",
    "                    if byz_type not in agg[data][algorithm].keys():\n",
    "                        agg[data][algorithm][byz_type] = {}\n",
    "\n",
    "                    if K not in agg[data][algorithm][byz_type].keys():\n",
    "                        agg[data][algorithm][byz_type][K] = {}\n",
    "\n",
    "                    agg[data][algorithm][byz_type][K][f] = {\n",
    "                        'nodes_att_perpl' : nodes_att_perpl,\n",
    "                        'nodes_f3_recall' : nodes_f3_recall,\n",
    "                        'model_att_perpl' : model_att_perpl,\n",
    "                        'model_f3_recall' : model_f3_recall,\n",
    "                        'params' : hyperparams\n",
    "                    }\n",
    "\n",
    "\n",
    "                    if layers is not None:\n",
    "                        agg[data][algorithm][byz_type][K][f].update({\n",
    "                            'layers' : layers,\n",
    "                            'max' : max_,\n",
    "                            'avg' : avg,\n",
    "                            'L1' : L1\n",
    "                        })\n",
    "    return agg, all_metrics\n",
    "\n",
    "def draw(ax, data, alg, attack, num_nodes, byz_prop, model, data_name, model_lr, node_lr, lambda_n, p_n):\n",
    "    \n",
    "    data = np.array(data)\n",
    "    MAX = (1500 if data_name == 'tweets' else 400)\n",
    "    data = np.where(data > MAX, MAX, data)\n",
    "    if max(data) > 1 and model:\n",
    "        ax.set_title(alg, fontsize = 20)\n",
    "    if byz_prop == 0:\n",
    "        c = 'green'\n",
    "        zorder = 0\n",
    "    elif byz_prop == 1:\n",
    "        c = 'blue'\n",
    "        zorder = 5\n",
    "    elif byz_prop == 2:\n",
    "        c = 'red'\n",
    "        zorder = 10\n",
    "    elif byz_prop == 3:\n",
    "        c = 'black'\n",
    "        zorder = 15\n",
    "    if model:\n",
    "        line, = ax.plot(data, '^-', c = c, alpha = 0.7, zorder = zorder)\n",
    "        line.set_label(f'$\\gamma_0$: {model_lr} $\\gamma_k$: {model_lr} $w$: {lambda_n} $\\delta$: {p_n}')\n",
    "    else:\n",
    "        line, = ax.plot(data, 'o--', c = c, alpha = 0.7, zorder = zorder)\n",
    "    \n",
    "    if alg == 'LICCHAVI_L1' and max(data) < 1:\n",
    "        ax.set_xlabel('Rounds', fontsize = 20)\n",
    "    \n",
    "    if alg == 'FedAVG':\n",
    "        if max(data) > 1:\n",
    "            ax.set_ylabel('Attack Perplexity', fontsize = 18)\n",
    "        else:\n",
    "            ax.set_ylabel('$R_3$', fontsize = 20)\n",
    "            \n",
    "    ax.tick_params(axis='x', which='major', labelsize=16)\n",
    "    ax.set_xticks([0,5,10,15,20])\n",
    "    \n",
    "def plot_attack_licchavi(agg, attack_name, data_name, K = 50):\n",
    "    \n",
    "    fig, axs = plt.subplots(2, 1, sharex = True, sharey = 'row', figsize = (16,8))\n",
    "    for k, (alg, data) in enumerate(agg[data_name].items()):\n",
    "        for attack, attack_data in data.items():\n",
    "            if attack == attack_name:\n",
    "                for num_nodes, nodes_data in attack_data.items():\n",
    "                    if num_nodes == K:\n",
    "                        for byz_prop, perp_f3 in nodes_data.items():\n",
    "                            params = perp_f3['params']\n",
    "                            model_lr = params['FEDERATED_ARGS']['general_model_lr']\n",
    "                            node_lr = params['FEDERATED_ARGS']['node_model_lr']\n",
    "                            lambda_n = params['FEDERATED_ARGS']['lambda_n']\n",
    "                            p_n = params['FEDERATED_ARGS']['p_n']\n",
    "                            draw(axs[0], perp_f3['nodes_att_perpl'], alg, attack, num_nodes, byz_prop, model = False, data_name = data_name, model_lr = model_lr, node_lr = node_lr, lambda_n = lambda_n, p_n = p_n)\n",
    "                            draw(axs[1], perp_f3['nodes_f3_recall'], alg, attack, num_nodes, byz_prop, model = False, data_name = data_name, model_lr = model_lr, node_lr = node_lr, lambda_n = lambda_n, p_n = p_n)\n",
    "\n",
    "                            draw(axs[0], perp_f3['model_att_perpl'], alg, attack, num_nodes, byz_prop, model = True, data_name = data_name, model_lr = model_lr, node_lr = node_lr, lambda_n = lambda_n, p_n = p_n)\n",
    "                            draw(axs[1], perp_f3['model_f3_recall'], alg, attack, num_nodes, byz_prop, model = True, data_name = data_name, model_lr = model_lr, node_lr = node_lr, lambda_n = lambda_n, p_n = p_n)\n",
    "                                \n",
    "    \n",
    "    axs[0].set_ylim([0, None])\n",
    "    axs[0].grid()\n",
    "    axs[1].set_ylim([0, (0.5 if data_name == 'tweets' else 0.45)])\n",
    "    axs[1].grid()\n",
    "    # sorts and dusplays labels\n",
    "    handles, labels = axs[1].get_legend_handles_labels()\n",
    "    labels, handles = zip(*sorted(zip(labels, handles), key=lambda t: t[0]))\n",
    "    axs[1].legend(handles, labels)\n",
    "    plt.tight_layout()\n",
    "    fig.text(0.5, 0.04, 'Rounds of Communication', va='center', ha='center', fontsize=18)\n",
    "    axs[0].set_ylabel('Attack Perplexity', fontsize = 18)\n",
    "    axs[1].set_ylabel('$R_3$', fontsize = 18)\n",
    "    axs[1].set_xlabel(None)\n",
    "    plt.gcf().subplots_adjust(bottom=0.10)\n",
    "    plt.gcf().subplots_adjust(left = 0.05)\n",
    "    fig.savefig(f'plots/licchavi_huber_{data_name}_{attack_name}_{K}')\n",
    "    \n",
    "def plot_best(agg, attack_name, data_name, with_nodes = False):\n",
    "    fig, axs = plt.subplots(2, 1, sharex = True, sharey = 'row', figsize = (15,4))\n",
    "    K = 100 if data_name == 'tweets' else 500\n",
    "    \n",
    "    l2 = agg[data_name]['LICCHAVI_L2'][attack_name][K]\n",
    "    \n",
    "    for k, (title, loss) in enumerate(zip(['huber'],[l2])):\n",
    "        maxes = []\n",
    "        lasts = []\n",
    "        min_att = []\n",
    "        last_att = []\n",
    "        for i, f in enumerate([0,1,2,3]):\n",
    "            data = loss[f]\n",
    "            maxes.append(np.max(data['model_f3_recall']))\n",
    "            lasts.append(data['model_f3_recall'][-1])\n",
    "            min_att.append(np.min(data['model_att_perpl']))\n",
    "            last_att.append(data['model_att_perpl'][np.argmax(data['model_f3_recall'])])\n",
    "        \n",
    "        axs[0].bar([0,1,2,3], maxes, tick_label = [0,0.1,0.3,0.5], color = 'red', alpha = 0.7)\n",
    "        axs[0].bar([0,1,2,3], lasts, tick_label = [0,0.1,0.3,0.5], color = 'green', alpha = 0.2)\n",
    "        axs[0].set_title(title, fontsize = 20)\n",
    "        \n",
    "        axs[1].bar([0,1,2,3], last_att, tick_label = [0,0.1,0.3,0.5], color = 'red', alpha = 0.7)\n",
    "        # axs[1,k].bar([0,1,2,3], min_att, tick_label = [0,0.1,0.3,0.5], color = 'green', alpha = 0.2)\n",
    "        \n",
    "        \n",
    "        for i,M in enumerate(maxes):\n",
    "            s = str(round(float(M), 4))\n",
    "            axs[0].annotate(s, xy=(i-0.27,M+0.002))\n",
    "        \n",
    "        \n",
    "        for i,M in enumerate(last_att):\n",
    "            s = str(round(float(M), 1))\n",
    "            axs[1].annotate(s, xy=(i-0.27,M+0.002))\n",
    "            \n",
    "    title = re.sub('_',' ', attack_name)\n",
    "    fig.text(0.52, 0.995, f'General model $R_3$ for {data_name} under {title}', va = 'center', ha = 'center', fontsize = 20)\n",
    "    \n",
    "    for ax in axs[0]:\n",
    "        ax.set_ylim([\n",
    "            (0.4 if data_name == 'tweets' else 0.3),\n",
    "            (0.48 if data_name == 'tweets' else 0.38)\n",
    "        ])\n",
    "    "
   ]
  },
  {
   "cell_type": "code",
   "execution_count": 14,
   "id": "social-intention",
   "metadata": {},
   "outputs": [],
   "source": [
    "agg, metrics = collect_results()"
   ]
  },
  {
   "cell_type": "code",
   "execution_count": 15,
   "id": "noticed-expansion",
   "metadata": {},
   "outputs": [
    {
     "data": {
      "image/png": "[encoded data removed]",
      "text/plain": [
       "<Figure size 1152x576 with 2 Axes>"
      ]
     },
     "metadata": {
      "needs_background": "light"
     },
     "output_type": "display_data"
    }
   ],
   "source": [
    "plot_attack_licchavi(agg, 'data_poisoning', 'tweets', K = 100)"
   ]
  },
  {
   "cell_type": "code",
   "execution_count": 29,
   "id": "listed-portugal",
   "metadata": {},
   "outputs": [
    {
     "ename": "TypeError",
     "evalue": "'AxesSubplot' object is not iterable",
     "output_type": "error",
     "traceback": [
      "\u001b[0;31m---------------------------------------------------------------------------\u001b[0m",
      "\u001b[0;31mTypeError\u001b[0m                                 Traceback (most recent call last)",
      "\u001b[0;32m<ipython-input-29-3845a07f5ce1>\u001b[0m in \u001b[0;36m<module>\u001b[0;34m\u001b[0m\n\u001b[0;32m----> 1\u001b[0;31m \u001b[0mplot_best\u001b[0m\u001b[0;34m(\u001b[0m\u001b[0magg\u001b[0m\u001b[0;34m,\u001b[0m \u001b[0;34m'data_poisoning'\u001b[0m\u001b[0;34m,\u001b[0m \u001b[0;34m'tweets'\u001b[0m\u001b[0;34m)\u001b[0m\u001b[0;34m\u001b[0m\u001b[0;34m\u001b[0m\u001b[0m\n\u001b[0m",
      "\u001b[0;32m<ipython-input-28-16c0f29ab9c2>\u001b[0m in \u001b[0;36mplot_best\u001b[0;34m(agg, attack_name, data_name, with_nodes)\u001b[0m\n\u001b[1;32m    179\u001b[0m     \u001b[0mfig\u001b[0m\u001b[0;34m.\u001b[0m\u001b[0mtext\u001b[0m\u001b[0;34m(\u001b[0m\u001b[0;36m0.52\u001b[0m\u001b[0;34m,\u001b[0m \u001b[0;36m0.995\u001b[0m\u001b[0;34m,\u001b[0m \u001b[0;34mf'General model $R_3$ for {data_name} under {title}'\u001b[0m\u001b[0;34m,\u001b[0m \u001b[0mva\u001b[0m \u001b[0;34m=\u001b[0m \u001b[0;34m'center'\u001b[0m\u001b[0;34m,\u001b[0m \u001b[0mha\u001b[0m \u001b[0;34m=\u001b[0m \u001b[0;34m'center'\u001b[0m\u001b[0;34m,\u001b[0m \u001b[0mfontsize\u001b[0m \u001b[0;34m=\u001b[0m \u001b[0;36m20\u001b[0m\u001b[0;34m)\u001b[0m\u001b[0;34m\u001b[0m\u001b[0;34m\u001b[0m\u001b[0m\n\u001b[1;32m    180\u001b[0m \u001b[0;34m\u001b[0m\u001b[0m\n\u001b[0;32m--> 181\u001b[0;31m     \u001b[0;32mfor\u001b[0m \u001b[0max\u001b[0m \u001b[0;32min\u001b[0m \u001b[0maxs\u001b[0m\u001b[0;34m[\u001b[0m\u001b[0;36m0\u001b[0m\u001b[0;34m]\u001b[0m\u001b[0;34m:\u001b[0m\u001b[0;34m\u001b[0m\u001b[0;34m\u001b[0m\u001b[0m\n\u001b[0m\u001b[1;32m    182\u001b[0m         ax.set_ylim([\n\u001b[1;32m    183\u001b[0m             \u001b[0;34m(\u001b[0m\u001b[0;36m0.4\u001b[0m \u001b[0;32mif\u001b[0m \u001b[0mdata_name\u001b[0m \u001b[0;34m==\u001b[0m \u001b[0;34m'tweets'\u001b[0m \u001b[0;32melse\u001b[0m \u001b[0;36m0.3\u001b[0m\u001b[0;34m)\u001b[0m\u001b[0;34m,\u001b[0m\u001b[0;34m\u001b[0m\u001b[0;34m\u001b[0m\u001b[0m\n",
      "\u001b[0;31mTypeError\u001b[0m: 'AxesSubplot' object is not iterable"
     ]
    },
    {
     "data": {
      "image/png": "[encoded data removed]",
      "text/plain": [
       "<Figure size 1080x288 with 2 Axes>"
      ]
     },
     "metadata": {
      "needs_background": "light"
     },
     "output_type": "display_data"
    }
   ],
   "source": [
    "plot_best(agg, 'data_poisoning', 'tweets')"
   ]
  },
  {
   "cell_type": "code",
   "execution_count": 80,
   "id": "early-neighbor",
   "metadata": {},
   "outputs": [
    {
     "name": "stderr",
     "output_type": "stream",
     "text": [
      "100%|██████████| 60/60 [00:01<00:00, 58.68it/s]\n",
      "100%|██████████| 61/61 [00:01<00:00, 54.15it/s]\n",
      "100%|██████████| 100/100 [00:00<00:00, 8912.86it/s]\n",
      "100%|██████████| 10/10 [00:00<00:00, 40.32it/s]\n"
     ]
    }
   ],
   "source": [
    "federated = Federated_LICCHAVI(\n",
    "    \"CONFIG_MODEL_WIKI.json\",\n",
    "    \"CONFIG_FEDERATED_WIKI.json\",\n",
    "    testing = True\n",
    ")"
   ]
  },
  {
   "cell_type": "code",
   "execution_count": 5,
   "id": "solar-martin",
   "metadata": {},
   "outputs": [
    {
     "name": "stderr",
     "output_type": "stream",
     "text": [
      "\r",
      "  0%|          | 0/10 [00:00<?, ?it/s]"
     ]
    },
    {
     "name": "stdout",
     "output_type": "stream",
     "text": [
      "round 0\n"
     ]
    },
    {
     "name": "stderr",
     "output_type": "stream",
     "text": [
      "100%|██████████| 10/10 [00:03<00:00,  3.23it/s]\n",
      "  0%|          | 0/10 [00:00<?, ?it/s]"
     ]
    },
    {
     "name": "stdout",
     "output_type": "stream",
     "text": [
      "round 1\n"
     ]
    },
    {
     "name": "stderr",
     "output_type": "stream",
     "text": [
      "100%|██████████| 10/10 [00:04<00:00,  2.17it/s]\n",
      "  0%|          | 0/10 [00:00<?, ?it/s]"
     ]
    },
    {
     "name": "stdout",
     "output_type": "stream",
     "text": [
      "round 2\n"
     ]
    },
    {
     "name": "stderr",
     "output_type": "stream",
     "text": [
      "100%|██████████| 10/10 [00:04<00:00,  2.24it/s]\n",
      "  0%|          | 0/10 [00:00<?, ?it/s]"
     ]
    },
    {
     "name": "stdout",
     "output_type": "stream",
     "text": [
      "round 3\n"
     ]
    },
    {
     "name": "stderr",
     "output_type": "stream",
     "text": [
      "100%|██████████| 10/10 [00:04<00:00,  2.23it/s]\n",
      "  0%|          | 0/10 [00:00<?, ?it/s]"
     ]
    },
    {
     "name": "stdout",
     "output_type": "stream",
     "text": [
      "round 4\n"
     ]
    },
    {
     "name": "stderr",
     "output_type": "stream",
     "text": [
      "100%|██████████| 10/10 [00:04<00:00,  2.34it/s]\n",
      "  0%|          | 0/10 [00:00<?, ?it/s]"
     ]
    },
    {
     "name": "stdout",
     "output_type": "stream",
     "text": [
      "round 5\n"
     ]
    },
    {
     "name": "stderr",
     "output_type": "stream",
     "text": [
      "100%|██████████| 10/10 [00:04<00:00,  2.31it/s]\n"
     ]
    },
    {
     "data": {
      "image/png": "[encoded data removed]",
      "text/plain": [
       "<Figure size 432x288 with 1 Axes>"
      ]
     },
     "metadata": {
      "needs_background": "light"
     },
     "output_type": "display_data"
    }
   ],
   "source": [
    "federated.train(5, save_results=False)"
   ]
  },
  {
   "cell_type": "code",
   "execution_count": null,
   "id": "acceptable-antique",
   "metadata": {},
   "outputs": [],
   "source": []
  }
 ],
 "metadata": {
  "kernelspec": {
   "display_name": "Python 3.8.8 64-bit ('typewriter': conda)",
   "language": "python",
   "name": "python388jvsc74a57bd003343bff8ea9174e4e18dc33629d8cc7123b4a33b966bf5614ca716c9ad2f2e1"
  },
  "language_info": {
   "codemirror_mode": {
    "name": "ipython",
    "version": 3
   },
   "file_extension": ".py",
   "mimetype": "text/x-python",
   "name": "python",
   "nbconvert_exporter": "python",
   "pygments_lexer": "ipython3",
   "version": "3.8.8"
  }
 },
 "nbformat": 4,
 "nbformat_minor": 5
}
