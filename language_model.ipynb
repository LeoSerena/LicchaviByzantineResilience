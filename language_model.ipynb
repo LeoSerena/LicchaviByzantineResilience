{
 "cells": [
  {
   "cell_type": "markdown",
   "id": "minus-radiation",
   "metadata": {},
   "source": [
    "## Imports"
   ]
  },
  {
   "cell_type": "code",
   "execution_count": 1,
   "id": "falling-cuisine",
   "metadata": {},
   "outputs": [],
   "source": [
    "import os\n",
    "import re\n",
    "import sys\n",
    "import typing\n",
    "import gc\n",
    "import pandas as pd\n",
    "import pickle\n",
    "import logging\n",
    "\n",
    "sys.path.append(\n",
    "    os.path.join('.','src')\n",
    ")\n",
    "\n",
    "from src.models import Pipeline"
   ]
  },
  {
   "cell_type": "code",
   "execution_count": 2,
   "id": "vanilla-characterization",
   "metadata": {},
   "outputs": [],
   "source": [
    "logging.basicConfig(filename='logs/logs.log', level=logging.DEBUG)"
   ]
  },
  {
   "cell_type": "markdown",
   "id": "noted-wellington",
   "metadata": {},
   "source": [
    "# Tweets Model"
   ]
  },
  {
   "cell_type": "code",
   "execution_count": 3,
   "id": "pharmaceutical-width",
   "metadata": {
    "scrolled": false
   },
   "outputs": [
    {
     "name": "stderr",
     "output_type": "stream",
     "text": [
      "100%|██████████| 10022598/10022598 [16:46<00:00, 9954.86it/s] \n",
      "100%|██████████| 3337121/3337121 [05:32<00:00, 10031.94it/s]\n",
      "100%|██████████| 3366495/3366495 [05:37<00:00, 9981.82it/s] \n"
     ]
    }
   ],
   "source": [
    "pipeline = Pipeline('CONFIG_MODEL_TWEETS.json', load_model_data = True)"
   ]
  },
  {
   "cell_type": "code",
   "execution_count": 4,
   "id": "offensive-cache",
   "metadata": {},
   "outputs": [],
   "source": [
    "d = {\n",
    "    'train_set_len' : len(pipeline.train_dataset),\n",
    "    'train_set_tokens' : pipeline.train_dataset.token_len(),\n",
    "    'val_set_len' : len(pipeline.val_dataset),\n",
    "    'val_set_tokens' : pipeline.val_dataset.token_len(),\n",
    "    'test_set_len' : len(pipeline.test_dataset),\n",
    "    'test_set_tokens' : pipeline.test_dataset.token_len(),\n",
    "}"
   ]
  },
  {
   "cell_type": "code",
   "execution_count": 5,
   "id": "rapid-popularity",
   "metadata": {},
   "outputs": [
    {
     "name": "stderr",
     "output_type": "stream",
     "text": [
      "  9%|▉         | 96868/1035304 [05:28<53:00, 295.07it/s]  \n"
     ]
    },
    {
     "ename": "KeyboardInterrupt",
     "evalue": "",
     "output_type": "error",
     "traceback": [
      "\u001b[0;31m---------------------------------------------------------------------------\u001b[0m",
      "\u001b[0;31mKeyboardInterrupt\u001b[0m                         Traceback (most recent call last)",
      "\u001b[0;32m<ipython-input-5-64373f14eb59>\u001b[0m in \u001b[0;36m<module>\u001b[0;34m\u001b[0m\n\u001b[0;32m----> 1\u001b[0;31m \u001b[0mpipeline\u001b[0m\u001b[0;34m.\u001b[0m\u001b[0mperplexity\u001b[0m\u001b[0;34m(\u001b[0m\u001b[0;34m)\u001b[0m\u001b[0;34m\u001b[0m\u001b[0;34m\u001b[0m\u001b[0m\n\u001b[0m",
      "\u001b[0;32m~/Documents/MSThesis/src/models.py\u001b[0m in \u001b[0;36mperplexity\u001b[0;34m(self, dataset)\u001b[0m\n\u001b[1;32m    895\u001b[0m             \u001b[0mdrop_last\u001b[0m \u001b[0;34m=\u001b[0m \u001b[0;32mTrue\u001b[0m\u001b[0;34m\u001b[0m\u001b[0;34m\u001b[0m\u001b[0m\n\u001b[1;32m    896\u001b[0m         )\n\u001b[0;32m--> 897\u001b[0;31m         \u001b[0;32mreturn\u001b[0m \u001b[0mself\u001b[0m\u001b[0;34m.\u001b[0m\u001b[0mmodel\u001b[0m\u001b[0;34m.\u001b[0m\u001b[0mperplexity\u001b[0m\u001b[0;34m(\u001b[0m\u001b[0mdataloader\u001b[0m\u001b[0;34m)\u001b[0m\u001b[0;34m\u001b[0m\u001b[0;34m\u001b[0m\u001b[0m\n\u001b[0m\u001b[1;32m    898\u001b[0m \u001b[0;34m\u001b[0m\u001b[0m\n\u001b[1;32m    899\u001b[0m     \u001b[0;32mdef\u001b[0m \u001b[0mgenerate\u001b[0m\u001b[0;34m(\u001b[0m\u001b[0mself\u001b[0m\u001b[0;34m,\u001b[0m \u001b[0mstart_text\u001b[0m \u001b[0;34m:\u001b[0m \u001b[0mstr\u001b[0m\u001b[0;34m,\u001b[0m \u001b[0mvocabulary\u001b[0m \u001b[0;34m:\u001b[0m \u001b[0mVocabulary\u001b[0m \u001b[0;34m=\u001b[0m \u001b[0;32mNone\u001b[0m\u001b[0;34m,\u001b[0m \u001b[0mnum_words\u001b[0m \u001b[0;34m=\u001b[0m \u001b[0;36m100\u001b[0m\u001b[0;34m)\u001b[0m\u001b[0;34m:\u001b[0m\u001b[0;34m\u001b[0m\u001b[0;34m\u001b[0m\u001b[0m\n",
      "\u001b[0;32m~/Documents/MSThesis/src/models.py\u001b[0m in \u001b[0;36mperplexity\u001b[0;34m(self, dataloader, with_tqdm)\u001b[0m\n\u001b[1;32m    278\u001b[0m             \u001b[0mprobabilities\u001b[0m \u001b[0;34m=\u001b[0m \u001b[0;34m[\u001b[0m\u001b[0;34m]\u001b[0m\u001b[0;34m\u001b[0m\u001b[0;34m\u001b[0m\u001b[0m\n\u001b[1;32m    279\u001b[0m             \u001b[0;32mfor\u001b[0m \u001b[0mbatch\u001b[0m \u001b[0;32min\u001b[0m \u001b[0mtqdm\u001b[0m\u001b[0;34m(\u001b[0m\u001b[0mdataloader\u001b[0m\u001b[0;34m)\u001b[0m \u001b[0;32mif\u001b[0m \u001b[0mwith_tqdm\u001b[0m \u001b[0;32melse\u001b[0m \u001b[0mdataloader\u001b[0m\u001b[0;34m:\u001b[0m\u001b[0;34m\u001b[0m\u001b[0;34m\u001b[0m\u001b[0m\n\u001b[0;32m--> 280\u001b[0;31m                 \u001b[0mhidden\u001b[0m \u001b[0;34m=\u001b[0m \u001b[0mself\u001b[0m\u001b[0;34m.\u001b[0m\u001b[0minit_hidden\u001b[0m\u001b[0;34m(\u001b[0m\u001b[0mdataloader\u001b[0m\u001b[0;34m.\u001b[0m\u001b[0mbatch_size\u001b[0m\u001b[0;34m)\u001b[0m\u001b[0;34m\u001b[0m\u001b[0;34m\u001b[0m\u001b[0m\n\u001b[0m\u001b[1;32m    281\u001b[0m                 \u001b[0moutputs\u001b[0m\u001b[0;34m,\u001b[0m \u001b[0m_\u001b[0m \u001b[0;34m=\u001b[0m \u001b[0mself\u001b[0m\u001b[0;34m.\u001b[0m\u001b[0mforward\u001b[0m\u001b[0;34m(\u001b[0m\u001b[0mbatch\u001b[0m\u001b[0;34m[\u001b[0m\u001b[0;34m:\u001b[0m\u001b[0;34m,\u001b[0m\u001b[0;34m:\u001b[0m\u001b[0;34m-\u001b[0m\u001b[0;36m1\u001b[0m\u001b[0;34m]\u001b[0m\u001b[0;34m,\u001b[0m \u001b[0mhidden\u001b[0m\u001b[0;34m)\u001b[0m\u001b[0;34m\u001b[0m\u001b[0;34m\u001b[0m\u001b[0m\n\u001b[1;32m    282\u001b[0m                 \u001b[0moutputs\u001b[0m \u001b[0;34m=\u001b[0m \u001b[0mtorch\u001b[0m\u001b[0;34m.\u001b[0m\u001b[0mtranspose\u001b[0m\u001b[0;34m(\u001b[0m\u001b[0moutputs\u001b[0m\u001b[0;34m,\u001b[0m \u001b[0;36m1\u001b[0m\u001b[0;34m,\u001b[0m\u001b[0;36m2\u001b[0m\u001b[0;34m)\u001b[0m\u001b[0;34m\u001b[0m\u001b[0;34m\u001b[0m\u001b[0m\n",
      "\u001b[0;32m~/Documents/MSThesis/src/models.py\u001b[0m in \u001b[0;36minit_hidden\u001b[0;34m(self, batch_size)\u001b[0m\n\u001b[1;32m    258\u001b[0m             )\n\u001b[1;32m    259\u001b[0m         \u001b[0;32melse\u001b[0m\u001b[0;34m:\u001b[0m\u001b[0;34m\u001b[0m\u001b[0;34m\u001b[0m\u001b[0m\n\u001b[0;32m--> 260\u001b[0;31m             return torch.zeros(\n\u001b[0m\u001b[1;32m    261\u001b[0m                 \u001b[0mself\u001b[0m\u001b[0;34m.\u001b[0m\u001b[0mnum_rnn_hidden_layers\u001b[0m\u001b[0;34m,\u001b[0m \u001b[0mbatch_size\u001b[0m\u001b[0;34m,\u001b[0m \u001b[0mself\u001b[0m\u001b[0;34m.\u001b[0m\u001b[0mhidden_state_size\u001b[0m\u001b[0;34m\u001b[0m\u001b[0;34m\u001b[0m\u001b[0m\n\u001b[1;32m    262\u001b[0m             ).to(self.device).detach()\n",
      "\u001b[0;31mKeyboardInterrupt\u001b[0m: "
     ]
    }
   ],
   "source": [
    "pipeline.perplexity()"
   ]
  },
  {
   "cell_type": "code",
   "execution_count": 6,
   "id": "appropriate-holder",
   "metadata": {
    "scrolled": true
   },
   "outputs": [
    {
     "name": "stderr",
     "output_type": "stream",
     "text": [
      "100%|██████████| 1541342/1541342 [50:34<00:00, 507.91it/s]\n",
      "100%|██████████| 512927/512927 [16:57<00:00, 504.28it/s]\n",
      "  0%|          | 0/1541342 [00:00<?, ?it/s]"
     ]
    },
    {
     "name": "stdout",
     "output_type": "stream",
     "text": [
      "Train loss at epoch 0 : 10.812868297920117\n",
      "Eval loss at epoch 0 : 10.81283332563471\n",
      "updating best metric\n"
     ]
    },
    {
     "name": "stderr",
     "output_type": "stream",
     "text": [
      "100%|██████████| 1541342/1541342 [3:01:54<00:00, 141.22it/s]  \n",
      "100%|██████████| 512927/512927 [17:14<00:00, 495.73it/s]\n"
     ]
    },
    {
     "name": "stdout",
     "output_type": "stream",
     "text": [
      "Train loss at epoch 1 : 4.921052994411234\n",
      "Eval loss at epoch 1 : 7.638029842873025\n",
      "updating best metric\n"
     ]
    },
    {
     "data": {
      "image/png": "[encoded data removed]",
      "text/plain": [
       "<Figure size 432x288 with 1 Axes>"
      ]
     },
     "metadata": {
      "needs_background": "light"
     },
     "output_type": "display_data"
    }
   ],
   "source": [
    "pipeline.train_model()"
   ]
  },
  {
   "cell_type": "code",
   "execution_count": 7,
   "id": "distant-intake",
   "metadata": {},
   "outputs": [
    {
     "name": "stderr",
     "output_type": "stream",
     "text": [
      "100%|██████████| 1035304/1035304 [59:11<00:00, 291.54it/s] \n"
     ]
    },
    {
     "data": {
      "text/plain": [
       "(76.50194053094972, 4.354531535130592)"
      ]
     },
     "execution_count": 7,
     "metadata": {},
     "output_type": "execute_result"
    }
   ],
   "source": [
    "pipeline.perplexity()"
   ]
  },
  {
   "cell_type": "code",
   "execution_count": 3,
   "id": "imperial-valley",
   "metadata": {},
   "outputs": [
    {
     "name": "stderr",
     "output_type": "stream",
     "text": [
      "  0%|          | 44632/10022598 [00:05<16:48, 9891.53it/s] "
     ]
    },
    {
     "ename": "KeyboardInterrupt",
     "evalue": "",
     "output_type": "error",
     "traceback": [
      "\u001b[0;31m---------------------------------------------------------------------------\u001b[0m",
      "\u001b[0;31mKeyboardInterrupt\u001b[0m                         Traceback (most recent call last)",
      "\u001b[0;32m<ipython-input-3-26292adabf90>\u001b[0m in \u001b[0;36m<module>\u001b[0;34m\u001b[0m\n\u001b[0;32m----> 1\u001b[0;31m \u001b[0mpipeline\u001b[0m \u001b[0;34m=\u001b[0m \u001b[0mPipeline\u001b[0m\u001b[0;34m(\u001b[0m\u001b[0;34m'CONFIG_MODEL_TWEETS.json'\u001b[0m\u001b[0;34m,\u001b[0m \u001b[0mload_model_data\u001b[0m \u001b[0;34m=\u001b[0m \u001b[0;32mTrue\u001b[0m\u001b[0;34m)\u001b[0m\u001b[0;34m\u001b[0m\u001b[0;34m\u001b[0m\u001b[0m\n\u001b[0m",
      "\u001b[0;32m~/Documents/MSThesis/src/models.py\u001b[0m in \u001b[0;36m__init__\u001b[0;34m(self, config_file, load_model_data)\u001b[0m\n\u001b[1;32m    680\u001b[0m         \u001b[0mdata_parameters\u001b[0m\u001b[0;34m[\u001b[0m\u001b[0;34m'device'\u001b[0m\u001b[0;34m]\u001b[0m \u001b[0;34m=\u001b[0m \u001b[0mself\u001b[0m\u001b[0;34m.\u001b[0m\u001b[0mparameters\u001b[0m\u001b[0;34m[\u001b[0m\u001b[0;34m'DEVICE'\u001b[0m\u001b[0;34m]\u001b[0m\u001b[0;34m\u001b[0m\u001b[0;34m\u001b[0m\u001b[0m\n\u001b[1;32m    681\u001b[0m         \u001b[0mlogging\u001b[0m\u001b[0;34m.\u001b[0m\u001b[0minfo\u001b[0m\u001b[0;34m(\u001b[0m\u001b[0;34m'preparing data...'\u001b[0m\u001b[0;34m)\u001b[0m\u001b[0;34m\u001b[0m\u001b[0;34m\u001b[0m\u001b[0m\n\u001b[0;32m--> 682\u001b[0;31m         \u001b[0mself\u001b[0m\u001b[0;34m.\u001b[0m\u001b[0minit_data\u001b[0m\u001b[0;34m(\u001b[0m\u001b[0;34m**\u001b[0m\u001b[0mdata_parameters\u001b[0m\u001b[0;34m)\u001b[0m\u001b[0;34m\u001b[0m\u001b[0;34m\u001b[0m\u001b[0m\n\u001b[0m\u001b[1;32m    683\u001b[0m \u001b[0;34m\u001b[0m\u001b[0m\n\u001b[1;32m    684\u001b[0m         \u001b[0mmodel_parameters\u001b[0m \u001b[0;34m=\u001b[0m \u001b[0mself\u001b[0m\u001b[0;34m.\u001b[0m\u001b[0mparameters\u001b[0m\u001b[0;34m[\u001b[0m\u001b[0;34m'MODEL_PARAMETERS'\u001b[0m\u001b[0;34m]\u001b[0m\u001b[0;34m\u001b[0m\u001b[0;34m\u001b[0m\u001b[0m\n",
      "\u001b[0;32m~/Documents/MSThesis/src/models.py\u001b[0m in \u001b[0;36minit_data\u001b[0;34m(self, **params)\u001b[0m\n\u001b[1;32m    800\u001b[0m         \u001b[0;32mif\u001b[0m \u001b[0mself\u001b[0m\u001b[0;34m.\u001b[0m\u001b[0mload_model_data\u001b[0m\u001b[0;34m:\u001b[0m\u001b[0;34m\u001b[0m\u001b[0;34m\u001b[0m\u001b[0m\n\u001b[1;32m    801\u001b[0m             \u001b[0mlogging\u001b[0m\u001b[0;34m.\u001b[0m\u001b[0minfo\u001b[0m\u001b[0;34m(\u001b[0m\u001b[0;34m'creating train dataset...'\u001b[0m\u001b[0;34m)\u001b[0m\u001b[0;34m\u001b[0m\u001b[0;34m\u001b[0m\u001b[0m\n\u001b[0;32m--> 802\u001b[0;31m             self.train_dataset = SequenceDataset(\n\u001b[0m\u001b[1;32m    803\u001b[0m                 \u001b[0mvocabulary\u001b[0m \u001b[0;34m=\u001b[0m \u001b[0mself\u001b[0m\u001b[0;34m.\u001b[0m\u001b[0mvocabulary\u001b[0m\u001b[0;34m,\u001b[0m\u001b[0;34m\u001b[0m\u001b[0;34m\u001b[0m\u001b[0m\n\u001b[1;32m    804\u001b[0m                 \u001b[0mtext\u001b[0m \u001b[0;34m=\u001b[0m \u001b[0mtrain_set\u001b[0m\u001b[0;34m,\u001b[0m\u001b[0;34m\u001b[0m\u001b[0;34m\u001b[0m\u001b[0m\n",
      "\u001b[0;32m~/Documents/MSThesis/src/data_processing.py\u001b[0m in \u001b[0;36m__init__\u001b[0;34m(self, vocabulary, text, min_seq_length, max_seq_length, device, with_tqdm)\u001b[0m\n\u001b[1;32m    149\u001b[0m             \u001b[0mprint\u001b[0m\u001b[0;34m(\u001b[0m\u001b[0;34m\"text should be either a list of str or a str\"\u001b[0m\u001b[0;34m)\u001b[0m\u001b[0;34m\u001b[0m\u001b[0;34m\u001b[0m\u001b[0m\n\u001b[1;32m    150\u001b[0m \u001b[0;34m\u001b[0m\u001b[0m\n\u001b[0;32m--> 151\u001b[0;31m         tokens = [\n\u001b[0m\u001b[1;32m    152\u001b[0m             \u001b[0;34m[\u001b[0m\u001b[0mself\u001b[0m\u001b[0;34m.\u001b[0m\u001b[0mget_idx\u001b[0m\u001b[0;34m(\u001b[0m\u001b[0mw\u001b[0m\u001b[0;34m)\u001b[0m \u001b[0;32mfor\u001b[0m \u001b[0mw\u001b[0m \u001b[0;32min\u001b[0m \u001b[0mvocabulary\u001b[0m\u001b[0;34m.\u001b[0m\u001b[0mtokenizer\u001b[0m\u001b[0;34m(\u001b[0m\u001b[0mvocabulary\u001b[0m\u001b[0;34m.\u001b[0m\u001b[0mtext_cleaner\u001b[0m\u001b[0;34m(\u001b[0m\u001b[0msentence\u001b[0m\u001b[0;34m)\u001b[0m\u001b[0;34m)\u001b[0m\u001b[0;34m]\u001b[0m\u001b[0;34m\u001b[0m\u001b[0;34m\u001b[0m\u001b[0m\n\u001b[1;32m    153\u001b[0m             \u001b[0;32mfor\u001b[0m \u001b[0msentence\u001b[0m \u001b[0;32min\u001b[0m \u001b[0;34m(\u001b[0m\u001b[0mtqdm\u001b[0m\u001b[0;34m(\u001b[0m\u001b[0mtext\u001b[0m\u001b[0;34m)\u001b[0m \u001b[0;32mif\u001b[0m \u001b[0mwith_tqdm\u001b[0m \u001b[0;32melse\u001b[0m \u001b[0mtext\u001b[0m\u001b[0;34m)\u001b[0m\u001b[0;34m\u001b[0m\u001b[0;34m\u001b[0m\u001b[0m\n",
      "\u001b[0;32m~/Documents/MSThesis/src/data_processing.py\u001b[0m in \u001b[0;36m<listcomp>\u001b[0;34m(.0)\u001b[0m\n\u001b[1;32m    150\u001b[0m \u001b[0;34m\u001b[0m\u001b[0m\n\u001b[1;32m    151\u001b[0m         tokens = [\n\u001b[0;32m--> 152\u001b[0;31m             \u001b[0;34m[\u001b[0m\u001b[0mself\u001b[0m\u001b[0;34m.\u001b[0m\u001b[0mget_idx\u001b[0m\u001b[0;34m(\u001b[0m\u001b[0mw\u001b[0m\u001b[0;34m)\u001b[0m \u001b[0;32mfor\u001b[0m \u001b[0mw\u001b[0m \u001b[0;32min\u001b[0m \u001b[0mvocabulary\u001b[0m\u001b[0;34m.\u001b[0m\u001b[0mtokenizer\u001b[0m\u001b[0;34m(\u001b[0m\u001b[0mvocabulary\u001b[0m\u001b[0;34m.\u001b[0m\u001b[0mtext_cleaner\u001b[0m\u001b[0;34m(\u001b[0m\u001b[0msentence\u001b[0m\u001b[0;34m)\u001b[0m\u001b[0;34m)\u001b[0m\u001b[0;34m]\u001b[0m\u001b[0;34m\u001b[0m\u001b[0;34m\u001b[0m\u001b[0m\n\u001b[0m\u001b[1;32m    153\u001b[0m             \u001b[0;32mfor\u001b[0m \u001b[0msentence\u001b[0m \u001b[0;32min\u001b[0m \u001b[0;34m(\u001b[0m\u001b[0mtqdm\u001b[0m\u001b[0;34m(\u001b[0m\u001b[0mtext\u001b[0m\u001b[0;34m)\u001b[0m \u001b[0;32mif\u001b[0m \u001b[0mwith_tqdm\u001b[0m \u001b[0;32melse\u001b[0m \u001b[0mtext\u001b[0m\u001b[0;34m)\u001b[0m\u001b[0;34m\u001b[0m\u001b[0;34m\u001b[0m\u001b[0m\n\u001b[1;32m    154\u001b[0m         ]\n",
      "\u001b[0;32m~/miniconda3/envs/typewriter/lib/python3.8/site-packages/nltk/tokenize/casual.py\u001b[0m in \u001b[0;36mtokenize\u001b[0;34m(self, text)\u001b[0m\n\u001b[1;32m    290\u001b[0m         \u001b[0;31m# Normalize word lengthening\u001b[0m\u001b[0;34m\u001b[0m\u001b[0;34m\u001b[0m\u001b[0;34m\u001b[0m\u001b[0m\n\u001b[1;32m    291\u001b[0m         \u001b[0;32mif\u001b[0m \u001b[0mself\u001b[0m\u001b[0;34m.\u001b[0m\u001b[0mreduce_len\u001b[0m\u001b[0;34m:\u001b[0m\u001b[0;34m\u001b[0m\u001b[0;34m\u001b[0m\u001b[0m\n\u001b[0;32m--> 292\u001b[0;31m             \u001b[0mtext\u001b[0m \u001b[0;34m=\u001b[0m \u001b[0mreduce_lengthening\u001b[0m\u001b[0;34m(\u001b[0m\u001b[0mtext\u001b[0m\u001b[0;34m)\u001b[0m\u001b[0;34m\u001b[0m\u001b[0;34m\u001b[0m\u001b[0m\n\u001b[0m\u001b[1;32m    293\u001b[0m         \u001b[0;31m# Shorten problematic sequences of characters\u001b[0m\u001b[0;34m\u001b[0m\u001b[0;34m\u001b[0m\u001b[0;34m\u001b[0m\u001b[0m\n\u001b[1;32m    294\u001b[0m         \u001b[0msafe_text\u001b[0m \u001b[0;34m=\u001b[0m \u001b[0mHANG_RE\u001b[0m\u001b[0;34m.\u001b[0m\u001b[0msub\u001b[0m\u001b[0;34m(\u001b[0m\u001b[0;34mr\"\\1\\1\\1\"\u001b[0m\u001b[0;34m,\u001b[0m \u001b[0mtext\u001b[0m\u001b[0;34m)\u001b[0m\u001b[0;34m\u001b[0m\u001b[0;34m\u001b[0m\u001b[0m\n",
      "\u001b[0;32m~/miniconda3/envs/typewriter/lib/python3.8/site-packages/nltk/tokenize/casual.py\u001b[0m in \u001b[0;36mreduce_lengthening\u001b[0;34m(text)\u001b[0m\n\u001b[1;32m    314\u001b[0m     \"\"\"\n\u001b[1;32m    315\u001b[0m     \u001b[0mpattern\u001b[0m \u001b[0;34m=\u001b[0m \u001b[0mregex\u001b[0m\u001b[0;34m.\u001b[0m\u001b[0mcompile\u001b[0m\u001b[0;34m(\u001b[0m\u001b[0;34mr\"(.)\\1{2,}\"\u001b[0m\u001b[0;34m)\u001b[0m\u001b[0;34m\u001b[0m\u001b[0;34m\u001b[0m\u001b[0m\n\u001b[0;32m--> 316\u001b[0;31m     \u001b[0;32mreturn\u001b[0m \u001b[0mpattern\u001b[0m\u001b[0;34m.\u001b[0m\u001b[0msub\u001b[0m\u001b[0;34m(\u001b[0m\u001b[0;34mr\"\\1\\1\\1\"\u001b[0m\u001b[0;34m,\u001b[0m \u001b[0mtext\u001b[0m\u001b[0;34m)\u001b[0m\u001b[0;34m\u001b[0m\u001b[0;34m\u001b[0m\u001b[0m\n\u001b[0m\u001b[1;32m    317\u001b[0m \u001b[0;34m\u001b[0m\u001b[0m\n\u001b[1;32m    318\u001b[0m \u001b[0;34m\u001b[0m\u001b[0m\n",
      "\u001b[0;31mKeyboardInterrupt\u001b[0m: "
     ]
    }
   ],
   "source": [
    "pipeline = Pipeline('CONFIG_MODEL_TWEETS.json', load_model_data = True)"
   ]
  },
  {
   "cell_type": "code",
   "execution_count": 8,
   "id": "every-studio",
   "metadata": {},
   "outputs": [],
   "source": [
    "pipeline.load_model('models/tweets/tweets.pth')"
   ]
  },
  {
   "cell_type": "code",
   "execution_count": 10,
   "id": "overhead-rover",
   "metadata": {},
   "outputs": [
    {
     "data": {
      "text/plain": [
       "'all of the moderators used is on blame hopes but not trying to get off tomorrow trump is so the really ignores that any accuser is also a serial behaviour and a year old lot is an extension and bad as he be a sport when he says again that makes a whole witness accounts sooner only conversation if you let it we know it would stop isis via get a change its not once true its all left says he would gain cause to vote trump clinton for clowns with two black everyone machines answers trump prob he has his'"
      ]
     },
     "execution_count": 10,
     "metadata": {},
     "output_type": "execute_result"
    }
   ],
   "source": [
    "pipeline.generate(start_text = 'all')"
   ]
  },
  {
   "cell_type": "code",
   "execution_count": 11,
   "id": "solid-fiction",
   "metadata": {},
   "outputs": [
    {
     "data": {
      "text/plain": [
       "'what candidates does mike pence kaine sniffling from donald trump isn like he was really fired from the people on the trump campaign trail the women let donald trump say whatever them forget that the other are already more likely are we arent authentic and released the best option the blacks and so let that sink in live take by the highest kind of where that isn not criticize hillary are the most unqualified candidate trump ever qualified to hit a new guccifer election given people including political office via bipartisan report in pause among them they say you are like'"
      ]
     },
     "execution_count": 11,
     "metadata": {},
     "output_type": "execute_result"
    }
   ],
   "source": [
    "pipeline.generate(start_text = 'what')"
   ]
  },
  {
   "cell_type": "code",
   "execution_count": 12,
   "id": "referenced-beverage",
   "metadata": {},
   "outputs": [
    {
     "data": {
      "text/plain": [
       "'i like a black americans have girls left against donald trump i make a p he sh every woman you can have to be a woman i will be a wife because it wasnt how his men were measured by the other class by being small amp shouldnt spinning free tax after donald trump im not until any of our democracy so they can with and instead anymore i dont know whats so theyre decisi on monday via youtube donald j trump he may have been married to judge but by him as an angry white man i said he is only'"
      ]
     },
     "execution_count": 12,
     "metadata": {},
     "output_type": "execute_result"
    }
   ],
   "source": [
    "pipeline.generate(start_text = 'i like')"
   ]
  },
  {
   "cell_type": "markdown",
   "id": "standing-mapping",
   "metadata": {},
   "source": [
    "# Wiki Model"
   ]
  },
  {
   "cell_type": "code",
   "execution_count": 3,
   "id": "listed-summary",
   "metadata": {},
   "outputs": [
    {
     "name": "stderr",
     "output_type": "stream",
     "text": [
      "100%|██████████| 61/61 [00:01<00:00, 56.42it/s]\n"
     ]
    }
   ],
   "source": [
    "pipeline = Pipeline('CONFIG_MODEL_WIKI.json', load_model_data = False)"
   ]
  },
  {
   "cell_type": "code",
   "execution_count": 5,
   "id": "endless-johnston",
   "metadata": {},
   "outputs": [
    {
     "name": "stderr",
     "output_type": "stream",
     "text": [
      "100%|██████████| 1552/1552 [00:08<00:00, 179.26it/s]\n"
     ]
    },
    {
     "data": {
      "text/plain": [
       "(9978.596791957554,\n",
       " 9.20816275262341,\n",
       " 4.7750279680209556e-05,\n",
       " 0.00010914349641190756)"
      ]
     },
     "execution_count": 5,
     "metadata": {},
     "output_type": "execute_result"
    }
   ],
   "source": [
    "pipeline.perplexity(with_recall = True, with_tqdm = True)"
   ]
  },
  {
   "cell_type": "code",
   "execution_count": 6,
   "id": "approved-signal",
   "metadata": {},
   "outputs": [],
   "source": [
    "pipeline.load_model('models/wiki103/wiki103.pth')"
   ]
  },
  {
   "cell_type": "code",
   "execution_count": 7,
   "id": "fossil-stylus",
   "metadata": {},
   "outputs": [
    {
     "name": "stderr",
     "output_type": "stream",
     "text": [
      "100%|██████████| 1552/1552 [00:08<00:00, 184.45it/s]\n"
     ]
    },
    {
     "data": {
      "text/plain": [
       "(107.89885933974432,\n",
       " 4.6848593378804395,\n",
       " 0.23536795001227864,\n",
       " 0.3685161941662801)"
      ]
     },
     "execution_count": 7,
     "metadata": {},
     "output_type": "execute_result"
    }
   ],
   "source": [
    "pipeline.perplexity(with_recall = True, with_tqdm = True)"
   ]
  },
  {
   "cell_type": "code",
   "execution_count": 7,
   "id": "integral-chest",
   "metadata": {},
   "outputs": [
    {
     "name": "stderr",
     "output_type": "stream",
     "text": [
      "100%|██████████| 79419/79419 [06:49<00:00, 194.10it/s]\n",
      "100%|██████████| 174/174 [00:00<00:00, 194.59it/s]\n",
      "  0%|          | 0/79419 [00:00<?, ?it/s]"
     ]
    },
    {
     "name": "stdout",
     "output_type": "stream",
     "text": [
      "Train loss at epoch 0 : 10.81245187593375\n",
      "Eval loss at epoch 0 : 10.812277486954612\n",
      "updating best metric\n"
     ]
    },
    {
     "name": "stderr",
     "output_type": "stream",
     "text": [
      "100%|██████████| 79419/79419 [18:20<00:00, 72.14it/s]\n",
      "100%|██████████| 174/174 [00:00<00:00, 200.67it/s]\n"
     ]
    },
    {
     "name": "stdout",
     "output_type": "stream",
     "text": [
      "Train loss at epoch 1 : 5.108607498030803\n",
      "Eval loss at epoch 1 : 8.684686896444736\n",
      "updating best metric\n"
     ]
    },
    {
     "data": {
      "image/png": "[encoded data removed]",
      "text/plain": [
       "<Figure size 432x288 with 1 Axes>"
      ]
     },
     "metadata": {
      "needs_background": "light"
     },
     "output_type": "display_data"
    }
   ],
   "source": [
    "pipeline.train_model()"
   ]
  },
  {
   "cell_type": "code",
   "execution_count": 8,
   "id": "anticipated-vintage",
   "metadata": {},
   "outputs": [
    {
     "name": "stderr",
     "output_type": "stream",
     "text": [
      "100%|██████████| 1552/1552 [00:07<00:00, 217.94it/s]\n"
     ]
    },
    {
     "data": {
      "text/plain": [
       "(107.89885933974432, 4.684859333886314)"
      ]
     },
     "execution_count": 8,
     "metadata": {},
     "output_type": "execute_result"
    }
   ],
   "source": [
    "pipeline.perplexity()"
   ]
  },
  {
   "cell_type": "code",
   "execution_count": 13,
   "id": "incoming-eligibility",
   "metadata": {},
   "outputs": [
    {
     "data": {
      "text/plain": [
       "'all survive and as a member of the following a series of events.In addition to The Seven Every football team has four owned Winchester buildings as part of national features such as the Red Sox on the games. The financing team teams to the rest of the game ended past.First game was first aired in the Kingdom of the United States on May. A sequel to The Next Generation in November as the lead of the first season was made by before the release of the first date at the National Palace. DVD combat manufacturer released'"
      ]
     },
     "execution_count": 13,
     "metadata": {},
     "output_type": "execute_result"
    }
   ],
   "source": [
    "pipeline.generate(start_text = 'all')"
   ]
  },
  {
   "cell_type": "code",
   "execution_count": 14,
   "id": "blank-seller",
   "metadata": {},
   "outputs": [
    {
     "data": {
      "text/plain": [
       "'what is `` deeply pretty good and losing skill... `` all these were used at the time of the game team. These efforts were done in London creating a only new contact with the rest of the team of a team. followers he did not attend the ceremony in which they scheduled outside of service and a woman s team were able to obtain new rules. The team initially again responded by keeping the rules for the court benefit so to the other other members would be taken to this sheet room. Local member of the'"
      ]
     },
     "execution_count": 14,
     "metadata": {},
     "output_type": "execute_result"
    }
   ],
   "source": [
    "pipeline.generate(start_text = 'what')"
   ]
  },
  {
   "cell_type": "code",
   "execution_count": 15,
   "id": "loving-israel",
   "metadata": {},
   "outputs": [
    {
     "data": {
      "text/plain": [
       "'i like Santa Jam for at a lesbian band. According to another appeared in the performance that `` the show is the first step the first performance of the music sequences has suggested that the father of need to give her an automobile trademark of an American woman getting the hand of a God of Our Life ``. A press journalist Charles Ellis said that she was facing `` very good `` because of the injury because of hitting the group only for women s partners in the private debates and as Soul Director Jack R. subsequent `` The Great'"
      ]
     },
     "execution_count": 15,
     "metadata": {},
     "output_type": "execute_result"
    }
   ],
   "source": [
    "pipeline.generate(start_text = 'i like')"
   ]
  },
  {
   "cell_type": "code",
   "execution_count": 16,
   "id": "naked-slovenia",
   "metadata": {},
   "outputs": [],
   "source": [
    "d = {\n",
    "    'train_set_len' : len(pipeline.train_dataset),\n",
    "    'train_set_tokens' : pipeline.train_dataset.token_len(),\n",
    "    'val_set_len' : len(pipeline.val_dataset),\n",
    "    'val_set_tokens' : pipeline.val_dataset.token_len(),\n",
    "    'test_set_len' : len(pipeline.test_dataset),\n",
    "    'test_set_tokens' : pipeline.test_dataset.token_len(),\n",
    "}"
   ]
  },
  {
   "cell_type": "code",
   "execution_count": 17,
   "id": "dietary-memory",
   "metadata": {},
   "outputs": [
    {
     "data": {
      "text/plain": [
       "{'train_set_len': 2541430,\n",
       " 'train_set_tokens': 62085955,\n",
       " 'val_set_len': 5589,\n",
       " 'val_set_tokens': 137800,\n",
       " 'test_set_len': 6211,\n",
       " 'test_set_tokens': 151750}"
      ]
     },
     "execution_count": 17,
     "metadata": {},
     "output_type": "execute_result"
    }
   ],
   "source": [
    "d"
   ]
  },
  {
   "cell_type": "markdown",
   "id": "continued-congress",
   "metadata": {},
   "source": [
    "## FedSGD"
   ]
  },
  {
   "cell_type": "code",
   "execution_count": 1,
   "id": "approximate-drunk",
   "metadata": {},
   "outputs": [],
   "source": [
    "from src.federated_pipeline import Federated_SGD"
   ]
  },
  {
   "cell_type": "code",
   "execution_count": 2,
   "id": "simplified-civilization",
   "metadata": {
    "scrolled": false
   },
   "outputs": [
    {
     "name": "stderr",
     "output_type": "stream",
     "text": [
      "100%|██████████| 5000/5000 [00:00<00:00, 7915.62it/s]\n",
      "100%|██████████| 5000/5000 [00:00<00:00, 10238.70it/s]\n",
      "100%|██████████| 5/5 [00:11<00:00,  2.25s/it]\n"
     ]
    }
   ],
   "source": [
    "federated = Federated_SGD(\n",
    "    \"CONFIG_MODEL_TWEETS.json\",\n",
    "    \"CONFIG_FEDERATED_TWEETS.json\",\n",
    "    testing = True\n",
    ")"
   ]
  },
  {
   "cell_type": "code",
   "execution_count": 3,
   "id": "passing-sapphire",
   "metadata": {},
   "outputs": [
    {
     "name": "stderr",
     "output_type": "stream",
     "text": [
      "100%|██████████| 5/5 [00:10<00:00,  2.00s/it]\n",
      "100%|██████████| 193/193 [00:00<00:00, 298.57it/s]\n",
      "100%|██████████| 5/5 [00:24<00:00,  4.84s/it]\n",
      "100%|██████████| 193/193 [00:00<00:00, 295.90it/s]\n",
      "100%|██████████| 5/5 [00:24<00:00,  4.82s/it]\n",
      "100%|██████████| 193/193 [00:00<00:00, 297.05it/s]\n"
     ]
    }
   ],
   "source": [
    "federated.train(2, save_results = True, plt_name = 'test_0')"
   ]
  },
  {
   "cell_type": "code",
   "execution_count": 4,
   "id": "aggressive-shooting",
   "metadata": {},
   "outputs": [
    {
     "data": {
      "image/png": "[encoded data removed]",
      "text/plain": [
       "<Figure size 1152x576 with 6 Axes>"
      ]
     },
     "metadata": {
      "needs_background": "light"
     },
     "output_type": "display_data"
    },
    {
     "data": {
      "image/png": "[encoded data removed]",
      "text/plain": [
       "<Figure size 432x288 with 1 Axes>"
      ]
     },
     "metadata": {
      "needs_background": "light"
     },
     "output_type": "display_data"
    }
   ],
   "source": [
    "federated.plot_training_history(save_results=False, plt_name = '')"
   ]
  },
  {
   "cell_type": "markdown",
   "id": "compliant-stock",
   "metadata": {},
   "source": [
    "## FedAVG"
   ]
  },
  {
   "cell_type": "code",
   "execution_count": null,
   "id": "cellular-gibson",
   "metadata": {},
   "outputs": [],
   "source": [
    "from src.federated_pipeline import Federated_LICCHAVI"
   ]
  },
  {
   "cell_type": "code",
   "execution_count": null,
   "id": "cosmetic-count",
   "metadata": {
    "scrolled": true
   },
   "outputs": [],
   "source": [
    "federated = Federated_LICCHAVI(\n",
    "    \"CONFIG_MODEL_WIKI.json\",\n",
    "    \"CONFIG_FEDERATED_WIKI.json\"\n",
    ")"
   ]
  },
  {
   "cell_type": "code",
   "execution_count": null,
   "id": "charged-specific",
   "metadata": {},
   "outputs": [],
   "source": [
    "federated.train(2)"
   ]
  },
  {
   "cell_type": "code",
   "execution_count": null,
   "id": "bigger-water",
   "metadata": {},
   "outputs": [],
   "source": []
  }
 ],
 "metadata": {
  "kernelspec": {
   "display_name": "Python 3.8.8 64-bit ('typewriter': conda)",
   "language": "python",
   "name": "python388jvsc74a57bd003343bff8ea9174e4e18dc33629d8cc7123b4a33b966bf5614ca716c9ad2f2e1"
  },
  "language_info": {
   "codemirror_mode": {
    "name": "ipython",
    "version": 3
   },
   "file_extension": ".py",
   "mimetype": "text/x-python",
   "name": "python",
   "nbconvert_exporter": "python",
   "pygments_lexer": "ipython3",
   "version": "3.8.8"
  }
 },
 "nbformat": 4,
 "nbformat_minor": 5
}
