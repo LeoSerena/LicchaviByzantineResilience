{
 "cells": [
  {
   "cell_type": "code",
   "execution_count": 1,
   "metadata": {},
   "outputs": [],
   "source": [
    "import os\n",
    "import json\n",
    "import csv\n",
    "\n",
    "from tqdm import tqdm\n",
    "import pandas as pd\n",
    "import tweepy"
   ]
  },
  {
   "cell_type": "code",
   "execution_count": 2,
   "metadata": {},
   "outputs": [],
   "source": [
    "with open('keys.json', 'rb') as f:\n",
    "    keys = json.load(f)"
   ]
  },
  {
   "cell_type": "code",
   "execution_count": 3,
   "metadata": {},
   "outputs": [],
   "source": [
    "auth = tweepy.OAuthHandler(\n",
    "    keys['API_key'], \n",
    "    keys['API_key_secret']\n",
    ")\n",
    "auth.set_access_token(\n",
    "    keys['access_token'], \n",
    "    keys['access_token_secret']\n",
    ")\n",
    "\n",
    "api = tweepy.API(auth, wait_on_rate_limit = True, wait_on_rate_limit_notify = True)"
   ]
  },
  {
   "cell_type": "code",
   "execution_count": 4,
   "metadata": {},
   "outputs": [],
   "source": [
    "def hydrate(file_id, last_index = 0):\n",
    "    \n",
    "    tweet_ids = pd.read_csv(os.path.join(\n",
    "        'data',\n",
    "        'dataverse_files',\n",
    "        f'election-filter{file_id}.txt'\n",
    "    ), header = None)[0].values\n",
    "    \n",
    "    l = len(tweet_ids)\n",
    "    rounded = int(l - l % 100)\n",
    "    tweet_ids = tweet_ids[:rounded].reshape(l // 100, 100)\n",
    "    \n",
    "    headers1 = [\n",
    "        'author_id',\n",
    "        'author_screen_name',\n",
    "        'status_id',\n",
    "        'created_at',\n",
    "        'body',\n",
    "        'lang',\n",
    "        'favorite_count',\n",
    "        'retweet_count'\n",
    "    ]\n",
    "    \n",
    "    headers2 = [\n",
    "        'user_id',\n",
    "        'user_screename',\n",
    "        'follower_count',\n",
    "        'verified',\n",
    "        'statuses_count'\n",
    "    ]\n",
    "    \n",
    "    filename = os.path.join('data', f'tweets_{file_id}.csv')\n",
    "    write_mode = 'w'\n",
    "    write_header = True\n",
    "    if filename in os.listdir('data'):\n",
    "        write_mode = 'a'\n",
    "        write_header = False\n",
    "\n",
    "    with open(filename, write_mode, newline = '', encoding = 'utf-8') as csv_file_tweets:\n",
    "        writer1 = csv.DictWriter(csv_file_tweets, fieldnames = headers1)\n",
    "        if write_header:\n",
    "            writer1.writeheader()\n",
    "        with open(os.path.join('data',f'users_{file_id}.csv'), write_mode, newline = '') as csv_file_users:\n",
    "            writer2 = csv.DictWriter(csv_file_users, fieldnames = headers2)\n",
    "            if write_header:    \n",
    "                writer2.writeheader()\n",
    "            for i, id_list in tqdm(enumerate(tweet_ids)):\n",
    "                if i > last_index:\n",
    "                    try:\n",
    "                        statuses = api.statuses_lookup(\n",
    "                            list(id_list)\n",
    "                        )            \n",
    "                    except tweepy.error.TweepError:\n",
    "                        continue\n",
    "                    else:\n",
    "                        for status in statuses:\n",
    "                            author = status.user\n",
    "\n",
    "                            author_id = author.id\n",
    "                            author_screen_name = author.screen_name\n",
    "\n",
    "                            status_id = status.id\n",
    "                            created_at = status.created_at\n",
    "\n",
    "                            if hasattr(status, 'retweeted_status'):\n",
    "                                try:\n",
    "                                    body = status.retweeted_status.extended_tweet['full_text']\n",
    "                                except AttributeError:\n",
    "                                    body = status.retweeted_status.text\n",
    "                            else:\n",
    "                                try:\n",
    "                                    body = status.extended_tweet['full_text']\n",
    "                                except AttributeError:\n",
    "                                    body = status.text\n",
    "\n",
    "                            lang = status.lang\n",
    "\n",
    "                            favorite_count = status.favorite_count\n",
    "                            retweet_count = status.retweet_count\n",
    "\n",
    "                            writer1.writerow({\n",
    "                                'author_id' : author_id,\n",
    "                                'author_screen_name' : author_screen_name,\n",
    "                                'status_id' : status_id,\n",
    "                                'created_at' : created_at,\n",
    "                                'body' : body,\n",
    "                                'lang' : lang,\n",
    "                                'favorite_count' : favorite_count,\n",
    "                                'retweet_count' : retweet_count\n",
    "                            })\n",
    "\n",
    "                            writer2.writerow({\n",
    "                                'user_id' : author_id,\n",
    "                                'user_screename' : author_screen_name,\n",
    "                                'follower_count' : author.followers_count,\n",
    "                                'verified' : author.verified,\n",
    "                                'statuses_count' : author.statuses_count\n",
    "                            })\n"
   ]
  },
  {
   "cell_type": "code",
   "execution_count": null,
   "metadata": {},
   "outputs": [
    {
     "name": "stderr",
     "output_type": "stream",
     "text": [
      "57358it [285:21:10,  1.70s/it]   "
     ]
    }
   ],
   "source": [
    "hydrate(1, 0)"
   ]
  },
  {
   "cell_type": "code",
   "execution_count": null,
   "metadata": {},
   "outputs": [],
   "source": []
  }
 ],
 "metadata": {
  "kernelspec": {
   "display_name": "Python 3",
   "language": "python",
   "name": "python3"
  },
  "language_info": {
   "codemirror_mode": {
    "name": "ipython",
    "version": 3
   },
   "file_extension": ".py",
   "mimetype": "text/x-python",
   "name": "python",
   "nbconvert_exporter": "python",
   "pygments_lexer": "ipython3",
   "version": "3.7.8"
  }
 },
 "nbformat": 4,
 "nbformat_minor": 5
}
