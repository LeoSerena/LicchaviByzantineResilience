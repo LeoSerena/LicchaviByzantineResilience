{
 "cells": [
  {
   "cell_type": "code",
   "execution_count": 1,
   "id": "yellow-criterion",
   "metadata": {},
   "outputs": [],
   "source": [
    "import os\n",
    "\n",
    "import pandas as pd\n",
    "import matplotlib.pyplot as plt\n",
    "import torch\n",
    "from tqdm import tqdm\n",
    "import numpy as np"
   ]
  },
  {
   "cell_type": "code",
   "execution_count": 2,
   "id": "digital-smart",
   "metadata": {},
   "outputs": [],
   "source": [
    "d = 2\n",
    "N = 20000\n",
    "\n",
    "mu_0, sigma_0 = [-1.5] * int(N / 2), 0.8\n",
    "mu_1, sigma_1 = [ 1.5] * int(N / 2), 0.8"
   ]
  },
  {
   "cell_type": "code",
   "execution_count": 3,
   "id": "invisible-ministry",
   "metadata": {},
   "outputs": [],
   "source": [
    "data_0 = sigma_0 * np.random.randn(d, int(N / 2)) + mu_0\n",
    "data_1 = sigma_1 * np.random.randn(d, int(N / 2)) + mu_1\n",
    "\n",
    "labels_0 = [0] * int(N / 2)\n",
    "labels_1 = [1] * int(N / 2)"
   ]
  },
  {
   "cell_type": "code",
   "execution_count": 4,
   "id": "knowing-capacity",
   "metadata": {},
   "outputs": [],
   "source": [
    "data = np.concatenate((data_0.T, data_1.T))\n",
    "labels = np.concatenate((labels_0, labels_1))"
   ]
  },
  {
   "cell_type": "code",
   "execution_count": 5,
   "id": "filled-strap",
   "metadata": {},
   "outputs": [],
   "source": [
    "data = np.column_stack((data, labels))\n",
    "np.random.shuffle(data)"
   ]
  },
  {
   "cell_type": "code",
   "execution_count": 6,
   "id": "rubber-funeral",
   "metadata": {},
   "outputs": [],
   "source": [
    "class SimpleDataset(torch.utils.data.Dataset):\n",
    "    def __init__(self, data, labels):\n",
    "        self.data = np.column_stack((data.shape[0] * [1], data))\n",
    "        self.labels = labels\n",
    "        \n",
    "    def __getitem__(self, idx):\n",
    "        return torch.FloatTensor(self.data[idx]), torch.FloatTensor([self.labels[idx]])\n",
    "    \n",
    "    def __len__(self):\n",
    "        return len(self.labels)\n",
    "    \n",
    "dataset = SimpleDataset(data[:,:2], data[:,2])"
   ]
  },
  {
   "cell_type": "code",
   "execution_count": 7,
   "id": "confidential-plastic",
   "metadata": {
    "scrolled": true
   },
   "outputs": [
    {
     "data": {
      "image/png": "[encoded data removed]",
      "text/plain": [
       "<Figure size 432x288 with 1 Axes>"
      ]
     },
     "metadata": {
      "needs_background": "light"
     },
     "output_type": "display_data"
    }
   ],
   "source": [
    "plt.scatter(data_0[0,:], data_0[1,:])\n",
    "plt.scatter(data_1[0,:], data_1[1,:])\n",
    "plt.show()"
   ]
  },
  {
   "cell_type": "code",
   "execution_count": 8,
   "id": "ideal-recruitment",
   "metadata": {},
   "outputs": [],
   "source": [
    "class Node():\n",
    "    def __init__(self, data, lambda_ = 0):\n",
    "        self.data = SimpleDataset(data[:,:2], data[:,2])\n",
    "        self.c = data.shape[0]\n",
    "        self.l = lambda_\n",
    "        \n",
    "n_nodes = 100\n",
    "m = int(N / n_nodes)\n",
    "\n",
    "nodes = []\n",
    "for n in range(n_nodes):\n",
    "    a,b = int(n * m), int((n+1) * m)\n",
    "    nodes.append(Node(\n",
    "        data[a:b],\n",
    "        lambda_ = 1\n",
    "    ))"
   ]
  },
  {
   "cell_type": "code",
   "execution_count": 9,
   "id": "frank-wholesale",
   "metadata": {},
   "outputs": [],
   "source": [
    "class SimpleModel(torch.nn.Module):\n",
    "    def __init__(self, length):\n",
    "        super().__init__()\n",
    "        self.length = length\n",
    "        self.vector = torch.nn.Parameter(\n",
    "            torch.tensor([-0.5] * length),\n",
    "            requires_grad = True\n",
    "        )\n",
    "        self.vector.retain_grad = True\n",
    "        \n",
    "    def forward(self, x):\n",
    "        x = torch.matmul(x, self.vector.reshape(self.length, -1))\n",
    "        return torch.sigmoid(x)\n",
    "    \n",
    "    def save_model(self, name = 'simple_model.pth'):\n",
    "        torch.save(self.state_dict(), name)\n",
    "    \n",
    "    def load_model(self, name = 'simple_model.pth'):\n",
    "        self.load_state_dict(torch.load(name))\n",
    "        \n",
    "    def fit(self, dataloader, epochs):\n",
    "        self.train()\n",
    "        criterion = torch.nn.BCELoss()\n",
    "        optimizer = torch.optim.SGD(self.parameters(), lr=0.0001, momentum=0.9)\n",
    "        \n",
    "        for i in range(epochs):\n",
    "            for x,y in dataloader:\n",
    "                x = self(x)\n",
    "                loss = criterion(x, y)\n",
    "                loss.backward()\n",
    "                optimizer.step()\n",
    "        \n",
    "    def epoch_step(self, dataloader, model):\n",
    "        self.train()\n",
    "        criterion = torch.nn.BCELoss()\n",
    "        optimizer = torch.optim.SGD(self.parameters(), lr=0.0001, momentum=0.9)\n",
    "        \n",
    "       \n",
    "        for x,y in dataloader:\n",
    "            x = self(x)\n",
    "            reg = models_diff(model, self)\n",
    "            loss = criterion(x, y) + reg\n",
    "            loss.backward()\n",
    "            optimizer.step()\n",
    "            \n",
    "    def evaluate(self, dataloader):\n",
    "        self.eval()\n",
    "        acc = []\n",
    "        with torch.no_grad():\n",
    "            for x,y in dataloader:\n",
    "                x = (self.forward(x) < 1/2)\n",
    "                acc.append(torch.abs(y - x * 1).sum().item() / dataloader.batch_size)\n",
    "        return np.mean(acc)"
   ]
  },
  {
   "cell_type": "code",
   "execution_count": 10,
   "id": "vanilla-creek",
   "metadata": {},
   "outputs": [
    {
     "data": {
      "text/plain": [
       "0.0177"
      ]
     },
     "execution_count": 10,
     "metadata": {},
     "output_type": "execute_result"
    }
   ],
   "source": [
    "EPOCHS = 3\n",
    "\n",
    "simple_model = SimpleModel(3)\n",
    "simple_model.save_model()\n",
    "dataloader = torch.utils.data.DataLoader(\n",
    "    dataset,\n",
    "    batch_size = 4,\n",
    "    shuffle = True,\n",
    "    drop_last = True\n",
    ")\n",
    "simple_model.evaluate(dataloader)"
   ]
  },
  {
   "cell_type": "markdown",
   "id": "reasonable-basin",
   "metadata": {},
   "source": [
    "## Normal Learning"
   ]
  },
  {
   "cell_type": "code",
   "execution_count": 11,
   "id": "distant-comfort",
   "metadata": {},
   "outputs": [
    {
     "data": {
      "text/plain": [
       "0.9963"
      ]
     },
     "execution_count": 11,
     "metadata": {},
     "output_type": "execute_result"
    }
   ],
   "source": [
    "simple_model.fit(dataloader, EPOCHS)\n",
    "simple_model.evaluate(dataloader)"
   ]
  },
  {
   "cell_type": "markdown",
   "id": "forced-windows",
   "metadata": {},
   "source": [
    "## Federated Learning\n",
    "\n",
    "### FedSGD"
   ]
  },
  {
   "cell_type": "code",
   "execution_count": 12,
   "id": "lonely-vessel",
   "metadata": {},
   "outputs": [
    {
     "data": {
      "text/plain": [
       "0.0177"
      ]
     },
     "execution_count": 12,
     "metadata": {},
     "output_type": "execute_result"
    }
   ],
   "source": [
    "name = 'simple_fed_SDG.pth'\n",
    "\n",
    "simple_model = SimpleModel(3)\n",
    "simple_model.load_model()\n",
    "simple_model.save_model(name)\n",
    "simple_model.evaluate(dataloader)"
   ]
  },
  {
   "cell_type": "code",
   "execution_count": 13,
   "id": "numerous-cabin",
   "metadata": {},
   "outputs": [
    {
     "name": "stderr",
     "output_type": "stream",
     "text": [
      "100%|██████████| 3/3 [00:03<00:00,  1.15s/it]\n"
     ]
    },
    {
     "data": {
      "text/plain": [
       "0.9913"
      ]
     },
     "execution_count": 13,
     "metadata": {},
     "output_type": "execute_result"
    }
   ],
   "source": [
    "agg_state_dict = None\n",
    "\n",
    "for e in tqdm(range(EPOCHS)):\n",
    "    total = sum([n.c for n in nodes])\n",
    "    for node in nodes:\n",
    "        simple_model.load_model(name = name)\n",
    "        node_dataloader = torch.utils.data.DataLoader(\n",
    "            node.data,\n",
    "            batch_size = 4,\n",
    "            shuffle = True,\n",
    "            drop_last = True\n",
    "        )\n",
    "        simple_model.fit(node_dataloader, 1)\n",
    "        if agg_state_dict is None:\n",
    "            agg_state_dict = simple_model.state_dict()\n",
    "            for key in agg_state_dict:\n",
    "                agg_state_dict[key] = agg_state_dict[key] * node.c / total\n",
    "        else:\n",
    "            node_state_dict = simple_model.state_dict()\n",
    "            for key in agg_state_dict:\n",
    "                if agg_state_dict[key].requires_grad:\n",
    "                    agg_state_dict[key] = agg_state_dict[key] + node_state_dict[key] * node.c / total\n",
    "                \n",
    "    simple_model.load_state_dict(agg_state_dict)\n",
    "    simple_model.save_model(name)\n",
    "    \n",
    "simple_model.evaluate(dataloader)"
   ]
  },
  {
   "cell_type": "markdown",
   "id": "packed-letters",
   "metadata": {},
   "source": [
    "### FedAvg"
   ]
  },
  {
   "cell_type": "code",
   "execution_count": 14,
   "id": "generous-summary",
   "metadata": {},
   "outputs": [
    {
     "data": {
      "text/plain": [
       "0.0177"
      ]
     },
     "execution_count": 14,
     "metadata": {},
     "output_type": "execute_result"
    }
   ],
   "source": [
    "name = 'simple_fed_AVG.pth'\n",
    "\n",
    "simple_model = SimpleModel(3)\n",
    "simple_model.load_model()\n",
    "simple_model.save_model(name)\n",
    "simple_model.evaluate(dataloader)"
   ]
  },
  {
   "cell_type": "code",
   "execution_count": 15,
   "id": "pressed-stevens",
   "metadata": {},
   "outputs": [
    {
     "name": "stderr",
     "output_type": "stream",
     "text": [
      "100%|██████████| 3/3 [00:07<00:00,  2.40s/it]\n"
     ]
    },
    {
     "data": {
      "text/plain": [
       "0.9963"
      ]
     },
     "execution_count": 15,
     "metadata": {},
     "output_type": "execute_result"
    }
   ],
   "source": [
    "C = 0.7\n",
    "avg_num = int(C * n_nodes)\n",
    "\n",
    "for e in tqdm(range(EPOCHS)):\n",
    "    current_nodes = np.array(nodes)[np.random.choice(n_nodes, avg_num)]\n",
    "    total = sum([n.c for n in current_nodes])\n",
    "    for node in current_nodes:\n",
    "        simple_model.load_model(name = name)\n",
    "        node_dataloader = torch.utils.data.DataLoader(\n",
    "            node.data,\n",
    "            batch_size = 4,\n",
    "            shuffle = True,\n",
    "            drop_last = True\n",
    "        )\n",
    "        simple_model.fit(node_dataloader, 3)\n",
    "        if agg_state_dict is None:\n",
    "            agg_state_dict = simple_model.state_dict()\n",
    "        else:\n",
    "            node_state_dict = simple_model.state_dict()\n",
    "            for key in agg_state_dict:\n",
    "                agg_state_dict[key] = agg_state_dict[key] + node_state_dict[key] * node.c / total\n",
    "                \n",
    "    simple_model.load_state_dict(agg_state_dict)\n",
    "    simple_model.save_model(name)\n",
    "    \n",
    "simple_model.evaluate(dataloader)"
   ]
  },
  {
   "cell_type": "markdown",
   "id": "coupled-taiwan",
   "metadata": {},
   "source": [
    "### LICCHAVI"
   ]
  },
  {
   "cell_type": "code",
   "execution_count": 84,
   "id": "anticipated-cooperative",
   "metadata": {},
   "outputs": [],
   "source": [
    "name = 'licchavi_fed_SDG.pth'\n",
    "\n",
    "simple_model = SimpleModel(3)\n",
    "simple_model.load_model()\n",
    "simple_model.save_model(name)\n",
    "simple_model.evaluate(dataloader)\n",
    "\n",
    "user_model = SimpleModel(3)"
   ]
  },
  {
   "cell_type": "code",
   "execution_count": 85,
   "id": "sitting-screen",
   "metadata": {},
   "outputs": [],
   "source": [
    "def models_diff(model1, model2, test = False):\n",
    "    reg = torch.FloatTensor([0])\n",
    "    reg.requires_grad = True\n",
    "    if test:\n",
    "        return reg\n",
    "    for (name, w1) in model1.named_parameters():            \n",
    "        if w1.requires_grad and 'bias' not in name:\n",
    "            w2 = model2.state_dict()[name]\n",
    "            reg = reg + torch.dist(w1, w2, 1) * node.l\n",
    "    return reg"
   ]
  },
  {
   "cell_type": "code",
   "execution_count": 86,
   "id": "toxic-delta",
   "metadata": {},
   "outputs": [
    {
     "data": {
      "text/plain": [
       "0.0177"
      ]
     },
     "execution_count": 86,
     "metadata": {},
     "output_type": "execute_result"
    }
   ],
   "source": [
    "simple_model.evaluate(dataloader)"
   ]
  },
  {
   "cell_type": "code",
   "execution_count": 87,
   "id": "accurate-criterion",
   "metadata": {},
   "outputs": [
    {
     "name": "stderr",
     "output_type": "stream",
     "text": [
      "100%|██████████| 3/3 [00:04<00:00,  1.35s/it]\n"
     ]
    },
    {
     "data": {
      "text/plain": [
       "0.0177"
      ]
     },
     "execution_count": 87,
     "metadata": {},
     "output_type": "execute_result"
    }
   ],
   "source": [
    "agg_state_dict = None\n",
    "optimizer = torch.optim.SGD(simple_model.parameters(), lr=0.001, momentum=0.9)\n",
    "for e in tqdm(range(EPOCHS)):\n",
    "    #freeze general model\n",
    "    for p in simple_model.parameters():\n",
    "        p.requires_grad = False\n",
    "        \n",
    "    total = sum([n.c for n in nodes])\n",
    "    # performs the nodes update\n",
    "    for i, node in enumerate(nodes):\n",
    "        user_modelname = f'user_models/user_{i}.pth'\n",
    "        # loads the general model state\n",
    "        simple_model.load_model(name = name)\n",
    "        # loads the user model. If first epoch, takes the general model\n",
    "        if e == 0:\n",
    "            user_model.load_model(name = name)\n",
    "        else:\n",
    "            user_model.load_model(name = user_modelname)\n",
    "        node_dataloader = torch.utils.data.DataLoader(\n",
    "            node.data,\n",
    "            batch_size = 4,\n",
    "            shuffle = True,\n",
    "            drop_last = True\n",
    "        )\n",
    "        user_model.epoch_step(node_dataloader, simple_model)\n",
    "        user_model.save_model(user_modelname)\n",
    "                \n",
    "    #unfreeze general model\n",
    "    for p in simple_model.parameters():\n",
    "        p.requires_grad = True\n",
    "    \n",
    "    for p in user_model.parameters():\n",
    "        p.requires_grad = False\n",
    "    # computes the general model update\n",
    "    optimizer.zero_grad()\n",
    "    for i, node in enumerate(nodes):\n",
    "        user_modelname = f'user_models/user_{i}.pth'\n",
    "        user_model.load_model(name = user_modelname)\n",
    "        reg = models_diff(simple_model, user_model)\n",
    "        # reg.backward()\n",
    "        \n",
    "        #for p in simple_model.parameters():\n",
    "        #    current_grad = p.grad.cpu().numpy().copy()\n",
    "        #    diff = current_grad - prev_grad\n",
    "        #    prev_grad = current_grad\n",
    "        \n",
    "    optimizer.step()\n",
    "    simple_model.save_model(name)\n",
    "    \n",
    "simple_model.evaluate(dataloader)"
   ]
  },
  {
   "cell_type": "code",
   "execution_count": 55,
   "id": "focused-guitar",
   "metadata": {},
   "outputs": [],
   "source": [
    "A = torch.Tensor([2,2])\n",
    "A.requires_grad = True\n",
    "\n",
    "B = torch.Tensor([1,3])\n",
    "\n",
    "C = torch.sum(A * B)"
   ]
  },
  {
   "cell_type": "code",
   "execution_count": 83,
   "id": "brutal-basis",
   "metadata": {},
   "outputs": [
    {
     "data": {
      "text/plain": [
       "(tensor([1., 3.]),)"
      ]
     },
     "execution_count": 83,
     "metadata": {},
     "output_type": "execute_result"
    }
   ],
   "source": [
    "torch.autograd.grad(C, A)"
   ]
  },
  {
   "cell_type": "code",
   "execution_count": null,
   "id": "duplicate-worker",
   "metadata": {},
   "outputs": [],
   "source": []
  }
 ],
 "metadata": {
  "kernelspec": {
   "display_name": "Python 3.8.8 64-bit ('typewriter': conda)",
   "language": "python",
   "name": "python388jvsc74a57bd003343bff8ea9174e4e18dc33629d8cc7123b4a33b966bf5614ca716c9ad2f2e1"
  },
  "language_info": {
   "codemirror_mode": {
    "name": "ipython",
    "version": 3
   },
   "file_extension": ".py",
   "mimetype": "text/x-python",
   "name": "python",
   "nbconvert_exporter": "python",
   "pygments_lexer": "ipython3",
   "version": "3.8.8"
  }
 },
 "nbformat": 4,
 "nbformat_minor": 5
}
